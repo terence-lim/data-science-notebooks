{
 "cells": [
  {
   "cell_type": "markdown",
   "metadata": {},
   "source": [
    "# Comparing supervised learning models for regression\n",
    "\n",
    "- subset selection, partial least squares, ridge, lasso regression\n",
    "- cross validation, feature importances, dimension reduction\n",
    "- gradient boosting, random boosting, ensembles\n",
    "- sklearn, statsmodels, St Louis Fed FRED, GDP\n",
    "\n",
    "Terence Lim"
   ]
  },
  {
   "cell_type": "code",
   "execution_count": 3,
   "metadata": {},
   "outputs": [],
   "source": [
    "import numpy as np\n",
    "import pandas as pd\n",
    "from pandas import DataFrame, Series\n",
    "import matplotlib.pyplot as plt\n",
    "from pandas.api.types import is_list_like, is_numeric_dtype\n",
    "import statsmodels.api as sm\n",
    "from statsmodels.tsa.ar_model import AutoReg, ar_select_order\n",
    "from sklearn.metrics import mean_squared_error    \n",
    "import time\n",
    "import os\n",
    "from finds.alfred import Alfred, fred_qd\n",
    "from settings import settings\n",
    "imgdir = os.path.join(settings['images'], 'regression')\n",
    "alf = Alfred(api_key=settings['fred']['api_key'])"
   ]
  },
  {
   "cell_type": "markdown",
   "metadata": {},
   "source": [
    "# Get FRED-QD data"
   ]
  },
  {
   "cell_type": "code",
   "execution_count": 4,
   "metadata": {},
   "outputs": [],
   "source": [
    "qdf, qt = fred_qd(202004)\n",
    "df = qdf  #[list(qt.index[qt['factors']==1])]\n",
    "t = qt['transform']\n",
    "beg = 19620701\n",
    "end = 20191231  # ignore 2020\n",
    "freq = 'Q'   \n",
    "transformed = []\n",
    "for col in df.columns:\n",
    "    transformed.append(alf.transform(df[col], tcode=t[col], freq=freq))\n",
    "data = pd.concat(transformed, axis=1).iloc[2:]\n",
    "c = list(data.columns)\n",
    "data = data.loc[(data.index >= beg) & (data.index <= end)]"
   ]
  },
  {
   "cell_type": "markdown",
   "metadata": {},
   "source": [
    "# Drop columns with missing data"
   ]
  },
  {
   "cell_type": "code",
   "execution_count": 5,
   "metadata": {},
   "outputs": [
    {
     "name": "stdout",
     "output_type": "stream",
     "text": [
      "original: (230, 248) non-missing (230, 217)\n",
      "Series dropped:\n"
     ]
    },
    {
     "data": {
      "text/html": [
       "<div>\n",
       "<style scoped>\n",
       "    .dataframe tbody tr th:only-of-type {\n",
       "        vertical-align: middle;\n",
       "    }\n",
       "\n",
       "    .dataframe tbody tr th {\n",
       "        vertical-align: top;\n",
       "    }\n",
       "\n",
       "    .dataframe thead th {\n",
       "        text-align: right;\n",
       "    }\n",
       "</style>\n",
       "<table border=\"1\" class=\"dataframe\">\n",
       "  <thead>\n",
       "    <tr style=\"text-align: right;\">\n",
       "      <th></th>\n",
       "      <th>series_id</th>\n",
       "    </tr>\n",
       "  </thead>\n",
       "  <tbody>\n",
       "    <tr>\n",
       "      <th>SPCS20RSA</th>\n",
       "      <td>151</td>\n",
       "    </tr>\n",
       "    <tr>\n",
       "      <th>EXUSEU</th>\n",
       "      <td>147</td>\n",
       "    </tr>\n",
       "    <tr>\n",
       "      <th>ACOGNO</th>\n",
       "      <td>119</td>\n",
       "    </tr>\n",
       "    <tr>\n",
       "      <th>SPCS10RSA</th>\n",
       "      <td>99</td>\n",
       "    </tr>\n",
       "    <tr>\n",
       "      <th>OUTMS</th>\n",
       "      <td>99</td>\n",
       "    </tr>\n",
       "    <tr>\n",
       "      <th>ULCMFG</th>\n",
       "      <td>99</td>\n",
       "    </tr>\n",
       "    <tr>\n",
       "      <th>COMPRMS</th>\n",
       "      <td>99</td>\n",
       "    </tr>\n",
       "    <tr>\n",
       "      <th>OPHMFG</th>\n",
       "      <td>99</td>\n",
       "    </tr>\n",
       "    <tr>\n",
       "      <th>HOAMS</th>\n",
       "      <td>99</td>\n",
       "    </tr>\n",
       "    <tr>\n",
       "      <th>USEPUINDXM</th>\n",
       "      <td>91</td>\n",
       "    </tr>\n",
       "    <tr>\n",
       "      <th>CUSR0000SEHC</th>\n",
       "      <td>84</td>\n",
       "    </tr>\n",
       "    <tr>\n",
       "      <th>DRIWCIL</th>\n",
       "      <td>79</td>\n",
       "    </tr>\n",
       "    <tr>\n",
       "      <th>IMFSL</th>\n",
       "      <td>71</td>\n",
       "    </tr>\n",
       "    <tr>\n",
       "      <th>USSTHPI</th>\n",
       "      <td>51</td>\n",
       "    </tr>\n",
       "    <tr>\n",
       "      <th>TWEXAFEGSMTH</th>\n",
       "      <td>43</td>\n",
       "    </tr>\n",
       "    <tr>\n",
       "      <th>MORTGAGE30US</th>\n",
       "      <td>36</td>\n",
       "    </tr>\n",
       "    <tr>\n",
       "      <th>NASDAQCOM</th>\n",
       "      <td>35</td>\n",
       "    </tr>\n",
       "    <tr>\n",
       "      <th>MORTG10YR</th>\n",
       "      <td>35</td>\n",
       "    </tr>\n",
       "    <tr>\n",
       "      <th>REVOLSL</th>\n",
       "      <td>23</td>\n",
       "    </tr>\n",
       "    <tr>\n",
       "      <th>ANDENO</th>\n",
       "      <td>23</td>\n",
       "    </tr>\n",
       "    <tr>\n",
       "      <th>LNS13023705</th>\n",
       "      <td>19</td>\n",
       "    </tr>\n",
       "    <tr>\n",
       "      <th>LNS13023621</th>\n",
       "      <td>19</td>\n",
       "    </tr>\n",
       "    <tr>\n",
       "      <th>LNS13023557</th>\n",
       "      <td>19</td>\n",
       "    </tr>\n",
       "    <tr>\n",
       "      <th>INVCQRMTSPL</th>\n",
       "      <td>19</td>\n",
       "    </tr>\n",
       "    <tr>\n",
       "      <th>LNS13023569</th>\n",
       "      <td>19</td>\n",
       "    </tr>\n",
       "    <tr>\n",
       "      <th>WPU0531</th>\n",
       "      <td>19</td>\n",
       "    </tr>\n",
       "    <tr>\n",
       "      <th>TCU</th>\n",
       "      <td>18</td>\n",
       "    </tr>\n",
       "    <tr>\n",
       "      <th>GFDEGDQ188S</th>\n",
       "      <td>15</td>\n",
       "    </tr>\n",
       "    <tr>\n",
       "      <th>GFDEBTN</th>\n",
       "      <td>15</td>\n",
       "    </tr>\n",
       "    <tr>\n",
       "      <th>AHETPI</th>\n",
       "      <td>7</td>\n",
       "    </tr>\n",
       "    <tr>\n",
       "      <th>AWHNONAG</th>\n",
       "      <td>7</td>\n",
       "    </tr>\n",
       "  </tbody>\n",
       "</table>\n",
       "</div>"
      ],
      "text/plain": [
       "              series_id\n",
       "SPCS20RSA           151\n",
       "EXUSEU              147\n",
       "ACOGNO              119\n",
       "SPCS10RSA            99\n",
       "OUTMS                99\n",
       "ULCMFG               99\n",
       "COMPRMS              99\n",
       "OPHMFG               99\n",
       "HOAMS                99\n",
       "USEPUINDXM           91\n",
       "CUSR0000SEHC         84\n",
       "DRIWCIL              79\n",
       "IMFSL                71\n",
       "USSTHPI              51\n",
       "TWEXAFEGSMTH         43\n",
       "MORTGAGE30US         36\n",
       "NASDAQCOM            35\n",
       "MORTG10YR            35\n",
       "REVOLSL              23\n",
       "ANDENO               23\n",
       "LNS13023705          19\n",
       "LNS13023621          19\n",
       "LNS13023557          19\n",
       "INVCQRMTSPL          19\n",
       "LNS13023569          19\n",
       "WPU0531              19\n",
       "TCU                  18\n",
       "GFDEGDQ188S          15\n",
       "GFDEBTN              15\n",
       "AHETPI                7\n",
       "AWHNONAG              7"
      ]
     },
     "execution_count": 5,
     "metadata": {},
     "output_type": "execute_result"
    }
   ],
   "source": [
    "missing = []\n",
    "for series_id in df.columns:\n",
    "    g = data[series_id].notna()\n",
    "    missing.extend([(date, series_id) for date in data.index[~g]])\n",
    "missing_per_row = data.isna().sum(axis=1)\n",
    "missing = DataFrame.from_records(missing, columns=['date', 'series_id'])\n",
    "print('original:', data.shape, 'non-missing', data.dropna(axis=1).shape)\n",
    "data = data.dropna(axis=1)   # drop columns where missing values\n",
    "print('Series dropped:')\n",
    "DataFrame(missing['series_id'].value_counts())\n"
   ]
  },
  {
   "cell_type": "markdown",
   "metadata": {},
   "source": [
    "# Split time series train and test set\n",
    "- train through 2014: test next five years (20 quarters) thru 2019. Ignoring 2020"
   ]
  },
  {
   "cell_type": "code",
   "execution_count": 6,
   "metadata": {},
   "outputs": [
    {
     "data": {
      "text/plain": [
       "19621231    0.003283\n",
       "19630331    0.010857\n",
       "19630630    0.011159\n",
       "19630930    0.021746\n",
       "19631231    0.006535\n",
       "              ...   \n",
       "20181231    0.002710\n",
       "20190331    0.007623\n",
       "20190630    0.004985\n",
       "20190930    0.005204\n",
       "20191231    0.005261\n",
       "Name: GDPC1, Length: 229, dtype: float64"
      ]
     },
     "execution_count": 6,
     "metadata": {},
     "output_type": "execute_result"
    }
   ],
   "source": [
    "# helper to split time series train and test sets\n",
    "def ts_split(X, Y, end=20141231):\n",
    "    return X[Y.index<=end], X[Y.index>end], Y[Y.index<=end], Y[Y.index>end]\n",
    "Y = data['GDPC1'].iloc[1:]\n",
    "X = data.shift(1).iloc[1:]\n",
    "test = Series(name='test', dtype=float)    # collect test and train errors\n",
    "train = Series(name='train', dtype=float)\n",
    "final_models = {}                          # collect final fitted models\n",
    "Y"
   ]
  },
  {
   "cell_type": "markdown",
   "metadata": {},
   "source": [
    "# Forward Selection"
   ]
  },
  {
   "cell_type": "code",
   "execution_count": 7,
   "metadata": {},
   "outputs": [
    {
     "name": "stdout",
     "output_type": "stream",
     "text": [
      "Subset Selected\n"
     ]
    },
    {
     "data": {
      "text/html": [
       "<div>\n",
       "<style scoped>\n",
       "    .dataframe tbody tr th:only-of-type {\n",
       "        vertical-align: middle;\n",
       "    }\n",
       "\n",
       "    .dataframe tbody tr th {\n",
       "        vertical-align: top;\n",
       "    }\n",
       "\n",
       "    .dataframe thead th {\n",
       "        text-align: right;\n",
       "    }\n",
       "</style>\n",
       "<table border=\"1\" class=\"dataframe\">\n",
       "  <thead>\n",
       "    <tr style=\"text-align: right;\">\n",
       "      <th></th>\n",
       "      <th>description</th>\n",
       "    </tr>\n",
       "    <tr>\n",
       "      <th>series_id</th>\n",
       "      <th></th>\n",
       "    </tr>\n",
       "  </thead>\n",
       "  <tbody>\n",
       "    <tr>\n",
       "      <th>PCESV</th>\n",
       "      <td>Personal Consumption Expenditures: Services</td>\n",
       "    </tr>\n",
       "    <tr>\n",
       "      <th>PRFI</th>\n",
       "      <td>Private Residential Fixed Investment</td>\n",
       "    </tr>\n",
       "    <tr>\n",
       "      <th>TABSHNO</th>\n",
       "      <td>Households and Nonprofit Organizations; Total ...</td>\n",
       "    </tr>\n",
       "    <tr>\n",
       "      <th>IPNMAT</th>\n",
       "      <td>Industrial Production: Non-Durable Goods Mater...</td>\n",
       "    </tr>\n",
       "    <tr>\n",
       "      <th>AAAFFM</th>\n",
       "      <td>Moody's Seasoned Aaa Corporate Bond Minus Fede...</td>\n",
       "    </tr>\n",
       "    <tr>\n",
       "      <th>OPHPBS</th>\n",
       "      <td>Business Sector: Real Output Per Hour of All P...</td>\n",
       "    </tr>\n",
       "    <tr>\n",
       "      <th>TNWMVBSNNCBBDI</th>\n",
       "      <td>*** TNWMVBSNNCBBDI ***</td>\n",
       "    </tr>\n",
       "    <tr>\n",
       "      <th>TOTRESNS</th>\n",
       "      <td>Total Reserves of Depository Institutions</td>\n",
       "    </tr>\n",
       "    <tr>\n",
       "      <th>GPDICTPI</th>\n",
       "      <td>Gross Private Domestic Investment: Chain-type ...</td>\n",
       "    </tr>\n",
       "    <tr>\n",
       "      <th>DPIC96</th>\n",
       "      <td>Real Disposable Personal Income</td>\n",
       "    </tr>\n",
       "    <tr>\n",
       "      <th>A014RE1Q156NBEA</th>\n",
       "      <td>Shares of gross domestic product: Gross privat...</td>\n",
       "    </tr>\n",
       "    <tr>\n",
       "      <th>SRVPRD</th>\n",
       "      <td>All Employees, Service-Providing</td>\n",
       "    </tr>\n",
       "  </tbody>\n",
       "</table>\n",
       "</div>"
      ],
      "text/plain": [
       "                                                       description\n",
       "series_id                                                         \n",
       "PCESV                  Personal Consumption Expenditures: Services\n",
       "PRFI                          Private Residential Fixed Investment\n",
       "TABSHNO          Households and Nonprofit Organizations; Total ...\n",
       "IPNMAT           Industrial Production: Non-Durable Goods Mater...\n",
       "AAAFFM           Moody's Seasoned Aaa Corporate Bond Minus Fede...\n",
       "OPHPBS           Business Sector: Real Output Per Hour of All P...\n",
       "TNWMVBSNNCBBDI                              *** TNWMVBSNNCBBDI ***\n",
       "TOTRESNS                 Total Reserves of Depository Institutions\n",
       "GPDICTPI         Gross Private Domestic Investment: Chain-type ...\n",
       "DPIC96                             Real Disposable Personal Income\n",
       "A014RE1Q156NBEA  Shares of gross domestic product: Gross privat...\n",
       "SRVPRD                            All Employees, Service-Providing"
      ]
     },
     "execution_count": 7,
     "metadata": {},
     "output_type": "execute_result"
    }
   ],
   "source": [
    "def forward_select(Y, X, selected, by='aic'):\n",
    "    \"\"\"helper to forward select next regressor\"\"\"\n",
    "    remaining = [x for x in X.columns if x not in selected]\n",
    "    results = []\n",
    "    for x in remaining:\n",
    "        r = sm.OLS(Y, X[selected + [x]]).fit()\n",
    "        results.append({'select': x, 'aic': r.aic, 'bic': r.bic,\n",
    "                        'rsquared': r.rsquared,\n",
    "                        'rsquared_adj': r.rsquared_adj})\n",
    "    return DataFrame(results).sort_values(by=by).iloc[0].to_dict()\n",
    "\n",
    "# split train/test and forward select\n",
    "X_train, X_test, Y_train, Y_test = ts_split(X, Y)\n",
    "tic = time.time()\n",
    "selected = []\n",
    "models = {}\n",
    "by = 'bic'\n",
    "for i in range(1, 32):\n",
    "    select = forward_select(Y_train, X_train, selected, by=by)\n",
    "    models.update({i: select})\n",
    "    selected.append(select['select'])\n",
    "selected = DataFrame.from_dict(models, orient='index')\n",
    "\n",
    "# report best bic, and show selection criteria\n",
    "best = selected[[by]].iloc[selected[by].argmin()]\n",
    "subset = selected.loc[:best.name, 'select'].values\n",
    "print('Subset Selected')\n",
    "DataFrame.from_dict({n: {'series_id': s,\n",
    "                         'description': alf.header(s)}\n",
    "                     for n, s in selected.loc[:best.name, 'select'].items()},\n",
    "                    orient='index').set_index('series_id')"
   ]
  },
  {
   "cell_type": "markdown",
   "metadata": {},
   "source": [
    "## Plot BIC vs number selected"
   ]
  },
  {
   "cell_type": "code",
   "execution_count": 8,
   "metadata": {},
   "outputs": [
    {
     "data": {
      "image/png": "[encoded data removed]",
      "text/plain": [
       "<Figure size 360x216 with 2 Axes>"
      ]
     },
     "metadata": {
      "needs_background": "light"
     },
     "output_type": "display_data"
    }
   ],
   "source": [
    "fig, ax = plt.subplots(num=1, clear=True, figsize=(5,3))\n",
    "selected['bic'].plot(ax=ax, c='C0')\n",
    "selected['aic'].plot(ax=ax, c='C1')\n",
    "ax.plot(best.name, float(best), \"or\")\n",
    "ax.legend(['BIC', 'AIC', f\"best={best.name}\"], loc='upper left')\n",
    "ax.set_title(f\"Forward Subset Selection with {by.upper()}\")\n",
    "bx = ax.twinx()\n",
    "selected['rsquared'].plot(ax=bx, c='C2')\n",
    "selected['rsquared_adj'].plot(ax=bx, c='C3')\n",
    "bx.legend(['rsquared', 'rsquared_adj'], loc='center right')\n",
    "bx.set_xlabel('# Predictors')\n",
    "plt.savefig(os.path.join(imgdir, 'forward.jpg'))\n",
    "plt.show()"
   ]
  },
  {
   "cell_type": "markdown",
   "metadata": {},
   "source": [
    "## evaluate train and test mse"
   ]
  },
  {
   "cell_type": "code",
   "execution_count": 9,
   "metadata": {},
   "outputs": [
    {
     "data": {
      "text/html": [
       "<div>\n",
       "<style scoped>\n",
       "    .dataframe tbody tr th:only-of-type {\n",
       "        vertical-align: middle;\n",
       "    }\n",
       "\n",
       "    .dataframe tbody tr th {\n",
       "        vertical-align: top;\n",
       "    }\n",
       "\n",
       "    .dataframe thead th {\n",
       "        text-align: right;\n",
       "    }\n",
       "</style>\n",
       "<table border=\"1\" class=\"dataframe\">\n",
       "  <thead>\n",
       "    <tr style=\"text-align: right;\">\n",
       "      <th></th>\n",
       "      <th>name</th>\n",
       "      <th>train</th>\n",
       "      <th>test</th>\n",
       "    </tr>\n",
       "  </thead>\n",
       "  <tbody>\n",
       "    <tr>\n",
       "      <th>RMSE</th>\n",
       "      <td>Forward Subset Regression (k=12)</td>\n",
       "      <td>0.005353</td>\n",
       "      <td>0.00647</td>\n",
       "    </tr>\n",
       "  </tbody>\n",
       "</table>\n",
       "</div>"
      ],
      "text/plain": [
       "                                  name     train     test\n",
       "RMSE  Forward Subset Regression (k=12)  0.005353  0.00647"
      ]
     },
     "execution_count": 9,
     "metadata": {},
     "output_type": "execute_result"
    }
   ],
   "source": [
    "model = sm.OLS(Y_train, X_train[subset]).fit()\n",
    "name = f\"Forward Subset Regression (k={len(subset)})\"\n",
    "test[name] = mean_squared_error(Y_test, model.predict(X_test[subset]))\n",
    "train[name] = mean_squared_error(Y_train, model.predict(X_train[subset]))\n",
    "final_models[name] = model\n",
    "DataFrame({'name': name, 'train': np.sqrt(train[name]),\n",
    "           'test': np.sqrt(test[name])}, index=['RMSE'])"
   ]
  },
  {
   "cell_type": "markdown",
   "metadata": {},
   "source": [
    "# Dimension Reduction: Partial Least Squares"
   ]
  },
  {
   "cell_type": "code",
   "execution_count": 10,
   "metadata": {},
   "outputs": [
    {
     "data": {
      "image/png": "[encoded data removed]",
      "text/plain": [
       "<Figure size 360x216 with 1 Axes>"
      ]
     },
     "metadata": {
      "needs_background": "light"
     },
     "output_type": "display_data"
    }
   ],
   "source": [
    "# - split train and test, fit standard scaling using train set\n",
    "from sklearn.preprocessing import StandardScaler\n",
    "from sklearn.cross_decomposition import PLSRegression\n",
    "from sklearn.model_selection import cross_val_score, KFold\n",
    "X_train, X_test, Y_train, Y_test = ts_split(X, Y)\n",
    "scale = StandardScaler().fit(X_train)\n",
    "X_train = scale.transform(X_train)\n",
    "X_test = scale.transform(X_test)\n",
    "\n",
    "# fit with 5-fold CV to choose n_components\n",
    "n_splits=5\n",
    "kf = KFold(n_splits=n_splits, shuffle=True, random_state=0)\n",
    "mse = Series(dtype=float)\n",
    "for i in np.arange(1, 31):\n",
    "    pls = PLSRegression(n_components=i)\n",
    "    score = cross_val_score(pls, scale.transform(X_train), Y_train,\n",
    "                            cv=kf, scoring='neg_mean_squared_error').mean()\n",
    "    mse.loc[i] = -score\n",
    "\n",
    "# show CV results and best model\n",
    "fig, ax = plt.subplots(clear=True, num=1, figsize=(5,3))\n",
    "mse.plot(ylabel='Mean Squared Error', xlabel='Number of Components',\n",
    "         title=f\"PLS Regression with {n_splits}-fold CV\", ax=ax)\n",
    "best = mse.index[mse.argmin()]\n",
    "ax.plot(best, mse.loc[best], \"or\")\n",
    "ax.legend(['MSE', f\"best={best}\"])\n",
    "plt.savefig(os.path.join(imgdir, 'pls.jpg'))\n",
    "plt.show()"
   ]
  },
  {
   "cell_type": "markdown",
   "metadata": {},
   "source": [
    "# evaluate train and test mse"
   ]
  },
  {
   "cell_type": "code",
   "execution_count": 11,
   "metadata": {},
   "outputs": [
    {
     "data": {
      "text/html": [
       "<div>\n",
       "<style scoped>\n",
       "    .dataframe tbody tr th:only-of-type {\n",
       "        vertical-align: middle;\n",
       "    }\n",
       "\n",
       "    .dataframe tbody tr th {\n",
       "        vertical-align: top;\n",
       "    }\n",
       "\n",
       "    .dataframe thead th {\n",
       "        text-align: right;\n",
       "    }\n",
       "</style>\n",
       "<table border=\"1\" class=\"dataframe\">\n",
       "  <thead>\n",
       "    <tr style=\"text-align: right;\">\n",
       "      <th></th>\n",
       "      <th>name</th>\n",
       "      <th>train</th>\n",
       "      <th>test</th>\n",
       "    </tr>\n",
       "  </thead>\n",
       "  <tbody>\n",
       "    <tr>\n",
       "      <th>RMSE</th>\n",
       "      <td>PLS Regression</td>\n",
       "      <td>0.005983</td>\n",
       "      <td>0.002889</td>\n",
       "    </tr>\n",
       "  </tbody>\n",
       "</table>\n",
       "</div>"
      ],
      "text/plain": [
       "                name     train      test\n",
       "RMSE  PLS Regression  0.005983  0.002889"
      ]
     },
     "execution_count": 11,
     "metadata": {},
     "output_type": "execute_result"
    }
   ],
   "source": [
    "model = PLSRegression(n_components=best).fit(X_train, Y_train)\n",
    "name = f\"PLS Regression\"\n",
    "test[name] = mean_squared_error(Y_test, model.predict(X_test))\n",
    "train[name] = mean_squared_error(Y_train, model.predict(X_train))\n",
    "final_models[name] = model\n",
    "DataFrame({'name': name, 'train': np.sqrt(train[name]),\n",
    "           'test': np.sqrt(test[name])}, index=['RMSE'])"
   ]
  },
  {
   "cell_type": "markdown",
   "metadata": {},
   "source": [
    "# Ridge Regression\n",
    "- Plot fitted coefficients (of forward selected subset) vs regularization"
   ]
  },
  {
   "cell_type": "code",
   "execution_count": 27,
   "metadata": {},
   "outputs": [
    {
     "data": {
      "image/png": "[encoded data removed]",
      "text/plain": [
       "<Figure size 720x432 with 1 Axes>"
      ]
     },
     "metadata": {
      "needs_background": "light"
     },
     "output_type": "display_data"
    }
   ],
   "source": [
    "from sklearn.linear_model import Ridge, RidgeCV\n",
    "alphas = 10**np.linspace(-2, -9, 100)*0.5  # for parameter tuning\n",
    "X_train, X_test, Y_train, Y_test = ts_split(X, Y)\n",
    "\n",
    "# Ridge Regression -- plot coefficients\n",
    "coefs = [Ridge(normalize=True, alpha=alpha)\\\n",
    "         .fit(X_train, Y_train).coef_ for alpha in alphas]\n",
    "fig, ax = plt.subplots(num=1, clear=True, figsize=(10,6))\n",
    "ax.plot(alphas, coefs)\n",
    "ax.set_xscale('log')\n",
    "ax.set_title('Ridge Regression fitted coefficients')\n",
    "plt.savefig(os.path.join(imgdir, 'ridge.jpg'))\n",
    "plt.show()"
   ]
  },
  {
   "cell_type": "markdown",
   "metadata": {},
   "source": [
    "## RidgeCV Leave One Out Cross Validation LOOCV"
   ]
  },
  {
   "cell_type": "code",
   "execution_count": 13,
   "metadata": {},
   "outputs": [
    {
     "data": {
      "text/html": [
       "<div>\n",
       "<style scoped>\n",
       "    .dataframe tbody tr th:only-of-type {\n",
       "        vertical-align: middle;\n",
       "    }\n",
       "\n",
       "    .dataframe tbody tr th {\n",
       "        vertical-align: top;\n",
       "    }\n",
       "\n",
       "    .dataframe thead th {\n",
       "        text-align: right;\n",
       "    }\n",
       "</style>\n",
       "<table border=\"1\" class=\"dataframe\">\n",
       "  <thead>\n",
       "    <tr style=\"text-align: right;\">\n",
       "      <th></th>\n",
       "      <th>name</th>\n",
       "      <th>train</th>\n",
       "      <th>test</th>\n",
       "    </tr>\n",
       "  </thead>\n",
       "  <tbody>\n",
       "    <tr>\n",
       "      <th>RMSE</th>\n",
       "      <td>Ridge (alpha=2.32)</td>\n",
       "      <td>0.005353</td>\n",
       "      <td>0.003089</td>\n",
       "    </tr>\n",
       "  </tbody>\n",
       "</table>\n",
       "</div>"
      ],
      "text/plain": [
       "                    name     train      test\n",
       "RMSE  Ridge (alpha=2.32)  0.005353  0.003089"
      ]
     },
     "execution_count": 13,
     "metadata": {},
     "output_type": "execute_result"
    }
   ],
   "source": [
    "model = RidgeCV(alphas=alphas, scoring='neg_mean_squared_error',\n",
    "                normalize=True, store_cv_values=True).fit(X_train, Y_train)\n",
    "name = f\"Ridge (alpha={model.alpha_:.3g})\"\n",
    "test[name] = mean_squared_error(Y_test, model.predict(X_test))\n",
    "train[name] = mean_squared_error(Y_train, model.predict(X_train))\n",
    "final_models[name] = model\n",
    "DataFrame({'name': name, 'train': np.sqrt(train[name]),\n",
    "           'test': np.sqrt(test[name])}, index=['RMSE'])"
   ]
  },
  {
   "cell_type": "markdown",
   "metadata": {},
   "source": [
    "# Lasso Regression\n",
    "- Plot fitted coefficients (of forward selected subset) vs regularization"
   ]
  },
  {
   "cell_type": "code",
   "execution_count": 29,
   "metadata": {},
   "outputs": [
    {
     "data": {
      "image/png": "[encoded data removed]",
      "text/plain": [
       "<Figure size 720x432 with 1 Axes>"
      ]
     },
     "metadata": {
      "needs_background": "light"
     },
     "output_type": "display_data"
    }
   ],
   "source": [
    "from sklearn.linear_model import Lasso, LassoCV\n",
    "alphas = 10**np.linspace(-2, -9, 100)*0.5  # for parameter tuning\n",
    "X_train, X_test, Y_train, Y_test = ts_split(X, Y)\n",
    "    \n",
    "# Plot fitted coefficients vs regularization\n",
    "import warnings\n",
    "with warnings.catch_warnings():\n",
    "    warnings.simplefilter('ignore')\n",
    "    coefs = [Lasso(max_iter=100000, normalize=True, alpha=alpha)\\\n",
    "             .fit(X_train, Y_train).coef_  for alpha in alphas]\n",
    "fig, ax = plt.subplots(num=3, clear=True, figsize=(10,6))\n",
    "ax.plot(alphas, coefs)\n",
    "ax.set_xscale('log')\n",
    "ax.set_xlabel('value of alpha regularization parameter')\n",
    "ax.set_title('Lasso fitted coefficients')\n",
    "plt.savefig(os.path.join(imgdir, 'lasso.jpg'))\n",
    "plt.show()"
   ]
  },
  {
   "cell_type": "markdown",
   "metadata": {},
   "source": [
    "## LassoCV 10-Fold CV"
   ]
  },
  {
   "cell_type": "code",
   "execution_count": 15,
   "metadata": {},
   "outputs": [
    {
     "data": {
      "text/html": [
       "<div>\n",
       "<style scoped>\n",
       "    .dataframe tbody tr th:only-of-type {\n",
       "        vertical-align: middle;\n",
       "    }\n",
       "\n",
       "    .dataframe tbody tr th {\n",
       "        vertical-align: top;\n",
       "    }\n",
       "\n",
       "    .dataframe thead th {\n",
       "        text-align: right;\n",
       "    }\n",
       "</style>\n",
       "<table border=\"1\" class=\"dataframe\">\n",
       "  <thead>\n",
       "    <tr style=\"text-align: right;\">\n",
       "      <th></th>\n",
       "      <th>name</th>\n",
       "      <th>train</th>\n",
       "      <th>test</th>\n",
       "    </tr>\n",
       "  </thead>\n",
       "  <tbody>\n",
       "    <tr>\n",
       "      <th>RMSE</th>\n",
       "      <td>Lasso (alpha=2.94e-05)</td>\n",
       "      <td>0.005118</td>\n",
       "      <td>0.003456</td>\n",
       "    </tr>\n",
       "  </tbody>\n",
       "</table>\n",
       "</div>"
      ],
      "text/plain": [
       "                        name     train      test\n",
       "RMSE  Lasso (alpha=2.94e-05)  0.005118  0.003456"
      ]
     },
     "execution_count": 15,
     "metadata": {},
     "output_type": "execute_result"
    }
   ],
   "source": [
    "model = LassoCV(alphas=None, cv=10, normalize=True, n_jobs=-1,\n",
    "                max_iter=30000).fit(X_train, Y_train)\n",
    "name = f\"Lasso (alpha={model.alpha_:.3g})\"\n",
    "test[name] = mean_squared_error(Y_test, model.predict(X_test))\n",
    "train[name] = mean_squared_error(Y_train, model.predict(X_train))\n",
    "final_models[name] = model\n",
    "DataFrame({'name': name, 'train': np.sqrt(train[name]),\n",
    "           'test': np.sqrt(test[name])}, index=['RMSE'])"
   ]
  },
  {
   "cell_type": "code",
   "execution_count": 16,
   "metadata": {},
   "outputs": [],
   "source": [
    "# Display nonzero coefs"
   ]
  },
  {
   "cell_type": "code",
   "execution_count": 17,
   "metadata": {},
   "outputs": [
    {
     "data": {
      "text/html": [
       "<div>\n",
       "<style scoped>\n",
       "    .dataframe tbody tr th:only-of-type {\n",
       "        vertical-align: middle;\n",
       "    }\n",
       "\n",
       "    .dataframe tbody tr th {\n",
       "        vertical-align: top;\n",
       "    }\n",
       "\n",
       "    .dataframe thead th {\n",
       "        text-align: right;\n",
       "    }\n",
       "</style>\n",
       "<table border=\"1\" class=\"dataframe\">\n",
       "  <thead>\n",
       "    <tr style=\"text-align: right;\">\n",
       "      <th></th>\n",
       "      <th>desc</th>\n",
       "      <th>coef</th>\n",
       "    </tr>\n",
       "    <tr>\n",
       "      <th>series_id</th>\n",
       "      <th></th>\n",
       "      <th></th>\n",
       "    </tr>\n",
       "  </thead>\n",
       "  <tbody>\n",
       "    <tr>\n",
       "      <th>PCESV</th>\n",
       "      <td>Personal Consumption Expenditures: Services</td>\n",
       "      <td>0.363869</td>\n",
       "    </tr>\n",
       "    <tr>\n",
       "      <th>DHUTRG3Q086SBEA</th>\n",
       "      <td>Personal consumption expenditures: Services: H...</td>\n",
       "      <td>0.136107</td>\n",
       "    </tr>\n",
       "    <tr>\n",
       "      <th>USGOVT</th>\n",
       "      <td>All Employees, Government</td>\n",
       "      <td>0.103085</td>\n",
       "    </tr>\n",
       "    <tr>\n",
       "      <th>GPDICTPI</th>\n",
       "      <td>Gross Private Domestic Investment: Chain-type ...</td>\n",
       "      <td>0.100673</td>\n",
       "    </tr>\n",
       "    <tr>\n",
       "      <th>TLBSNNCBBDI</th>\n",
       "      <td>*** TLBSNNCBBDI ***</td>\n",
       "      <td>-0.097184</td>\n",
       "    </tr>\n",
       "    <tr>\n",
       "      <th>OPHPBS</th>\n",
       "      <td>Business Sector: Real Output Per Hour of All P...</td>\n",
       "      <td>-0.091268</td>\n",
       "    </tr>\n",
       "    <tr>\n",
       "      <th>DRCARG3Q086SBEA</th>\n",
       "      <td>Personal consumption expenditures: Recreation ...</td>\n",
       "      <td>-0.079822</td>\n",
       "    </tr>\n",
       "    <tr>\n",
       "      <th>DPIC96</th>\n",
       "      <td>Real Disposable Personal Income</td>\n",
       "      <td>0.053718</td>\n",
       "    </tr>\n",
       "    <tr>\n",
       "      <th>SRVPRD</th>\n",
       "      <td>All Employees, Service-Providing</td>\n",
       "      <td>0.053017</td>\n",
       "    </tr>\n",
       "    <tr>\n",
       "      <th>DFSARG3Q086SBEA</th>\n",
       "      <td>Personal consumption expenditures: Services: F...</td>\n",
       "      <td>0.050989</td>\n",
       "    </tr>\n",
       "    <tr>\n",
       "      <th>USWTRADE</th>\n",
       "      <td>All Employees, Wholesale Trade</td>\n",
       "      <td>0.046770</td>\n",
       "    </tr>\n",
       "    <tr>\n",
       "      <th>IPNMAT</th>\n",
       "      <td>Industrial Production: Non-Durable Goods Mater...</td>\n",
       "      <td>0.045144</td>\n",
       "    </tr>\n",
       "    <tr>\n",
       "      <th>TABSHNO</th>\n",
       "      <td>Households and Nonprofit Organizations; Total ...</td>\n",
       "      <td>0.035991</td>\n",
       "    </tr>\n",
       "    <tr>\n",
       "      <th>M2REAL</th>\n",
       "      <td>Real M2 Money Stock</td>\n",
       "      <td>0.033811</td>\n",
       "    </tr>\n",
       "    <tr>\n",
       "      <th>HNOREMQ027S</th>\n",
       "      <td>Households and Nonprofit Organizations; Real E...</td>\n",
       "      <td>0.026642</td>\n",
       "    </tr>\n",
       "    <tr>\n",
       "      <th>IMPGSC1</th>\n",
       "      <td>Real imports of goods and services</td>\n",
       "      <td>0.017929</td>\n",
       "    </tr>\n",
       "    <tr>\n",
       "      <th>USMINE</th>\n",
       "      <td>All Employees, Mining and Logging</td>\n",
       "      <td>-0.017604</td>\n",
       "    </tr>\n",
       "    <tr>\n",
       "      <th>PRFI</th>\n",
       "      <td>Private Residential Fixed Investment</td>\n",
       "      <td>0.012556</td>\n",
       "    </tr>\n",
       "    <tr>\n",
       "      <th>IPBUSEQ</th>\n",
       "      <td>Industrial Production: Equipment: Business Equ...</td>\n",
       "      <td>0.012430</td>\n",
       "    </tr>\n",
       "    <tr>\n",
       "      <th>DODGRG3Q086SBEA</th>\n",
       "      <td>Personal consumption expenditures: Durable goo...</td>\n",
       "      <td>-0.011542</td>\n",
       "    </tr>\n",
       "    <tr>\n",
       "      <th>FPI</th>\n",
       "      <td>Fixed Private Investment</td>\n",
       "      <td>0.009384</td>\n",
       "    </tr>\n",
       "    <tr>\n",
       "      <th>LNS12032194</th>\n",
       "      <td>Employment Level - Part-Time for Economic Reas...</td>\n",
       "      <td>-0.008037</td>\n",
       "    </tr>\n",
       "    <tr>\n",
       "      <th>TLBSNNCB</th>\n",
       "      <td>Nonfinancial Corporate Business; Total Liabili...</td>\n",
       "      <td>0.006499</td>\n",
       "    </tr>\n",
       "    <tr>\n",
       "      <th>HWIURATIO</th>\n",
       "      <td>Ratio of Help Wanted/No. Unemployed</td>\n",
       "      <td>0.005409</td>\n",
       "    </tr>\n",
       "    <tr>\n",
       "      <th>PERMITS</th>\n",
       "      <td>New Private Housing Units Authorized by Buildi...</td>\n",
       "      <td>0.004407</td>\n",
       "    </tr>\n",
       "    <tr>\n",
       "      <th>A014RE1Q156NBEA</th>\n",
       "      <td>Shares of gross domestic product: Gross privat...</td>\n",
       "      <td>-0.002712</td>\n",
       "    </tr>\n",
       "    <tr>\n",
       "      <th>TOTRESNS</th>\n",
       "      <td>Total Reserves of Depository Institutions</td>\n",
       "      <td>-0.002304</td>\n",
       "    </tr>\n",
       "    <tr>\n",
       "      <th>PERMITMW</th>\n",
       "      <td>New Private Housing Units Authorized by Buildi...</td>\n",
       "      <td>0.002249</td>\n",
       "    </tr>\n",
       "    <tr>\n",
       "      <th>CPF3MTB3M</th>\n",
       "      <td>3-Month Commercial Paper Minus 3-Month Treasur...</td>\n",
       "      <td>-0.002063</td>\n",
       "    </tr>\n",
       "    <tr>\n",
       "      <th>DONGRG3Q086SBEA</th>\n",
       "      <td>Personal consumption expenditures: Nondurable ...</td>\n",
       "      <td>-0.001685</td>\n",
       "    </tr>\n",
       "    <tr>\n",
       "      <th>PERMITNE</th>\n",
       "      <td>New Private Housing Units Authorized by Buildi...</td>\n",
       "      <td>0.001554</td>\n",
       "    </tr>\n",
       "    <tr>\n",
       "      <th>DFDHRG3Q086SBEA</th>\n",
       "      <td>Personal consumption expenditures: Durable goo...</td>\n",
       "      <td>-0.000849</td>\n",
       "    </tr>\n",
       "    <tr>\n",
       "      <th>IPFUELS</th>\n",
       "      <td>Industrial Production: Non-Durable Consumer En...</td>\n",
       "      <td>-0.000461</td>\n",
       "    </tr>\n",
       "    <tr>\n",
       "      <th>UMCSENT</th>\n",
       "      <td>University of Michigan: Consumer Sentiment</td>\n",
       "      <td>0.000006</td>\n",
       "    </tr>\n",
       "    <tr>\n",
       "      <th>TNWMVBSNNCBBDI</th>\n",
       "      <td>*** TNWMVBSNNCBBDI ***</td>\n",
       "      <td>-0.000006</td>\n",
       "    </tr>\n",
       "    <tr>\n",
       "      <th>TLBSNNBBDI</th>\n",
       "      <td>*** TLBSNNBBDI ***</td>\n",
       "      <td>-0.000000</td>\n",
       "    </tr>\n",
       "  </tbody>\n",
       "</table>\n",
       "</div>"
      ],
      "text/plain": [
       "                                                              desc      coef\n",
       "series_id                                                                   \n",
       "PCESV                  Personal Consumption Expenditures: Services  0.363869\n",
       "DHUTRG3Q086SBEA  Personal consumption expenditures: Services: H...  0.136107\n",
       "USGOVT                                   All Employees, Government  0.103085\n",
       "GPDICTPI         Gross Private Domestic Investment: Chain-type ...  0.100673\n",
       "TLBSNNCBBDI                                    *** TLBSNNCBBDI *** -0.097184\n",
       "OPHPBS           Business Sector: Real Output Per Hour of All P... -0.091268\n",
       "DRCARG3Q086SBEA  Personal consumption expenditures: Recreation ... -0.079822\n",
       "DPIC96                             Real Disposable Personal Income  0.053718\n",
       "SRVPRD                            All Employees, Service-Providing  0.053017\n",
       "DFSARG3Q086SBEA  Personal consumption expenditures: Services: F...  0.050989\n",
       "USWTRADE                            All Employees, Wholesale Trade  0.046770\n",
       "IPNMAT           Industrial Production: Non-Durable Goods Mater...  0.045144\n",
       "TABSHNO          Households and Nonprofit Organizations; Total ...  0.035991\n",
       "M2REAL                                         Real M2 Money Stock  0.033811\n",
       "HNOREMQ027S      Households and Nonprofit Organizations; Real E...  0.026642\n",
       "IMPGSC1                         Real imports of goods and services  0.017929\n",
       "USMINE                           All Employees, Mining and Logging -0.017604\n",
       "PRFI                          Private Residential Fixed Investment  0.012556\n",
       "IPBUSEQ          Industrial Production: Equipment: Business Equ...  0.012430\n",
       "DODGRG3Q086SBEA  Personal consumption expenditures: Durable goo... -0.011542\n",
       "FPI                                       Fixed Private Investment  0.009384\n",
       "LNS12032194      Employment Level - Part-Time for Economic Reas... -0.008037\n",
       "TLBSNNCB         Nonfinancial Corporate Business; Total Liabili...  0.006499\n",
       "HWIURATIO                      Ratio of Help Wanted/No. Unemployed  0.005409\n",
       "PERMITS          New Private Housing Units Authorized by Buildi...  0.004407\n",
       "A014RE1Q156NBEA  Shares of gross domestic product: Gross privat... -0.002712\n",
       "TOTRESNS                 Total Reserves of Depository Institutions -0.002304\n",
       "PERMITMW         New Private Housing Units Authorized by Buildi...  0.002249\n",
       "CPF3MTB3M        3-Month Commercial Paper Minus 3-Month Treasur... -0.002063\n",
       "DONGRG3Q086SBEA  Personal consumption expenditures: Nondurable ... -0.001685\n",
       "PERMITNE         New Private Housing Units Authorized by Buildi...  0.001554\n",
       "DFDHRG3Q086SBEA  Personal consumption expenditures: Durable goo... -0.000849\n",
       "IPFUELS          Industrial Production: Non-Durable Consumer En... -0.000461\n",
       "UMCSENT                 University of Michigan: Consumer Sentiment  0.000006\n",
       "TNWMVBSNNCBBDI                              *** TNWMVBSNNCBBDI *** -0.000006\n",
       "TLBSNNBBDI                                      *** TLBSNNBBDI *** -0.000000"
      ]
     },
     "execution_count": 17,
     "metadata": {},
     "output_type": "execute_result"
    }
   ],
   "source": [
    "nonzero = np.sum(np.abs(model.coef_) > 0)\n",
    "argsort = np.flip(np.argsort(np.abs(model.coef_)))[:nonzero]\n",
    "DataFrame({'series_id': X_train.columns[argsort],\n",
    "           'desc': [alf.header(s) for s in X_train.columns[argsort]],\n",
    "           'coef': model.coef_[argsort]}).round(6).set_index('series_id')"
   ]
  },
  {
   "cell_type": "markdown",
   "metadata": {},
   "source": [
    "# Gradient boost\n",
    "- 5-fold cross validation"
   ]
  },
  {
   "cell_type": "code",
   "execution_count": 18,
   "metadata": {},
   "outputs": [
    {
     "data": {
      "image/png": "[encoded data removed]",
      "text/plain": [
       "<Figure size 360x216 with 1 Axes>"
      ]
     },
     "metadata": {
      "needs_background": "light"
     },
     "output_type": "display_data"
    }
   ],
   "source": [
    "from sklearn.ensemble import GradientBoostingRegressor\n",
    "X_train, X_test, Y_train, Y_test = ts_split(X, Y)\n",
    "\n",
    "# tune max_depth with 5-fold CV\n",
    "n_splits=5\n",
    "kf = KFold(n_splits=n_splits, shuffle=True, random_state=0)\n",
    "mse = Series(dtype=float)\n",
    "for i in range(1, 10): # tune max_depth for best performance\n",
    "    boosted = GradientBoostingRegressor(max_depth=i, random_state=0)\n",
    "    score = cross_val_score(boosted, X_train, Y_train, cv=kf,\n",
    "                            scoring='neg_mean_squared_error').mean()\n",
    "    mse.loc[i] = -score\n",
    "\n",
    "fig, ax = plt.subplots(clear=True, num=1, figsize=(5,3))\n",
    "mse.plot(ax=ax, ylabel='Mean Squared Error', xlabel='max depth',\n",
    "         title=f\"Gradient Boosting Regressor with {n_splits}-fold CV\")\n",
    "best = mse.index[mse.argmin()]\n",
    "ax.plot(best, mse.loc[best], \"or\")\n",
    "ax.legend(['mse', f\"best={best}\"])\n",
    "plt.savefig(os.path.join(imgdir, 'boosting.jpg'))\n",
    "plt.show()"
   ]
  },
  {
   "cell_type": "markdown",
   "metadata": {},
   "source": [
    "## evaluate train and test MSE"
   ]
  },
  {
   "cell_type": "code",
   "execution_count": 19,
   "metadata": {},
   "outputs": [
    {
     "data": {
      "text/html": [
       "<div>\n",
       "<style scoped>\n",
       "    .dataframe tbody tr th:only-of-type {\n",
       "        vertical-align: middle;\n",
       "    }\n",
       "\n",
       "    .dataframe tbody tr th {\n",
       "        vertical-align: top;\n",
       "    }\n",
       "\n",
       "    .dataframe thead th {\n",
       "        text-align: right;\n",
       "    }\n",
       "</style>\n",
       "<table border=\"1\" class=\"dataframe\">\n",
       "  <thead>\n",
       "    <tr style=\"text-align: right;\">\n",
       "      <th></th>\n",
       "      <th>name</th>\n",
       "      <th>train</th>\n",
       "      <th>test</th>\n",
       "    </tr>\n",
       "  </thead>\n",
       "  <tbody>\n",
       "    <tr>\n",
       "      <th>RMSE</th>\n",
       "      <td>Boosting (depth=1)</td>\n",
       "      <td>0.004117</td>\n",
       "      <td>0.002985</td>\n",
       "    </tr>\n",
       "  </tbody>\n",
       "</table>\n",
       "</div>"
      ],
      "text/plain": [
       "                    name     train      test\n",
       "RMSE  Boosting (depth=1)  0.004117  0.002985"
      ]
     },
     "execution_count": 19,
     "metadata": {},
     "output_type": "execute_result"
    }
   ],
   "source": [
    "name = f\"Boosting (depth={best})\"\n",
    "model = GradientBoostingRegressor(max_depth=best,\n",
    "                                  random_state=0).fit(X_train, Y_train)\n",
    "test[name] = mean_squared_error(Y_test, model.predict(X_test))\n",
    "train[name] = mean_squared_error(Y_train, model.predict(X_train))\n",
    "final_models[name] = model\n",
    "DataFrame({'name': name, 'train': np.sqrt(train[name]),\n",
    "           'test': np.sqrt(test[name])}, index=['RMSE'])"
   ]
  },
  {
   "cell_type": "markdown",
   "metadata": {},
   "source": [
    "## show feature importance"
   ]
  },
  {
   "cell_type": "code",
   "execution_count": 20,
   "metadata": {},
   "outputs": [
    {
     "data": {
      "text/html": [
       "<div>\n",
       "<style scoped>\n",
       "    .dataframe tbody tr th:only-of-type {\n",
       "        vertical-align: middle;\n",
       "    }\n",
       "\n",
       "    .dataframe tbody tr th {\n",
       "        vertical-align: top;\n",
       "    }\n",
       "\n",
       "    .dataframe thead th {\n",
       "        text-align: right;\n",
       "    }\n",
       "</style>\n",
       "<table border=\"1\" class=\"dataframe\">\n",
       "  <thead>\n",
       "    <tr style=\"text-align: right;\">\n",
       "      <th></th>\n",
       "      <th>importance</th>\n",
       "      <th>series_id</th>\n",
       "      <th>description</th>\n",
       "    </tr>\n",
       "  </thead>\n",
       "  <tbody>\n",
       "    <tr>\n",
       "      <th>1</th>\n",
       "      <td>0.207150</td>\n",
       "      <td>PCESV</td>\n",
       "      <td>Personal Consumption Expenditures: Services</td>\n",
       "    </tr>\n",
       "    <tr>\n",
       "      <th>2</th>\n",
       "      <td>0.116278</td>\n",
       "      <td>CPF3MTB3M</td>\n",
       "      <td>3-Month Commercial Paper Minus 3-Month Treasur...</td>\n",
       "    </tr>\n",
       "    <tr>\n",
       "      <th>3</th>\n",
       "      <td>0.092490</td>\n",
       "      <td>PERMIT</td>\n",
       "      <td>New Private Housing Units Authorized by Buildi...</td>\n",
       "    </tr>\n",
       "    <tr>\n",
       "      <th>4</th>\n",
       "      <td>0.067246</td>\n",
       "      <td>PRFI</td>\n",
       "      <td>Private Residential Fixed Investment</td>\n",
       "    </tr>\n",
       "    <tr>\n",
       "      <th>5</th>\n",
       "      <td>0.051884</td>\n",
       "      <td>IMPGSC1</td>\n",
       "      <td>Real imports of goods and services</td>\n",
       "    </tr>\n",
       "    <tr>\n",
       "      <th>6</th>\n",
       "      <td>0.046484</td>\n",
       "      <td>FPI</td>\n",
       "      <td>Fixed Private Investment</td>\n",
       "    </tr>\n",
       "    <tr>\n",
       "      <th>7</th>\n",
       "      <td>0.046227</td>\n",
       "      <td>TABSHNO</td>\n",
       "      <td>Households and Nonprofit Organizations; Total ...</td>\n",
       "    </tr>\n",
       "    <tr>\n",
       "      <th>8</th>\n",
       "      <td>0.038551</td>\n",
       "      <td>MANEMP</td>\n",
       "      <td>All Employees, Manufacturing</td>\n",
       "    </tr>\n",
       "    <tr>\n",
       "      <th>9</th>\n",
       "      <td>0.027570</td>\n",
       "      <td>HWIURATIO</td>\n",
       "      <td>Ratio of Help Wanted/No. Unemployed</td>\n",
       "    </tr>\n",
       "    <tr>\n",
       "      <th>10</th>\n",
       "      <td>0.017259</td>\n",
       "      <td>INDPRO</td>\n",
       "      <td>Industrial Production: Total Index</td>\n",
       "    </tr>\n",
       "    <tr>\n",
       "      <th>11</th>\n",
       "      <td>0.017047</td>\n",
       "      <td>USMINE</td>\n",
       "      <td>All Employees, Mining and Logging</td>\n",
       "    </tr>\n",
       "    <tr>\n",
       "      <th>12</th>\n",
       "      <td>0.016907</td>\n",
       "      <td>DTCOLNVHFNM</td>\n",
       "      <td>Consumer Motor Vehicle Loans Owned by Finance ...</td>\n",
       "    </tr>\n",
       "    <tr>\n",
       "      <th>13</th>\n",
       "      <td>0.016602</td>\n",
       "      <td>UNLPNBS</td>\n",
       "      <td>Nonfarm Business Sector: Unit Nonlabor Payments</td>\n",
       "    </tr>\n",
       "    <tr>\n",
       "      <th>14</th>\n",
       "      <td>0.015515</td>\n",
       "      <td>DRCARG3Q086SBEA</td>\n",
       "      <td>Personal consumption expenditures: Recreation ...</td>\n",
       "    </tr>\n",
       "    <tr>\n",
       "      <th>15</th>\n",
       "      <td>0.015041</td>\n",
       "      <td>HOUST</td>\n",
       "      <td>Housing Starts: Total: New Privately Owned Hou...</td>\n",
       "    </tr>\n",
       "  </tbody>\n",
       "</table>\n",
       "</div>"
      ],
      "text/plain": [
       "    importance        series_id  \\\n",
       "1     0.207150            PCESV   \n",
       "2     0.116278        CPF3MTB3M   \n",
       "3     0.092490           PERMIT   \n",
       "4     0.067246             PRFI   \n",
       "5     0.051884          IMPGSC1   \n",
       "6     0.046484              FPI   \n",
       "7     0.046227          TABSHNO   \n",
       "8     0.038551           MANEMP   \n",
       "9     0.027570        HWIURATIO   \n",
       "10    0.017259           INDPRO   \n",
       "11    0.017047           USMINE   \n",
       "12    0.016907      DTCOLNVHFNM   \n",
       "13    0.016602          UNLPNBS   \n",
       "14    0.015515  DRCARG3Q086SBEA   \n",
       "15    0.015041            HOUST   \n",
       "\n",
       "                                          description  \n",
       "1         Personal Consumption Expenditures: Services  \n",
       "2   3-Month Commercial Paper Minus 3-Month Treasur...  \n",
       "3   New Private Housing Units Authorized by Buildi...  \n",
       "4                Private Residential Fixed Investment  \n",
       "5                  Real imports of goods and services  \n",
       "6                            Fixed Private Investment  \n",
       "7   Households and Nonprofit Organizations; Total ...  \n",
       "8                        All Employees, Manufacturing  \n",
       "9                 Ratio of Help Wanted/No. Unemployed  \n",
       "10                 Industrial Production: Total Index  \n",
       "11                  All Employees, Mining and Logging  \n",
       "12  Consumer Motor Vehicle Loans Owned by Finance ...  \n",
       "13    Nonfarm Business Sector: Unit Nonlabor Payments  \n",
       "14  Personal consumption expenditures: Recreation ...  \n",
       "15  Housing Starts: Total: New Privately Owned Hou...  "
      ]
     },
     "execution_count": 20,
     "metadata": {},
     "output_type": "execute_result"
    }
   ],
   "source": [
    "top_n = 15\n",
    "imp = Series(model.feature_importances_, index=X.columns).sort_values()\n",
    "DataFrame.from_dict({i+1: {'importance': imp[s],\n",
    "                           'series_id': s,\n",
    "                           'description': alf.header(s)}\n",
    "                     for i, s in enumerate(np.flip(imp.index[-top_n:]))},\n",
    "                    orient='index')"
   ]
  },
  {
   "cell_type": "markdown",
   "metadata": {},
   "source": [
    "# Random Forest\n",
    "- 5-fold Cross Validation"
   ]
  },
  {
   "cell_type": "code",
   "execution_count": 21,
   "metadata": {},
   "outputs": [
    {
     "data": {
      "image/png": "[encoded data removed]",
      "text/plain": [
       "<Figure size 360x216 with 1 Axes>"
      ]
     },
     "metadata": {
      "needs_background": "light"
     },
     "output_type": "display_data"
    }
   ],
   "source": [
    "from sklearn.ensemble import RandomForestRegressor\n",
    "X_train, X_test, Y_train, Y_test = ts_split(X, Y)\n",
    "\n",
    "# tune max_depth with 5-fold CV\n",
    "n_splits=5\n",
    "kf = KFold(n_splits=n_splits, shuffle=True, random_state=0)\n",
    "mse = Series(dtype=float)\n",
    "for i in range(3, 20): #tune for best performance\n",
    "    model = RandomForestRegressor(max_depth=i, random_state=0)\n",
    "    score = cross_val_score(model, X_train, Y_train, cv=kf,\n",
    "                            scoring='neg_mean_squared_error').mean()\n",
    "    mse.loc[i] = -score\n",
    "\n",
    "fig, ax = plt.subplots(clear=True, num=1, figsize=(5,3))\n",
    "mse.plot(ax=ax, ylabel='MSE', xlabel='max depth',\n",
    "         title=f\"Random Forest Regressor with {n_splits}-fold CV\")\n",
    "best = mse.index[mse.argmin()]\n",
    "ax.plot(best, mse.loc[best], \"or\")\n",
    "ax.legend(['Mean Squared Error', f\"best={best}\"])\n",
    "plt.savefig(os.path.join(imgdir, 'randomforest.jpg'))\n",
    "plt.show()"
   ]
  },
  {
   "cell_type": "markdown",
   "metadata": {},
   "source": [
    "## Evaluate train and test error"
   ]
  },
  {
   "cell_type": "code",
   "execution_count": 22,
   "metadata": {},
   "outputs": [
    {
     "data": {
      "text/html": [
       "<div>\n",
       "<style scoped>\n",
       "    .dataframe tbody tr th:only-of-type {\n",
       "        vertical-align: middle;\n",
       "    }\n",
       "\n",
       "    .dataframe tbody tr th {\n",
       "        vertical-align: top;\n",
       "    }\n",
       "\n",
       "    .dataframe thead th {\n",
       "        text-align: right;\n",
       "    }\n",
       "</style>\n",
       "<table border=\"1\" class=\"dataframe\">\n",
       "  <thead>\n",
       "    <tr style=\"text-align: right;\">\n",
       "      <th></th>\n",
       "      <th>name</th>\n",
       "      <th>train</th>\n",
       "      <th>test</th>\n",
       "    </tr>\n",
       "  </thead>\n",
       "  <tbody>\n",
       "    <tr>\n",
       "      <th>RMSE</th>\n",
       "      <td>RandomForest (depth=12)</td>\n",
       "      <td>0.002442</td>\n",
       "      <td>0.002703</td>\n",
       "    </tr>\n",
       "  </tbody>\n",
       "</table>\n",
       "</div>"
      ],
      "text/plain": [
       "                         name     train      test\n",
       "RMSE  RandomForest (depth=12)  0.002442  0.002703"
      ]
     },
     "execution_count": 22,
     "metadata": {},
     "output_type": "execute_result"
    }
   ],
   "source": [
    "name = f\"RandomForest (depth={best})\"\n",
    "model = RandomForestRegressor(max_depth=best,\n",
    "                              random_state=0).fit(X_train, Y_train)\n",
    "test[name] = mean_squared_error(Y_test, model.predict(X_test))\n",
    "train[name] = mean_squared_error(Y_train, model.predict(X_train))\n",
    "final_models[name] = model\n",
    "DataFrame({'name': name, 'train': np.sqrt(train[name]),\n",
    "           'test': np.sqrt(test[name])}, index=['RMSE'])"
   ]
  },
  {
   "cell_type": "markdown",
   "metadata": {},
   "source": [
    "## show top feature Importances"
   ]
  },
  {
   "cell_type": "code",
   "execution_count": 23,
   "metadata": {},
   "outputs": [
    {
     "data": {
      "text/html": [
       "<div>\n",
       "<style scoped>\n",
       "    .dataframe tbody tr th:only-of-type {\n",
       "        vertical-align: middle;\n",
       "    }\n",
       "\n",
       "    .dataframe tbody tr th {\n",
       "        vertical-align: top;\n",
       "    }\n",
       "\n",
       "    .dataframe thead th {\n",
       "        text-align: right;\n",
       "    }\n",
       "</style>\n",
       "<table border=\"1\" class=\"dataframe\">\n",
       "  <thead>\n",
       "    <tr style=\"text-align: right;\">\n",
       "      <th></th>\n",
       "      <th>importance</th>\n",
       "      <th>series_id</th>\n",
       "      <th>description</th>\n",
       "    </tr>\n",
       "  </thead>\n",
       "  <tbody>\n",
       "    <tr>\n",
       "      <th>1</th>\n",
       "      <td>0.128560</td>\n",
       "      <td>PCESV</td>\n",
       "      <td>Personal Consumption Expenditures: Services</td>\n",
       "    </tr>\n",
       "    <tr>\n",
       "      <th>2</th>\n",
       "      <td>0.082498</td>\n",
       "      <td>CPF3MTB3M</td>\n",
       "      <td>3-Month Commercial Paper Minus 3-Month Treasur...</td>\n",
       "    </tr>\n",
       "    <tr>\n",
       "      <th>3</th>\n",
       "      <td>0.053298</td>\n",
       "      <td>PERMIT</td>\n",
       "      <td>New Private Housing Units Authorized by Buildi...</td>\n",
       "    </tr>\n",
       "    <tr>\n",
       "      <th>4</th>\n",
       "      <td>0.040920</td>\n",
       "      <td>HWIURATIO</td>\n",
       "      <td>Ratio of Help Wanted/No. Unemployed</td>\n",
       "    </tr>\n",
       "    <tr>\n",
       "      <th>5</th>\n",
       "      <td>0.037393</td>\n",
       "      <td>PRFI</td>\n",
       "      <td>Private Residential Fixed Investment</td>\n",
       "    </tr>\n",
       "    <tr>\n",
       "      <th>6</th>\n",
       "      <td>0.031916</td>\n",
       "      <td>FPI</td>\n",
       "      <td>Fixed Private Investment</td>\n",
       "    </tr>\n",
       "    <tr>\n",
       "      <th>7</th>\n",
       "      <td>0.024220</td>\n",
       "      <td>IMPGSC1</td>\n",
       "      <td>Real imports of goods and services</td>\n",
       "    </tr>\n",
       "    <tr>\n",
       "      <th>8</th>\n",
       "      <td>0.018111</td>\n",
       "      <td>TABSHNO</td>\n",
       "      <td>Households and Nonprofit Organizations; Total ...</td>\n",
       "    </tr>\n",
       "    <tr>\n",
       "      <th>9</th>\n",
       "      <td>0.017194</td>\n",
       "      <td>PCECC96</td>\n",
       "      <td>Real Personal Consumption Expenditures</td>\n",
       "    </tr>\n",
       "    <tr>\n",
       "      <th>10</th>\n",
       "      <td>0.015739</td>\n",
       "      <td>CLAIMS</td>\n",
       "      <td>Initial Claims</td>\n",
       "    </tr>\n",
       "    <tr>\n",
       "      <th>11</th>\n",
       "      <td>0.015624</td>\n",
       "      <td>HOUST</td>\n",
       "      <td>Housing Starts: Total: New Privately Owned Hou...</td>\n",
       "    </tr>\n",
       "    <tr>\n",
       "      <th>12</th>\n",
       "      <td>0.012450</td>\n",
       "      <td>CPILFESL</td>\n",
       "      <td>Consumer Price Index for All Urban Consumers: ...</td>\n",
       "    </tr>\n",
       "    <tr>\n",
       "      <th>13</th>\n",
       "      <td>0.011222</td>\n",
       "      <td>MANEMP</td>\n",
       "      <td>All Employees, Manufacturing</td>\n",
       "    </tr>\n",
       "    <tr>\n",
       "      <th>14</th>\n",
       "      <td>0.010742</td>\n",
       "      <td>NONBORRES</td>\n",
       "      <td>Reserves of Depository Institutions, Nonborrowed</td>\n",
       "    </tr>\n",
       "    <tr>\n",
       "      <th>15</th>\n",
       "      <td>0.010250</td>\n",
       "      <td>CMRMTSPL</td>\n",
       "      <td>Real Manufacturing and Trade Industries Sales</td>\n",
       "    </tr>\n",
       "  </tbody>\n",
       "</table>\n",
       "</div>"
      ],
      "text/plain": [
       "    importance  series_id                                        description\n",
       "1     0.128560      PCESV        Personal Consumption Expenditures: Services\n",
       "2     0.082498  CPF3MTB3M  3-Month Commercial Paper Minus 3-Month Treasur...\n",
       "3     0.053298     PERMIT  New Private Housing Units Authorized by Buildi...\n",
       "4     0.040920  HWIURATIO                Ratio of Help Wanted/No. Unemployed\n",
       "5     0.037393       PRFI               Private Residential Fixed Investment\n",
       "6     0.031916        FPI                           Fixed Private Investment\n",
       "7     0.024220    IMPGSC1                 Real imports of goods and services\n",
       "8     0.018111    TABSHNO  Households and Nonprofit Organizations; Total ...\n",
       "9     0.017194    PCECC96             Real Personal Consumption Expenditures\n",
       "10    0.015739     CLAIMS                                     Initial Claims\n",
       "11    0.015624      HOUST  Housing Starts: Total: New Privately Owned Hou...\n",
       "12    0.012450   CPILFESL  Consumer Price Index for All Urban Consumers: ...\n",
       "13    0.011222     MANEMP                       All Employees, Manufacturing\n",
       "14    0.010742  NONBORRES   Reserves of Depository Institutions, Nonborrowed\n",
       "15    0.010250   CMRMTSPL      Real Manufacturing and Trade Industries Sales"
      ]
     },
     "execution_count": 23,
     "metadata": {},
     "output_type": "execute_result"
    }
   ],
   "source": [
    "top_n = 15\n",
    "imp = Series(model.feature_importances_, index=X.columns).sort_values()\n",
    "DataFrame.from_dict({i+1: {'importance': imp[s],\n",
    "                           'series_id': s,\n",
    "                           'description': alf.header(s)}\n",
    "                     for i, s in enumerate(np.flip(imp.index[-top_n:]))},\n",
    "                    orient='index')\n"
   ]
  },
  {
   "cell_type": "markdown",
   "metadata": {},
   "source": [
    "# Plot summary of all model RMSE's"
   ]
  },
  {
   "cell_type": "code",
   "execution_count": 24,
   "metadata": {},
   "outputs": [
    {
     "data": {
      "image/png": "[encoded data removed]",
      "text/plain": [
       "<Figure size 720x432 with 1 Axes>"
      ]
     },
     "metadata": {
      "needs_background": "light"
     },
     "output_type": "display_data"
    }
   ],
   "source": [
    "fig, ax = plt.subplots(num=1, clear=True, figsize=(10,6))\n",
    "np.sqrt(train.rename('train').to_frame().join(test.rename('test')))\\\n",
    "  .sort_values('test').plot.barh(ax=ax, width=0.85)\n",
    "ax.yaxis.set_tick_params(labelsize=10)\n",
    "ax.set_title('Regression RMSE')\n",
    "ax.figure.subplots_adjust(left=0.35)\n",
    "plt.savefig(os.path.join(imgdir, 'rmse.jpg'))\n",
    "plt.show()\n",
    "    "
   ]
  },
  {
   "cell_type": "code",
   "execution_count": null,
   "metadata": {},
   "outputs": [],
   "source": []
  }
 ],
 "metadata": {
  "kernelspec": {
   "display_name": "Python 3",
   "language": "python",
   "name": "python3"
  },
  "language_info": {
   "codemirror_mode": {
    "name": "ipython",
    "version": 3
   },
   "file_extension": ".py",
   "mimetype": "text/x-python",
   "name": "python",
   "nbconvert_exporter": "python",
   "pygments_lexer": "ipython3",
   "version": "3.7.10"
  }
 },
 "nbformat": 4,
 "nbformat_minor": 2
}
