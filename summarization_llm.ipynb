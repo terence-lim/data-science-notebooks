{
 "cells": [
  {
   "cell_type": "markdown",
   "id": "bc0cf86d",
   "metadata": {},
   "source": [
    "# LLM Text Summarization\n",
    "\n",
    "Concepts:\n",
    "- 10-K Market Risk Disclosue\n",
    "- HuggingFace transformers APIs\n",
    "- OpenAI GPT API's\n",
    "- Text summarization and evaluation\n"
   ]
  },
  {
   "cell_type": "code",
   "execution_count": 1,
   "id": "308b73e3",
   "metadata": {},
   "outputs": [
    {
     "name": "stderr",
     "output_type": "stream",
     "text": [
      "/home/terence/env3.11/lib/python3.11/site-packages/tqdm/auto.py:21: TqdmWarning: IProgress not found. Please update jupyter and ipywidgets. See https://ipywidgets.readthedocs.io/en/stable/user_install.html\n",
      "  from .autonotebook import tqdm as notebook_tqdm\n"
     ]
    }
   ],
   "source": [
    "import numpy as np\n",
    "import pandas as pd\n",
    "from pandas import DataFrame, Series\n",
    "import textwrap\n",
    "import torch\n",
    "from transformers import AutoTokenizer, AutoModelForCausalLM, BitsAndBytesConfig\n",
    "from transformers.utils import logging\n",
    "from tqdm import tqdm\n",
    "from finds.database import SQL, RedisDB\n",
    "from finds.unstructured import Edgar\n",
    "from finds.structured import BusDay, CRSP, PSTAT\n",
    "from finds.readers import Sectoring\n",
    "from secret import paths, credentials\n",
    "logging.set_verbosity_error() # logging.set_verbosity_info() #logging.set_verbosity_warning()\n",
    "VERBOSE = 0\n",
    "SAVED = False"
   ]
  },
  {
   "cell_type": "code",
   "execution_count": 2,
   "id": "34f8af06",
   "metadata": {},
   "outputs": [
    {
     "name": "stdout",
     "output_type": "stream",
     "text": [
      "Last FamaFrench Date 2024-04-30 00:00:00\n"
     ]
    }
   ],
   "source": [
    "sql = SQL(**credentials['sql'], verbose=VERBOSE)\n",
    "user = SQL(**credentials['user'], verbose=VERBOSE)\n",
    "bd = BusDay(sql)\n",
    "rdb = RedisDB(**credentials['redis'])\n",
    "crsp = CRSP(sql, bd, rdb, verbose=VERBOSE)\n",
    "pstat = PSTAT(sql, bd, verbose=VERBOSE)\n",
    "ed = Edgar(paths['10X'], zipped=False, verbose=VERBOSE)"
   ]
  },
  {
   "cell_type": "code",
   "execution_count": 3,
   "id": "f7aa1aaa",
   "metadata": {},
   "outputs": [],
   "source": [
    "# Retrieve universe of stocks\n",
    "univ = crsp.get_universe(bd.endmo(20231231))"
   ]
  },
  {
   "cell_type": "code",
   "execution_count": 4,
   "id": "88f3dfcd",
   "metadata": {},
   "outputs": [],
   "source": [
    "# lookup company names\n",
    "comnam = crsp.build_lookup(source='permno', target='comnam', fillna=\"\")\n",
    "univ['comnam'] = comnam(univ.index)"
   ]
  },
  {
   "cell_type": "code",
   "execution_count": 5,
   "id": "46289e53",
   "metadata": {},
   "outputs": [],
   "source": [
    "# lookup sic codes from Compustat, and map to FF 10-sector code\n",
    "sic = pstat.build_lookup(source='lpermno', target='sic', fillna=0)\n",
    "industry = Series(sic[univ.index], index=univ.index)\n",
    "industry = industry.where(industry > 0, univ['siccd'])\n",
    "sectors = Sectoring(sql, scheme='codes10', fillna='')   # supplement from crosswalk\n",
    "univ['sector'] = sectors[industry]"
   ]
  },
  {
   "cell_type": "markdown",
   "id": "4adc2c8b",
   "metadata": {},
   "source": [
    "Qualitative and Quantitave Disclosure about Market Risk item from 10-K's"
   ]
  },
  {
   "cell_type": "code",
   "execution_count": 6,
   "id": "95668097",
   "metadata": {},
   "outputs": [],
   "source": [
    "# retrieve from 10K's in 1Q 2024\n",
    "item, form = 'qqr10K', '10-K'\n",
    "rows = DataFrame(ed.open(form=form, item=item))\n",
    "found = rows[rows['date'].between(20240101, 20240331)]\\\n",
    "    .drop_duplicates(subset=['permno'], keep='last')\\\n",
    "    .set_index('permno')"
   ]
  },
  {
   "cell_type": "code",
   "execution_count": 7,
   "id": "ec7515fb",
   "metadata": {},
   "outputs": [],
   "source": [
    "# Keep largest decile of stocks\n",
    "found = found.loc[found.index.intersection(univ.index[univ['decile'] == 1])]"
   ]
  },
  {
   "cell_type": "code",
   "execution_count": 8,
   "id": "3561efe5",
   "metadata": {},
   "outputs": [],
   "source": [
    "# Keep minimum length\n",
    "docs = {permno: ed[found.loc[permno, 'pathname']].lower()\n",
    "        for permno in found.index}\n",
    "permnos = [permno for permno, doc in docs.items() if len(doc)>2000]\n",
    "found = found.join(Series(docs, name='item').reindex(permnos), how='inner')"
   ]
  },
  {
   "cell_type": "markdown",
   "id": "05d321c2",
   "metadata": {
    "lines_to_next_cell": 2
   },
   "source": [
    "## HuggingFace APIs\n",
    "\n",
    "Command line interface\n",
    "   \n",
    "`pip install huggingface_hub[\"cli\"]`\n",
    "\n",
    "- To empty cache (in ~/.cache/huggingface/)\n",
    "    \n",
    "  `huggingface-cli delete-cache`\n",
    "\n"
   ]
  },
  {
   "cell_type": "markdown",
   "id": "cb228c18",
   "metadata": {},
   "source": [
    "\n",
    "### Transformers\n",
    "\n",
    "- AutoTokenizers\n",
    "- AutoModels\n",
    "  - `generate` method: \n",
    "\n",
    "\n",
    "  \n",
    "\n"
   ]
  },
  {
   "cell_type": "code",
   "execution_count": 9,
   "id": "0739a38e",
   "metadata": {},
   "outputs": [],
   "source": [
    "model_id = \"meta-llama/Meta-Llama-3-8B-Instruct\"\n",
    "save_name = paths['scratch'] / \"Llama-3-8B-Instruct\"\n",
    "model_name = save_name if SAVED else model_id   # load from folder if saved locally"
   ]
  },
  {
   "cell_type": "markdown",
   "id": "6178c8a0",
   "metadata": {},
   "source": [
    "### Quantization\n",
    "\n",
    "https://medium.com/@manuelescobar-dev/implementing-and-running-llama-3-with-hugging-faces-transformers-library-40e9754d8c80\n",
    "\n",
    "Quantization reduces the hardware requirements by loading the model weights with lower precision. Instead of loading them in 16 bits (float16), they are loaded in 4 bits, significantly reducing memory usage from ~20GB to ~8GB."
   ]
  },
  {
   "cell_type": "code",
   "execution_count": 10,
   "id": "9b28b864",
   "metadata": {},
   "outputs": [
    {
     "data": {
      "text/plain": [
       "BitsAndBytesConfig {\n",
       "  \"_load_in_4bit\": true,\n",
       "  \"_load_in_8bit\": false,\n",
       "  \"bnb_4bit_compute_dtype\": \"float16\",\n",
       "  \"bnb_4bit_quant_type\": \"nf4\",\n",
       "  \"bnb_4bit_use_double_quant\": false,\n",
       "  \"llm_int8_enable_fp32_cpu_offload\": false,\n",
       "  \"llm_int8_has_fp16_weight\": false,\n",
       "  \"llm_int8_skip_modules\": null,\n",
       "  \"llm_int8_threshold\": 6.0,\n",
       "  \"load_in_4bit\": true,\n",
       "  \"load_in_8bit\": false,\n",
       "  \"quant_method\": \"bitsandbytes\"\n",
       "}"
      ]
     },
     "execution_count": 10,
     "metadata": {},
     "output_type": "execute_result"
    }
   ],
   "source": [
    "compute_dtype = getattr(torch, \"float16\")\n",
    "bnb_config = BitsAndBytesConfig(\n",
    "    load_in_4bit=True,\n",
    "    bnb_4bit_use_double_quant=False,\n",
    "    bnb_4bit_quant_type=\"nf4\",\n",
    "    bnb_4bit_compute_dtype=compute_dtype,\n",
    ")\n",
    "bnb_config"
   ]
  },
  {
   "cell_type": "code",
   "execution_count": 11,
   "id": "976328f9",
   "metadata": {},
   "outputs": [
    {
     "name": "stderr",
     "output_type": "stream",
     "text": [
      "/home/terence/env3.11/lib/python3.11/site-packages/huggingface_hub/file_download.py:1132: FutureWarning: `resume_download` is deprecated and will be removed in version 1.0.0. Downloads always resume when possible. If you want to force a new download, use `force_download=True`.\n",
      "  warnings.warn(\n",
      "Loading checkpoint shards: 100%|██████████| 4/4 [00:07<00:00,  1.77s/it]\n",
      "/home/terence/env3.11/lib/python3.11/site-packages/huggingface_hub/file_download.py:1132: FutureWarning: `resume_download` is deprecated and will be removed in version 1.0.0. Downloads always resume when possible. If you want to force a new download, use `force_download=True`.\n",
      "  warnings.warn(\n"
     ]
    },
    {
     "data": {
      "text/plain": [
       "LlamaForCausalLM(\n",
       "  (model): LlamaModel(\n",
       "    (embed_tokens): Embedding(128256, 4096)\n",
       "    (layers): ModuleList(\n",
       "      (0-31): 32 x LlamaDecoderLayer(\n",
       "        (self_attn): LlamaSdpaAttention(\n",
       "          (q_proj): Linear4bit(in_features=4096, out_features=4096, bias=False)\n",
       "          (k_proj): Linear4bit(in_features=4096, out_features=1024, bias=False)\n",
       "          (v_proj): Linear4bit(in_features=4096, out_features=1024, bias=False)\n",
       "          (o_proj): Linear4bit(in_features=4096, out_features=4096, bias=False)\n",
       "          (rotary_emb): LlamaRotaryEmbedding()\n",
       "        )\n",
       "        (mlp): LlamaMLP(\n",
       "          (gate_proj): Linear4bit(in_features=4096, out_features=14336, bias=False)\n",
       "          (up_proj): Linear4bit(in_features=4096, out_features=14336, bias=False)\n",
       "          (down_proj): Linear4bit(in_features=14336, out_features=4096, bias=False)\n",
       "          (act_fn): SiLU()\n",
       "        )\n",
       "        (input_layernorm): LlamaRMSNorm()\n",
       "        (post_attention_layernorm): LlamaRMSNorm()\n",
       "      )\n",
       "    )\n",
       "    (norm): LlamaRMSNorm()\n",
       "  )\n",
       "  (lm_head): Linear(in_features=4096, out_features=128256, bias=False)\n",
       ")"
      ]
     },
     "execution_count": 11,
     "metadata": {},
     "output_type": "execute_result"
    }
   ],
   "source": [
    "tokenizer = AutoTokenizer.from_pretrained(model_id)\n",
    "model = AutoModelForCausalLM.from_pretrained(\n",
    "    model_name,\n",
    "    quantization_config=bnb_config,\n",
    "    #torch_dtype=torch.bfloat16,\n",
    "    device_map=\"cuda\",  # \"auto\",  'cuda'\n",
    ")\n",
    "model"
   ]
  },
  {
   "cell_type": "code",
   "execution_count": 12,
   "id": "1e2a95a9",
   "metadata": {},
   "outputs": [
    {
     "name": "stdout",
     "output_type": "stream",
     "text": [
      "max context length 8192\n"
     ]
    }
   ],
   "source": [
    "# Maximum context length\n",
    "print('max context length', model.config.max_position_embeddings)"
   ]
  },
  {
   "cell_type": "code",
   "execution_count": 13,
   "id": "e1f15093",
   "metadata": {},
   "outputs": [
    {
     "name": "stdout",
     "output_type": "stream",
     "text": [
      "CUDA memory: 6.26 GB\n"
     ]
    }
   ],
   "source": [
    "# save the model to local disk\n",
    "if not SAVED:\n",
    "    model.save_pretrained(save_name)\n",
    "print(f\"CUDA memory: {torch.cuda.memory_allocated()/1e9:.2f} GB\")"
   ]
  },
  {
   "cell_type": "code",
   "execution_count": 14,
   "id": "dab77ef8",
   "metadata": {
    "lines_to_next_cell": 1
   },
   "outputs": [],
   "source": [
    "def generate_response(text, max_char=20000,\n",
    "                      role=\"You are a helpful AI assistant\",\n",
    "                      prompt=\"Write a concise summary of the text.\"):\n",
    "    content = f\"\"\"\n",
    "{prompt}\n",
    "\n",
    "Text in triple quotes: '''{(text+' ')[:max_char]}'''\n",
    "\n",
    "Summary:\"\"\".strip()\n",
    "    \n",
    "    messages = [\n",
    "        {\"role\": \"system\", \"content\": role},\n",
    "        {\"role\": \"user\", \"content\": content},\n",
    "    ]\n",
    "\n",
    "    input_ids = tokenizer.apply_chat_template(\n",
    "        messages,\n",
    "        add_generation_prompt=True,\n",
    "        return_tensors=\"pt\"\n",
    "    ).to(model.device)\n",
    "\n",
    "    if VERBOSE:\n",
    "        print('tokens:', np.prod(input_ids.shape),\n",
    "              model.config.max_position_embeddings)\n",
    "\n",
    "    terminators = [\n",
    "        tokenizer.eos_token_id,\n",
    "        tokenizer.convert_tokens_to_ids(\"<|eot_id|>\")\n",
    "    ]\n",
    "\n",
    "    outputs = model.generate(\n",
    "        input_ids,\n",
    "        max_new_tokens=256,  \n",
    "        eos_token_id=terminators,\n",
    "        #do_sample=True,\n",
    "        temperature=0.01, #0.6,\n",
    "        #top_p=0.9,\n",
    "    )\n",
    "    response = outputs[0][input_ids.shape[-1]:]\n",
    "    return tokenizer.decode(response, skip_special_tokens=True)"
   ]
  },
  {
   "cell_type": "code",
   "execution_count": 15,
   "id": "da7f19af",
   "metadata": {},
   "outputs": [],
   "source": [
    "# Sample companies from each industry sector\n",
    "docs = univ.loc[found.index].groupby('sector').sample(1)"
   ]
  },
  {
   "cell_type": "code",
   "execution_count": 16,
   "id": "3004209a",
   "metadata": {
    "lines_to_next_cell": 2
   },
   "outputs": [
    {
     "name": "stdout",
     "output_type": "stream",
     "text": [
      "===== FORD MOTOR CO DEL =====\n",
      "The text discusses the market risk management practices of a company,\n",
      "including its exposure to foreign currency exchange rates, commodity\n",
      "prices, and interest rates. The company uses derivative instruments to\n",
      "hedge its exposures and has a risk management committee that monitors\n",
      "and manages these risks. The company also uses economic value\n",
      "sensitivity analysis and re-pricing gap analysis to evaluate potential\n",
      "long-term effects of changes in interest rates. The company's market\n",
      "risk exposure is quantified and disclosed in the text, including its\n",
      "sensitivity to changes in interest rates and foreign currency exchange\n",
      "rates.\n",
      "\n",
      "===== OCCIDENTAL PETROLEUM CORP =====\n",
      "Here is a concise summary of the text:\n",
      "\n",
      "Occidental's financial results are sensitive to fluctuations in oil,\n",
      "natural gas, and commodity prices. The company has implemented risk\n",
      "management controls to mitigate market risk, including limits on value\n",
      "at risk, credit limits, and segregation of duties. Occidental also\n",
      "uses value at risk to estimate potential losses and maintains liquid\n",
      "positions to neutralize market risk. The company's long-term debt\n",
      "obligations are sensitive to interest rate changes, and its\n",
      "international operations have limited foreign currency risk.\n",
      "Occidental manages credit risk by selecting financially strong\n",
      "counterparties, entering into netting arrangements, and requiring\n",
      "collateral. The company believes its exposure to credit-related losses\n",
      "is not material and has been insignificant for all years presented.\n",
      "\n",
      "===== ADOBE INC =====\n",
      "Here is a concise summary of the text:\n",
      "\n",
      "The company discloses its market risk exposure and hedging strategies\n",
      "for foreign currency and interest rate risks. For foreign currency\n",
      "risk, the company uses foreign exchange option contracts and forward\n",
      "contracts to hedge forecasted foreign currency denominated revenue and\n",
      "expenses. The company also enters into collateral security agreements\n",
      "to mitigate credit-related losses. For interest rate risk, the company\n",
      "holds short-term investments and fixed income securities, which are\n",
      "subject to market value changes due to interest rate fluctuations. The\n",
      "company uses sensitivity analysis to estimate the hypothetical changes\n",
      "in market value of its short-term investment portfolio and senior\n",
      "notes due to changes in interest rates.\n",
      "\n",
      "===== REGENERON PHARMACEUTICALS INC =====\n",
      "Here is a concise summary of the text:\n",
      "\n",
      "The company is exposed to various market risks, including:\n",
      "\n",
      "* Interest rate risk: changes in interest rates may affect the value\n",
      "of their investment portfolio.\n",
      "* Credit quality risk: deterioration of credit quality may impact the\n",
      "recoverability of investment securities.\n",
      "* Foreign exchange risk: changes in foreign exchange rates may impact\n",
      "operating results and financial condition due to international sales\n",
      "and development expenses.\n",
      "* Market price risk: changes in the fair value of equity securities in\n",
      "their investment portfolio may impact other income (expense), net.\n",
      "\n",
      "The company has implemented various strategies to mitigate these\n",
      "risks, including monitoring and adjusting their investment portfolio,\n",
      "using derivative instruments, and assessing potential steps to\n",
      "mitigate foreign exchange risk.\n",
      "\n",
      "===== ILLINOIS TOOL WORKS INC =====\n",
      "Here is a concise summary of the text:\n",
      "\n",
      "The company is exposed to market risks, including fluctuations in\n",
      "currency exchange rates, commodity price volatility, and changes in\n",
      "interest rates. The company's exposure to interest rate risk is\n",
      "primarily related to the fair value of its fixed-rate debt, while its\n",
      "foreign currency risk is managed through the use of euro-denominated\n",
      "debt instruments to hedge its net investment in euro-denominated\n",
      "foreign operations.\n",
      "\n",
      "===== LULULEMON ATHLETICA INC =====\n",
      "Here is a concise summary of the text:\n",
      "\n",
      "The company discloses its market risk exposure in the following areas:\n",
      "\n",
      "1. Foreign currency exchange risk: The company has exposure to changes\n",
      "in foreign currency exchange rates, which can affect its reported\n",
      "financial results. It uses forward currency contracts to hedge a\n",
      "portion of this risk.\n",
      "2. Interest rate risk: The company's committed revolving credit\n",
      "facility bears interest at a variable rate, exposing it to market\n",
      "risks. It currently does not engage in interest rate hedging activity\n",
      "but may do so in the future.\n",
      "3. Credit risk: The company holds cash and cash equivalents with\n",
      "various financial institutions and is exposed to credit-related losses\n",
      "in the event of nonperformance. It seeks to minimize this risk by\n",
      "entering into transactions with reputable financial institutions.\n",
      "4. Inflation risk: The company is exposed to inflationary pressures,\n",
      "including increased costs of raw materials, wages, and transportation,\n",
      "which can affect its operating results.\n",
      "\n",
      "The company performs sensitivity analyses to determine its market risk\n",
      "exposure and may enter into derivative financial instruments in the\n",
      "future to mitigate these risks.\n",
      "\n",
      "===== M S C I INC =====\n",
      "Here is a concise summary of the text:\n",
      "\n",
      "The company is exposed to foreign currency exchange rate risk, which\n",
      "can impact the value of its revenues, expenses, assets, and\n",
      "liabilities denominated in non-US dollar currencies. The company\n",
      "invoices clients in US dollars, but a portion of its revenues are in\n",
      "euros, British pounds, Japanese yen, and other non-US dollar\n",
      "currencies. The company also has foreign currency exposure in its\n",
      "operating costs and monetary assets and liabilities. To manage this\n",
      "risk, the company uses derivative financial instruments, such as\n",
      "forward contracts, to minimize the impact on its income statement.\n",
      "\n",
      "===== NETFLIX INC =====\n",
      "Here is a concise summary of the text:\n",
      "\n",
      "The company is exposed to market risks due to interest rate changes\n",
      "and foreign currency fluctuations. As of December 31, 2023, the\n",
      "company had $14.6 billion of debt and cash equivalents invested in\n",
      "money market funds and time deposits. The fair value of the debt\n",
      "fluctuates with interest rates and foreign currency rates. The company\n",
      "operates globally and transacts in multiple currencies, exposing it to\n",
      "foreign currency risk. To mitigate this risk, the company entered into\n",
      "foreign exchange forward contracts, which may reduce but not eliminate\n",
      "the effect of foreign currency exchange fluctuations. The company also\n",
      "recognized a foreign exchange loss of $293 million in the year ended\n",
      "December 31, 2023, primarily due to the remeasurement of senior notes\n",
      "and cash and content liabilities denominated in currencies other than\n",
      "the functional currencies.\n",
      "\n",
      "===== COMCAST CORP NEW =====\n",
      "Here is a concise summary of the text:\n",
      "\n",
      "The company, Comcast Corporation, discloses its market risk management\n",
      "strategies for interest rate and foreign exchange risks. For interest\n",
      "rate risk, the company uses interest rate swaps and cross-currency\n",
      "swaps to manage its exposure to adverse changes in interest rates. The\n",
      "company estimates that these derivatives reduced its consolidated\n",
      "interest expense by $56 million in 2023.\n",
      "\n",
      "For foreign exchange risk, the company uses foreign currency forwards\n",
      "and cross-currency swaps to hedge its exposure to currency\n",
      "fluctuations. The company has significant foreign operations and uses\n",
      "these derivatives to protect the functional currency equivalent value\n",
      "of non-functional currency denominated assets, liabilities, and\n",
      "forecasted revenue and expenses.\n",
      "\n",
      "The company also discloses its counterparty credit risk management\n",
      "strategy, which involves diversification and evaluation of the\n",
      "creditworthiness of counterparties. The company has agreements with\n",
      "counterparties that include collateral provisions, but as of December\n",
      "31, 2023, it was not required to post collateral.\n",
      "\n",
      "===== REPUBLIC SERVICES INC =====\n",
      "Here is a concise summary of the text:\n",
      "\n",
      "The company discloses its market risk exposure, including interest\n",
      "rate risk, fuel price risk, and commodities price risk. For interest\n",
      "rate risk, the company uses a combination of fixed and floating rate\n",
      "debt and has historically entered into swap agreements to manage\n",
      "exposure. For fuel price risk, the company may enter into fuel hedges\n",
      "to mitigate market risk, but currently has no hedges in place. For\n",
      "commodities price risk, the company has previously entered into\n",
      "derivative instruments to manage exposure, but currently has no hedges\n",
      "in place. The company provides quantitative and qualitative\n",
      "disclosures about its market risk exposure and how it manages that\n",
      "risk.\n",
      "\n"
     ]
    }
   ],
   "source": [
    "summary = {}\n",
    "for permno in docs.index:\n",
    "    print('=====', univ.loc[permno, 'comnam'], '=====')\n",
    "    summary[permno] = generate_response(found.loc[permno, 'item'])\n",
    "    print(\"\\n\".join([textwrap.fill(s) for s in summary[permno].split('\\n')]))\n",
    "    print()"
   ]
  },
  {
   "cell_type": "markdown",
   "id": "3d165bec",
   "metadata": {},
   "source": [
    "### System prompt\n",
    "\n",
    "The system prompt is an initial set of instructions that serve as the starting point when starting a new chat session. This defines things for the model and helps to focus its capabilities.\n",
    "It is a good place to define a role or a well-known person: the model will assume that role or person including their style.\n",
    "\n",
    "Creating prompts based on the role or perspective of the person can be a useful technique for generating\n",
    "more relevant and engaging responses from language models.\n"
   ]
  },
  {
   "cell_type": "code",
   "execution_count": 17,
   "id": "a8835967",
   "metadata": {},
   "outputs": [
    {
     "name": "stdout",
     "output_type": "stream",
     "text": [
      "===== FORD MOTOR CO DEL =====\n",
      "Hi there! So, you know how sometimes things can change, like the price\n",
      "of something or the value of money? Well, our company has to deal with\n",
      "those kinds of changes, and we have to make sure we're prepared.\n",
      "\n",
      "We have a special team that helps us figure out how to manage those\n",
      "changes, and they use special tools like computers and math to help us\n",
      "make good decisions. They also work with other teams to make sure\n",
      "we're making the best choices for our company.\n",
      "\n",
      "One of the things they do is use something called \"derivatives\" to\n",
      "help us manage our risks. It's like having insurance, but instead of\n",
      "protecting our stuff, it helps us protect our money.\n",
      "\n",
      "We also have to think about things like interest rates and currency\n",
      "exchange rates, which can affect how much money we have. It's like\n",
      "trying to predict the weather, but instead of rain or sunshine, we're\n",
      "trying to predict how much money we'll have!\n",
      "\n",
      "Our team is very good at this, and they work hard to make sure we're\n",
      "making the best decisions for our company. They also keep an eye on\n",
      "things and make sure we're not taking too much risk.\n",
      "\n",
      "So, that's what our team does! They help us manage our risks and make\n",
      "good decisions for our company\n",
      "\n",
      "===== OCCIDENTAL PETROLEUM CORP =====\n",
      "Here's a summary of the text for a first-grader:\n",
      "\n",
      "Occidental is a big company that sells oil and gas. They have to worry\n",
      "about how much money they make because of things like oil prices going\n",
      "up or down. They also have to be careful about how much money they\n",
      "borrow and how much they owe to other people. They have special rules\n",
      "to make sure they don't lose too much money. They also have to make\n",
      "sure they can pay back the money they borrow.\n",
      "\n",
      "===== ADOBE INC =====\n",
      "Here's a summary of the text for a first-grader:\n",
      "\n",
      "Our company does business in many countries, and we need to protect\n",
      "ourselves from changes in the value of money between those countries.\n",
      "We do this by using special contracts called \"hedges\" that help us\n",
      "keep our earnings and cash flows safe.\n",
      "\n",
      "Imagine you have some money in a piggy bank, and the value of that\n",
      "money changes. If the value goes up, you're happy! But if it goes\n",
      "down, you might lose some of your money. That's what can happen when\n",
      "we do business in different countries and the value of their money\n",
      "changes.\n",
      "\n",
      "To keep our money safe, we use hedges to protect ourselves from these\n",
      "changes. We do this by making special deals with other companies that\n",
      "help us keep our earnings and cash flows safe. It's like having a\n",
      "special insurance policy that helps us keep our money safe!\n",
      "\n",
      "===== REGENERON PHARMACEUTICALS INC =====\n",
      "Here's a summary of the text for a first-grader:\n",
      "\n",
      "Imagine you have some money in a special account. Sometimes, the value\n",
      "of that money can go up or down. This can happen because of changes in\n",
      "interest rates, which are like the prices of loans. It's like if you\n",
      "borrowed money from a friend, and the interest rate changed, it would\n",
      "affect how much you have to pay back.\n",
      "\n",
      "We also have to worry about the credit quality of the things we invest\n",
      "in, like bonds. It's like if you lent your friend some money, and they\n",
      "might not be able to pay you back. We have to make sure we're not\n",
      "lending too much to people who might not be able to pay us back.\n",
      "\n",
      "Sometimes, we sell things to people in other countries, and we have to\n",
      "worry about the exchange rates. It's like if you went to a different\n",
      "country and exchanged your money for their money, and the rate\n",
      "changed. It could affect how much money you have.\n",
      "\n",
      "Finally, we have to worry about the prices of the things we invest in,\n",
      "like stocks. It's like if you bought a toy, and its price went up or\n",
      "down. We have to be careful so we don't lose too much money.\n",
      "\n",
      "That's it!\n",
      "\n",
      "===== ILLINOIS TOOL WORKS INC =====\n",
      "Here's a summary of the text for a first-grader:\n",
      "\n",
      "The company we're talking about is like a big store that sells things\n",
      "all around the world. They have to deal with some risks, like if the\n",
      "money they borrow changes in value. This can happen if the interest\n",
      "rates change or if the money they borrow is in a different country's\n",
      "money. But don't worry, they have ways to protect themselves from\n",
      "these risks. They even have special notes that help them keep track of\n",
      "the money they borrow in different countries.\n",
      "\n",
      "===== LULULEMON ATHLETICA INC =====\n",
      "Here's a summary of the text for a first-grader:\n",
      "\n",
      "Imagine you have some money in a special account, and you want to buy\n",
      "something from another country. The problem is that the money in your\n",
      "account is in one kind of money, like dollars, but the thing you want\n",
      "to buy is in another kind of money, like euros. This can make it hard\n",
      "to know how much the thing really costs.\n",
      "\n",
      "To help with this problem, some companies use special contracts to\n",
      "make sure they get the right amount of money. These contracts are like\n",
      "promises to buy or sell something at a certain price. They help the\n",
      "company know how much money they need to buy the thing they want.\n",
      "\n",
      "Sometimes, the value of money can change, like if the dollar gets\n",
      "stronger or weaker. This can make it harder for the company to know\n",
      "how much money they need. To help with this, some companies use\n",
      "special tools, like special kinds of contracts, to try to keep the\n",
      "value of their money steady.\n",
      "\n",
      "The company also talks about other kinds of risks, like the risk of\n",
      "not getting paid back if they borrow money, or the risk of not being\n",
      "able to sell their products because of things like inflation.\n",
      "\n",
      "===== M S C I INC =====\n",
      "Here's a summary of the text for a first-grader:\n",
      "\n",
      "Our company does business with people from different countries, and\n",
      "that means we have to deal with different kinds of money. Sometimes,\n",
      "the value of one kind of money can change compared to another kind of\n",
      "money. This can affect how much money we make or spend. We try to\n",
      "protect ourselves from these changes by using special tools, like\n",
      "contracts, to help keep our money safe.\n",
      "\n",
      "===== NETFLIX INC =====\n",
      "Here's a summary of the text for a first-grader:\n",
      "\n",
      "Our company does business in many different countries and uses\n",
      "different currencies. This means we can get hurt if the value of those\n",
      "currencies changes. For example, if the dollar gets weaker, it might\n",
      "cost us more money to buy things in other countries. We try to protect\n",
      "ourselves from these changes by using special contracts called\n",
      "\"hedges.\" These hedges help us keep our money safe, even if the\n",
      "currencies change.\n",
      "\n",
      "===== COMCAST CORP NEW =====\n",
      "Here's a summary of the text for a first-grader:\n",
      "\n",
      "Imagine you have some money in a special account, and you want to make\n",
      "sure it's safe. To do that, you might put some of that money in a\n",
      "special kind of account that helps keep it safe. This is like having a\n",
      "special kind of insurance for your money.\n",
      "\n",
      "The company I work for does something similar. We have money that we\n",
      "use to buy things and pay for things, and we want to make sure that\n",
      "money is safe. So, we put some of that money in special accounts that\n",
      "help keep it safe. This is like having a special kind of insurance for\n",
      "our money.\n",
      "\n",
      "We also have to worry about something called \"market risk.\" This is\n",
      "like when the price of something you want to buy goes up or down. We\n",
      "want to make sure that our money is safe, so we use special kinds of\n",
      "accounts to help keep it safe.\n",
      "\n",
      "We also have to worry about something called \"foreign exchange risk.\"\n",
      "This is like when you go to a different country and you need to\n",
      "exchange your money for the money of that country. We want to make\n",
      "sure that our money is safe, so we use special kinds of accounts to\n",
      "help keep it safe.\n",
      "\n",
      "We also have to worry about something called \"\n",
      "\n",
      "===== REPUBLIC SERVICES INC =====\n",
      "Here's a summary of the text for a first-grader:\n",
      "\n",
      "The company that makes trash bags and recycling centers is talking\n",
      "about some big numbers and risks. They're worried about changes in\n",
      "interest rates, which are like the prices of loans. If interest rates\n",
      "go up or down, it could cost them more or less money. They're also\n",
      "worried about the prices of fuel, like gasoline, and how it affects\n",
      "their business. They're trying to find ways to make sure they're not\n",
      "hurt too much if the prices of fuel or other important things change.\n",
      "\n"
     ]
    }
   ],
   "source": [
    "role = \"You are a helpful first-grade teacher.\",\n",
    "prompt = \"Write a simple summary of the text for a first-grader.\"\n",
    "simple = {}\n",
    "for permno in docs.index:\n",
    "    print('=====', univ.loc[permno, 'comnam'], '=====')\n",
    "    simple[permno] = generate_response(found.loc[permno, 'item'],\n",
    "                                       role=role, prompt=prompt)\n",
    "    print(\"\\n\".join([textwrap.fill(s) for s in simple[permno].split('\\n')]))\n",
    "    print()"
   ]
  },
  {
   "cell_type": "markdown",
   "id": "f8c55590",
   "metadata": {},
   "source": [
    "## ChatGPT LLM\n",
    "\n",
    "TODO\n",
    "\n",
    "### OpenAI APIs"
   ]
  },
  {
   "cell_type": "code",
   "execution_count": 2,
   "id": "131909d7",
   "metadata": {},
   "outputs": [],
   "source": [
    "# TODO: AzureOpenAI "
   ]
  },
  {
   "cell_type": "markdown",
   "id": "558790d2",
   "metadata": {},
   "source": [
    "## Text summarization and evaluation\n",
    "\n",
    "TODO"
   ]
  },
  {
   "cell_type": "markdown",
   "id": "fa2e1481",
   "metadata": {},
   "source": [
    "### BLEU\n",
    "\n",
    "### ROUGE\n",
    "\n",
    "### Readability"
   ]
  }
 ],
 "metadata": {
  "jupytext": {
   "cell_metadata_filter": "-all",
   "main_language": "python",
   "notebook_metadata_filter": "-all"
  },
  "kernelspec": {
   "display_name": "env3.11",
   "language": "python",
   "name": "python3"
  },
  "language_info": {
   "codemirror_mode": {
    "name": "ipython",
    "version": 3
   },
   "file_extension": ".py",
   "mimetype": "text/x-python",
   "name": "python",
   "nbconvert_exporter": "python",
   "pygments_lexer": "ipython3",
   "version": "3.11.8"
  }
 },
 "nbformat": 4,
 "nbformat_minor": 5
}
