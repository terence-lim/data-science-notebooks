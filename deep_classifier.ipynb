{
 "cells": [
  {
   "cell_type": "markdown",
   "id": "eab25993",
   "metadata": {},
   "source": [
    "# Deep Learning\n",
    "\n",
    "_When you come to a fork in the road, take it_ - Yogi Berra \n",
    "\n",
    "Concepts: \n",
    "- Word Embeddings\n",
    "- Feedforward Neural Networks\n",
    "\n",
    "References:\n",
    "\n",
    "- Geoffrey E. Hinton, Nitish Srivastava, Alex Krizhevsky, Ilya Sutskever, \n",
    "Ruslan R. Salakhutdinov, July 2012, \"Improving neural networks by preventing \n",
    "co-adaptation of feature detectors\"\n",
    "\n",
    "- Jeffrey Pennington, Richard Socher, and Christopher D. Manning. 2014. GloVe: Global Vectors for Word Representation.\n",
    "\n",
    "- Tomas Mikolov, Kai Chen, Greg Corrado, Jeffrey Dean, 2013, \"Efficient Estimation of Word Representations in Vector Space\"\n",
    "\n",
    "- Greg Durrett, 2023, \"CS388 Natural Language Processing course materisl\", retrieved from https://www.cs.utexas.edu/~gdurrett/courses/online-course/materials.html\n",
    "\n",
    "- Philipp Krahenbuhl, 2020, \"CS395T Deep Learning course materials\", retrieved from http://www.philkr.net/dl_class/material\n",
    "\n"
   ]
  },
  {
   "cell_type": "code",
   "execution_count": 9,
   "id": "033450cd",
   "metadata": {},
   "outputs": [
    {
     "name": "stdout",
     "output_type": "stream",
     "text": [
      "device is cuda\n"
     ]
    }
   ],
   "source": [
    "import numpy as np\n",
    "import random\n",
    "import time\n",
    "import pandas as pd\n",
    "from pandas import DataFrame, Series\n",
    "from collections import Counter\n",
    "import matplotlib.pyplot as plt\n",
    "from sklearn.metrics import confusion_matrix\n",
    "from sklearn.preprocessing import LabelEncoder\n",
    "from sklearn.model_selection import train_test_split\n",
    "import seaborn as sns\n",
    "from tqdm import tqdm\n",
    "import torch\n",
    "from torch import nn\n",
    "import torchinfo\n",
    "import nltk\n",
    "from nltk.tag import pos_tag\n",
    "from nltk.tokenize import word_tokenize\n",
    "from nltk.stem import WordNetLemmatizer\n",
    "from tqdm import tqdm\n",
    "from finds.database import MongoDB, SQL, RedisDB\n",
    "from finds.unstructured import Unstructured, Edgar, Vocab\n",
    "from finds.structured import BusDay, CRSP, PSTAT\n",
    "from finds.readers import Sectoring\n",
    "from finds.utils import Store\n",
    "from secret import credentials, paths\n",
    "# %matplotlib qt\n",
    "# jupyter-notebook --NotebookApp.iopub_data_rate_limit=1.0e12\n",
    "VERBOSE = 0\n",
    "outdir = paths['scratch']\n",
    "store = Store(outdir, ext='pkl')\n",
    "device = torch.device(\"cuda\" if torch.cuda.is_available() else \"cpu\")\n",
    "print('device is', device)"
   ]
  },
  {
   "cell_type": "code",
   "execution_count": 10,
   "id": "674752ef",
   "metadata": {},
   "outputs": [],
   "source": [
    "# dimension of embeddings vector\n",
    "embeddings_dim = 300\n",
    "# max size of vocab\n",
    "vocab_len = 15000"
   ]
  },
  {
   "cell_type": "code",
   "execution_count": 11,
   "id": "dd0bfee7",
   "metadata": {},
   "outputs": [
    {
     "name": "stdout",
     "output_type": "stream",
     "text": [
      "Last FamaFrench Date 2024-03-28 00:00:00\n"
     ]
    }
   ],
   "source": [
    "sql = SQL(**credentials['sql'], verbose=VERBOSE)\n",
    "user = SQL(**credentials['user'], verbose=VERBOSE)\n",
    "bd = BusDay(sql)\n",
    "rdb = RedisDB(**credentials['redis'])\n",
    "crsp = CRSP(sql, bd, rdb, verbose=VERBOSE)\n",
    "pstat = PSTAT(sql, bd, verbose=VERBOSE)\n",
    "ed = Edgar(paths['10X'], zipped=True, verbose=VERBOSE)"
   ]
  },
  {
   "cell_type": "markdown",
   "id": "f2f37522",
   "metadata": {},
   "source": [
    "## Text classification"
   ]
  },
  {
   "cell_type": "code",
   "execution_count": 12,
   "id": "2edf420d",
   "metadata": {},
   "outputs": [],
   "source": [
    "# Retrieve universe of stocks\n",
    "univ = crsp.get_universe(bd.endmo(20221231))"
   ]
  },
  {
   "cell_type": "code",
   "execution_count": 13,
   "id": "8c930586",
   "metadata": {},
   "outputs": [],
   "source": [
    "# lookup company names\n",
    "comnam = crsp.build_lookup(source='permno', target='comnam', fillna=\"\")\n",
    "univ['comnam'] = comnam(univ.index)"
   ]
  },
  {
   "cell_type": "code",
   "execution_count": 14,
   "id": "2496b1fa",
   "metadata": {},
   "outputs": [],
   "source": [
    "# lookup ticker symbols\n",
    "ticker = crsp.build_lookup(source='permno', target='ticker', fillna=\"\")\n",
    "univ['ticker'] = ticker(univ.index)"
   ]
  },
  {
   "cell_type": "code",
   "execution_count": 15,
   "id": "0b9a60e2",
   "metadata": {
    "lines_to_next_cell": 2
   },
   "outputs": [],
   "source": [
    "# lookup sic codes from Compustat, and map to FF 10-sector code\n",
    "sic = pstat.build_lookup(source='lpermno', target='sic', fillna=0)\n",
    "industry = Series(sic[univ.index], index=univ.index)\n",
    "industry = industry.where(industry > 0, univ['siccd'])\n",
    "sectors = Sectoring(sql, scheme='codes10', fillna='')   # supplement from crosswalk\n",
    "univ['sector'] = sectors[industry]"
   ]
  },
  {
   "cell_type": "code",
   "execution_count": 16,
   "id": "a9840dc4",
   "metadata": {},
   "outputs": [],
   "source": [
    "# retrieve 2023 bus10K's\n",
    "item, form = 'bus10K', '10-K'\n",
    "rows = DataFrame(ed.open(form=form, item=item))\n",
    "found = rows[rows['date'].between(20230101, 20231231)]\\\n",
    "             .drop_duplicates(subset=['permno'], keep='last')\\\n",
    "             .set_index('permno')"
   ]
  },
  {
   "cell_type": "markdown",
   "id": "7157a49e",
   "metadata": {},
   "source": [
    "### Tagging and Lemmatizing\n",
    "\n"
   ]
  },
  {
   "cell_type": "code",
   "execution_count": null,
   "id": "5d16599f",
   "metadata": {},
   "outputs": [],
   "source": [
    "# !nltk.download('averaged_perceptron_tagger')\n",
    "lemmatizer = WordNetLemmatizer()\n",
    "bus = {}\n",
    "for permno in tqdm(found.index):\n",
    "    if permno not in univ.index:\n",
    "        continue\n",
    "    doc = word_tokenize(ed[found.loc[permno, 'pathname']].lower())\n",
    "    tags = pos_tag(doc)\n",
    "    nouns = [lemmatizer.lemmatize(w[0]) for w in tags\n",
    "             if w[1] in ['NN', 'NNS'] and w[0].isalpha() and len(w[0]) > 2]\n",
    "    if len(nouns) > 100:\n",
    "        bus[permno] = nouns\n",
    "store['nouns'] = bus"
   ]
  },
  {
   "cell_type": "code",
   "execution_count": 17,
   "id": "b467b338",
   "metadata": {
    "lines_to_next_cell": 2
   },
   "outputs": [],
   "source": [
    "bus = store.load('nouns')\n",
    "permnos = list(bus.keys())"
   ]
  },
  {
   "cell_type": "code",
   "execution_count": 18,
   "id": "7b4f179b",
   "metadata": {},
   "outputs": [
    {
     "name": "stdout",
     "output_type": "stream",
     "text": [
      "vocab len: 79581\n"
     ]
    }
   ],
   "source": [
    "# Create textual dataset and encode labels\n",
    "words = Counter()\n",
    "for nouns in bus.values():\n",
    "    words.update(list(nouns))\n",
    "vocab = Vocab(words.keys())\n",
    "print('vocab len:', len(vocab))"
   ]
  },
  {
   "cell_type": "code",
   "execution_count": 19,
   "id": "340dd9bf",
   "metadata": {},
   "outputs": [],
   "source": [
    "labels = []\n",
    "x_all = []\n",
    "for permno, nouns in bus.items():\n",
    "    x = vocab.get_index([noun for noun in nouns])\n",
    "    if sum(x):\n",
    "        labels.append(univ.loc[permno, 'sector'])\n",
    "        x_all.append(x)\n",
    "class_encoder = LabelEncoder().fit(labels)    # .inverse_transform()\n",
    "y_all = class_encoder.transform(labels)"
   ]
  },
  {
   "cell_type": "code",
   "execution_count": 20,
   "id": "fd6d2bad",
   "metadata": {},
   "outputs": [],
   "source": [
    "store['dan'] = dict(y_all=y_all, x_all=x_all)"
   ]
  },
  {
   "cell_type": "code",
   "execution_count": 21,
   "id": "f1232a4b",
   "metadata": {
    "lines_to_next_cell": 2
   },
   "outputs": [],
   "source": [
    "# retrieve from previously stored\n",
    "y_all, x_all = store['dan'].values()"
   ]
  },
  {
   "cell_type": "markdown",
   "id": "1eb9422e",
   "metadata": {},
   "source": [
    "## Word Embeddings\n",
    "\n",
    "- Continuous BOW, skip-gram, Word2Vec, GloVe matrix factorization\n"
   ]
  },
  {
   "cell_type": "markdown",
   "id": "8272a88b",
   "metadata": {},
   "source": [
    "### GloVe\n"
   ]
  },
  {
   "cell_type": "code",
   "execution_count": 22,
   "id": "db5cc92a",
   "metadata": {},
   "outputs": [
    {
     "name": "stdout",
     "output_type": "stream",
     "text": [
      "(400000, 300)\n",
      "(79581, 300)\n"
     ]
    }
   ],
   "source": [
    "# Retrieve GloVe embeddings\n",
    "glove_file = f\"glove.6B.{embeddings_dim}d.txt\"\n",
    "#source = \"https://nlp.stanford.edu/data/glove.6B.zip\"\n",
    "#response = requests.get(source)\n",
    "#source = io.BytesIO(response.content)\n",
    "#source = paths['scratch'] / 'glove.6B.zip'\n",
    "#with zipfile.ZipFile(source).open(glove_file) as f:\n",
    "filename = paths['scratch'] / glove_file\n",
    "embeddings = pd.read_csv(filename, sep=\" \", quoting=3,\n",
    "                         header=None, index_col=0, low_memory=True)\n",
    "embeddings.index = embeddings.index.astype(str).str.lower()\n",
    "print(embeddings.shape)\n",
    "\n",
    "# Relativize embeddings to words in vocab\n",
    "vocab.set_embeddings(embeddings)\n",
    "print(vocab.embeddings.shape)\n",
    "vocab.dump(outdir / f\"dan{embeddings_dim}_{vocab_len}.pkl\")"
   ]
  },
  {
   "cell_type": "code",
   "execution_count": 23,
   "id": "8ae60ea9",
   "metadata": {},
   "outputs": [],
   "source": [
    "# load previously saved Vocab\n",
    "vocab.load(outdir / f\"dan{embeddings_dim}_{vocab_len}.pkl\")"
   ]
  },
  {
   "cell_type": "markdown",
   "id": "b45a0f2d",
   "metadata": {},
   "source": [
    "### Word Vector Arithmetic\n",
    "\n",
    "It has been noted that these examples are only suggestive of what the vectors may capture, and such arithmetic results are generally not as sharp; they may also show the potential for biases, such as gender roles, implicit in the training samples.\n"
   ]
  },
  {
   "cell_type": "code",
   "execution_count": 24,
   "id": "895ef326",
   "metadata": {},
   "outputs": [
    {
     "name": "stdout",
     "output_type": "stream",
     "text": [
      "king - man + woman = ['queen']\n",
      "france - paris + tokyo = ['japan']\n",
      "bigger - big + cold = ['colder']\n"
     ]
    }
   ],
   "source": [
    "from sklearn.neighbors import NearestNeighbors\n",
    "analogies = [\"man king woman\", \"paris france tokyo\", \"big bigger cold\"]\n",
    "for analogy in analogies:\n",
    "    words = analogy.lower().split()\n",
    "    vectors = {word: embeddings.loc[word].values for word in words}\n",
    "    vec = vectors[words[1]] - vectors[words[0]] + vectors[words[2]]\n",
    "\n",
    "    sim = NearestNeighbors(n_neighbors=1).fit(embeddings)\n",
    "    neighbors = sim.kneighbors(vec.reshape((1, -1)), n_neighbors=2,\n",
    "                               return_distance=False).flatten().tolist()\n",
    "    neighbors = [k for k in neighbors if embeddings.index[k] not in words]\n",
    "    print(f\"{words[1]} - {words[0]} + {words[2]} =\",\n",
    "          [embeddings.index[k] for k in neighbors])"
   ]
  },
  {
   "cell_type": "markdown",
   "id": "98716ea2",
   "metadata": {},
   "source": [
    "## FeedForward Neural Network\n",
    "\n",
    "- nonlinearity\n",
    "- hidden layers and size \n",
    "- initialization \n",
    "- optimization: adam\n",
    "- dropout\n",
    "\n",
    "Geoffrey Hinton, et al. in their 2012 paper that first introduced dropout. They\n",
    "found that using a simple method of 50% dropout for all hidden units and \n",
    "20% dropout for input units achieve improved results with a range of \n",
    "neural networks on different problem types\n",
    "\n",
    "It is not used on the output layer.\n",
    "\n",
    "### Deep Averaging Networks\n",
    "- Frozen and fine-tuning word embedding vectors\n"
   ]
  },
  {
   "cell_type": "code",
   "execution_count": 112,
   "id": "909752c2",
   "metadata": {},
   "outputs": [],
   "source": [
    "class DAN(nn.Module):\n",
    "    \"\"\"Deep Averaging Network for classification\"\"\"\n",
    "    def __init__(self,\n",
    "                 vocab_dim,\n",
    "                 num_classes,\n",
    "                 hidden,\n",
    "                 embedding,\n",
    "                 freeze=True):\n",
    "        super().__init__()\n",
    "        self.embedding = nn.EmbeddingBag.from_pretrained(embedding)\n",
    "        self.embedding.weight.requires_grad = not freeze\n",
    "        D = nn.Dropout(0.0)\n",
    "        V = nn.Linear(vocab_dim, hidden[0])\n",
    "        nn.init.xavier_uniform_(V.weight)\n",
    "        L = [D, V]\n",
    "        self.drops = [D]\n",
    "        for in_dim, out_dim in zip(hidden, hidden[1:] + [num_classes]):\n",
    "            L.append(nn.ReLU())   # nonlinearity layer\n",
    "            D = nn.Dropout(0.0)\n",
    "            self.drops.append(D)\n",
    "            L.append(D)           # dropout layer\n",
    "            W = nn.Linear(in_dim, out_dim)   # dense linear layer\n",
    "            nn.init.xavier_uniform_(W.weight)\n",
    "            L.append(W)\n",
    "        self.network = nn.Sequential(*L)\n",
    "        self.classifier = nn.LogSoftmax(dim=-1)  # output is (N, C) logits\n",
    "\n",
    "    def set_dropout(self, dropout):\n",
    "        if dropout:\n",
    "            self.drops[0] = 0.2    # input layer\n",
    "            for i in range(1, len(self.drops)):    # hidden layers\n",
    "                self.drops[i].p = 0.5\n",
    "        else:\n",
    "            for i in range(len(self.drops)):\n",
    "                self.drops[i].p = 0.0\n",
    "\n",
    "    def set_freeze(self, freeze):\n",
    "        \"\"\"To freeze part of the model (embedding layer)\"\"\"\n",
    "        self.embedding.weight.requires_grad = not freeze\n",
    "\n",
    "    def forward(self, x):\n",
    "        \"\"\"Return tensor of log probabilities\"\"\"\n",
    "        return self.classifier(self.network(self.embedding(x)))\n",
    "\n",
    "    def predict(self, x):\n",
    "        \"\"\"Return predicted int class of input tensor vector\"\"\"\n",
    "        return torch.argmax(self(x), dim=1).int().tolist()\n",
    "\n",
    "    def save(self, filename):\n",
    "        \"\"\"save model state to filename\"\"\"\n",
    "        return torch.save(self.state_dict(), filename)\n",
    "\n",
    "    def load(self, filename):\n",
    "        \"\"\"load model name from filename\"\"\"\n",
    "        self.load_state_dict(torch.load(filename, map_location='cpu'))\n",
    "        return self    "
   ]
  },
  {
   "cell_type": "markdown",
   "id": "63971ba0",
   "metadata": {},
   "source": [
    "__Train Models__\n"
   ]
  },
  {
   "cell_type": "code",
   "execution_count": 113,
   "id": "97b23643",
   "metadata": {
    "lines_to_next_cell": 2
   },
   "outputs": [
    {
     "name": "stdout",
     "output_type": "stream",
     "text": [
      "3559 3559 2847 712 10\n"
     ]
    },
    {
     "data": {
      "text/html": [
       "<div>\n",
       "<style scoped>\n",
       "    .dataframe tbody tr th:only-of-type {\n",
       "        vertical-align: middle;\n",
       "    }\n",
       "\n",
       "    .dataframe tbody tr th {\n",
       "        vertical-align: top;\n",
       "    }\n",
       "\n",
       "    .dataframe thead th {\n",
       "        text-align: right;\n",
       "    }\n",
       "</style>\n",
       "<table border=\"1\" class=\"dataframe\">\n",
       "  <thead>\n",
       "    <tr style=\"text-align: right;\">\n",
       "      <th></th>\n",
       "      <th>count</th>\n",
       "    </tr>\n",
       "  </thead>\n",
       "  <tbody>\n",
       "    <tr>\n",
       "      <th>Hlth</th>\n",
       "      <td>881</td>\n",
       "    </tr>\n",
       "    <tr>\n",
       "      <th>Other</th>\n",
       "      <td>762</td>\n",
       "    </tr>\n",
       "    <tr>\n",
       "      <th>HiTec</th>\n",
       "      <td>706</td>\n",
       "    </tr>\n",
       "    <tr>\n",
       "      <th>Manuf</th>\n",
       "      <td>344</td>\n",
       "    </tr>\n",
       "    <tr>\n",
       "      <th>Shops</th>\n",
       "      <td>321</td>\n",
       "    </tr>\n",
       "    <tr>\n",
       "      <th>Durbl</th>\n",
       "      <td>164</td>\n",
       "    </tr>\n",
       "    <tr>\n",
       "      <th>NoDur</th>\n",
       "      <td>145</td>\n",
       "    </tr>\n",
       "    <tr>\n",
       "      <th>Enrgy</th>\n",
       "      <td>94</td>\n",
       "    </tr>\n",
       "    <tr>\n",
       "      <th>Utils</th>\n",
       "      <td>92</td>\n",
       "    </tr>\n",
       "    <tr>\n",
       "      <th>Telcm</th>\n",
       "      <td>50</td>\n",
       "    </tr>\n",
       "  </tbody>\n",
       "</table>\n",
       "</div>"
      ],
      "text/plain": [
       "       count\n",
       "Hlth     881\n",
       "Other    762\n",
       "HiTec    706\n",
       "Manuf    344\n",
       "Shops    321\n",
       "Durbl    164\n",
       "NoDur    145\n",
       "Enrgy     94\n",
       "Utils     92\n",
       "Telcm     50"
      ]
     },
     "execution_count": 113,
     "metadata": {},
     "output_type": "execute_result"
    }
   ],
   "source": [
    "# Stratified train_test split\n",
    "num_classes = len(np.unique(labels))\n",
    "train_index, test_index = train_test_split(\n",
    "    np.arange(len(y_all)), stratify=y_all, random_state=42, test_size=0.2)\n",
    "print(len(x_all), len(y_all), len(train_index), len(test_index), num_classes)\n",
    "Series(labels).value_counts().rename('count').to_frame()"
   ]
  },
  {
   "cell_type": "code",
   "execution_count": 130,
   "id": "07678096",
   "metadata": {},
   "outputs": [
    {
     "data": {
      "text/plain": [
       "=================================================================\n",
       "Layer (type:depth-idx)                   Param #\n",
       "=================================================================\n",
       "DAN                                      --\n",
       "├─EmbeddingBag: 1-1                      (23,874,300)\n",
       "├─Sequential: 1-2                        --\n",
       "│    └─Dropout: 2-1                      --\n",
       "│    └─Linear: 2-2                       9,632\n",
       "│    └─ReLU: 2-3                         --\n",
       "│    └─Dropout: 2-4                      --\n",
       "│    └─Linear: 2-5                       330\n",
       "├─LogSoftmax: 1-3                        --\n",
       "=================================================================\n",
       "Total params: 23,884,262\n",
       "Trainable params: 9,962\n",
       "Non-trainable params: 23,874,300\n",
       "================================================================="
      ]
     },
     "execution_count": 130,
     "metadata": {},
     "output_type": "execute_result"
    }
   ],
   "source": [
    "# Model and training parameters\n",
    "layers = 1\n",
    "hidden_size = 32\n",
    "model = DAN(embeddings_dim,\n",
    "            num_classes,\n",
    "            hidden=[hidden_size] * layers,\n",
    "            embedding=torch.FloatTensor(vocab.embeddings)).to(device)\n",
    "torchinfo.summary(model)"
   ]
  },
  {
   "cell_type": "code",
   "execution_count": 131,
   "id": "db6c59ee",
   "metadata": {
    "lines_to_next_cell": 1
   },
   "outputs": [],
   "source": [
    "batch_sz = 16\n",
    "lr = 0.001 \n",
    "num_epochs = 50\n",
    "optimizer = torch.optim.Adam(model.parameters(), lr=lr)\n",
    "loss_function = nn.NLLLoss()"
   ]
  },
  {
   "cell_type": "code",
   "execution_count": 132,
   "id": "07ec3878",
   "metadata": {},
   "outputs": [],
   "source": [
    "def form_input(docs):\n",
    "    \"\"\"Pad lists of index lists to form batch of equal lengths\"\"\"\n",
    "    lengths = [len(doc) for doc in docs]   # length of each doc                     \n",
    "    max_length = max(1, max(lengths))      # to pad so all lengths equal max        \n",
    "    out = [doc + ([0] * (max_length-n)) for doc, n in zip(docs, lengths)]\n",
    "    return torch.LongTensor(out)"
   ]
  },
  {
   "cell_type": "code",
   "execution_count": 133,
   "id": "5518f6b9",
   "metadata": {},
   "outputs": [
    {
     "name": "stderr",
     "output_type": "stream",
     "text": [
      "  0%|          | 0/50 [00:00<?, ?it/s]"
     ]
    },
    {
     "name": "stderr",
     "output_type": "stream",
     "text": [
      "100%|██████████| 50/50 [03:48<00:00,  4.56s/it]\n",
      "100%|██████████| 50/50 [03:56<00:00,  4.72s/it]\n",
      "100%|██████████| 50/50 [03:56<00:00,  4.73s/it]\n"
     ]
    }
   ],
   "source": [
    "accuracy = []\n",
    "for imodel, (freeze, dropout) in enumerate([(True, False), (False, False), (False, True)]):\n",
    "    model.set_freeze(freeze=freeze)\n",
    "    model.set_dropout(dropout=dropout)\n",
    "    accuracy.append(dict())\n",
    "\n",
    "    # Loop over epochs\n",
    "    for epoch in tqdm(range(num_epochs)):\n",
    "        tic = time.time()\n",
    "\n",
    "        # Form batches\n",
    "        random.shuffle(train_index)\n",
    "        batches = [train_index[i:(i+batch_sz)]\n",
    "                   for i in range(0, len(train_index), batch_sz)]\n",
    "\n",
    "        # Train in batches\n",
    "        total_loss = 0.0\n",
    "        model.train()\n",
    "        for batch in batches:  # train by batch\n",
    "            x = form_input([x_all[idx] for idx in batch]).to(device)\n",
    "            y = torch.LongTensor([y_all[idx] for idx in batch]).to(device)\n",
    "            model.zero_grad()                    # reset model gradient\n",
    "            log_probs = model(x)                 # run model\n",
    "            loss = loss_function(log_probs, y)   # compute loss\n",
    "            total_loss += float(loss)\n",
    "            loss.backward()                      # loss step\n",
    "            optimizer.step()                     # optimizer step\n",
    "        model.eval()\n",
    "        model.save(outdir / f\"dan{embeddings_dim}.pt\")\n",
    "\n",
    "        if VERBOSE:\n",
    "            print(f\"Loss {epoch}/{num_epochs} {(freeze, dropout)}:\" +\n",
    "                  f\"{total_loss:.1f}\")\n",
    "\n",
    "        with torch.no_grad():   # evaluate test error\n",
    "            test_pred = [model.predict(form_input([x_all[i]]).to(device))[0]\n",
    "                         for i in test_index]\n",
    "            test_gold = [y_all[idx] for idx in test_index]\n",
    "            test_correct = (np.array(test_pred) == np.array(test_gold)).sum() \n",
    "            train_pred = [model.predict(form_input([x_all[i]]).to(device))[0]\n",
    "                          for i in train_index]\n",
    "            train_gold = [y_all[idx] for idx in train_index]\n",
    "            train_correct = (np.array(train_pred) == np.array(train_gold)).sum() \n",
    "            accuracy[imodel][epoch] = {\n",
    "                'loss': total_loss,\n",
    "                'train': train_correct/len(train_gold),\n",
    "                'test': test_correct/len(test_gold)}\n",
    "\n",
    "            if VERBOSE:\n",
    "                print(freeze,\n",
    "                      dropout,\n",
    "                      epoch,\n",
    "                      int(time.time() - tic),\n",
    "                      optimizer.param_groups[0]['lr'],\n",
    "                      train_correct/len(train_gold),\n",
    "                      test_correct/len(test_gold))"
   ]
  },
  {
   "cell_type": "markdown",
   "id": "9a234c45",
   "metadata": {},
   "source": [
    "__Confusion matrix__\n"
   ]
  },
  {
   "cell_type": "code",
   "execution_count": 134,
   "id": "6eee678f",
   "metadata": {},
   "outputs": [],
   "source": [
    "classes = class_encoder.classes_\n",
    "cf_train = DataFrame(confusion_matrix(train_gold, train_pred),\n",
    "                     index=pd.MultiIndex.from_product([['Actual'], classes]),\n",
    "                     columns=pd.MultiIndex.from_product([['Predicted'], classes]))\n",
    "cf_test = DataFrame(confusion_matrix(test_gold, test_pred),\n",
    "                    index=pd.MultiIndex.from_product([['Actual'], classes]),\n",
    "                    columns=pd.MultiIndex.from_product([['Predicted'], classes]))"
   ]
  },
  {
   "cell_type": "code",
   "execution_count": 135,
   "id": "5748303b",
   "metadata": {},
   "outputs": [
    {
     "data": {
      "image/png": "[encoded data removed]",
      "text/plain": [
       "<Figure size 800x600 with 2 Axes>"
      ]
     },
     "metadata": {},
     "output_type": "display_data"
    },
    {
     "data": {
      "image/png": "[encoded data removed]",
      "text/plain": [
       "<Figure size 800x600 with 2 Axes>"
      ]
     },
     "metadata": {},
     "output_type": "display_data"
    }
   ],
   "source": [
    "for num, (title, cf) in enumerate({'Training': cf_train,\n",
    "                                   'Test': cf_test}.items()):\n",
    "    fig, ax = plt.subplots(num=1+num, clear=True, figsize=(8, 6))\n",
    "    sns.heatmap(cf, ax=ax, annot= False, fmt='d', cmap='viridis', robust=True,\n",
    "                yticklabels=class_encoder.classes_,\n",
    "                xticklabels=class_encoder.classes_)\n",
    "    ax.set_title(f'DAN Tuned GloVe {title} Set Confusion Matrix')\n",
    "    ax.set_xlabel('Predicted')\n",
    "    ax.set_ylabel('Actual')\n",
    "    ax.yaxis.set_tick_params(labelsize=8, rotation=0)\n",
    "    ax.xaxis.set_tick_params(labelsize=8, rotation=0)\n",
    "    plt.subplots_adjust(left=0.35, bottom=0.25)\n",
    "    plt.tight_layout()"
   ]
  },
  {
   "cell_type": "markdown",
   "id": "0602a75b",
   "metadata": {},
   "source": [
    "__Accuracy__\n"
   ]
  },
  {
   "cell_type": "code",
   "execution_count": 136,
   "id": "18af94b1",
   "metadata": {},
   "outputs": [
    {
     "data": {
      "image/png": "[encoded data removed]",
      "text/plain": [
       "<Figure size 1000x600 with 1 Axes>"
      ]
     },
     "metadata": {},
     "output_type": "display_data"
    }
   ],
   "source": [
    "train_accuracy = pd.concat([Series([epoch['train'] for epoch in acc.values()])\n",
    "                            for acc in accuracy],\n",
    "                           ignore_index=True)\n",
    "test_accuracy = pd.concat([Series([epoch['test'] for epoch in acc.values()])\n",
    "                           for acc in accuracy],\n",
    "                          ignore_index=True)\n",
    "\n",
    "fig, ax = plt.subplots(num=1, clear=True, figsize=(10, 6))\n",
    "train_accuracy.plot(ax=ax)\n",
    "test_accuracy.plot(ax=ax)\n",
    "ax.axvline(len(accuracy[0]), c='grey', alpha=0.5)\n",
    "ax.axvline(len(accuracy[0]) + len(accuracy[1]), c='brown', alpha=0.5)\n",
    "ax.set_title(f'Accuracy of DAN with GloVe word embeddings')\n",
    "ax.set_xlabel('Steps')\n",
    "ax.set_ylabel('Accuracy')\n",
    "ax.legend(['Train Set', 'Test Set','Unfreeze','Dropout'], loc='upper left')\n",
    "plt.tight_layout()"
   ]
  },
  {
   "cell_type": "code",
   "execution_count": 137,
   "id": "ac2921b9",
   "metadata": {
    "lines_to_next_cell": 2
   },
   "outputs": [
    {
     "name": "stdout",
     "output_type": "stream",
     "text": [
      "Accuracy\n"
     ]
    },
    {
     "data": {
      "text/html": [
       "<div>\n",
       "<style scoped>\n",
       "    .dataframe tbody tr th:only-of-type {\n",
       "        vertical-align: middle;\n",
       "    }\n",
       "\n",
       "    .dataframe tbody tr th {\n",
       "        vertical-align: top;\n",
       "    }\n",
       "\n",
       "    .dataframe thead th {\n",
       "        text-align: right;\n",
       "    }\n",
       "</style>\n",
       "<table border=\"1\" class=\"dataframe\">\n",
       "  <thead>\n",
       "    <tr style=\"text-align: right;\">\n",
       "      <th></th>\n",
       "      <th>frozen</th>\n",
       "      <th>unfrozen</th>\n",
       "      <th>dropout</th>\n",
       "    </tr>\n",
       "  </thead>\n",
       "  <tbody>\n",
       "    <tr>\n",
       "      <th>train</th>\n",
       "      <td>0.842641</td>\n",
       "      <td>1.000000</td>\n",
       "      <td>1.000000</td>\n",
       "    </tr>\n",
       "    <tr>\n",
       "      <th>test</th>\n",
       "      <td>0.786517</td>\n",
       "      <td>0.807584</td>\n",
       "      <td>0.820225</td>\n",
       "    </tr>\n",
       "  </tbody>\n",
       "</table>\n",
       "</div>"
      ],
      "text/plain": [
       "         frozen  unfrozen   dropout\n",
       "train  0.842641  1.000000  1.000000\n",
       "test   0.786517  0.807584  0.820225"
      ]
     },
     "execution_count": 137,
     "metadata": {},
     "output_type": "execute_result"
    }
   ],
   "source": [
    "# Accuracy when frozen embeddings, unfrozen and with dropouts\n",
    "p = (len(accuracy[0]) - 1, len(accuracy[0]) + len(accuracy[1]) - 1, -1)\n",
    "print(\"Accuracy\")\n",
    "DataFrame({'frozen': [train_accuracy.iloc[p[0]], test_accuracy.iloc[p[0]]], \n",
    "           'unfrozen': [train_accuracy.iloc[p[1]], test_accuracy.iloc[p[1]]], \n",
    "           'dropout': [train_accuracy.iloc[p[2]], test_accuracy.iloc[p[2]]]},\n",
    "          index=['train', 'test'])"
   ]
  }
 ],
 "metadata": {
  "jupytext": {
   "cell_metadata_filter": "-all",
   "main_language": "python",
   "notebook_metadata_filter": "-all"
  },
  "kernelspec": {
   "display_name": "env3.11",
   "language": "python",
   "name": "python3"
  },
  "language_info": {
   "codemirror_mode": {
    "name": "ipython",
    "version": 3
   },
   "file_extension": ".py",
   "mimetype": "text/x-python",
   "name": "python",
   "nbconvert_exporter": "python",
   "pygments_lexer": "ipython3",
   "version": "3.11.9"
  }
 },
 "nbformat": 4,
 "nbformat_minor": 5
}
