{
 "cells": [
  {
   "cell_type": "markdown",
   "id": "46fbd36c",
   "metadata": {},
   "source": [
    "# Deep Learning\n",
    "\n",
    "_May your choices reflect your hopes, not your fears_ – Nelson Mandela\n",
    "\n",
    "Concepts: \n",
    "- TextBlob library\n",
    "- Word Embeddings\n",
    "- Feedforward Neural Networks\n",
    "\n",
    "References:\n",
    "\n",
    "- Geoffrey E. Hinton, Nitish Srivastava, Alex Krizhevsky, Ilya Sutskever, \n",
    "Ruslan R. Salakhutdinov, July 2012, \"Improving neural networks by preventing \n",
    "co-adaptation of feature detectors\"\n",
    "\n",
    "- Jeffrey Pennington, Richard Socher, and Christopher D. Manning. 2014. GloVe: Global Vectors for Word Representation.\n",
    "\n",
    "- Tomas Mikolov, Kai Chen, Greg Corrado, Jeffrey Dean, 2013, \"Efficient Estimation of Word Representations in Vector Space\"\n",
    "\n",
    "- Greg Durrett, 2023, \"CS388 Natural Language Processing course materisl\", retrieved from https://www.cs.utexas.edu/~gdurrett/courses/online-course/materials.html"
   ]
  },
  {
   "cell_type": "code",
   "execution_count": 1,
   "id": "004a8b9d",
   "metadata": {},
   "outputs": [
    {
     "name": "stdout",
     "output_type": "stream",
     "text": [
      "device is cuda\n"
     ]
    }
   ],
   "source": [
    "import numpy as np\n",
    "import random\n",
    "import time\n",
    "import pandas as pd\n",
    "from pandas import DataFrame, Series\n",
    "from collections import Counter\n",
    "import matplotlib.pyplot as plt\n",
    "from sklearn.metrics import confusion_matrix\n",
    "from sklearn.preprocessing import LabelEncoder\n",
    "from sklearn.model_selection import train_test_split\n",
    "import seaborn as sns\n",
    "from tqdm import tqdm\n",
    "import torch\n",
    "from torch import nn\n",
    "import torchinfo\n",
    "from textblob import TextBlob\n",
    "from tqdm import tqdm\n",
    "from finds.database import MongoDB, SQL, RedisDB\n",
    "from finds.unstructured import Unstructured, Edgar, Vocab\n",
    "from finds.structured import BusDay, CRSP, PSTAT\n",
    "from finds.readers import Sectoring\n",
    "from finds.utils import Store\n",
    "from secret import credentials, paths\n",
    "# %matplotlib qt\n",
    "# jupyter-notebook --NotebookApp.iopub_data_rate_limit=1.0e12\n",
    "VERBOSE = 0\n",
    "outdir = paths['scratch']\n",
    "store = Store(outdir, ext='pkl')\n",
    "device = torch.device(\"cuda\" if torch.cuda.is_available() else \"cpu\")\n",
    "print('device is', device)"
   ]
  },
  {
   "cell_type": "code",
   "execution_count": 2,
   "id": "260fb3b0",
   "metadata": {},
   "outputs": [
    {
     "name": "stdout",
     "output_type": "stream",
     "text": [
      "Last FamaFrench Date 2024-04-30 00:00:00\n"
     ]
    }
   ],
   "source": [
    "sql = SQL(**credentials['sql'], verbose=VERBOSE)\n",
    "user = SQL(**credentials['user'], verbose=VERBOSE)\n",
    "bd = BusDay(sql)\n",
    "rdb = RedisDB(**credentials['redis'])\n",
    "crsp = CRSP(sql, bd, rdb, verbose=VERBOSE)\n",
    "pstat = PSTAT(sql, bd, verbose=VERBOSE)\n",
    "ed = Edgar(paths['10X'], zipped=True, verbose=VERBOSE)"
   ]
  },
  {
   "cell_type": "markdown",
   "id": "cdd35adc",
   "metadata": {},
   "source": [
    "Load business descriptions text and industry labels for universe of stocks\n"
   ]
  },
  {
   "cell_type": "code",
   "execution_count": 3,
   "id": "69f81cc8",
   "metadata": {},
   "outputs": [],
   "source": [
    "# Retrieve universe of stocks as of start of calendar year 2023\n",
    "univ = crsp.get_universe(bd.endmo(20221231))"
   ]
  },
  {
   "cell_type": "code",
   "execution_count": 4,
   "id": "ca356ece",
   "metadata": {},
   "outputs": [],
   "source": [
    "# lookup company names\n",
    "comnam = crsp.build_lookup(source='permno', target='comnam', fillna=\"\")\n",
    "univ['comnam'] = comnam(univ.index)"
   ]
  },
  {
   "cell_type": "code",
   "execution_count": 5,
   "id": "32fe79cb",
   "metadata": {},
   "outputs": [],
   "source": [
    "# lookup ticker symbols\n",
    "ticker = crsp.build_lookup(source='permno', target='ticker', fillna=\"\")\n",
    "univ['ticker'] = ticker(univ.index)"
   ]
  },
  {
   "cell_type": "code",
   "execution_count": 6,
   "id": "db4968c4",
   "metadata": {},
   "outputs": [],
   "source": [
    "# lookup sic codes from Compustat, and map to FF 10-sector code\n",
    "sic = pstat.build_lookup(source='lpermno', target='sic', fillna=0)\n",
    "industry = Series(sic[univ.index], index=univ.index)\n",
    "industry = industry.where(industry > 0, univ['siccd'])\n",
    "sectors = Sectoring(sql, scheme='codes10', fillna='')   # supplement from crosswalk\n",
    "univ['sector'] = sectors[industry]"
   ]
  },
  {
   "cell_type": "code",
   "execution_count": 7,
   "id": "ec6785fe",
   "metadata": {
    "lines_to_next_cell": 2
   },
   "outputs": [],
   "source": [
    "# retrieve 2023 10K business descriptions text\n",
    "item, form = 'bus10K', '10-K'\n",
    "rows = DataFrame(ed.open(form=form, item=item))\n",
    "found = rows[rows['date'].between(20230101, 20231231)]\\\n",
    "             .drop_duplicates(subset=['permno'], keep='last')\\\n",
    "             .set_index('permno')"
   ]
  },
  {
   "cell_type": "markdown",
   "id": "904e0bf6",
   "metadata": {},
   "source": [
    "## Textblob\n"
   ]
  },
  {
   "cell_type": "markdown",
   "id": "11fbf9fd",
   "metadata": {},
   "source": [
    "The TextBlob library provides simple API for common NLP tasks such as\n",
    "part-of-speech tagging, lemmatization, noun phrase extraction, sentiment analysis\n",
    "and spelling correction.\n",
    "It streamlines many of NLTK's complexities and also integrates WordNet.\n",
    "- https://textblob.readthedocs.io/en/dev/quickstart.html"
   ]
  },
  {
   "cell_type": "code",
   "execution_count": 9,
   "id": "046ee1a0",
   "metadata": {
    "lines_to_next_cell": 2
   },
   "outputs": [
    {
     "name": "stderr",
     "output_type": "stream",
     "text": [
      "100%|██████████| 4625/4625 [18:12<00:00,  4.24it/s]\n"
     ]
    }
   ],
   "source": [
    "bus = {}\n",
    "for permno in tqdm(found.index):\n",
    "    if permno not in univ.index:\n",
    "        continue\n",
    "    doc = TextBlob(ed[found.loc[permno, 'pathname']].lower())  # tokenize and tag\n",
    "    nouns = [word for word, tag in doc.tags\n",
    "             if tag in ['NN', 'NNS'] and word.isalpha() and len(word) > 2]\n",
    "    if len(nouns) > 100:\n",
    "        bus[permno] = nouns\n",
    "permnos = list(bus.keys())"
   ]
  },
  {
   "cell_type": "markdown",
   "id": "4862d2fd",
   "metadata": {
    "lines_to_next_cell": 2
   },
   "source": [
    "## Word Embeddings\n",
    "\n",
    "Word embeddings or vectors may be trained using neural networks or matrix factorization techniques.\n",
    "\n",
    "### Word2Vec\n",
    "\n",
    "Word2Vec is a framework that includes two primary algorithms: Skip-gram and CBOW. It aims to learn distributed representations (word embeddings) of words in a continuous vector space, by ccapturing  relationships between words based on their occurrences as center words in context windows. Training uses neural networks, that are typically shallow with one hidden layer.\n",
    "\n",
    "### Skip-gram\n",
    "\n",
    "This approach predicts the context words (i.e. surrounding words) given a center word.\n",
    "\n",
    "### CBOW\n",
    "\n",
    "Continuous Bag of Words (CBOW) predicts the center word based on the context words within a fixed window size.\n",
    "\n",
    "### GloVe\n",
    "\n",
    "Global Vectors for Word Representation (GloVe) learns word vectors from global word-word co-occurrence statistics from a corpus.\n",
    "It uses matrix factorization techniques on the word co-occurrence matrix.\n",
    "\n"
   ]
  },
  {
   "cell_type": "markdown",
   "id": "e3466c31",
   "metadata": {},
   "source": [
    "Load GloVe vectors, and relativize to vocab words\n"
   ]
  },
  {
   "cell_type": "code",
   "execution_count": 10,
   "id": "eaef8813",
   "metadata": {},
   "outputs": [
    {
     "name": "stdout",
     "output_type": "stream",
     "text": [
      "(400000, 300)\n"
     ]
    }
   ],
   "source": [
    "# Load GloVe embeddings, source: \"https://nlp.stanford.edu/data/glove.6B.zip\"\n",
    "embeddings_dim = 300  # dimension of GloVe embeddings vector\n",
    "\n",
    "filename = paths['scratch'] / f\"glove.6B.{embeddings_dim}d.txt\"\n",
    "embeddings = pd.read_csv(filename, sep=\" \", quoting=3,\n",
    "                         header=None, index_col=0, low_memory=True)\n",
    "embeddings.index = embeddings.index.astype(str).str.lower()\n",
    "print(embeddings.shape)\n"
   ]
  },
  {
   "cell_type": "markdown",
   "id": "a907e25d",
   "metadata": {},
   "source": [
    "### Word Vector Arithmetic\n",
    "\n",
    "Reflecting the idea that geometric relationships between word embeddings reflect meaningful inguistic relationships, word embeddings may be combined and manipulated arithmetically to capture analogies and semantic similarities between words.\n",
    "\n",
    "It should noted that these examples are only suggestive of what the vectors may capture, and such mathematical results are generally not as sharp; they may also show the potential for biases, such as gender roles, implicit in the training samples.\n"
   ]
  },
  {
   "cell_type": "code",
   "execution_count": 11,
   "id": "0384d6e4",
   "metadata": {
    "lines_to_next_cell": 2
   },
   "outputs": [
    {
     "name": "stdout",
     "output_type": "stream",
     "text": [
      "king - man + woman = ['queen']\n",
      "france - paris + tokyo = ['japan']\n",
      "bigger - big + cold = ['colder']\n"
     ]
    }
   ],
   "source": [
    "from sklearn.neighbors import NearestNeighbors\n",
    "analogies = [\"man king woman\", \"paris france tokyo\", \"big bigger cold\"]\n",
    "for analogy in analogies:\n",
    "    words = analogy.lower().split()\n",
    "    vectors = {word: embeddings.loc[word].values for word in words}\n",
    "    vec = vectors[words[1]] - vectors[words[0]] + vectors[words[2]]\n",
    "\n",
    "    sim = NearestNeighbors(n_neighbors=1).fit(embeddings)\n",
    "    neighbors = sim.kneighbors(vec.reshape((1, -1)), n_neighbors=2,\n",
    "                               return_distance=False).flatten().tolist()\n",
    "    neighbors = [k for k in neighbors if embeddings.index[k] not in words]\n",
    "    print(f\"{words[1]} - {words[0]} + {words[2]} =\",\n",
    "          [embeddings.index[k] for k in neighbors])"
   ]
  },
  {
   "cell_type": "markdown",
   "id": "32874247",
   "metadata": {},
   "source": [
    "Encode textual dataset and labels, and relativize word embeddings to vocab\n"
   ]
  },
  {
   "cell_type": "code",
   "execution_count": 12,
   "id": "04c5fc0e",
   "metadata": {},
   "outputs": [
    {
     "name": "stdout",
     "output_type": "stream",
     "text": [
      "vocab len: 87381\n"
     ]
    }
   ],
   "source": [
    "words = Counter()\n",
    "for nouns in bus.values():\n",
    "    words.update(list(nouns))\n",
    "vocab = Vocab(words.keys())\n",
    "print('vocab len:', len(vocab))"
   ]
  },
  {
   "cell_type": "code",
   "execution_count": 13,
   "id": "5999a30d",
   "metadata": {},
   "outputs": [],
   "source": [
    "labels = []\n",
    "x_all = []\n",
    "for permno, nouns in bus.items():\n",
    "    x = vocab.get_index([noun for noun in nouns])\n",
    "    if sum(x):\n",
    "        labels.append(univ.loc[permno, 'sector'])\n",
    "        x_all.append(x)\n",
    "class_encoder = LabelEncoder().fit(labels)    # .inverse_transform()\n",
    "y_all = class_encoder.transform(labels)"
   ]
  },
  {
   "cell_type": "code",
   "execution_count": 14,
   "id": "e81abbe1",
   "metadata": {},
   "outputs": [],
   "source": [
    "store['dan'] = dict(y_all=y_all, x_all=x_all)"
   ]
  },
  {
   "cell_type": "code",
   "execution_count": null,
   "id": "734f5eae",
   "metadata": {},
   "outputs": [],
   "source": [
    "# retrieve from previously stored\n",
    "y_all, x_all = store['dan'].values()"
   ]
  },
  {
   "cell_type": "code",
   "execution_count": 15,
   "id": "55c013aa",
   "metadata": {},
   "outputs": [
    {
     "name": "stdout",
     "output_type": "stream",
     "text": [
      "(87381, 300)\n"
     ]
    }
   ],
   "source": [
    "# relativize embeddings to words in vocab\n",
    "vocab.set_embeddings(embeddings)\n",
    "print(vocab.embeddings.shape)"
   ]
  },
  {
   "cell_type": "code",
   "execution_count": 16,
   "id": "85cd7dd0",
   "metadata": {},
   "outputs": [],
   "source": [
    "vocab.dump(outdir / f\"dan{embeddings_dim}.pkl\")"
   ]
  },
  {
   "cell_type": "code",
   "execution_count": null,
   "id": "63c82141",
   "metadata": {},
   "outputs": [],
   "source": [
    "# load vocab\n",
    "vocab.load(outdir / f\"dan{embeddings_dim}.pkl\")"
   ]
  },
  {
   "cell_type": "markdown",
   "id": "e4e33684",
   "metadata": {},
   "source": [
    "## FeedForward Neural Network\n",
    "\n",
    "Neural networks compose together linear and nonlinear functions to build a complex mathematical model. Feedforward neural networks (FFNNs) are the simplest form of neural networks, where the data flows in one direction (a forward pass) and the connections do not form a cycle.\n",
    "\n",
    "- __Neurons__ are the basic computational units or nodes of a neural network.\n",
    "  Each neuron receives input, processes it using a weighted sum and a bias term, and then applies an activation function to produce an output, which is then passed to the neurons in the next layer.\n",
    "\n",
    "- __Activation functions__ are the nonlinear mathematical functions applied to neurons in a neural network. They introduce non-linearity into the model, enabling it to learn and represent complex patterns in the data. Common activation functions include ReLU (Rectified Linear Unit), sigmoid, and tanh.\n",
    "\n",
    "- __Input Layer__ is the first layer of a neural network which directly receives the input data. Each neuron in the input layer represents one feature of the input.\n",
    "  \n",
    "- __Hidden Layers__, between the input layer and the output layer, take input from the previous layer of neurons, apply weights, biases, and activation functions, and pass the output to the next layer.\n",
    "\n",
    "- __Output Layer__ is the final layer of the neural network and it produces the network’s output. Its neurons represent the predictions or classifications made by the network. The number of neurons in the output layer corresponds to the number of output classes or the dimensionality of the output. For classification tasks, softmax or sigmoid functions are often used in the output layer to provide probability distributions of the class predictions.\n",
    "\n",
    "- __Backpropagation__ is used for training neural networks by updating the weights of neurons based on the error (loss) of the network's predictions: it involves calculating the gradient of the loss function with respect to each weight by using the chain rule of calculus, and propagating these gradients backward from the output layer to the input layer.\n",
    "\n",
    "- __Computation Graph__ is a graphical representation of the sequence of operations used to compute the forward pass and the backward pass for backpropagation. PyTorch's modules automatically constructs the computation graph and computes gradients, hence simplifying the implementation of neural networks.\n",
    "\n",
    "- __Batching__ divides the training data into smaller subsets called batches, rather than\n",
    "training the model on the entire dataset at once, which can be computationally intensive and inefficient. It also gives speedup compared to training the network one sample at a time due to more eﬃcient matrix operations.\n",
    "\n",
    "- __Initialization__ refers to the process of setting the initial values of the weights in a neural network before training begins. Poor initialization can lead to slow convergence or getting stuck in local minima. Common initialization methods include Xavier (Glorot) and He initialization\n",
    " \n",
    "- __Dropout__ is a regularization technique during training, where a random subset of neurons is \"dropped out\" or set to zero at each iteration. This reduces overfitting by ensuring that the model does not rely too heavily on any particular subset of neurons. Geoffrey Hinton, et al. in their 2012 paper that first introduced dropout. They found that using a simple method of 50% dropout for all hidden units and  20% dropout for input units achieve improved results with a range of  neural networks on different problem types. It is not used on the output layer.\n",
    "\n",
    "- __Adam__ (Adaptive Moment Estimation) is an optimization algorithm for training neural networks which improves on stochastic gradient descent and achieves good performance on problems with large, high-dimensional data sets. It adapts the learning rate for each parameter by computing adaptive learning rates from estimates of first and second moments of the gradients.\n",
    "\n",
    "\n",
    "### Deep Averaging Networks\n",
    "\n",
    "Deep Averaging Networks (DAN) are feedforward neural networks for natural language processing tasks which work by simply averaging the pre-trained embeddings of the words in a text sample to pass to its input layer. \n",
    "\n",
    "During training, the embeddings may be frozen (i.e. kept constant) or fine-tuned (i.e. allowed to be updated). \n",
    "\n",
    "- Freezing embeddings is useful when the embeddings are already well-trained and expected to generalize well to new tasks. It reduces the number of parameters to be trained, which can make the training process faster and prevent overfitting when the dataset is small.\n",
    "   \n",
    "- Fine-tuning embeddings means allowing the pre-trained word embeddings to be updated during the training of a model. Adjusting the embeddings can better fit the specific task or dataset at hand, bit requires more computational resources and a larger dataset to avoid overfitting.\n",
    "\n"
   ]
  },
  {
   "cell_type": "code",
   "execution_count": 17,
   "id": "e4ebc4f8",
   "metadata": {},
   "outputs": [],
   "source": [
    "class DAN(nn.Module):\n",
    "    \"\"\"Deep Averaging Network for classification\"\"\"\n",
    "    def __init__(self,\n",
    "                 vocab_dim,\n",
    "                 num_classes,\n",
    "                 hidden,\n",
    "                 embedding,\n",
    "                 freeze=True):\n",
    "        super().__init__()\n",
    "        self.embedding = nn.EmbeddingBag.from_pretrained(embedding)\n",
    "        self.embedding.weight.requires_grad = not freeze\n",
    "        D = nn.Dropout(0.0)\n",
    "        V = nn.Linear(vocab_dim, hidden[0])\n",
    "        nn.init.xavier_uniform_(V.weight)\n",
    "        L = [D, V]\n",
    "        self.drops = [D]\n",
    "        for in_dim, out_dim in zip(hidden, hidden[1:] + [num_classes]):\n",
    "            L.append(nn.ReLU())   # nonlinearity layer\n",
    "            D = nn.Dropout(0.0)\n",
    "            self.drops.append(D)\n",
    "            L.append(D)           # dropout layer\n",
    "            W = nn.Linear(in_dim, out_dim)   # dense linear layer\n",
    "            nn.init.xavier_uniform_(W.weight)\n",
    "            L.append(W)\n",
    "        self.network = nn.Sequential(*L)\n",
    "        self.classifier = nn.LogSoftmax(dim=-1)  # output is (N, C) logits\n",
    "\n",
    "    def set_dropout(self, dropout):\n",
    "        if dropout:\n",
    "            self.drops[0] = 0.2    # input layer\n",
    "            for i in range(1, len(self.drops)):    # hidden layers\n",
    "                self.drops[i].p = 0.5\n",
    "        else:\n",
    "            for i in range(len(self.drops)):\n",
    "                self.drops[i].p = 0.0\n",
    "\n",
    "    def set_freeze(self, freeze):\n",
    "        \"\"\"To freeze part of the model (embedding layer)\"\"\"\n",
    "        self.embedding.weight.requires_grad = not freeze\n",
    "\n",
    "    def forward(self, x):\n",
    "        \"\"\"Return tensor of log probabilities\"\"\"\n",
    "        return self.classifier(self.network(self.embedding(x)))\n",
    "\n",
    "    def predict(self, x):\n",
    "        \"\"\"Return predicted int class of input tensor vector\"\"\"\n",
    "        return torch.argmax(self(x), dim=1).int().tolist()\n",
    "\n",
    "    def save(self, filename):\n",
    "        \"\"\"save model state to filename\"\"\"\n",
    "        return torch.save(self.state_dict(), filename)\n",
    "\n",
    "    def load(self, filename):\n",
    "        \"\"\"load model name from filename\"\"\"\n",
    "        self.load_state_dict(torch.load(filename, map_location='cpu'))\n",
    "        return self    "
   ]
  },
  {
   "cell_type": "markdown",
   "id": "8397129d",
   "metadata": {},
   "source": [
    "Split the data into stratified (i.e. equal class proportions) train and test set\n"
   ]
  },
  {
   "cell_type": "code",
   "execution_count": 30,
   "id": "6fc3d3d6",
   "metadata": {
    "lines_to_next_cell": 2
   },
   "outputs": [
    {
     "name": "stdout",
     "output_type": "stream",
     "text": [
      "3559 3559 2847 712 10\n"
     ]
    },
    {
     "data": {
      "text/html": [
       "<div>\n",
       "<style scoped>\n",
       "    .dataframe tbody tr th:only-of-type {\n",
       "        vertical-align: middle;\n",
       "    }\n",
       "\n",
       "    .dataframe tbody tr th {\n",
       "        vertical-align: top;\n",
       "    }\n",
       "\n",
       "    .dataframe thead th {\n",
       "        text-align: right;\n",
       "    }\n",
       "</style>\n",
       "<table border=\"1\" class=\"dataframe\">\n",
       "  <thead>\n",
       "    <tr style=\"text-align: right;\">\n",
       "      <th></th>\n",
       "      <th>Train</th>\n",
       "      <th>Test</th>\n",
       "    </tr>\n",
       "  </thead>\n",
       "  <tbody>\n",
       "    <tr>\n",
       "      <th>Hlth</th>\n",
       "      <td>705</td>\n",
       "      <td>176</td>\n",
       "    </tr>\n",
       "    <tr>\n",
       "      <th>Other</th>\n",
       "      <td>609</td>\n",
       "      <td>153</td>\n",
       "    </tr>\n",
       "    <tr>\n",
       "      <th>HiTec</th>\n",
       "      <td>565</td>\n",
       "      <td>141</td>\n",
       "    </tr>\n",
       "    <tr>\n",
       "      <th>Manuf</th>\n",
       "      <td>275</td>\n",
       "      <td>69</td>\n",
       "    </tr>\n",
       "    <tr>\n",
       "      <th>Shops</th>\n",
       "      <td>257</td>\n",
       "      <td>64</td>\n",
       "    </tr>\n",
       "    <tr>\n",
       "      <th>Durbl</th>\n",
       "      <td>131</td>\n",
       "      <td>33</td>\n",
       "    </tr>\n",
       "    <tr>\n",
       "      <th>NoDur</th>\n",
       "      <td>116</td>\n",
       "      <td>29</td>\n",
       "    </tr>\n",
       "    <tr>\n",
       "      <th>Enrgy</th>\n",
       "      <td>75</td>\n",
       "      <td>19</td>\n",
       "    </tr>\n",
       "    <tr>\n",
       "      <th>Utils</th>\n",
       "      <td>74</td>\n",
       "      <td>18</td>\n",
       "    </tr>\n",
       "    <tr>\n",
       "      <th>Telcm</th>\n",
       "      <td>40</td>\n",
       "      <td>10</td>\n",
       "    </tr>\n",
       "  </tbody>\n",
       "</table>\n",
       "</div>"
      ],
      "text/plain": [
       "       Train  Test\n",
       "Hlth     705   176\n",
       "Other    609   153\n",
       "HiTec    565   141\n",
       "Manuf    275    69\n",
       "Shops    257    64\n",
       "Durbl    131    33\n",
       "NoDur    116    29\n",
       "Enrgy     75    19\n",
       "Utils     74    18\n",
       "Telcm     40    10"
      ]
     },
     "execution_count": 30,
     "metadata": {},
     "output_type": "execute_result"
    }
   ],
   "source": [
    "# Stratified train_test split\n",
    "num_classes = len(np.unique(labels))\n",
    "train_index, test_index = train_test_split(\n",
    "    np.arange(len(y_all)), stratify=y_all, random_state=42, test_size=0.2)\n",
    "print(len(x_all), len(y_all), len(train_index), len(test_index), num_classes)\n",
    "#Series(labels).value_counts().rename('count').to_frame()\n",
    "pd.concat([Series(np.array(labels)[train_index]).value_counts().rename('Train'),\n",
    "           Series(np.array(labels)[test_index]).value_counts().rename('Test')],\n",
    "           axis=1)\n"
   ]
  },
  {
   "cell_type": "code",
   "execution_count": 19,
   "id": "8bb9417b",
   "metadata": {},
   "outputs": [
    {
     "data": {
      "text/plain": [
       "=================================================================\n",
       "Layer (type:depth-idx)                   Param #\n",
       "=================================================================\n",
       "DAN                                      --\n",
       "├─EmbeddingBag: 1-1                      (26,214,300)\n",
       "├─Sequential: 1-2                        --\n",
       "│    └─Dropout: 2-1                      --\n",
       "│    └─Linear: 2-2                       9,632\n",
       "│    └─ReLU: 2-3                         --\n",
       "│    └─Dropout: 2-4                      --\n",
       "│    └─Linear: 2-5                       330\n",
       "├─LogSoftmax: 1-3                        --\n",
       "=================================================================\n",
       "Total params: 26,224,262\n",
       "Trainable params: 9,962\n",
       "Non-trainable params: 26,214,300\n",
       "================================================================="
      ]
     },
     "execution_count": 19,
     "metadata": {},
     "output_type": "execute_result"
    }
   ],
   "source": [
    "# Specify model and training parameters\n",
    "layers = 1\n",
    "hidden_size = 32\n",
    "model = DAN(embeddings_dim,\n",
    "            num_classes,\n",
    "            hidden=[hidden_size] * layers,\n",
    "            embedding=torch.FloatTensor(vocab.embeddings)).to(device)\n",
    "torchinfo.summary(model)"
   ]
  },
  {
   "cell_type": "code",
   "execution_count": 20,
   "id": "39034c31",
   "metadata": {
    "lines_to_next_cell": 1
   },
   "outputs": [
    {
     "name": "stderr",
     "output_type": "stream",
     "text": [
      "/home/terence/env3.11/lib/python3.11/site-packages/tqdm/auto.py:21: TqdmWarning: IProgress not found. Please update jupyter and ipywidgets. See https://ipywidgets.readthedocs.io/en/stable/user_install.html\n",
      "  from .autonotebook import tqdm as notebook_tqdm\n"
     ]
    }
   ],
   "source": [
    "batch_sz = 16\n",
    "lr = 0.001 \n",
    "num_epochs = 50\n",
    "optimizer = torch.optim.Adam(model.parameters(), lr=lr)\n",
    "loss_function = nn.NLLLoss()"
   ]
  },
  {
   "cell_type": "markdown",
   "id": "2804665e",
   "metadata": {},
   "source": [
    "Helper function to batch and form an input for neural network.  Pads each sample to have lengths equal to the max, and convert to Long tensor type."
   ]
  },
  {
   "cell_type": "code",
   "execution_count": 21,
   "id": "2f3902f3",
   "metadata": {},
   "outputs": [],
   "source": [
    "def form_input(docs):\n",
    "    \"\"\"Pad lists of index lists to form batch of equal lengths\"\"\"\n",
    "    lengths = [len(doc) for doc in docs]   # length of each doc                     \n",
    "    max_length = max(1, max(lengths))      # to pad so all lengths equal max        \n",
    "    out = [doc + ([0] * (max_length-n)) for doc, n in zip(docs, lengths)]\n",
    "    return torch.LongTensor(out)"
   ]
  },
  {
   "cell_type": "code",
   "execution_count": 22,
   "id": "07f56f9c",
   "metadata": {},
   "outputs": [
    {
     "name": "stderr",
     "output_type": "stream",
     "text": [
      "100%|██████████| 50/50 [03:43<00:00,  4.46s/it]\n",
      "100%|██████████| 50/50 [03:56<00:00,  4.73s/it]\n",
      "100%|██████████| 50/50 [03:55<00:00,  4.72s/it]\n"
     ]
    }
   ],
   "source": [
    "accuracy = []\n",
    "for imodel, (freeze, dropout) in enumerate([(True, False), (False, False), (False, True)]):\n",
    "    model.set_freeze(freeze=freeze)\n",
    "    model.set_dropout(dropout=dropout)\n",
    "    accuracy.append(dict())\n",
    "\n",
    "    # Loop over epochs\n",
    "    for epoch in tqdm(range(num_epochs)):\n",
    "        tic = time.time()\n",
    "\n",
    "        # Form batches\n",
    "        random.shuffle(train_index)\n",
    "        batches = [train_index[i:(i+batch_sz)]\n",
    "                   for i in range(0, len(train_index), batch_sz)]\n",
    "\n",
    "        # Train in batches\n",
    "        total_loss = 0.0\n",
    "        model.train()\n",
    "        for batch in batches:  # train by batch\n",
    "            x = form_input([x_all[idx] for idx in batch]).to(device)\n",
    "            y = torch.LongTensor([y_all[idx] for idx in batch]).to(device)\n",
    "            model.zero_grad()                    # reset model gradient\n",
    "            log_probs = model(x)                 # run model\n",
    "            loss = loss_function(log_probs, y)   # compute loss\n",
    "            total_loss += float(loss)\n",
    "            loss.backward()                      # loss step\n",
    "            optimizer.step()                     # optimizer step\n",
    "        model.eval()\n",
    "        model.save(outdir / f\"dan{embeddings_dim}.pt\")\n",
    "\n",
    "        if VERBOSE:\n",
    "            print(f\"Loss {epoch}/{num_epochs} {(freeze, dropout)}:\" +\n",
    "                  f\"{total_loss:.1f}\")\n",
    "\n",
    "        with torch.no_grad():   # evaluate test error\n",
    "            test_pred = [model.predict(form_input([x_all[i]]).to(device))[0]\n",
    "                         for i in test_index]\n",
    "            test_gold = [y_all[idx] for idx in test_index]\n",
    "            test_correct = (np.array(test_pred) == np.array(test_gold)).sum() \n",
    "            train_pred = [model.predict(form_input([x_all[i]]).to(device))[0]\n",
    "                          for i in train_index]\n",
    "            train_gold = [y_all[idx] for idx in train_index]\n",
    "            train_correct = (np.array(train_pred) == np.array(train_gold)).sum() \n",
    "            accuracy[imodel][epoch] = {\n",
    "                'loss': total_loss,\n",
    "                'train': train_correct/len(train_gold),\n",
    "                'test': test_correct/len(test_gold)}\n",
    "\n",
    "            if VERBOSE:\n",
    "                print(freeze,\n",
    "                      dropout,\n",
    "                      epoch,\n",
    "                      int(time.time() - tic),\n",
    "                      optimizer.param_groups[0]['lr'],\n",
    "                      train_correct/len(train_gold),\n",
    "                      test_correct/len(test_gold))"
   ]
  },
  {
   "cell_type": "markdown",
   "id": "a84cffe8",
   "metadata": {},
   "source": [
    "Display the confusion matrix for train and test sets\n"
   ]
  },
  {
   "cell_type": "code",
   "execution_count": 23,
   "id": "bdc663ca",
   "metadata": {},
   "outputs": [],
   "source": [
    "classes = class_encoder.classes_\n",
    "cf_train = DataFrame(confusion_matrix(train_gold, train_pred),\n",
    "                     index=pd.MultiIndex.from_product([['Actual'], classes]),\n",
    "                     columns=pd.MultiIndex.from_product([['Predicted'], classes]))\n",
    "cf_test = DataFrame(confusion_matrix(test_gold, test_pred),\n",
    "                    index=pd.MultiIndex.from_product([['Actual'], classes]),\n",
    "                    columns=pd.MultiIndex.from_product([['Predicted'], classes]))"
   ]
  },
  {
   "cell_type": "code",
   "execution_count": 24,
   "id": "fecfa4b8",
   "metadata": {},
   "outputs": [
    {
     "data": {
      "image/png": "[encoded data removed]",
      "text/plain": [
       "<Figure size 800x600 with 2 Axes>"
      ]
     },
     "metadata": {},
     "output_type": "display_data"
    },
    {
     "data": {
      "image/png": "[encoded data removed]",
      "text/plain": [
       "<Figure size 800x600 with 2 Axes>"
      ]
     },
     "metadata": {},
     "output_type": "display_data"
    }
   ],
   "source": [
    "for num, (title, cf) in enumerate({'Training': cf_train,\n",
    "                                   'Test': cf_test}.items()):\n",
    "    fig, ax = plt.subplots(num=1+num, clear=True, figsize=(8, 6))\n",
    "    sns.heatmap(cf, ax=ax, annot= False, fmt='d', cmap='viridis', robust=True,\n",
    "                yticklabels=class_encoder.classes_,\n",
    "                xticklabels=class_encoder.classes_)\n",
    "    ax.set_title(f'DAN Tuned GloVe {title} Set Confusion Matrix')\n",
    "    ax.set_xlabel('Predicted')\n",
    "    ax.set_ylabel('Actual')\n",
    "    ax.yaxis.set_tick_params(labelsize=8, rotation=0)\n",
    "    ax.xaxis.set_tick_params(labelsize=8, rotation=0)\n",
    "    plt.subplots_adjust(left=0.35, bottom=0.25)\n",
    "    plt.tight_layout()"
   ]
  },
  {
   "cell_type": "markdown",
   "id": "f5142ca9",
   "metadata": {},
   "source": [
    "Plot accuracy, on train and test sets, by epoch. Training begins with frozen embeddings, then embeddings are unfrozen to allow fine-tuning, and finally dropout is implemented.\n"
   ]
  },
  {
   "cell_type": "code",
   "execution_count": 25,
   "id": "38567ca9",
   "metadata": {},
   "outputs": [
    {
     "data": {
      "image/png": "[encoded data removed]",
      "text/plain": [
       "<Figure size 1000x600 with 1 Axes>"
      ]
     },
     "metadata": {},
     "output_type": "display_data"
    }
   ],
   "source": [
    "train_accuracy = pd.concat([Series([epoch['train'] for epoch in acc.values()])\n",
    "                            for acc in accuracy],\n",
    "                           ignore_index=True)\n",
    "test_accuracy = pd.concat([Series([epoch['test'] for epoch in acc.values()])\n",
    "                           for acc in accuracy],\n",
    "                          ignore_index=True)\n",
    "\n",
    "fig, ax = plt.subplots(num=1, clear=True, figsize=(10, 6))\n",
    "train_accuracy.plot(ax=ax)\n",
    "test_accuracy.plot(ax=ax)\n",
    "ax.axvline(len(accuracy[0]), c='grey', alpha=0.5)\n",
    "ax.axvline(len(accuracy[0]) + len(accuracy[1]), c='brown', alpha=0.5)\n",
    "ax.set_title(f'Accuracy of DAN with GloVe word embeddings')\n",
    "ax.set_xlabel('Steps')\n",
    "ax.set_ylabel('Accuracy')\n",
    "ax.legend(['Train Set', 'Test Set','Unfreeze','Dropout'], loc='upper left')\n",
    "plt.tight_layout()"
   ]
  },
  {
   "cell_type": "markdown",
   "id": "0bdcbbd7",
   "metadata": {},
   "source": [
    "When embeddings are frozen, the model overfits the training data, achieving 100% training accuracy.  When dropout regularization is enabled, the test set accuracy slightly improves."
   ]
  },
  {
   "cell_type": "code",
   "execution_count": 26,
   "id": "e2e068f4",
   "metadata": {
    "lines_to_next_cell": 2
   },
   "outputs": [
    {
     "name": "stdout",
     "output_type": "stream",
     "text": [
      "Accuracy\n"
     ]
    },
    {
     "data": {
      "text/html": [
       "<div>\n",
       "<style scoped>\n",
       "    .dataframe tbody tr th:only-of-type {\n",
       "        vertical-align: middle;\n",
       "    }\n",
       "\n",
       "    .dataframe tbody tr th {\n",
       "        vertical-align: top;\n",
       "    }\n",
       "\n",
       "    .dataframe thead th {\n",
       "        text-align: right;\n",
       "    }\n",
       "</style>\n",
       "<table border=\"1\" class=\"dataframe\">\n",
       "  <thead>\n",
       "    <tr style=\"text-align: right;\">\n",
       "      <th></th>\n",
       "      <th>frozen</th>\n",
       "      <th>unfrozen</th>\n",
       "      <th>dropout</th>\n",
       "    </tr>\n",
       "  </thead>\n",
       "  <tbody>\n",
       "    <tr>\n",
       "      <th>train</th>\n",
       "      <td>0.832455</td>\n",
       "      <td>1.000000</td>\n",
       "      <td>1.000000</td>\n",
       "    </tr>\n",
       "    <tr>\n",
       "      <th>test</th>\n",
       "      <td>0.780899</td>\n",
       "      <td>0.810393</td>\n",
       "      <td>0.821629</td>\n",
       "    </tr>\n",
       "  </tbody>\n",
       "</table>\n",
       "</div>"
      ],
      "text/plain": [
       "         frozen  unfrozen   dropout\n",
       "train  0.832455  1.000000  1.000000\n",
       "test   0.780899  0.810393  0.821629"
      ]
     },
     "execution_count": 26,
     "metadata": {},
     "output_type": "execute_result"
    }
   ],
   "source": [
    "# Accuracy when frozen embeddings, unfrozen and with dropouts\n",
    "p = (len(accuracy[0]) - 1, len(accuracy[0]) + len(accuracy[1]) - 1, -1)\n",
    "print(\"Accuracy\")\n",
    "DataFrame({'frozen': [train_accuracy.iloc[p[0]], test_accuracy.iloc[p[0]]], \n",
    "           'unfrozen': [train_accuracy.iloc[p[1]], test_accuracy.iloc[p[1]]], \n",
    "           'dropout': [train_accuracy.iloc[p[2]], test_accuracy.iloc[p[2]]]},\n",
    "          index=['train', 'test'])"
   ]
  }
 ],
 "metadata": {
  "jupytext": {
   "cell_metadata_filter": "-all",
   "main_language": "python",
   "notebook_metadata_filter": "-all"
  },
  "kernelspec": {
   "display_name": "env3.11",
   "language": "python",
   "name": "python3"
  },
  "language_info": {
   "codemirror_mode": {
    "name": "ipython",
    "version": 3
   },
   "file_extension": ".py",
   "mimetype": "text/x-python",
   "name": "python",
   "nbconvert_exporter": "python",
   "pygments_lexer": "ipython3",
   "version": "3.11.9"
  }
 },
 "nbformat": 4,
 "nbformat_minor": 5
}
