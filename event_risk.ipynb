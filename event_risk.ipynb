{
 "cells": [
  {
   "cell_type": "markdown",
   "id": "7d1adebc",
   "metadata": {},
   "source": [
    "# Event risk\n",
    "\n",
    "_UNDER CONSTRUCTION_\n",
    "\n",
    "\n",
    "- Poisson regression; GLM's\n",
    "- Earnings surprises\n"
   ]
  },
  {
   "cell_type": "code",
   "execution_count": null,
   "id": "ee4384b2",
   "metadata": {},
   "outputs": [],
   "source": [
    "from pandas import DataFrame, Series\n",
    "import pandas as pd\n",
    "import numpy as np\n",
    "import matplotlib.pyplot as plt\n",
    "from tqdm import tqdm\n",
    "from datetime import datetime\n",
    "from typing import List, Tuple, Any, Dict\n",
    "from finds.database import SQL, RedisDB\n",
    "from finds.structured import Stocks, Signals, SignalsFrame\n",
    "from finds.busday import BusDay\n",
    "from finds.misc import Show\n",
    "from secret import credentials, paths, CRSP_DATE\n",
    "show = Show(ndigits=4, latex=None)\n",
    "pd.set_option('display.max_rows', None)\n",
    "VERBOSE = 0\n",
    "#%matplotlib qt\n",
    "LAST_DATE = CRSP_DATE"
   ]
  },
  {
   "cell_type": "code",
   "execution_count": null,
   "id": "8313d590",
   "metadata": {
    "lines_to_next_cell": 2
   },
   "outputs": [],
   "source": [
    "# open connections\n",
    "imgdir = paths['images']\n",
    "sql = SQL(**credentials['sql'], verbose=VERBOSE)\n",
    "user = SQL(**credentials['user'], verbose=VERBOSE)\n",
    "rdb = RedisDB(**credentials['redis'])\n",
    "bd = BusDay(sql, verbose=VERBOSE)\n",
    "signals = Signals(user, verbose=VERBOSE)\n",
    "outdir = paths['images'] / 'glm'"
   ]
  },
  {
   "cell_type": "markdown",
   "id": "0421e04b",
   "metadata": {
    "lines_to_next_cell": 2
   },
   "source": [
    "\n",
    "TODO\n",
    "- quarterly number of earnings surprise\n",
    "- conditional on FRED-QD and number of exposures = companies\n"
   ]
  },
  {
   "cell_type": "code",
   "execution_count": null,
   "id": "842701e0",
   "metadata": {
    "lines_to_next_cell": 2
   },
   "outputs": [],
   "source": [
    "df = signals.read('sue')"
   ]
  }
 ],
 "metadata": {
  "jupytext": {
   "cell_metadata_filter": "-all",
   "main_language": "python",
   "notebook_metadata_filter": "-all"
  },
  "language_info": {
   "name": "python"
  }
 },
 "nbformat": 4,
 "nbformat_minor": 5
}
