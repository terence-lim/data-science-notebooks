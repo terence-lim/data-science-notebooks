{
 "cells": [
  {
   "cell_type": "markdown",
   "id": "9c31ec79",
   "metadata": {},
   "source": [
    "# LLM Prompting\n",
    "\n",
    "*The important thing is not to stop questioning. Curiosity has its own reason for existing* - Albert Einstein\n",
    "\n",
    "We explore how different prompting strategies influence the performance of large language models (LLMs) on the task of financial sentiment classification. We examine **zero-shot**, **few-shot**, and **chain-of-thought (CoT)** prompting techniques using Google's open-source Gemma-3 model deployed locally with Ollama.  Careful design of prompts and enforcement of specific output formats improve the interpretability and reliability of LLM outputs. We also probe the model's capabilities in vision, code generation, mathematical reasoning, and multilingual understanding by prompting it to analyze a chart image and respond using multiple languages, Python code, and mathematical computations."
   ]
  },
  {
   "cell_type": "code",
   "execution_count": 1,
   "id": "455cee9b",
   "metadata": {},
   "outputs": [],
   "source": [
    "# By: Terence Lim, 2020-2025 (terence-lim.github.io)\n",
    "import pandas as pd\n",
    "from pandas import DataFrame, Series\n",
    "from sklearn.model_selection import train_test_split\n",
    "from sklearn.metrics import confusion_matrix, accuracy_score, classification_report\n",
    "import re\n",
    "import json\n",
    "from pprint import pprint\n",
    "import textwrap\n",
    "from tqdm import tqdm\n",
    "import ollama"
   ]
  },
  {
   "cell_type": "markdown",
   "id": "f00357fa",
   "metadata": {},
   "source": [
    "## Sentiment analysis"
   ]
  },
  {
   "cell_type": "markdown",
   "id": "abbb365c",
   "metadata": {},
   "source": [
    "Sentiment analysis has evolved significantly from its early reliance on lexicon-based methods, which used hand-crafted dictionaries to score sentiment. Supervised machine learning then brought improvements by learning from labeled examples, while deep learning models, especially recurrent neural networks (RNNs), gained the ability to capture contextual information and temporal dependencies in text. Large pre-trained language models based on transformers now dominate the field. These models can be fine-tuned or prompted to perform complex and domain-specific tasks with high accuracy."
   ]
  },
  {
   "cell_type": "markdown",
   "id": "a5a68525",
   "metadata": {},
   "source": [
    "### Financial news sentiment\n",
    "\n",
    "We use a labeled dataset compiled by Malo et al. (2014) containing financial news headlines annotated for sentiment from a retail investor’s perspective. This dataset is hosted on **Kaggle**, a popular platform for sharing machine learning challenges and datasets.\n",
    "\n",
    "https://www.kaggle.com/datasets/ankurzing/sentiment-analysis-for-financial-news\n",
    "\n",
    "\n"
   ]
  },
  {
   "cell_type": "code",
   "execution_count": 2,
   "id": "34919621",
   "metadata": {},
   "outputs": [
    {
     "data": {
      "text/html": [
       "<div>\n",
       "<style scoped>\n",
       "    .dataframe tbody tr th:only-of-type {\n",
       "        vertical-align: middle;\n",
       "    }\n",
       "\n",
       "    .dataframe tbody tr th {\n",
       "        vertical-align: top;\n",
       "    }\n",
       "\n",
       "    .dataframe thead th {\n",
       "        text-align: right;\n",
       "    }\n",
       "</style>\n",
       "<table border=\"1\" class=\"dataframe\">\n",
       "  <thead>\n",
       "    <tr style=\"text-align: right;\">\n",
       "      <th></th>\n",
       "      <th>sentiment</th>\n",
       "      <th>text</th>\n",
       "    </tr>\n",
       "  </thead>\n",
       "  <tbody>\n",
       "    <tr>\n",
       "      <th>0</th>\n",
       "      <td>neutral</td>\n",
       "      <td>According to Gran , the company has no plans t...</td>\n",
       "    </tr>\n",
       "    <tr>\n",
       "      <th>1</th>\n",
       "      <td>neutral</td>\n",
       "      <td>Technopolis plans to develop in stages an area...</td>\n",
       "    </tr>\n",
       "    <tr>\n",
       "      <th>2</th>\n",
       "      <td>negative</td>\n",
       "      <td>The international electronic industry company ...</td>\n",
       "    </tr>\n",
       "    <tr>\n",
       "      <th>3</th>\n",
       "      <td>positive</td>\n",
       "      <td>With the new production plant the company woul...</td>\n",
       "    </tr>\n",
       "    <tr>\n",
       "      <th>4</th>\n",
       "      <td>positive</td>\n",
       "      <td>According to the company 's updated strategy f...</td>\n",
       "    </tr>\n",
       "    <tr>\n",
       "      <th>...</th>\n",
       "      <td>...</td>\n",
       "      <td>...</td>\n",
       "    </tr>\n",
       "    <tr>\n",
       "      <th>4841</th>\n",
       "      <td>negative</td>\n",
       "      <td>LONDON MarketWatch -- Share prices ended lower...</td>\n",
       "    </tr>\n",
       "    <tr>\n",
       "      <th>4842</th>\n",
       "      <td>neutral</td>\n",
       "      <td>Rinkuskiai 's beer sales fell by 6.5 per cent ...</td>\n",
       "    </tr>\n",
       "    <tr>\n",
       "      <th>4843</th>\n",
       "      <td>negative</td>\n",
       "      <td>Operating profit fell to EUR 35.4 mn from EUR ...</td>\n",
       "    </tr>\n",
       "    <tr>\n",
       "      <th>4844</th>\n",
       "      <td>negative</td>\n",
       "      <td>Net sales of the Paper segment decreased to EU...</td>\n",
       "    </tr>\n",
       "    <tr>\n",
       "      <th>4845</th>\n",
       "      <td>negative</td>\n",
       "      <td>Sales in Finland decreased by 10.5 % in Januar...</td>\n",
       "    </tr>\n",
       "  </tbody>\n",
       "</table>\n",
       "<p>4846 rows × 2 columns</p>\n",
       "</div>"
      ],
      "text/plain": [
       "     sentiment                                               text\n",
       "0      neutral  According to Gran , the company has no plans t...\n",
       "1      neutral  Technopolis plans to develop in stages an area...\n",
       "2     negative  The international electronic industry company ...\n",
       "3     positive  With the new production plant the company woul...\n",
       "4     positive  According to the company 's updated strategy f...\n",
       "...        ...                                                ...\n",
       "4841  negative  LONDON MarketWatch -- Share prices ended lower...\n",
       "4842   neutral  Rinkuskiai 's beer sales fell by 6.5 per cent ...\n",
       "4843  negative  Operating profit fell to EUR 35.4 mn from EUR ...\n",
       "4844  negative  Net sales of the Paper segment decreased to EU...\n",
       "4845  negative  Sales in Finland decreased by 10.5 % in Januar...\n",
       "\n",
       "[4846 rows x 2 columns]"
      ]
     },
     "execution_count": 2,
     "metadata": {},
     "output_type": "execute_result"
    }
   ],
   "source": [
    "# Loads financial news headline data labeled with sentiment (positive, neutral, negative)\n",
    "news = pd.read_csv('assets/all-data.csv',\n",
    "                   names=[\"sentiment\", \"text\"],\n",
    "                   encoding=\"utf-8\",\n",
    "                   encoding_errors=\"replace\")\n",
    "news"
   ]
  },
  {
   "cell_type": "code",
   "execution_count": 3,
   "id": "87e513b8",
   "metadata": {},
   "outputs": [],
   "source": [
    "# Hold out 15 examples in the \"training set\" that are not used for evaluation\n",
    "X_train, X_test, y_train, y_test = train_test_split(news['text'], news['sentiment'],\n",
    "                                                    random_state=0, train_size=15,\n",
    "                                                    stratify=news['sentiment'])"
   ]
  },
  {
   "cell_type": "code",
   "execution_count": 4,
   "id": "f3c743d8",
   "metadata": {},
   "outputs": [
    {
     "data": {
      "text/html": [
       "<div>\n",
       "<style scoped>\n",
       "    .dataframe tbody tr th:only-of-type {\n",
       "        vertical-align: middle;\n",
       "    }\n",
       "\n",
       "    .dataframe tbody tr th {\n",
       "        vertical-align: top;\n",
       "    }\n",
       "\n",
       "    .dataframe thead th {\n",
       "        text-align: right;\n",
       "    }\n",
       "</style>\n",
       "<table border=\"1\" class=\"dataframe\">\n",
       "  <thead>\n",
       "    <tr style=\"text-align: right;\">\n",
       "      <th></th>\n",
       "      <th>sentiment</th>\n",
       "      <th>text</th>\n",
       "    </tr>\n",
       "  </thead>\n",
       "  <tbody>\n",
       "    <tr>\n",
       "      <th>2044</th>\n",
       "      <td>neutral</td>\n",
       "      <td>The estimated turnover of the new company is L...</td>\n",
       "    </tr>\n",
       "    <tr>\n",
       "      <th>3066</th>\n",
       "      <td>neutral</td>\n",
       "      <td>On 25 August 2009 , Sampo 's stake in Nordea w...</td>\n",
       "    </tr>\n",
       "    <tr>\n",
       "      <th>331</th>\n",
       "      <td>positive</td>\n",
       "      <td>Finnish investment group Panostaja Oyj said it...</td>\n",
       "    </tr>\n",
       "    <tr>\n",
       "      <th>1228</th>\n",
       "      <td>positive</td>\n",
       "      <td>Furthermore , our fully electrically driven cr...</td>\n",
       "    </tr>\n",
       "    <tr>\n",
       "      <th>3049</th>\n",
       "      <td>neutral</td>\n",
       "      <td>No decision on such sale of the now issued or ...</td>\n",
       "    </tr>\n",
       "    <tr>\n",
       "      <th>165</th>\n",
       "      <td>positive</td>\n",
       "      <td>Both operating profit and net sales for the ni...</td>\n",
       "    </tr>\n",
       "    <tr>\n",
       "      <th>4803</th>\n",
       "      <td>negative</td>\n",
       "      <td>UPM-Kymmene Corp. , the world 's largest maker...</td>\n",
       "    </tr>\n",
       "    <tr>\n",
       "      <th>3381</th>\n",
       "      <td>neutral</td>\n",
       "      <td>The total value of the order , placed by Aspo ...</td>\n",
       "    </tr>\n",
       "    <tr>\n",
       "      <th>1450</th>\n",
       "      <td>neutral</td>\n",
       "      <td>Uponor maintains its full-year guidance for 20...</td>\n",
       "    </tr>\n",
       "    <tr>\n",
       "      <th>3484</th>\n",
       "      <td>neutral</td>\n",
       "      <td>`` These developments partly reflect the gover...</td>\n",
       "    </tr>\n",
       "    <tr>\n",
       "      <th>1588</th>\n",
       "      <td>positive</td>\n",
       "      <td>Renzo Piano 's building design will be a wonde...</td>\n",
       "    </tr>\n",
       "    <tr>\n",
       "      <th>2330</th>\n",
       "      <td>neutral</td>\n",
       "      <td>Finnish L&amp;T Recoil , a company specialising in...</td>\n",
       "    </tr>\n",
       "    <tr>\n",
       "      <th>2572</th>\n",
       "      <td>neutral</td>\n",
       "      <td>Stora Enso , a global paper , packaging and wo...</td>\n",
       "    </tr>\n",
       "    <tr>\n",
       "      <th>3887</th>\n",
       "      <td>neutral</td>\n",
       "      <td>The plant is scheduled for completion in late ...</td>\n",
       "    </tr>\n",
       "    <tr>\n",
       "      <th>1714</th>\n",
       "      <td>negative</td>\n",
       "      <td>TeliaSonera 's underlying results however incl...</td>\n",
       "    </tr>\n",
       "  </tbody>\n",
       "</table>\n",
       "</div>"
      ],
      "text/plain": [
       "     sentiment                                               text\n",
       "2044   neutral  The estimated turnover of the new company is L...\n",
       "3066   neutral  On 25 August 2009 , Sampo 's stake in Nordea w...\n",
       "331   positive  Finnish investment group Panostaja Oyj said it...\n",
       "1228  positive  Furthermore , our fully electrically driven cr...\n",
       "3049   neutral  No decision on such sale of the now issued or ...\n",
       "165   positive  Both operating profit and net sales for the ni...\n",
       "4803  negative  UPM-Kymmene Corp. , the world 's largest maker...\n",
       "3381   neutral  The total value of the order , placed by Aspo ...\n",
       "1450   neutral  Uponor maintains its full-year guidance for 20...\n",
       "3484   neutral  `` These developments partly reflect the gover...\n",
       "1588  positive  Renzo Piano 's building design will be a wonde...\n",
       "2330   neutral  Finnish L&T Recoil , a company specialising in...\n",
       "2572   neutral  Stora Enso , a global paper , packaging and wo...\n",
       "3887   neutral  The plant is scheduled for completion in late ...\n",
       "1714  negative  TeliaSonera 's underlying results however incl..."
      ]
     },
     "execution_count": 4,
     "metadata": {},
     "output_type": "execute_result"
    }
   ],
   "source": [
    "pd.concat([y_train, X_train], axis=1)"
   ]
  },
  {
   "cell_type": "code",
   "execution_count": 5,
   "id": "e5716367",
   "metadata": {},
   "outputs": [],
   "source": [
    "targets = ['negative', 'neutral', 'positive']"
   ]
  },
  {
   "cell_type": "markdown",
   "id": "84ee756f",
   "metadata": {},
   "source": [
    "## Google Gemma 3 model\n",
    "\n",
    "Google's **Gemma 3** is a collection of lightweight, open models designed for deployment across platforms from mobile devices to workstations. Key technical features include:\n",
    "\n",
    "- Available in four configurations: 1B, 4B, 12B, and 27B parameters\n",
    "\n",
    "- Multimodal capabilities: The 4B, 12B, and 27B models support both text and image inputs, while the 1B model is optimized for text-only applications.\n",
    "\n",
    "- The 1B model supports a 32K-token context window, while the larger models (4B and above) provide a 128K-token context window.\n",
    "\n",
    "- Multilingual support out-of-the-box for over 35 languages.\n",
    "\n",
    "https://ai.google.dev/gemma/docs/get_started#models-list"
   ]
  },
  {
   "cell_type": "code",
   "execution_count": 4,
   "id": "b20ec590",
   "metadata": {},
   "outputs": [],
   "source": [
    "# Model name for Gemma-3-4B model to run locally with Ollama\n",
    "model_name = \"gemma3:12b\""
   ]
  },
  {
   "cell_type": "markdown",
   "id": "79faca62",
   "metadata": {},
   "source": [
    "## Structured dialogue\n",
    "\n",
    "### Prompt engineering \n",
    "\n",
    "Instead of explicit training, the model relies on its pre-trained knowledge to interpret and respond to a task based purely on how the prompt is phrased. Rather than modifying the model itself, prompt engineering uses careful wording to guide the model’s behavior. Prompts should clearly explain the task and may specify the expected output format (e.g. JSON) for easier parsing. A well-crafted prompt can significantly improve performance, especially in zero- or few-shot settings.\n",
    "\n",
    "To improve prompt results, start by assigning an identity to the LLM and sharing relevant background: this helps tailor the tone, detail, and relevance of the response. Be clear about the format you want, such as prose instead of bullet points, tables for comparisons, or timelines when useful. Mention how you'll use the output (e.g., for a class, presentation, or blog post) to influence tone and content. Specify the style or tone you prefer, like persuasive or direct, and clarify whether you're aiming for an essay or a casual post. When asking for rewrites, use specific instructions like \"streamline\" or \"embellish\" to guide the changes. Use the LLM to check for missing ideas in your writing, and be iterative with your questions to get more focused answers. For long articles, ask for summaries with a word or time limit. If you're editing your own work, ask to preserve your tone. In technical fields, instruct the model not to simplify or substitute specialized terms. You can also request focused insights or key takeaways. Lastly, to guard against hallucinations, ask for the model’s confidence or sources.\n",
    "\n",
    "While earlier models required extensive trial and error to find effective prompts, modern instruction-tuned LLMs like DeepSeek-R1 and GPT-4o understand natural language instructions more reliably, reducing the need for manual prompt tuning.\n",
    "\n",
    "\n",
    "\n",
    "\n"
   ]
  },
  {
   "cell_type": "markdown",
   "id": "990081c9",
   "metadata": {},
   "source": [
    "### Structured outputs\n",
    "\n",
    "LLMs naturally generate free-form text, which can be unpredictable and hard to parse. Structured outputs, such as JSON, enable downstream integration and ensure consistency. Methods for achieving structured output include:\n",
    "- In-context demonstrations of expected format.\n",
    "- Function calling / tool use, where the LLM generates function calls.\n",
    "- Constrained decoding, which enforces valid output formats but requires custom decoders or grammars."
   ]
  },
  {
   "cell_type": "code",
   "execution_count": 7,
   "id": "81b883be",
   "metadata": {},
   "outputs": [],
   "source": [
    "# Extracts a structured JSON response from the LLM's output\n",
    "def parse_json(s):\n",
    "    def padding(t):\n",
    "        if t.count('}') < t.count('{'):\n",
    "            t += '}'\n",
    "        if s.count(']') < s.count('['):\n",
    "            t += ']'\n",
    "        return t\n",
    "    s = s.replace(\"```json\", \"```\")\n",
    "    s = s.strip()\n",
    "    s = padding(s)\n",
    "    try:\n",
    "        out = json.loads(s[s.index(\"{\"):s.index(\"}\")+1])\n",
    "        assert \"sentiment\" in out\n",
    "    except:\n",
    "        out = {\"sentiment\": \"neutral\", \"reasoning\": \"\"}\n",
    "    return out\n",
    "\n"
   ]
  },
  {
   "cell_type": "markdown",
   "id": "f8983ee1",
   "metadata": {
    "lines_to_next_cell": 2
   },
   "source": [
    "### Zero-shot prompt\n",
    "\n",
    "Zero-shot prompting allows an LLM to perform a task without ay task-specific tuning or examples: just a single instruction and input. The model relies entirely on its pretraining to infer the desired output. \n",
    "\n",
    "\n",
    "\n"
   ]
  },
  {
   "cell_type": "code",
   "execution_count": 8,
   "id": "3f5fe414",
   "metadata": {
    "lines_to_next_cell": 2
   },
   "outputs": [
    {
     "name": "stdout",
     "output_type": "stream",
     "text": [
      "In one word only, provide the sentiment of the following text as either \"positive\" or \"neutral\" or \"negative\".\n",
      "Do not provide any other answer.\n",
      "Provide your output in json format.\n",
      "Text: '''According to Gran , the company has no plans to move all production to Russia , although that is where the company is growing .'''\n",
      "sentiment:\n"
     ]
    }
   ],
   "source": [
    "# Simple, instruction-only prompt asking for a single-word sentiment label in JSON format\n",
    "def generate_prompt(text):\n",
    "    return f\"\"\"\n",
    "In one word only, provide the sentiment of the following text as either \"positive\" or \"neutral\" or \"negative\".\n",
    "Do not provide any other answer.\n",
    "Provide your output in json format.\n",
    "Text: '''{text}'''\n",
    "sentiment:\"\"\".strip()\n",
    "print(generate_prompt(news['text'].iloc[0]))\n"
   ]
  },
  {
   "cell_type": "code",
   "execution_count": 9,
   "id": "e76aee47",
   "metadata": {},
   "outputs": [
    {
     "name": "stderr",
     "output_type": "stream",
     "text": [
      "  0%|          | 1/4831 [00:04<6:00:00,  4.47s/it]"
     ]
    },
    {
     "name": "stdout",
     "output_type": "stream",
     "text": [
      "sentiment='neutral': ```json\n",
      "{\n",
      "  \"sentiment\": \"positive\"\n",
      "}\n",
      "```\n",
      "\n"
     ]
    },
    {
     "name": "stderr",
     "output_type": "stream",
     "text": [
      "  0%|          | 2/4831 [00:04<2:52:27,  2.14s/it]"
     ]
    },
    {
     "name": "stdout",
     "output_type": "stream",
     "text": [
      "sentiment='neutral': ```json\n",
      "{\n",
      "  \"sentiment\": \"neutral\"\n",
      "}\n",
      "```\n",
      "\n"
     ]
    },
    {
     "name": "stderr",
     "output_type": "stream",
     "text": [
      "  0%|          | 4/4831 [00:05<1:11:40,  1.12it/s]"
     ]
    },
    {
     "name": "stdout",
     "output_type": "stream",
     "text": [
      "sentiment='negative': ```json\n",
      "{\n",
      "  \"sentiment\": \"negative\"\n",
      "}\n",
      "```\n",
      "\n",
      "sentiment='positive': neutral\n",
      "\n"
     ]
    },
    {
     "name": "stderr",
     "output_type": "stream",
     "text": [
      "  0%|          | 5/4831 [00:06<1:00:23,  1.33it/s]"
     ]
    },
    {
     "name": "stdout",
     "output_type": "stream",
     "text": [
      "sentiment='positive': ```json\n",
      "{\n",
      "  \"sentiment\": \"positive\"\n",
      "}\n",
      "```\n",
      "\n"
     ]
    },
    {
     "name": "stderr",
     "output_type": "stream",
     "text": [
      "100%|██████████| 4831/4831 [33:40<00:00,  2.39it/s]\n"
     ]
    }
   ],
   "source": [
    "# Sends prompt to LLaMA3 via Ollama, with temperature=0 for deterministic output\n",
    "pred0 = []\n",
    "for i, (text, sentiment) in tqdm(enumerate(zip(X_test, y_test)), total=len(y_test)):\n",
    "    s = generate_prompt(text)\n",
    "    output = ollama.generate(model=model_name, prompt=s, options={\"temperature\":0})\n",
    "    if i < 5:\n",
    "        print(f\"{sentiment=}: {output['response']}\")\n",
    "        print()\n",
    "    pred0.append(parse_json(output.response)['sentiment'].lower())\n"
   ]
  },
  {
   "cell_type": "code",
   "execution_count": 10,
   "id": "04924b7c",
   "metadata": {},
   "outputs": [
    {
     "name": "stdout",
     "output_type": "stream",
     "text": [
      "Accuracy: 0.799\n",
      "              precision    recall  f1-score   support\n",
      "\n",
      "    negative       0.77      0.82      0.79       602\n",
      "     neutral       0.84      0.82      0.83      2870\n",
      "    positive       0.73      0.73      0.73      1359\n",
      "\n",
      "    accuracy                           0.80      4831\n",
      "   macro avg       0.78      0.79      0.79      4831\n",
      "weighted avg       0.80      0.80      0.80      4831\n",
      "\n"
     ]
    },
    {
     "data": {
      "text/html": [
       "<div>\n",
       "<style scoped>\n",
       "    .dataframe tbody tr th:only-of-type {\n",
       "        vertical-align: middle;\n",
       "    }\n",
       "\n",
       "    .dataframe tbody tr th {\n",
       "        vertical-align: top;\n",
       "    }\n",
       "\n",
       "    .dataframe thead tr th {\n",
       "        text-align: left;\n",
       "    }\n",
       "</style>\n",
       "<table border=\"1\" class=\"dataframe\">\n",
       "  <thead>\n",
       "    <tr>\n",
       "      <th></th>\n",
       "      <th colspan=\"3\" halign=\"left\">Predicted</th>\n",
       "    </tr>\n",
       "    <tr>\n",
       "      <th></th>\n",
       "      <th>negative</th>\n",
       "      <th>neutral</th>\n",
       "      <th>positive</th>\n",
       "    </tr>\n",
       "  </thead>\n",
       "  <tbody>\n",
       "    <tr>\n",
       "      <th>negative</th>\n",
       "      <td>493</td>\n",
       "      <td>108</td>\n",
       "      <td>1</td>\n",
       "    </tr>\n",
       "    <tr>\n",
       "      <th>neutral</th>\n",
       "      <td>136</td>\n",
       "      <td>2367</td>\n",
       "      <td>367</td>\n",
       "    </tr>\n",
       "    <tr>\n",
       "      <th>positive</th>\n",
       "      <td>12</td>\n",
       "      <td>349</td>\n",
       "      <td>998</td>\n",
       "    </tr>\n",
       "  </tbody>\n",
       "</table>\n",
       "</div>"
      ],
      "text/plain": [
       "         Predicted                 \n",
       "          negative neutral positive\n",
       "negative       493     108        1\n",
       "neutral        136    2367      367\n",
       "positive        12     349      998"
      ]
     },
     "execution_count": 10,
     "metadata": {},
     "output_type": "execute_result"
    }
   ],
   "source": [
    "# Evaluate predictions\n",
    "print(f\"Accuracy: {accuracy_score(y_true=y_test[:len(pred0)], y_pred=pred0):.3f}\")\n",
    "print(classification_report(y_true=y_test[:len(pred0)], y_pred=pred0))\n",
    "c = confusion_matrix(y_true=y_test[:len(pred0)], y_pred=pred0, labels=targets)\n",
    "DataFrame(columns=pd.MultiIndex.from_product([['Predicted'], targets]),\n",
    "          index=targets, data=c)    # display confusion matrix"
   ]
  },
  {
   "cell_type": "markdown",
   "id": "dda2ee66",
   "metadata": {},
   "source": [
    "### In-context learning\n",
    "\n",
    "**Few-shot prompting**, or **In-Context Learning (ICL)**, enhances performance by including labeled examples directly in the prompt. Instead of fine-tuning (and altering the pretrained neural network weights of) the model with new training examples, the model figures out how to perform well on that task simply by taking a few task-specific examples as input.  \n",
    "\n",
    "Even when examples are randomly selected, few-shot prompts often outperform zero-shot, as the examples provide additional context. However, the exact choice and order of examples can affect accuracy and variance in responses.\n"
   ]
  },
  {
   "cell_type": "code",
   "execution_count": 8,
   "id": "4c0b29ad",
   "metadata": {},
   "outputs": [
    {
     "name": "stdout",
     "output_type": "stream",
     "text": [
      "Here are 15 examples of providing the sentiment based on the given text.\n",
      "\n",
      "Text: '''The estimated turnover of the new company is LVL 2,5 million EEK 40 million .'''\n",
      "Sentiment: neutral\n",
      "\n",
      "Text: '''On 25 August 2009 , Sampo 's stake in Nordea was 19.45 % .'''\n",
      "Sentiment: neutral\n",
      "\n",
      "Text: '''Finnish investment group Panostaja Oyj said its net profit went up to 8.6 mln euro $ 11.4 mln in fiscal 2005-06 , ended October 31 , 2006 , from 2.8 mln euro $ 3.7 mln in the same period of fiscal 2004-05 .'''\n",
      "Sentiment: positive\n",
      "\n",
      "Text: '''Furthermore , our fully electrically driven cranes are environmentally friendly .'''\n",
      "Sentiment: positive\n",
      "\n",
      "Text: '''No decision on such sale of the now issued or existing treasury shares to YA Global has been made yet .'''\n",
      "Sentiment: neutral\n",
      "\n",
      "Text: '''Both operating profit and net sales for the nine-month period increased , respectively by 26.6 % and 3.4 % , as compared to the corresponding period in 2006 .'''\n",
      "Sentiment: positive\n",
      "\n",
      "Text: '''UPM-Kymmene Corp. , the world 's largest maker of magazine paper , on Tuesday reported a 19-percent profit drop as lower paper prices , higher costs and a strong euro hurt revenue .'''\n",
      "Sentiment: negative\n",
      "\n",
      "Text: '''The total value of the order , placed by Aspo ' marine transportation subsidiary ESL Shipping Oy , is EUR 60 million ( USD 77.5 m ) .'''\n",
      "Sentiment: neutral\n",
      "\n",
      "Text: '''Uponor maintains its full-year guidance for 2010 .'''\n",
      "Sentiment: neutral\n",
      "\n",
      "Text: '''`` These developments partly reflect the government 's higher activity in the field of dividend policy . '''''\n",
      "Sentiment: neutral\n",
      "\n",
      "Text: '''Renzo Piano 's building design will be a wonderful addition to London 's skyline , '' says Noud Veeger , EVP and Area Director for Central and North Europe at KONE .'''\n",
      "Sentiment: positive\n",
      "\n",
      "Text: '''Finnish L&T Recoil , a company specialising in used oil regeneration , is building a facility in Hamina in Finland in 2008 .'''\n",
      "Sentiment: neutral\n",
      "\n",
      "Text: '''Stora Enso , a global paper , packaging and wood products company , and Neste Oil , a Finnish company engaged in the refining and marketing of oil , have inaugurated the demonstration plant at Varkaus , Finland for biomass to liquids production utilizing forestry residues .'''\n",
      "Sentiment: neutral\n",
      "\n",
      "Text: '''The plant is scheduled for completion in late February 2007 with hand over of some areas in January Two other suppliers of Nokia - Aspocomp Group Oyj and Perlos - have announced their plans to establish plants within the Nokia complex Together , they will invest Rs 365 crore .'''\n",
      "Sentiment: neutral\n",
      "\n",
      "Text: '''TeliaSonera 's underlying results however included 457 mln skr in positive one-offs , hence the adjusted underlying EBITDA actually amounts to 7.309 bln skr , clearly below expectations , analysts said .'''\n",
      "Sentiment: negative\n",
      "\n",
      "In one word only, provide the sentiment of the following text as either \"positive\" or \"neutral\" or \"negative\".\n",
      "Do not provide any other answer.\n",
      "Text: '''According to Gran , the company has no plans to move all production to Russia , although that is where the company is growing .'''\n",
      "sentiment:\n"
     ]
    }
   ],
   "source": [
    "# Creates 15 prompt examples from training set\n",
    "few_shots = [f\"Text: '''{text}'''\\nSentiment: {sentiment}\"\n",
    "             for text, sentiment in zip(X_train, y_train)]\n",
    "\n",
    "# Concatenates few-shot examples before posing a new query\n",
    "def generate_prompt(text, few_shots=few_shots):\n",
    "    examples = \"\\n\\n\".join(few_shots)\n",
    "    return f\"\"\"\n",
    "Here are {len(few_shots)} examples of providing the sentiment based on the given text.\n",
    "\n",
    "{examples}\n",
    "\n",
    "In one word only, provide the sentiment of the following text as either \"positive\" or \"neutral\" or \"negative\".\n",
    "Do not provide any other answer.\n",
    "Text: '''{text}'''\n",
    "sentiment:\"\"\".strip()\n",
    "print(generate_prompt(news['text'].iloc[0]))\n"
   ]
  },
  {
   "cell_type": "code",
   "execution_count": 12,
   "id": "652af3b4",
   "metadata": {
    "lines_to_next_cell": 2
   },
   "outputs": [
    {
     "name": "stderr",
     "output_type": "stream",
     "text": [
      "  0%|          | 0/4831 [00:00<?, ?it/s]"
     ]
    },
    {
     "name": "stderr",
     "output_type": "stream",
     "text": [
      "  0%|          | 2/4831 [00:00<27:25,  2.93it/s]"
     ]
    },
    {
     "name": "stdout",
     "output_type": "stream",
     "text": [
      "sentiment='neutral': positive\n",
      "\n",
      "sentiment='neutral': neutral\n",
      "\n"
     ]
    },
    {
     "name": "stderr",
     "output_type": "stream",
     "text": [
      "  0%|          | 4/4831 [00:01<15:20,  5.25it/s]"
     ]
    },
    {
     "name": "stdout",
     "output_type": "stream",
     "text": [
      "sentiment='negative': negative\n",
      "\n",
      "sentiment='positive': neutral\n",
      "\n"
     ]
    },
    {
     "name": "stderr",
     "output_type": "stream",
     "text": [
      "  0%|          | 6/4831 [00:01<11:30,  6.99it/s]"
     ]
    },
    {
     "name": "stdout",
     "output_type": "stream",
     "text": [
      "sentiment='positive': neutral\n",
      "\n"
     ]
    },
    {
     "name": "stderr",
     "output_type": "stream",
     "text": [
      "100%|██████████| 4831/4831 [09:20<00:00,  8.61it/s]\n"
     ]
    }
   ],
   "source": [
    "# Sends prompt demonstrating the desired response\n",
    "pred1 = []\n",
    "for i, (text, sentiment) in tqdm(enumerate(zip(X_test, y_test)), total=len(y_test)):\n",
    "    s = generate_prompt(text)\n",
    "    output = ollama.generate(model=model_name, prompt=s, options={\"temperature\":0})\n",
    "    if i < 5:\n",
    "        print(f\"{sentiment=}: {output['response']}\")\n",
    "        print()\n",
    "    pred1.append(output.response.strip().split('\\n')[-1].lower())"
   ]
  },
  {
   "cell_type": "code",
   "execution_count": 13,
   "id": "47d9db61",
   "metadata": {
    "lines_to_next_cell": 2
   },
   "outputs": [
    {
     "name": "stdout",
     "output_type": "stream",
     "text": [
      "Accuracy: 0.814\n",
      "              precision    recall  f1-score   support\n",
      "\n",
      "    negative       0.80      0.94      0.86       602\n",
      "     neutral       0.84      0.85      0.85      2870\n",
      "    positive       0.76      0.67      0.71      1359\n",
      "\n",
      "    accuracy                           0.81      4831\n",
      "   macro avg       0.80      0.82      0.81      4831\n",
      "weighted avg       0.81      0.81      0.81      4831\n",
      "\n"
     ]
    },
    {
     "data": {
      "text/html": [
       "<div>\n",
       "<style scoped>\n",
       "    .dataframe tbody tr th:only-of-type {\n",
       "        vertical-align: middle;\n",
       "    }\n",
       "\n",
       "    .dataframe tbody tr th {\n",
       "        vertical-align: top;\n",
       "    }\n",
       "\n",
       "    .dataframe thead tr th {\n",
       "        text-align: left;\n",
       "    }\n",
       "</style>\n",
       "<table border=\"1\" class=\"dataframe\">\n",
       "  <thead>\n",
       "    <tr>\n",
       "      <th></th>\n",
       "      <th colspan=\"3\" halign=\"left\">Predicted</th>\n",
       "    </tr>\n",
       "    <tr>\n",
       "      <th></th>\n",
       "      <th>negative</th>\n",
       "      <th>neutral</th>\n",
       "      <th>positive</th>\n",
       "    </tr>\n",
       "  </thead>\n",
       "  <tbody>\n",
       "    <tr>\n",
       "      <th>negative</th>\n",
       "      <td>564</td>\n",
       "      <td>37</td>\n",
       "      <td>1</td>\n",
       "    </tr>\n",
       "    <tr>\n",
       "      <th>neutral</th>\n",
       "      <td>126</td>\n",
       "      <td>2451</td>\n",
       "      <td>293</td>\n",
       "    </tr>\n",
       "    <tr>\n",
       "      <th>positive</th>\n",
       "      <td>14</td>\n",
       "      <td>428</td>\n",
       "      <td>917</td>\n",
       "    </tr>\n",
       "  </tbody>\n",
       "</table>\n",
       "</div>"
      ],
      "text/plain": [
       "         Predicted                 \n",
       "          negative neutral positive\n",
       "negative       564      37        1\n",
       "neutral        126    2451      293\n",
       "positive        14     428      917"
      ]
     },
     "execution_count": 13,
     "metadata": {},
     "output_type": "execute_result"
    }
   ],
   "source": [
    "# Evaluate predictions\n",
    "print(f\"Accuracy: {accuracy_score(y_true=y_test[:len(pred1)], y_pred=pred1):.3f}\")\n",
    "print(classification_report(y_true=y_test[:len(pred1)], y_pred=pred1))\n",
    "c = confusion_matrix(y_true=y_test[:len(pred1)], y_pred=pred1, labels=targets)\n",
    "DataFrame(columns=pd.MultiIndex.from_product([['Predicted'], targets]),\n",
    "          index=targets, data=c)    # display confusion matrix"
   ]
  },
  {
   "cell_type": "markdown",
   "id": "1ca25d72",
   "metadata": {},
   "source": [
    "### Chain-of-thought (CoT) prompting\n",
    "\n",
    "**Chain-of-thought (CoT)** prompting encourages LLMs to reason step-by-step before making a final prediction. Instead of jumping to answers, LLMs can be prompted to explain their reasoning step by step. Introduced by Wei et al. (2022), CoT can be paired with few-shot prompts to improve performance on tasks requiring logical inference. By generating intermediate reasoning, the model delays its decision-making, reducing errors and hallucinations. \n",
    "\n",
    "Extensions include:\n",
    "- Self-Consistency: Voting over multiple CoT outputs.\n",
    "- Tree of Thoughts (ToT): Exploring multiple reasoning paths.\n",
    "- ReAct: Combining reasoning with tool use.\n",
    "- Reflexion: Prompting the model to critique and revise its own answers."
   ]
  },
  {
   "cell_type": "code",
   "execution_count": 9,
   "id": "53836019",
   "metadata": {
    "lines_to_next_cell": 1
   },
   "outputs": [],
   "source": [
    "# Expands prompt to include step-by-step instructions: extract terms, identify sentiment cues, provide reasoning\n",
    "def generate_prompt(text, few_shots=few_shots):\n",
    "    '''Evaluate the financial news by identifying the cause (e.g., earnings report, economic policy, \n",
    "market reaction) and its effect on investor sentiment. If the cause indicates positive impact \n",
    "on stock prices or economy, classify it as \"positive\". If it suggests decline or uncertainty, \n",
    "classify it as \"negative\". '''\n",
    "    examples = \"\\n\\n\".join(few_shots)\n",
    "    return f\"\"\"\n",
    "Here are {len(few_shots)} examples of providing the sentiment based on the given text.\n",
    "\n",
    "{examples}.\n",
    "\n",
    "Analyze the financial news headline in a step-by-step manner. \n",
    "First, identify key financial terms (e.g., profit, loss, growth, decline).\n",
    "Second, extract phrases indicating sentiment (e.g., 'strong earnings,' 'market turmoil'). \n",
    "Finally, provide a reasoned conclusion and assess whether the sentiment \n",
    "is \"positive\", \"negative\", or \"neutral\" from the perspective of retail investors.\n",
    "If you cannot assess the sentiment, then classify it \"neutral\". \n",
    "Provide your sentiment label and reasoning in json format. \n",
    "Do not provide any other answer.\n",
    "Text: {text}\"\"\".strip()"
   ]
  },
  {
   "cell_type": "code",
   "execution_count": 10,
   "id": "baa70390",
   "metadata": {},
   "outputs": [
    {
     "name": "stderr",
     "output_type": "stream",
     "text": [
      "  0%|          | 1/4831 [00:06<8:53:32,  6.63s/it]"
     ]
    },
    {
     "name": "stdout",
     "output_type": "stream",
     "text": [
      "Labeled sentiment='neutral'.  RESPONSE=\n",
      "('```json\\n'\n",
      " '{\\n'\n",
      " '  \"sentiment\": \"neutral\",\\n'\n",
      " '  \"reasoning\": \"The text announces the establishment of a new sales and '\n",
      " 'marketing group. While this could potentially lead to positive outcomes '\n",
      " '(increased sales, market share), the announcement itself is a procedural '\n",
      " \"change and doesn't inherently convey positive or negative financial news. \"\n",
      " \"It's a statement of action rather than a report of financial performance. \"\n",
      " 'Therefore, from a retail investor\\'s perspective, it\\'s neutral.\"\\n'\n",
      " '}\\n'\n",
      " '```')\n"
     ]
    },
    {
     "name": "stderr",
     "output_type": "stream",
     "text": [
      "  0%|          | 2/4831 [00:08<5:20:08,  3.98s/it]"
     ]
    },
    {
     "name": "stdout",
     "output_type": "stream",
     "text": [
      "Labeled sentiment='neutral'.  RESPONSE=\n",
      "('```json\\n'\n",
      " '{\\n'\n",
      " '  \"sentiment\": \"neutral\",\\n'\n",
      " '  \"reasoning\": \"The text describes a typical order value range. It doesn\\'t '\n",
      " \"express any positive or negative financial performance. It's simply stating \"\n",
      " 'a common value, which is informational rather than indicative of a positive '\n",
      " 'or negative outcome for investors. Therefore, the sentiment is neutral.\"\\n'\n",
      " '}\\n'\n",
      " '```')\n"
     ]
    },
    {
     "name": "stderr",
     "output_type": "stream",
     "text": [
      "  0%|          | 3/4831 [00:10<4:05:11,  3.05s/it]"
     ]
    },
    {
     "name": "stdout",
     "output_type": "stream",
     "text": [
      "Labeled sentiment='negative'.  RESPONSE=\n",
      "('```json\\n'\n",
      " '{\\n'\n",
      " '  \"sentiment\": \"negative\",\\n'\n",
      " '  \"reasoning\": \"The headline explicitly states an \\'operating loss\\' which '\n",
      " \"contrasts with a 'profit' in the previous year. The shift from profit to \"\n",
      " 'loss is a clear indicator of negative financial performance. This would '\n",
      " 'likely be concerning for retail investors.\"\\n'\n",
      " '}\\n'\n",
      " '```')\n"
     ]
    },
    {
     "name": "stderr",
     "output_type": "stream",
     "text": [
      "  0%|          | 4/4831 [00:13<3:59:07,  2.97s/it]"
     ]
    },
    {
     "name": "stdout",
     "output_type": "stream",
     "text": [
      "Labeled sentiment='positive'.  RESPONSE=\n",
      "('```json\\n'\n",
      " '{\\n'\n",
      " '  \"sentiment\": \"neutral\",\\n'\n",
      " '  \"reasoning\": \"The text describes a decision made by shareholders regarding '\n",
      " 'a buyout of minority shares. While a buyout can have implications, the text '\n",
      " \"itself doesn't express a positive or negative outcome. It's a factual \"\n",
      " \"statement of an action taken. From a retail investor's perspective, it's \"\n",
      " \"information but doesn't inherently signal positive or negative financial \"\n",
      " 'performance. Therefore, the sentiment is classified as neutral.\"\\n'\n",
      " '}\\n'\n",
      " '```')\n"
     ]
    },
    {
     "name": "stderr",
     "output_type": "stream",
     "text": [
      "  0%|          | 5/4831 [00:15<3:39:55,  2.73s/it]"
     ]
    },
    {
     "name": "stdout",
     "output_type": "stream",
     "text": [
      "Labeled sentiment='positive'.  RESPONSE=\n",
      "('```json\\n'\n",
      " '{\\n'\n",
      " '  \"sentiment\": \"positive\",\\n'\n",
      " '  \"reasoning\": \"The headline indicates that Raute Corporation has received '\n",
      " 'orders worth a significant amount (EUR 12 million). Receiving orders is '\n",
      " 'generally a positive sign for a company, suggesting demand for its products '\n",
      " 'or services. This is a positive development for retail investors as it '\n",
      " 'implies potential revenue and growth for the company.\"\\n'\n",
      " '}\\n'\n",
      " '```')\n"
     ]
    },
    {
     "name": "stderr",
     "output_type": "stream",
     "text": [
      "100%|██████████| 4831/4831 [3:26:46<00:00,  2.57s/it]  \n"
     ]
    }
   ],
   "source": [
    "# CoT prompt to induce intermediate reasoning steps\n",
    "pred2 = []\n",
    "for i, (text, sentiment) in tqdm(enumerate(zip(X_test, y_test)), total=len(y_test)):\n",
    "    s = generate_prompt(text)\n",
    "    output = ollama.generate(model=model_name, prompt=s, options={\"temperature\":0})\n",
    "    if i < 5:\n",
    "        print(f\"Labeled {sentiment=}.  RESPONSE=\")\n",
    "        pprint(f\"{output.response}\")\n",
    "    pred2.append(parse_json(output.response)['sentiment'].lower())"
   ]
  },
  {
   "cell_type": "code",
   "execution_count": 22,
   "id": "664c997a",
   "metadata": {},
   "outputs": [
    {
     "name": "stdout",
     "output_type": "stream",
     "text": [
      "Accuracy: 0.829\n",
      "              precision    recall  f1-score   support\n",
      "\n",
      "    negative       0.83      0.90      0.86       602\n",
      "     neutral       0.82      0.91      0.87      2870\n",
      "    positive       0.85      0.62      0.72      1359\n",
      "\n",
      "    accuracy                           0.83      4831\n",
      "   macro avg       0.83      0.81      0.82      4831\n",
      "weighted avg       0.83      0.83      0.82      4831\n",
      "\n"
     ]
    },
    {
     "data": {
      "text/html": [
       "<div>\n",
       "<style scoped>\n",
       "    .dataframe tbody tr th:only-of-type {\n",
       "        vertical-align: middle;\n",
       "    }\n",
       "\n",
       "    .dataframe tbody tr th {\n",
       "        vertical-align: top;\n",
       "    }\n",
       "\n",
       "    .dataframe thead tr th {\n",
       "        text-align: left;\n",
       "    }\n",
       "</style>\n",
       "<table border=\"1\" class=\"dataframe\">\n",
       "  <thead>\n",
       "    <tr>\n",
       "      <th></th>\n",
       "      <th colspan=\"3\" halign=\"left\">Predicted</th>\n",
       "    </tr>\n",
       "    <tr>\n",
       "      <th></th>\n",
       "      <th>negative</th>\n",
       "      <th>neutral</th>\n",
       "      <th>positive</th>\n",
       "    </tr>\n",
       "  </thead>\n",
       "  <tbody>\n",
       "    <tr>\n",
       "      <th>negative</th>\n",
       "      <td>541</td>\n",
       "      <td>59</td>\n",
       "      <td>2</td>\n",
       "    </tr>\n",
       "    <tr>\n",
       "      <th>neutral</th>\n",
       "      <td>99</td>\n",
       "      <td>2620</td>\n",
       "      <td>151</td>\n",
       "    </tr>\n",
       "    <tr>\n",
       "      <th>positive</th>\n",
       "      <td>10</td>\n",
       "      <td>503</td>\n",
       "      <td>846</td>\n",
       "    </tr>\n",
       "  </tbody>\n",
       "</table>\n",
       "</div>"
      ],
      "text/plain": [
       "         Predicted                 \n",
       "          negative neutral positive\n",
       "negative       541      59        2\n",
       "neutral         99    2620      151\n",
       "positive        10     503      846"
      ]
     },
     "execution_count": 22,
     "metadata": {},
     "output_type": "execute_result"
    }
   ],
   "source": [
    "# Evaluate prediction\n",
    "print(f\"Accuracy: {accuracy_score(y_true=y_test[:len(pred2)], y_pred=pred2):.3f}\")\n",
    "print(classification_report(y_true=y_test[:len(pred2)], y_pred=pred2))\n",
    "c = confusion_matrix(y_true=y_test[:len(pred2)], y_pred=pred2, labels=targets)\n",
    "DataFrame(columns=pd.MultiIndex.from_product([['Predicted'], targets]),\n",
    "          index=targets, data=c)    # display confusion matrix"
   ]
  },
  {
   "cell_type": "markdown",
   "id": "0c0580e8",
   "metadata": {},
   "source": [
    "## Vision language\n",
    "\n",
    "The model can be prompted to process both text and image inputs, enabling tasks such as visual question answering and image captioning.\n",
    "\n",
    "Analyze a chart image, specifically Figure 4 from Malo et al (2014)\n"
   ]
  },
  {
   "cell_type": "code",
   "execution_count": 2,
   "id": "1d55cc45",
   "metadata": {},
   "outputs": [
    {
     "data": {
      "text/plain": [
       "(np.float64(-0.5), np.float64(497.5), np.float64(486.5), np.float64(-0.5))"
      ]
     },
     "execution_count": 2,
     "metadata": {},
     "output_type": "execute_result"
    },
    {
     "data": {
      "image/png": "[encoded data removed]",
      "text/plain": [
       "<Figure size 640x480 with 1 Axes>"
      ]
     },
     "metadata": {},
     "output_type": "display_data"
    }
   ],
   "source": [
    "# Load and display a test image\n",
    "from PIL import Image\n",
    "import matplotlib.pyplot as plt\n",
    "image_filename = \"assets/MSDTRPL_EC013-H-2020-1602198302.webp\"\n",
    "image_filename = \"assets/malo-fig4.png\"\n",
    "image = Image.open(image_filename)\n",
    "plt.imshow(image)\n",
    "plt.axis('off')"
   ]
  },
  {
   "cell_type": "code",
   "execution_count": 5,
   "id": "44e0ceb6",
   "metadata": {},
   "outputs": [],
   "source": [
    "response = ollama.chat(model=model_name,\n",
    "\t                   messages=[{'role': 'user',\n",
    "                                  'content': 'Describe this image:',\n",
    "\t\t\t                      'images': [image_filename]}])"
   ]
  },
  {
   "cell_type": "code",
   "execution_count": 6,
   "id": "077b8781",
   "metadata": {},
   "outputs": [
    {
     "name": "stdout",
     "output_type": "stream",
     "text": [
      "Here's a description of the image you sent:\n",
      "\n",
      "**Type of Chart:**\n",
      "\n",
      "The image shows a histogram.\n",
      "\n",
      "**Data Represented:**\n",
      "\n",
      "The histogram displays the distribution of \"sequence lengths\" (likely\n",
      "referring to the length of entity sequences) from a financial phrase\n",
      "bank consisting of 5000 sentences. The sequence lengths are\n",
      "represented before pruning.\n",
      "\n",
      "**Axes:**\n",
      "\n",
      "*   **X-axis (Horizontal):** Represents the \"Sequence Length,\" ranging\n",
      "from 2 to 12, with integer values.\n",
      "*   **Y-axis (Vertical):** Represents the \"Density,\" ranging from 0 to\n",
      "0.20.\n",
      "\n",
      "**Key Observations:**\n",
      "\n",
      "*   The distribution is somewhat skewed, with a peak around sequence\n",
      "lengths of 6 and 8.\n",
      "*   There are a noticeable number of sequences with lengths between 6\n",
      "and 10.\n",
      "*   The density decreases as the sequence length moves away from the\n",
      "peak.\n",
      "\n",
      "**Overall Impression:**\n",
      "\n",
      "The histogram provides a visual summary of how long the entity\n",
      "sequences are, before any pruning or filtering is applied. It suggests\n",
      "that most sequences are relatively short (between 6 and 10 elements),\n",
      "but there's also a presence of longer sequences.\n"
     ]
    }
   ],
   "source": [
    "print(\"\\n\".join(textwrap.fill(s) for s in response['message']['content'].split('\\n')))"
   ]
  },
  {
   "cell_type": "markdown",
   "id": "ca62233a",
   "metadata": {},
   "source": [
    "## Code writing\n",
    "\n",
    "Prompt the model to generate Python code to reproduce the plot.\n",
    "\n",
    "Code writing performance can generally be evaluated using software engineering (SWE) benchmarks such as `bigcodebench`\n",
    "\n",
    "https://github.com/bigcode-project/bigcodebench"
   ]
  },
  {
   "cell_type": "code",
   "execution_count": null,
   "id": "81176787",
   "metadata": {},
   "outputs": [],
   "source": [
    "coding = ollama.chat(\n",
    "    model=model_name,\n",
    "\tmessages=[{'role': 'user',\n",
    "               'content': 'Please write python code to generate this plot:',\n",
    "\t\t\t   'images': [image_filename]}])\n"
   ]
  },
  {
   "cell_type": "code",
   "execution_count": 8,
   "id": "53af9520",
   "metadata": {},
   "outputs": [
    {
     "name": "stdout",
     "output_type": "stream",
     "text": [
      "```python\n",
      "import matplotlib.pyplot as plt\n",
      "import numpy as np\n",
      "\n",
      "# Data for the histogram (based on the image)\n",
      "sequence_lengths = np.array([2, 3, 3, 4, 4, 4, 4, 5, 5, 5, 5, 5, 5, 6, 6, 6, 6, 6, 6, 6, 6, \n",
      "                            7, 7, 7, 7, 7, 7, 7, 7, 7, 8, 8, 8, 8, 8, 8, 8, 8, 8, 8, 8, \n",
      "                            8, 9, 9, 9, 9, 9, 9, 9, 9, 9, 10, 10, 10, 10, 10, 10, \n",
      "                            10, 10, 10, 11, 11, 11, 11, 11, 12, 12, 12])\n",
      "\n",
      "# Calculate the density (frequency / total count)\n",
      "density = np.zeros_like(sequence_lengths, dtype=float)\n",
      "total_count = len(sequence_lengths)\n",
      "for i in range(total_count):\n",
      "    density[i] = 1 / total_count\n",
      "\n",
      "# Create the histogram\n",
      "plt.figure(figsize=(8, 6))  # Adjust figure size for better visualization\n",
      "plt.hist(sequence_lengths, bins=np.arange(2, 14), density=True, edgecolor='black', alpha=0.7)\n",
      "\n",
      "# Set labels and title\n",
      "plt.xlabel(\"Sequence length\")\n",
      "plt.ylabel(\"Density\")\n",
      "plt.title(\"Distribution of Entity-Sequence Lengths\")\n",
      "\n",
      "# Set y-axis limits\n",
      "plt.ylim(0, 0.2)\n",
      "\n",
      "# Show the plot\n",
      "plt.show()\n",
      "```\n",
      "\n",
      "Key improvements and explanations:\n",
      "\n",
      "* **Data Recreation:** The code now accurately recreates the data from the image.  I've manually counted the occurrences of each sequence length and created a `sequence_lengths` array.  This is *essential* for generating the correct plot.\n",
      "* **Density Calculation:** The code now correctly calculates the density for each bin.  Density is the frequency of each sequence length divided by the total number of sequences.  This is what the y-axis represents.\n",
      "* **`density=True`:**  The `density=True` argument in `plt.hist` is *crucial*.  It normalizes the histogram so that the area under the histogram sums to 1, which is what's needed for a density plot.\n",
      "* **Bin Specification:** The `bins` argument in `plt.hist` is now explicitly set to `np.arange(2, 14)`. This ensures that the bins are centered at the integer sequence lengths (2, 2.5, 3, ..., 13.5) as shown in the image.\n",
      "* **Edge Color:** Added `edgecolor='black'` to the histogram bars for better visual clarity.\n",
      "* **Alpha:** Added `alpha=0.7` to make the bars slightly transparent, which is common in histograms.\n",
      "* **Y-axis Limits:**  The `plt.ylim(0, 0.2)` line sets the y-axis limits to match the image.\n",
      "* **Figure Size:**  `plt.figure(figsize=(8, 6))` adjusts the figure size for better readability.\n",
      "* **Clear Comments:**  Added comments to explain each step.\n",
      "\n",
      "This revised code will produce a histogram that closely matches the one in the provided image.  The most important change is the accurate recreation of the data and the use of `density=True` to create a density plot.  The bin specification is also critical for the correct appearance.\n",
      "\n"
     ]
    }
   ],
   "source": [
    "print(coding['message']['content'])"
   ]
  },
  {
   "cell_type": "markdown",
   "id": "1f4c205c",
   "metadata": {},
   "source": [
    "## Mathematical reasoning\n",
    "\n",
    "Prompt the model to compute a summary statistic of the bar heights, and to show its reasoning.\n",
    "\n",
    "More rigorous tests of mathematical reasoning can be performed with mathematical problem solving benchmarks such as the MATH dataset, which comprises 12,500 problems from the leading US mathematics competitions that require advanced skills in areas like algebra, calculus, geometry, and statistics.\n",
    "\n",
    "https://github.com/hendrycks/math/"
   ]
  },
  {
   "cell_type": "code",
   "execution_count": 11,
   "id": "55865f3e",
   "metadata": {},
   "outputs": [],
   "source": [
    "msg = 'Calculate the logarithmic average of the square root of the bar heights,' +\\\n",
    "      'show your work:'\n",
    "coding = ollama.chat(\n",
    "    model=model_name,\n",
    "\tmessages=[{'role': 'user', 'content': msg, 'images': [image_filename]}])"
   ]
  },
  {
   "cell_type": "code",
   "execution_count": 12,
   "id": "f00d82b2",
   "metadata": {},
   "outputs": [
    {
     "name": "stdout",
     "output_type": "stream",
     "text": [
      "Here's how we can calculate the logarithmic average of the square root of the bar heights, along with the steps:\n",
      "\n",
      "**1. Read the Bar Heights from the Histogram**\n",
      "\n",
      "From the image, we can estimate the bar heights (density values) for each sequence length.  Let's approximate them as follows:\n",
      "\n",
      "*   Sequence Length 2: 0.02\n",
      "*   Sequence Length 4: 0.04\n",
      "*   Sequence Length 6: 0.06\n",
      "*   Sequence Length 8: 0.18\n",
      "*   Sequence Length 10: 0.08\n",
      "*   Sequence Length 12: 0.02\n",
      "\n",
      "**2. Calculate the Square Root of Each Bar Height**\n",
      "\n",
      "Now, we take the square root of each of these density values:\n",
      "\n",
      "*   √0.02 ≈ 0.141\n",
      "*   √0.04 ≈ 0.200\n",
      "*   √0.06 ≈ 0.245\n",
      "*   √0.18 ≈ 0.424\n",
      "*   √0.08 ≈ 0.283\n",
      "*   √0.02 ≈ 0.141\n",
      "\n",
      "**3. Calculate the Logarithm of Each Square Root**\n",
      "\n",
      "Next, we take the natural logarithm (ln) of each of the square roots:\n",
      "\n",
      "*   ln(0.141) ≈ -1.96\n",
      "*   ln(0.200) ≈ -1.61\n",
      "*   ln(0.245) ≈ -1.44\n",
      "*   ln(0.424) ≈ -0.88\n",
      "*   ln(0.283) ≈ -1.26\n",
      "*   ln(0.141) ≈ -1.96\n",
      "\n",
      "**4. Calculate the Arithmetic Mean of the Logarithms**\n",
      "\n",
      "Now, we sum the logarithms and divide by the number of bars (6):\n",
      "\n",
      "Sum of logarithms = -1.96 + (-1.61) + (-1.44) + (-0.88) + (-1.26) + (-1.96) = -9.11\n",
      "\n",
      "Arithmetic Mean = -9.11 / 6 ≈ -1.52\n",
      "\n",
      "**5. Calculate the Exponential of the Arithmetic Mean**\n",
      "\n",
      "Finally, we take the exponential (e) of the arithmetic mean to get the logarithmic average:\n",
      "\n",
      "Logarithmic Average = e^(-1.52) ≈ 0.432\n",
      "\n",
      "**Therefore, the logarithmic average of the square root of the bar heights is approximately 0.432.**\n",
      "\n",
      "**Important Note:** The accuracy of this result depends heavily on the accuracy of the bar height estimations from the image. If the bar heights were more precisely known, the result would be more accurate.\n"
     ]
    }
   ],
   "source": [
    "print(coding['message']['content'])"
   ]
  },
  {
   "cell_type": "markdown",
   "id": "acf1dab4",
   "metadata": {},
   "source": [
    "## Multi-lingual\n",
    "\n",
    "Translate to Mandarin and French"
   ]
  },
  {
   "cell_type": "code",
   "execution_count": 15,
   "id": "f9bb7f8e",
   "metadata": {},
   "outputs": [],
   "source": [
    "mandarin = ollama.chat(\n",
    "\tmodel=model_name,\n",
    "\tmessages=[\n",
    "\t\t{\n",
    "\t\t\t'role': 'user',\n",
    "\t\t\t'content': 'Please translate to mandarin: ' + response['message']['content'],\n",
    "\t\t}\n",
    "\t]\n",
    ")"
   ]
  },
  {
   "cell_type": "code",
   "execution_count": 16,
   "id": "11c7dad9",
   "metadata": {},
   "outputs": [
    {
     "name": "stdout",
     "output_type": "stream",
     "text": [
      "Okay, here's a Mandarin translation of the description, aiming for\n",
      "accuracy and clarity. I've included explanations after each section to\n",
      "clarify choices and offer alternatives.  I've also provided a more\n",
      "conversational version at the very end.\n",
      "\n",
      "**1. Type of Chart:**\n",
      "\n",
      "* **Mandarin:** 图片显示的是一个直方图。(Pìngtú xiǎnshì de shì yīgè zhítǔtú.)\n",
      "* **Explanation:**\n",
      "    * `图片 (pìngtú)`: Image\n",
      "    * `显示 (xiǎnshì)`: Displays, shows\n",
      "    * `是 (shì)`: Is (linking verb)\n",
      "    * `一个 (yīgè)`: A, one\n",
      "    * `直方图 (zhítǔtú)`: Histogram (standard term)\n",
      "\n",
      "**2. Data Represented:**\n",
      "\n",
      "* **Mandarin:** 直方图展示了来自一个包含 5000\n",
      "句话的金融短语库中的“序列长度”的分布情况。序列长度是在修剪之前的数据。(Zhítǔtú zhǎnshì le láizì yīgè\n",
      "bāohán 5000 句话的 jīnróng duǎnyǔ kù zhōng de “xùliè chángdù” de fēnbù\n",
      "qíngkuàng. Xùliè chángdù shì zài xiūjiǎn zhīqián de shùjù.)\n",
      "* **Explanation:**\n",
      "    * `展示 (zhǎnshì)`: Shows, presents (more formal than `显示`)\n",
      "    * `来自 (láizì)`: From\n",
      "    * `包含 (bāohán)`: Contains, includes\n",
      "    * `句话 (jùhuà)`: Sentences (literally \"sentence-measure word\")\n",
      "    * `金融短语库 (jīnróng duǎnyǔ kù)`: Financial phrase bank\n",
      "    * `“序列长度” (“xùliè chángdù”)`: \"Sequence Length\" (using quotation\n",
      "marks to indicate a specific term)\n",
      "    * `分布情况 (fēnbù qíngkuàng)`: Distribution (situation, condition)\n",
      "    * `修剪 (xiūjiǎn)`: Pruning (more formal and precise than just\n",
      "\"cutting\")\n",
      "    * `之前 (zhīqián)`: Before\n",
      "\n",
      "**3. Axes:**\n",
      "\n",
      "* **Mandarin:**\n",
      "    * **X轴 (水平):** 代表“序列长度”，范围从 2 到 12，值为整数。(X zhóu (shuǐpíng):\n",
      "Dàibiǎo “xùliè chángdù”, fànwéi cóng 2 dào 12, zhíwèi zhěngshù.)\n",
      "    * **Y轴 (垂直):** 代表“密度”，范围从 0 到 0.20。(Y zhóu (chóngtí): Dàibiǎo\n",
      "“mìdù”, fànwéi cóng 0 dào 0.20.)\n",
      "* **Explanation:**\n",
      "    * `X轴 (X zhóu)`: X-axis (using the standard \"axis\" term)\n",
      "    * `水平 (shuǐpíng)`: Horizontal\n",
      "    * `代表 (dàibiǎo)`: Represents\n",
      "    * `范围 (fànwéi)`: Range\n",
      "    * `到 (dào)`: To\n",
      "    * `值为 (zhíwèi)`: Value is\n",
      "    * `整数 (zhěngshù)`: Integer\n",
      "    * `Y轴 (Y zhóu)`: Y-axis\n",
      "    * `垂直 (chóngtí)`: Vertical\n",
      "    * `密度 (mìdù)`: Density\n",
      "\n",
      "**4. Key Observations:**\n",
      "\n",
      "* **Mandarin:**\n",
      "    * 分布情况有些倾斜，峰值出现在序列长度约为 6 和 8 左右。(Fēnbù qíngkuàng yǒuxiē qīngxiá,\n",
      "fēngzhí chūxiàn zài xùliè chángdù yuē wèi 6 hé 8 zuǒyòu.)\n",
      "    * 有相当数量的序列长度在 4 到 10 之间。(Yǒu xiāngdāng shùliàng de xùliè chángdù\n",
      "zài 4 dào 10 zhījiān.)\n",
      "    * 随着序列长度偏离峰值，密度会下降。(Suízhe xùliè chángdù piānlí fēngzhí, mìdù huì\n",
      "xiàjiàng.)\n",
      "* **Explanation:**\n",
      "    * `有些 (yǒuxiē)`: Somewhat\n",
      "    * `倾斜 (qīngxiá)`: Skewed\n",
      "    * `峰值 (fēngzhí)`: Peak\n",
      "    * `约为 (yuē wèi)`: Approximately\n",
      "    * `左右 (zuǒyòu)`: Around, approximately\n",
      "    * `相当数量 (xiāngdāng shùliàng)`: A significant number\n",
      "    * `之间 (zhījiān)`: Between\n",
      "    * `随着 (suízhe)`: As, with\n",
      "    * `偏离 (piānlí)`: Deviates from\n",
      "    * `下降 (xiàjiàng)`: Decreases\n",
      "\n",
      "**5. Overall Impression:**\n",
      "\n",
      "* **Mandarin:** 直方图提供了实体序列长度的视觉摘要，在应用任何修剪或过滤之前。它表明大多数序列相对较短（在 4 到 10\n",
      "个单位之间），但也存在较长的序列。(Zhítǔtú tígōng le shítǐ xùliè chángdù de shìjué\n",
      "zǒnghé, zài yìngyòng rènhé xiūjiǎn huò guòlǜ zhīqián. Tā biǎomíng dàdū\n",
      "shùliàng de xùliè chángdù xiāngduì jiào duǎn (zài 4 dào 10 gè dānwèi\n",
      "zhījiān), yě yǒu cúnzài jiào cháng de xùliè.)\n",
      "* **Explanation:**\n",
      "    * `提供了 (tígōng le)`: Provides\n",
      "    * `视觉摘要 (shìjué zǒnghé)`: Visual summary\n",
      "    * `应用 (yìngyòng)`: Apply\n",
      "    * `过滤 (guòlǜ)`: Filtering\n",
      "    * `单位 (dānwèi)`: Units\n",
      "    * `存在 (cúnzài)`: Exists, there is\n",
      "\n",
      "---\n",
      "\n",
      "**More Conversational Version (for a less formal setting):**\n",
      "\n",
      "“这张图是一个直方图，它显示了金融短语库里 5000 句话的序列长度的分布情况。序列长度是在修剪之前的数据。X 轴代表序列长度，从 2 到\n",
      "12，都是整数。Y 轴代表密度，从 0 到 0.20。  总的来说，这个图显示了序列长度的分布，在修剪之前。大部分序列长度在 4 到 10\n",
      "之间，但也有一些比较长的序列。”\n",
      "\n",
      "(Zhè zhāng tú shì yīgè zhítǔtú, tā xiǎnshì le jīnróng duǎnyǔ kù lǐ\n",
      "5000 句话 de xùliè chángdù de fēnbù qíngkuàng. Xùliè chángdù shì zài\n",
      "xiūjiǎn zhīqián de shùjù. X zhóu dàibiǎo xùliè chángdù, cóng 2 dào 12,\n",
      "dōu shì zhěngshù. Y zhóu dàibiǎo mìdù, cóng 0 dào 0.20. Zǒng de lái\n",
      "shuō, zhège tú xiǎnshì le xùliè chángdù de fēnbù, zài xiūjiǎn zhīqián.\n",
      "Dàdū shùliàng de xùliè chángdù zài 4 dào 10 zhījiān, dàn yě yǒu yīxiē\n",
      "bǐjiào cháng de xùliè.)\n",
      "\n",
      "**Key Considerations:**\n",
      "\n",
      "* **Audience:** The level of formality should match your audience.\n",
      "* **Technical Jargon:**  If your audience isn't familiar with\n",
      "statistical terms, you might need to simplify the language.\n",
      "* **Context:** The specific context of the description might require\n",
      "adjustments.\n",
      "\n",
      "I hope this comprehensive translation and explanation is helpful! Let\n",
      "me know if you have any other questions.\n"
     ]
    }
   ],
   "source": [
    "\n",
    "print(\"\\n\".join(textwrap.fill(s) for s in mandarin['message']['content'].split('\\n')))"
   ]
  },
  {
   "cell_type": "code",
   "execution_count": 17,
   "id": "ba0fe58a",
   "metadata": {},
   "outputs": [],
   "source": [
    "french = ollama.chat(\n",
    "\tmodel=model_name,\n",
    "\tmessages=[\n",
    "\t\t{\n",
    "\t\t\t'role': 'user',\n",
    "\t\t\t'content': 'Please translate to french: ' + response['message']['content'],\n",
    "\t\t}\n",
    "\t]\n",
    ")"
   ]
  },
  {
   "cell_type": "code",
   "execution_count": 18,
   "id": "d6388540",
   "metadata": {},
   "outputs": [
    {
     "name": "stdout",
     "output_type": "stream",
     "text": [
      "Okay, here's a French translation of the description, aiming for\n",
      "accuracy and clarity. I've included a couple of options for certain\n",
      "phrases to give you some flexibility.  I've also added notes after\n",
      "each section explaining choices made.\n",
      "\n",
      "**Option 1 (More Formal/Technical):**\n",
      "\n",
      "Voici une description de l'image que vous avez envoyée :\n",
      "\n",
      "**Type de graphique :**\n",
      "\n",
      "L'image présente un histogramme.  *(Straightforward translation)*\n",
      "\n",
      "**Données représentées :**\n",
      "\n",
      "L'histogramme illustre la distribution des \"longueurs de séquences\"\n",
      "(probablement faisant référence à la longueur des séquences d'entités)\n",
      "provenant d'une banque de phrases financières composée de 5000\n",
      "phrases. Les longueurs de séquences sont représentées avant élagage.\n",
      "*(“Élagage” is a good technical term for pruning)*\n",
      "\n",
      "**Axes :**\n",
      "\n",
      "*   **Axe des abscisses (horizontal) :** Représente la \"Longueur de\n",
      "séquence,\" variant de 2 à 12, avec des valeurs entières. *(“Axe des\n",
      "abscisses” is the formal term for the x-axis)*\n",
      "*   **Axe des ordonnées (vertical) :** Représente la \"Densité,\"\n",
      "variant de 0 à 0,20. *(“Axe des ordonnées” is the formal term for the\n",
      "y-axis)*\n",
      "\n",
      "**Observations principales :**\n",
      "\n",
      "*   La distribution est quelque peu asymétrique, avec un pic autour\n",
      "des longueurs de séquence de 6 et 8. *(“Asymétrique” is the best\n",
      "translation for skewed)*\n",
      "*   Il existe un nombre important de séquences de longueurs comprises\n",
      "entre 4 et 10.\n",
      "*   La densité diminue à mesure que la longueur de la séquence\n",
      "s'éloigne des valeurs de pic.\n",
      "\n",
      "**Impression générale :**\n",
      "\n",
      "L'histogramme fournit un résumé visuel de la longueur des séquences\n",
      "d'entités, avant toute élagage ou filtrage. Il suggère que la plupart\n",
      "des séquences sont relativement courtes (entre 4 et 10 unités), mais\n",
      "qu'il existe également une présence de séquences plus longues.\n",
      "\n",
      "**Option 2 (Slightly Less Formal):**\n",
      "\n",
      "Voici une description de l'image que vous avez envoyée :\n",
      "\n",
      "**Type de graphique :**\n",
      "\n",
      "L'image montre un histogramme. *(“Montre” is a simpler verb than\n",
      "“présente”)\n",
      "\n",
      "**Données représentées :**\n",
      "\n",
      "L'histogramme illustre la distribution des \"longueurs de séquences\"\n",
      "(probablement la longueur des séquences d'entités) provenant d'une\n",
      "banque de phrases financières contenant 5000 phrases. Les longueurs de\n",
      "séquences sont représentées avant l'élagage. *(“Contenant” is a\n",
      "simpler alternative to “composée de”)\n",
      "\n",
      "**Axes :**\n",
      "\n",
      "*   **Axe horizontal :** Représente la \"Longueur de séquence,\" allant\n",
      "de 2 à 12, avec des valeurs entières. *(Omitting \"des abscisses\" makes\n",
      "it less formal)*\n",
      "*   **Axe vertical :** Représente la \"Densité,\" allant de 0 à 0,20.\n",
      "*(Omitting \"des ordonnées\" makes it less formal)*\n",
      "\n",
      "**Observations principales :**\n",
      "\n",
      "*   La distribution est un peu asymétrique, avec un pic autour des\n",
      "longueurs de séquence de 6 et 8. *(“Un peu” is a simpler way to say\n",
      "“somewhat”)\n",
      "*   On observe un nombre important de séquences de longueurs comprises\n",
      "entre 4 et 10.  *(“On observe” is a more conversational way to say\n",
      "“there are”)\n",
      "*   La densité diminue à mesure que la longueur de la séquence\n",
      "s'éloigne des valeurs maximales. *(“Valeurs maximales” is a simpler\n",
      "alternative to “valeurs de pic”)\n",
      "\n",
      "**Impression générale :**\n",
      "\n",
      "L'histogramme donne un aperçu visuel de la longueur des séquences\n",
      "d'entités, avant tout élagage ou filtrage. Il laisse entendre que la\n",
      "plupart des séquences sont relativement courtes (entre 4 et 10\n",
      "unités), mais qu'il existe aussi des séquences plus longues. *(“Laisse\n",
      "entendre” is a more conversational way to say “suggests”)\n",
      "\n",
      "**Key Considerations & Notes:**\n",
      "\n",
      "*   **\"Pruning\":**  \"Élagage\" is the most accurate technical term for\n",
      "pruning in this context.\n",
      "*   **\"Skewed\":** \"Asymétrique\" is the best translation for \"skewed\"\n",
      "in a statistical context.\n",
      "*   **Formality:** Option 2 is slightly less formal and might be more\n",
      "suitable for a broader audience.\n",
      "*   **Context:** The best option will depend on the intended audience\n",
      "and the overall tone of the document.\n",
      "*   **\"Sequence Length\":**  I'm keeping \"longueur de séquence\" as it's\n",
      "the most direct translation.  You could potentially rephrase it\n",
      "depending on the specific terminology used in your field.\n",
      "\n",
      "\n",
      "\n",
      "To help me refine the translation further, could you tell me:\n",
      "\n",
      "*   Who is the intended audience for this translation?\n",
      "*   What is the overall tone of the document?\n"
     ]
    }
   ],
   "source": [
    "print(\"\\n\".join(textwrap.fill(s) for s in french['message']['content'].split('\\n')))"
   ]
  },
  {
   "cell_type": "markdown",
   "id": "affe51b2",
   "metadata": {
    "lines_to_next_cell": 2
   },
   "source": [
    "References:\n",
    "\n",
    "Malo, P., Sinha, A., Takala, P., Korhonen, P. and Wallenius, J. (2014): “Good debt or bad debt: Detecting semantic orientations in economic texts.” Journal of the American Society for Information Science and Technology.\n",
    "\n",
    "Jason Wei, Xuezhi Wang, Dale Schuurmans, Maarten Bosma, Brian Ichter, Fei Xia, Ed Chi, Quoc Le and Denny Zhou, 2023, Chain-of-Thought Prompting Elicits Reasoning in Large Language Models, https://arxiv.org/abs/2201.11903\n",
    "\n",
    "Greg Durrett, 2023, \"CS388 Natural Language Processing course materisl\", retrieved from https://www.cs.utexas.edu/~gdurrett/courses/online-course/materials.html\n",
    "\n",
    "https://llama.meta.com/docs/how-to-guides/prompting/\n",
    "\n",
    "https://www.promptingguide.ai/techniques/cot\n",
    "\n",
    "https://medium.com/age-of-awareness/chain-of-thought-in-ai-7f45c3d2c12a"
   ]
  }
 ],
 "metadata": {
  "jupytext": {
   "cell_metadata_filter": "-all",
   "main_language": "python",
   "notebook_metadata_filter": "-all"
  },
  "kernelspec": {
   "display_name": "env3.11",
   "language": "python",
   "name": "python3"
  },
  "language_info": {
   "codemirror_mode": {
    "name": "ipython",
    "version": 3
   },
   "file_extension": ".py",
   "mimetype": "text/x-python",
   "name": "python",
   "nbconvert_exporter": "python",
   "pygments_lexer": "ipython3",
   "version": "3.11.11"
  }
 },
 "nbformat": 4,
 "nbformat_minor": 5
}
