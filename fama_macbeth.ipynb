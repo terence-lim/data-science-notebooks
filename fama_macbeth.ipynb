{
 "cells": [
  {
   "cell_type": "markdown",
   "metadata": {},
   "source": [
    "# Risk Premiums from Fama-Macbeth Cross-sectional Regression\n",
    "\n",
    "- pandas datareader, Fama French data library\n",
    "\n",
    "Terence Lim"
   ]
  },
  {
   "cell_type": "code",
   "execution_count": 1,
   "metadata": {},
   "outputs": [],
   "source": [
    "import os\n",
    "import numpy as np\n",
    "import pandas as pd\n",
    "from pandas import DataFrame, Series\n",
    "import matplotlib.pyplot as plt\n",
    "import statsmodels.formula.api as smf\n",
    "import pandas_datareader as pdr\n",
    "from pandas_datareader.data import DataReader\n",
    "from pandas_datareader.famafrench import FamaFrenchReader\n",
    "from finds.database import SQL, Redis\n",
    "from finds.structured import CRSP, Signals, Benchmarks\n",
    "from finds.busday import BusDay\n",
    "from finds.backtesting import RiskPremium\n",
    "from finds.solve import winsorized\n",
    "from settings import settings\n",
    "LAST_DATE = settings['crsp+date']\n",
    "sql = SQL(**settings['sql'])\n",
    "user = SQL(**settings['user'])\n",
    "rdb = Redis(**settings['redis'])\n",
    "bd = BusDay(sql)\n",
    "crsp = CRSP(sql, bd, rdb)\n",
    "bench = Benchmarks(sql, bd)\n",
    "signals = Signals(user)\n",
    "logdir = os.path.join(settings['images'], 'fm')"
   ]
  },
  {
   "cell_type": "markdown",
   "metadata": {},
   "source": [
    "### Helper to compute least square coefs, supports groupby().apply"
   ]
  },
  {
   "cell_type": "code",
   "execution_count": 2,
   "metadata": {},
   "outputs": [],
   "source": [
    "def least_squares(data=None, y=['y'], x=['x'], stdres=False):\n",
    "    \"\"\"Helper to compute least square coefs, supports groupby().apply\"\"\"\n",
    "    X = data[x].to_numpy()\n",
    "    Y = data[y].to_numpy()\n",
    "    X = np.hstack([np.ones((X.shape[0], 1)), X])\n",
    "    x = ['Intercept'] + x\n",
    "    b = np.dot(np.linalg.inv(np.dot(X.T, X)), np.dot(X.T, Y)).T\n",
    "    if stdres:\n",
    "        b = np.hstack([b, np.std(Y-(X @ b.T), axis=0).reshape(-1,1)])\n",
    "        x = x + ['stdres']\n",
    "    return (DataFrame(b, columns=x, index=y) if len(b) > 1 else\n",
    "            Series(b[0], x))   # return as Series for groupby.apply"
   ]
  },
  {
   "cell_type": "markdown",
   "metadata": {},
   "source": [
    "## Retrieve market and test asset returns"
   ]
  },
  {
   "cell_type": "code",
   "execution_count": 3,
   "metadata": {},
   "outputs": [],
   "source": [
    "mkt = FamaFrenchReader('F-F_Research_Data_Factors', start=1900, end=2099).read()\n",
    "mkt = mkt[0].rename(columns={'Mkt-RF': 'BETA'})\n",
    "asset_names = ['25_Portfolios_ME_BETA_5x5',\n",
    "               '25_Portfolios_ME_VAR_5x5',\n",
    "               '25_Portfolios_ME_RESVAR_5x5',\n",
    "               '25_Portfolios_5x5']\n",
    "test_assets = {asset: FamaFrenchReader(asset, start=1900, end=2099).read()\n",
    "               for asset in asset_names}"
   ]
  },
  {
   "cell_type": "markdown",
   "metadata": {},
   "source": [
    "## Fama-MacBeth regressions with 5x5 test assets and estimated loadings "
   ]
  },
  {
   "cell_type": "code",
   "execution_count": 4,
   "metadata": {},
   "outputs": [
    {
     "name": "stdout",
     "output_type": "stream",
     "text": [
      "25_Portfolios_ME_BETA_5x5 Value-weighted 196307 - 202101\n",
      "        Intercept    BETA   BETA2     RES\n",
      "mean       0.6865  0.0726 -1.1325  0.1309\n",
      "stderr     0.1632  0.2390  0.3452  0.0721\n",
      "tvalue     4.2051  0.3037 -3.2811  1.8160\n",
      "\n",
      "25_Portfolios_ME_BETA_5x5 Equal-weighted 196307 - 202101\n",
      "        Intercept    BETA   BETA2     RES\n",
      "mean       0.8191  0.0018 -1.0855  0.1586\n",
      "stderr     0.1569  0.2310  0.2958  0.0632\n",
      "tvalue     5.2216  0.0077 -3.6703  2.5095\n",
      "\n",
      "25_Portfolios_ME_VAR_5x5 Value-weighted 196307 - 202101\n",
      "        Intercept    BETA   BETA2     RES\n",
      "mean       1.0584 -0.2741 -1.8542  0.0666\n",
      "stderr     0.1921  0.2573  0.3421  0.0693\n",
      "tvalue     5.5094 -1.0652 -5.4204  0.9600\n",
      "\n",
      "25_Portfolios_ME_VAR_5x5 Equal-weighted 196307 - 202101\n",
      "        Intercept    BETA   BETA2     RES\n",
      "mean       1.0002 -0.1729 -1.5833  0.1062\n",
      "stderr     0.1889  0.2536  0.2711  0.0576\n",
      "tvalue     5.2955 -0.6817 -5.8412  1.8425\n",
      "\n",
      "25_Portfolios_ME_RESVAR_5x5 Value-weighted 196307 - 202101\n",
      "        Intercept    BETA   BETA2     RES\n",
      "mean       1.1702 -0.3746 -2.6714  0.1040\n",
      "stderr     0.2087  0.2694  0.4137  0.0680\n",
      "tvalue     5.6082 -1.3906 -6.4574  1.5293\n",
      "\n",
      "25_Portfolios_ME_RESVAR_5x5 Equal-weighted 196307 - 202101\n",
      "        Intercept    BETA   BETA2     RES\n",
      "mean       1.0791 -0.2473 -2.1651  0.1156\n",
      "stderr     0.2027  0.2636  0.3167  0.0568\n",
      "tvalue     5.3229 -0.9382 -6.8373  2.0363\n",
      "\n",
      "25_Portfolios_5x5 Value-weighted 192607 - 202101\n",
      "        Intercept    BETA   BETA2     RES\n",
      "mean       0.3389  0.4608 -2.7014 -0.0282\n",
      "stderr     0.3211  0.3489  0.9908  0.0466\n",
      "tvalue     1.0555  1.3205 -2.7266 -0.6052\n",
      "\n",
      "25_Portfolios_5x5 Equal-weighted 192607 - 202101\n",
      "        Intercept    BETA   BETA2     RES\n",
      "mean      -0.0911  0.8485 -3.7315  0.0585\n",
      "stderr     0.3693  0.3791  1.1575  0.0465\n",
      "tvalue    -0.2467  2.2380 -3.2239  1.2574\n",
      "\n"
     ]
    }
   ],
   "source": [
    "for asset in asset_names:\n",
    "    for p, wt in enumerate(['Value-weighted', 'Equal-weighted']):\n",
    "        f = test_assets[asset][p]\n",
    "        \n",
    "        # subtract riskfree and stack data as thin dataframe\n",
    "        df = f.sub(mkt['RF'], axis=0).dropna().copy()\n",
    "        rets = df.stack().reset_index(name='ret')\\\n",
    "                         .rename(columns={'level_1':'port', 'level_0':'Date'})\n",
    "\n",
    "        # estimate test assets market betas from time-series of returns\n",
    "        data = df.join(mkt[['BETA']], how='left')\n",
    "        betas = least_squares(data, y=df.columns, x=['BETA'],\n",
    "                         stdres=True)[['BETA', 'stdres']]  # emits stdres too\n",
    "        \n",
    "        # orthogonalize beta^2 and residual-volatility regressors\n",
    "        betas['BETA2'] = smf.ols(\"I(BETA**2) ~ BETA\", data=betas).fit().resid\n",
    "        betas['RES'] = smf.ols(\"stdres ~ BETA\", data=betas).fit().resid\n",
    "        r = rets.join(betas, on='port').sort_values(['port',     # join returns\n",
    "                                                     'Date'], ignore_index=True)\n",
    "\n",
    "        # run monthly Fama MacBeth cross-sectional regressions\n",
    "        print(asset, wt, r['Date'].iloc[0], '-', r['Date'].iloc[-1])\n",
    "        fm = r.groupby(by='Date')\\\n",
    "              .apply(least_squares, y=['ret'], x=['BETA', 'BETA2', 'RES'])\n",
    "        print(DataFrame({'mean': fm.mean(), 'stderr': fm.sem(),\n",
    "                         'tvalue': fm.mean() / fm.sem()}).T.round(4))\n",
    "        print()"
   ]
  },
  {
   "cell_type": "markdown",
   "metadata": {},
   "source": [
    "## Post-1963 time-period"
   ]
  },
  {
   "cell_type": "code",
   "execution_count": 5,
   "metadata": {},
   "outputs": [
    {
     "name": "stdout",
     "output_type": "stream",
     "text": [
      "25_Portfolios_5x5 Equal-weighted 196307 - 202101\n"
     ]
    },
    {
     "data": {
      "text/html": [
       "<div>\n",
       "<style scoped>\n",
       "    .dataframe tbody tr th:only-of-type {\n",
       "        vertical-align: middle;\n",
       "    }\n",
       "\n",
       "    .dataframe tbody tr th {\n",
       "        vertical-align: top;\n",
       "    }\n",
       "\n",
       "    .dataframe thead th {\n",
       "        text-align: right;\n",
       "    }\n",
       "</style>\n",
       "<table border=\"1\" class=\"dataframe\">\n",
       "  <thead>\n",
       "    <tr style=\"text-align: right;\">\n",
       "      <th></th>\n",
       "      <th>Intercept</th>\n",
       "      <th>BETA</th>\n",
       "      <th>BETA2</th>\n",
       "      <th>RES</th>\n",
       "    </tr>\n",
       "  </thead>\n",
       "  <tbody>\n",
       "    <tr>\n",
       "      <th>mean</th>\n",
       "      <td>1.2585</td>\n",
       "      <td>-0.3968</td>\n",
       "      <td>-5.0266</td>\n",
       "      <td>0.1405</td>\n",
       "    </tr>\n",
       "    <tr>\n",
       "      <th>stderr</th>\n",
       "      <td>0.3647</td>\n",
       "      <td>0.3816</td>\n",
       "      <td>0.8594</td>\n",
       "      <td>0.0570</td>\n",
       "    </tr>\n",
       "    <tr>\n",
       "      <th>tvalue</th>\n",
       "      <td>3.4509</td>\n",
       "      <td>-1.0400</td>\n",
       "      <td>-5.8487</td>\n",
       "      <td>2.4649</td>\n",
       "    </tr>\n",
       "  </tbody>\n",
       "</table>\n",
       "</div>"
      ],
      "text/plain": [
       "        Intercept    BETA   BETA2     RES\n",
       "mean       1.2585 -0.3968 -5.0266  0.1405\n",
       "stderr     0.3647  0.3816  0.8594  0.0570\n",
       "tvalue     3.4509 -1.0400 -5.8487  2.4649"
      ]
     },
     "execution_count": 5,
     "metadata": {},
     "output_type": "execute_result"
    }
   ],
   "source": [
    "data = data[data.index >= '1963-07']\n",
    "betas = least_squares(data, y=df.columns, x=['BETA'],\n",
    "                 stdres=True)[['BETA', 'stdres']]\n",
    "betas['BETA2'] = smf.ols(\"I(BETA**2) ~ BETA\", data=betas).fit().resid\n",
    "betas['RES'] = smf.ols(\"stdres ~ BETA\", data=betas).fit().resid\n",
    "r = rets[rets['Date'] >= '1963-07'].join(betas, on='port')\\\n",
    "                                .sort_values(['port', 'Date'], ignore_index=True)\n",
    "print(asset, wt, r['Date'].iloc[0], '-', r['Date'].iloc[-1])\n",
    "fm = r.groupby(by='Date')\\\n",
    "      .apply(least_squares, y=['ret'], x=['BETA','BETA2','RES'])\n",
    "DataFrame({'mean': fm.mean(), 'stderr': fm.sem(),\n",
    "           'tvalue': fm.mean() / fm.sem()}).T.round(4)"
   ]
  },
  {
   "cell_type": "markdown",
   "metadata": {},
   "source": [
    "## Fama MacBeth with individual stocks and standardized scores as loadings"
   ]
  },
  {
   "cell_type": "code",
   "execution_count": 18,
   "metadata": {},
   "outputs": [],
   "source": [
    "rebalbeg=19640601\n",
    "rebalend=LAST_DATE\n",
    "rebaldates = crsp.bd.date_range(rebalbeg, rebalend, 'endmo')\n",
    "loadings = dict()\n",
    "for pordate in rebaldates:             # retrieve signal values every month\n",
    "    date = bd.june_universe(pordate)\n",
    "    univ = crsp.get_universe(date)\n",
    "    cap = np.sqrt(crsp.get_cap(date)['cap'])\n",
    "    smb = -np.log(cap).rename('size')\n",
    "    hml = signals('hml', date, bd.endmo(date, -12))['hml'].rename('value')\n",
    "    beta = (signals('beta', pordate, bd.begmo(pordate))['beta']*2/3)+(1/3)\n",
    "    mom = signals('mom', pordate)['mom'].rename('momentum')\n",
    "    df = pd.concat((beta, hml, smb, mom),  # inner join of signals with univ\n",
    "                   join='inner', axis=1).reindex(univ.index).dropna()\n",
    "    loadings[pordate] = winsorized(df, quantiles=[0.05, 0.95])"
   ]
  },
  {
   "cell_type": "markdown",
   "metadata": {},
   "source": [
    "## Compute coefficients from FM cross-sectional regressions                        "
   ]
  },
  {
   "cell_type": "code",
   "execution_count": 19,
   "metadata": {},
   "outputs": [
    {
     "data": {
      "text/html": [
       "<div>\n",
       "<style scoped>\n",
       "    .dataframe tbody tr th:only-of-type {\n",
       "        vertical-align: middle;\n",
       "    }\n",
       "\n",
       "    .dataframe tbody tr th {\n",
       "        vertical-align: top;\n",
       "    }\n",
       "\n",
       "    .dataframe thead th {\n",
       "        text-align: right;\n",
       "    }\n",
       "</style>\n",
       "<table border=\"1\" class=\"dataframe\">\n",
       "  <thead>\n",
       "    <tr style=\"text-align: right;\">\n",
       "      <th></th>\n",
       "      <th>beta</th>\n",
       "      <th>momentum</th>\n",
       "      <th>size</th>\n",
       "      <th>value</th>\n",
       "    </tr>\n",
       "  </thead>\n",
       "  <tbody>\n",
       "    <tr>\n",
       "      <th>mean</th>\n",
       "      <td>0.007294</td>\n",
       "      <td>0.002216</td>\n",
       "      <td>0.002154</td>\n",
       "      <td>0.001815</td>\n",
       "    </tr>\n",
       "    <tr>\n",
       "      <th>stderr</th>\n",
       "      <td>0.002079</td>\n",
       "      <td>0.000574</td>\n",
       "      <td>0.000668</td>\n",
       "      <td>0.000374</td>\n",
       "    </tr>\n",
       "    <tr>\n",
       "      <th>std</th>\n",
       "      <td>0.054128</td>\n",
       "      <td>0.014940</td>\n",
       "      <td>0.017392</td>\n",
       "      <td>0.009729</td>\n",
       "    </tr>\n",
       "    <tr>\n",
       "      <th>count</th>\n",
       "      <td>678.000000</td>\n",
       "      <td>678.000000</td>\n",
       "      <td>678.000000</td>\n",
       "      <td>678.000000</td>\n",
       "    </tr>\n",
       "  </tbody>\n",
       "</table>\n",
       "</div>"
      ],
      "text/plain": [
       "              beta    momentum        size       value\n",
       "mean      0.007294    0.002216    0.002154    0.001815\n",
       "stderr    0.002079    0.000574    0.000668    0.000374\n",
       "std       0.054128    0.014940    0.017392    0.009729\n",
       "count   678.000000  678.000000  678.000000  678.000000"
      ]
     },
     "execution_count": 19,
     "metadata": {},
     "output_type": "execute_result"
    }
   ],
   "source": [
    "riskpremium = RiskPremium(user, bench, 'RF', LAST_DATE)\n",
    "riskpremium(crsp, loadings, weights=None, # FM regressions on standardized scores\n",
    "            standardize=['value' ,'size', 'momentum'])"
   ]
  },
  {
   "cell_type": "code",
   "execution_count": 20,
   "metadata": {},
   "outputs": [
    {
     "data": {
      "text/plain": [
       "permno\n",
       "10137   -0.120981\n",
       "10823   -0.816249\n",
       "11340    1.272437\n",
       "11404    1.438717\n",
       "11543    1.852920\n",
       "           ...   \n",
       "25283   -1.588819\n",
       "25443    1.852920\n",
       "25523   -0.576510\n",
       "25590    1.852920\n",
       "27385   -1.588819\n",
       "Name: value, Length: 76, dtype: float64"
      ]
     },
     "execution_count": 20,
     "metadata": {},
     "output_type": "execute_result"
    }
   ],
   "source": [
    "df = loadings[19640630]\n",
    "col='value'\n",
    "(df[col] - np.average(df[col], weights=None))/np.std(df[col])"
   ]
  },
  {
   "cell_type": "markdown",
   "metadata": {},
   "source": [
    "## Compare to benchmarks"
   ]
  },
  {
   "cell_type": "code",
   "execution_count": 21,
   "metadata": {},
   "outputs": [
    {
     "data": {
      "image/png": "[encoded data removed]",
      "text/plain": [
       "<Figure size 720x432 with 8 Axes>"
      ]
     },
     "metadata": {
      "needs_background": "light"
     },
     "output_type": "display_data"
    }
   ],
   "source": [
    "benchnames = {'beta': 'Mkt-RF(mo)', 'momentum': 'Mom(mo)',\n",
    "              'size':'SMB(mo)', 'value': 'HML(mo)'}\n",
    "out = riskpremium.fit(benchnames.values())    # compare portfolio-sort benchmarks\n",
    "riskpremium.plot(benchnames)\n",
    "plt.savefig(os.path.join(logdir, 'fm.jpg'))"
   ]
  },
  {
   "cell_type": "markdown",
   "metadata": {},
   "source": [
    "## Summarize time-series means"
   ]
  },
  {
   "cell_type": "code",
   "execution_count": 22,
   "metadata": {},
   "outputs": [
    {
     "name": "stdout",
     "output_type": "stream",
     "text": [
      "Fama MacBeth Estimated Factor and Benchmark Returns19640731\n"
     ]
    },
    {
     "data": {
      "text/html": [
       "<div>\n",
       "<style scoped>\n",
       "    .dataframe tbody tr th:only-of-type {\n",
       "        vertical-align: middle;\n",
       "    }\n",
       "\n",
       "    .dataframe tbody tr th {\n",
       "        vertical-align: top;\n",
       "    }\n",
       "\n",
       "    .dataframe thead th {\n",
       "        text-align: right;\n",
       "    }\n",
       "</style>\n",
       "<table border=\"1\" class=\"dataframe\">\n",
       "  <thead>\n",
       "    <tr style=\"text-align: right;\">\n",
       "      <th></th>\n",
       "      <th>beta</th>\n",
       "      <th>momentum</th>\n",
       "      <th>size</th>\n",
       "      <th>value</th>\n",
       "      <th>Mkt-RF(mo)</th>\n",
       "      <th>Mom(mo)</th>\n",
       "      <th>SMB(mo)</th>\n",
       "      <th>HML(mo)</th>\n",
       "    </tr>\n",
       "  </thead>\n",
       "  <tbody>\n",
       "    <tr>\n",
       "      <th>mean</th>\n",
       "      <td>0.007294</td>\n",
       "      <td>0.002216</td>\n",
       "      <td>0.002154</td>\n",
       "      <td>0.001815</td>\n",
       "      <td>0.005564</td>\n",
       "      <td>0.006325</td>\n",
       "      <td>0.002431</td>\n",
       "      <td>0.002371</td>\n",
       "    </tr>\n",
       "    <tr>\n",
       "      <th>stderr</th>\n",
       "      <td>0.002079</td>\n",
       "      <td>0.000574</td>\n",
       "      <td>0.000668</td>\n",
       "      <td>0.000374</td>\n",
       "      <td>0.001729</td>\n",
       "      <td>0.001631</td>\n",
       "      <td>0.001171</td>\n",
       "      <td>0.001108</td>\n",
       "    </tr>\n",
       "    <tr>\n",
       "      <th>std</th>\n",
       "      <td>0.054128</td>\n",
       "      <td>0.014940</td>\n",
       "      <td>0.017392</td>\n",
       "      <td>0.009729</td>\n",
       "      <td>0.045010</td>\n",
       "      <td>0.042464</td>\n",
       "      <td>0.030492</td>\n",
       "      <td>0.028845</td>\n",
       "    </tr>\n",
       "    <tr>\n",
       "      <th>count</th>\n",
       "      <td>678.000000</td>\n",
       "      <td>678.000000</td>\n",
       "      <td>678.000000</td>\n",
       "      <td>678.000000</td>\n",
       "      <td>678.000000</td>\n",
       "      <td>678.000000</td>\n",
       "      <td>678.000000</td>\n",
       "      <td>678.000000</td>\n",
       "    </tr>\n",
       "    <tr>\n",
       "      <th>tvalue</th>\n",
       "      <td>3.508963</td>\n",
       "      <td>3.862686</td>\n",
       "      <td>3.224795</td>\n",
       "      <td>4.857396</td>\n",
       "      <td>3.218954</td>\n",
       "      <td>3.878602</td>\n",
       "      <td>2.075559</td>\n",
       "      <td>2.139957</td>\n",
       "    </tr>\n",
       "    <tr>\n",
       "      <th>sharpe</th>\n",
       "      <td>0.466826</td>\n",
       "      <td>0.513884</td>\n",
       "      <td>0.429020</td>\n",
       "      <td>0.646218</td>\n",
       "      <td>0.428243</td>\n",
       "      <td>0.516001</td>\n",
       "      <td>0.276128</td>\n",
       "      <td>0.284696</td>\n",
       "    </tr>\n",
       "  </tbody>\n",
       "</table>\n",
       "</div>"
      ],
      "text/plain": [
       "              beta    momentum        size       value  Mkt-RF(mo)  \\\n",
       "mean      0.007294    0.002216    0.002154    0.001815    0.005564   \n",
       "stderr    0.002079    0.000574    0.000668    0.000374    0.001729   \n",
       "std       0.054128    0.014940    0.017392    0.009729    0.045010   \n",
       "count   678.000000  678.000000  678.000000  678.000000  678.000000   \n",
       "tvalue    3.508963    3.862686    3.224795    4.857396    3.218954   \n",
       "sharpe    0.466826    0.513884    0.429020    0.646218    0.428243   \n",
       "\n",
       "           Mom(mo)     SMB(mo)     HML(mo)  \n",
       "mean      0.006325    0.002431    0.002371  \n",
       "stderr    0.001631    0.001171    0.001108  \n",
       "std       0.042464    0.030492    0.028845  \n",
       "count   678.000000  678.000000  678.000000  \n",
       "tvalue    3.878602    2.075559    2.139957  \n",
       "sharpe    0.516001    0.276128    0.284696  "
      ]
     },
     "execution_count": 22,
     "metadata": {},
     "output_type": "execute_result"
    }
   ],
   "source": [
    "df = out[3].join(out[0])\n",
    "df.loc['tvalue'] = df.loc['mean']/df.loc['stderr']\n",
    "df.loc['sharpe'] = np.sqrt(12) * df.loc['mean']/df.loc['std']\n",
    "print(f'Fama MacBeth Estimated Factor and Benchmark Returns'\n",
    "      f'{riskpremium.perf.index[0]}')\n",
    "df"
   ]
  },
  {
   "cell_type": "markdown",
   "metadata": {},
   "source": [
    "## Display correlations of returns"
   ]
  },
  {
   "cell_type": "code",
   "execution_count": 23,
   "metadata": {},
   "outputs": [
    {
     "name": "stdout",
     "output_type": "stream",
     "text": [
      "Correlation of Fama MacBeth Estimated Factor and Benchmark Returns\n"
     ]
    },
    {
     "data": {
      "text/html": [
       "<div>\n",
       "<style scoped>\n",
       "    .dataframe tbody tr th:only-of-type {\n",
       "        vertical-align: middle;\n",
       "    }\n",
       "\n",
       "    .dataframe tbody tr th {\n",
       "        vertical-align: top;\n",
       "    }\n",
       "\n",
       "    .dataframe thead th {\n",
       "        text-align: right;\n",
       "    }\n",
       "</style>\n",
       "<table border=\"1\" class=\"dataframe\">\n",
       "  <thead>\n",
       "    <tr style=\"text-align: right;\">\n",
       "      <th></th>\n",
       "      <th>beta</th>\n",
       "      <th>momentum</th>\n",
       "      <th>size</th>\n",
       "      <th>value</th>\n",
       "      <th>Mkt-RF(mo)</th>\n",
       "      <th>Mom(mo)</th>\n",
       "      <th>SMB(mo)</th>\n",
       "      <th>HML(mo)</th>\n",
       "    </tr>\n",
       "  </thead>\n",
       "  <tbody>\n",
       "    <tr>\n",
       "      <th>beta</th>\n",
       "      <td>1.000000</td>\n",
       "      <td>-0.255062</td>\n",
       "      <td>0.322456</td>\n",
       "      <td>-0.002896</td>\n",
       "      <td>0.875666</td>\n",
       "      <td>-0.287668</td>\n",
       "      <td>0.643982</td>\n",
       "      <td>-0.122100</td>\n",
       "    </tr>\n",
       "    <tr>\n",
       "      <th>momentum</th>\n",
       "      <td>-0.255062</td>\n",
       "      <td>1.000000</td>\n",
       "      <td>-0.135689</td>\n",
       "      <td>-0.286902</td>\n",
       "      <td>-0.062397</td>\n",
       "      <td>0.842998</td>\n",
       "      <td>-0.069883</td>\n",
       "      <td>-0.252066</td>\n",
       "    </tr>\n",
       "    <tr>\n",
       "      <th>size</th>\n",
       "      <td>0.322456</td>\n",
       "      <td>-0.135689</td>\n",
       "      <td>1.000000</td>\n",
       "      <td>-0.164411</td>\n",
       "      <td>-0.033128</td>\n",
       "      <td>0.088829</td>\n",
       "      <td>0.572393</td>\n",
       "      <td>-0.124813</td>\n",
       "    </tr>\n",
       "    <tr>\n",
       "      <th>value</th>\n",
       "      <td>-0.002896</td>\n",
       "      <td>-0.286902</td>\n",
       "      <td>-0.164411</td>\n",
       "      <td>1.000000</td>\n",
       "      <td>-0.054969</td>\n",
       "      <td>-0.244092</td>\n",
       "      <td>-0.040834</td>\n",
       "      <td>0.781361</td>\n",
       "    </tr>\n",
       "  </tbody>\n",
       "</table>\n",
       "</div>"
      ],
      "text/plain": [
       "              beta  momentum      size     value  Mkt-RF(mo)   Mom(mo)  \\\n",
       "beta      1.000000 -0.255062  0.322456 -0.002896    0.875666 -0.287668   \n",
       "momentum -0.255062  1.000000 -0.135689 -0.286902   -0.062397  0.842998   \n",
       "size      0.322456 -0.135689  1.000000 -0.164411   -0.033128  0.088829   \n",
       "value    -0.002896 -0.286902 -0.164411  1.000000   -0.054969 -0.244092   \n",
       "\n",
       "           SMB(mo)   HML(mo)  \n",
       "beta      0.643982 -0.122100  \n",
       "momentum -0.069883 -0.252066  \n",
       "size      0.572393 -0.124813  \n",
       "value    -0.040834  0.781361  "
      ]
     },
     "execution_count": 23,
     "metadata": {},
     "output_type": "execute_result"
    }
   ],
   "source": [
    "print('Correlation of Fama MacBeth Estimated Factor and Benchmark Returns')\n",
    "out[4].join(out[2])"
   ]
  },
  {
   "cell_type": "code",
   "execution_count": null,
   "metadata": {},
   "outputs": [],
   "source": []
  },
  {
   "cell_type": "code",
   "execution_count": null,
   "metadata": {},
   "outputs": [],
   "source": []
  }
 ],
 "metadata": {
  "kernelspec": {
   "display_name": "Python 3",
   "language": "python",
   "name": "python3"
  },
  "language_info": {
   "codemirror_mode": {
    "name": "ipython",
    "version": 3
   },
   "file_extension": ".py",
   "mimetype": "text/x-python",
   "name": "python",
   "nbconvert_exporter": "python",
   "pygments_lexer": "ipython3",
   "version": "3.7.10"
  }
 },
 "nbformat": 4,
 "nbformat_minor": 2
}
