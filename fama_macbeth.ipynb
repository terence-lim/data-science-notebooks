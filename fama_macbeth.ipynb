{
 "cells": [
  {
   "cell_type": "markdown",
   "id": "43fd8c2e",
   "metadata": {},
   "source": [
    "# Fama-Macbeth Cross-sectional Regressions\n",
    "\n",
    "\n",
    "_If you don’t risk anything, you risk even more_ – Erica Jong\n",
    "\n",
    "Concepts\n",
    "- Portfolio Optimization, CAPM, Black-Litterman\n",
    "- Tests of the CAPM, cross-sectional regression\n",
    "- Polynomial regression, feature transformations, kernel trick\n",
    "- Kernel regression\n",
    "\n",
    "References\n",
    "- H. M. Markowitz, “Portfolio Selection,” Journal of Finance 7, 1952, pp. 77–91.\n",
    "- W. F. Sharpe, “Capital Asset Prices: A Theory of Market Equilibrium under Conditions of Risk,” Journal of Finance 19, 1964, pp. 425–442. \n",
    "- J. Lintner, “Security Prices, Risk and Maximal Gains from Diversification,” Journal of Finance 20, 1965, pp. 587–615, and J. Mossin, “Equilibrium in a Capital Asset Market,” Econometrica 34, 1966, pp, 768–783. \n",
    "- Fama, Eugene F.; MacBeth, James D. (1973). \"Risk, Return, and Equilibrium: Empirical Tests\". Journal of Political Economy. 81 (3): 607–636.\n",
    "- Black, F., and R. Litterman. 1992. “Global Portfolio Optimization.” Financial Analysts Journal, vol. 48, no. 5 (September/October): 28-43\n",
    "- He, G., and R. Litterman. 1999. “The Intuition Behind Black-Litterman Model Portfolios.” Goldman Sachs Investment Management Series.\n",
    "- FRM Part I Exam Book Foundations of Risk Management Ch. 5.\n"
   ]
  },
  {
   "cell_type": "code",
   "execution_count": 1,
   "id": "b26155f2",
   "metadata": {},
   "outputs": [],
   "source": [
    "import numpy as np\n",
    "from numpy import linalg as la\n",
    "import pandas as pd\n",
    "from pandas import DataFrame, Series\n",
    "import matplotlib.pyplot as plt\n",
    "import statsmodels.formula.api as smf\n",
    "from sklearn.kernel_ridge import KernelRidge\n",
    "import random\n",
    "from tqdm import tqdm\n",
    "import cvxpy as cp\n",
    "from finds.database import SQL, RedisDB\n",
    "from finds.structured import (BusDay, Signals, Benchmarks, CRSP,\n",
    "                              CRSPBuffer, SignalsFrame)\n",
    "from finds.backtesting import RiskPremium\n",
    "from finds.recipes import winsorize, least_squares\n",
    "from finds.readers import FFReader\n",
    "from secret import credentials, paths, CRSP_DATE\n",
    "VERBOSE = 0\n",
    "#%matplotlib qt"
   ]
  },
  {
   "cell_type": "code",
   "execution_count": 2,
   "id": "50ed17c9",
   "metadata": {},
   "outputs": [],
   "source": [
    "# open connections\n",
    "sql = SQL(**credentials['sql'], verbose=VERBOSE)\n",
    "user = SQL(**credentials['user'], verbose=VERBOSE)\n",
    "rdb = RedisDB(**credentials['redis'])\n",
    "bd = BusDay(sql, verbose=VERBOSE)\n",
    "crsp = CRSP(sql, bd, rdb=rdb, verbose=VERBOSE)\n",
    "signals = Signals(user, verbose=VERBOSE)\n",
    "bench = Benchmarks(sql, bd, verbose=VERBOSE)\n",
    "imgdir = paths['images']\n",
    "LAST_DATE = bd.endmo(CRSP_DATE, -1)"
   ]
  },
  {
   "cell_type": "code",
   "execution_count": 3,
   "id": "519f120b",
   "metadata": {},
   "outputs": [],
   "source": [
    "import warnings\n",
    "warnings.simplefilter(action='ignore', category=FutureWarning)"
   ]
  },
  {
   "cell_type": "markdown",
   "id": "803a2df7",
   "metadata": {},
   "source": [
    "## Mean variance optimization\n",
    "\n",
    "Given two investments with the same expected return (as measured by the mean of the returns), Markotwitz demonstrated that a risk-averse investor will select the one with the lowest risk (as measured by the variance). Markowitz’s theory relies on several assumption including the absence of market frictions (such as no taxes or transaction costs, perfect market competition), as well as normally distributed returns. \n",
    "\n",
    "The assumption of normally distributed returns implies that a “rational investor”  should evaluate potential portfolio allocations based entirely upon the associated means and variances of the return distributions. With all else being equal, investors prefer a higher mean return and a lower variance, and seek to reduce the variance of their portfolio returns by diversifying their investments with assets that whose prices do not move in lockstep with one another.\n",
    "\n",
    "A major implementation issue with this framework comes when estimating the parameters required to apply the model (i.e., the mean and the variance of returns, along with correlations between each asset in the portfolio). These parameters are typically estimated using historical data over a certain period of time, but the resulting allocation can differ greatly depending on which historical or forecast data are used. \n",
    "There are several methodologies that have been used to deal with the problem of the uncertainty about these parameters, such as robust portfolio optimization and the Black-Litterman model.\n"
   ]
  },
  {
   "cell_type": "code",
   "execution_count": 4,
   "id": "540fa999",
   "metadata": {},
   "outputs": [],
   "source": [
    "# Retrieve test asset returns and risk-free rate   \n",
    "symbol = '6_Portfolios_2x3'\n",
    "ff = FFReader(symbol)\n",
    "rf = FFReader('F-F_Research_Data_Factors')[0]['RF'] / 100  # risk-free rates\n",
    "mktcaps = ff[4] * ff[5]  # number of firms x average market cap\n",
    "labels = [s.replace('ME1', 'BIG').replace('ME2', 'SMALL') for s in mktcaps.columns]\n",
    "n = len(labels)"
   ]
  },
  {
   "cell_type": "code",
   "execution_count": 5,
   "id": "bcb55210",
   "metadata": {},
   "outputs": [],
   "source": [
    "r = (ff[0]/100).sub(rf.fillna(0), axis=0)    # excess, of the risk-free, returns\n",
    "sigma = np.cov(r, rowvar=False)\n",
    "mu = np.mean(r, axis=0).values\n",
    "assets = DataFrame(data={'mean': mu, 'volatility': np.sqrt(np.diag(sigma))}, index=labels)"
   ]
  },
  {
   "cell_type": "code",
   "execution_count": 6,
   "id": "8bbfc94d",
   "metadata": {
    "lines_to_next_cell": 2
   },
   "outputs": [
    {
     "data": {
      "text/html": [
       "<div>\n",
       "<style scoped>\n",
       "    .dataframe tbody tr th:only-of-type {\n",
       "        vertical-align: middle;\n",
       "    }\n",
       "\n",
       "    .dataframe tbody tr th {\n",
       "        vertical-align: top;\n",
       "    }\n",
       "\n",
       "    .dataframe thead th {\n",
       "        text-align: right;\n",
       "    }\n",
       "</style>\n",
       "<table border=\"1\" class=\"dataframe\">\n",
       "  <thead>\n",
       "    <tr style=\"text-align: right;\">\n",
       "      <th></th>\n",
       "      <th>SMALL LoBM</th>\n",
       "      <th>BIG BM2</th>\n",
       "      <th>SMALL HiBM</th>\n",
       "      <th>BIG LoBM</th>\n",
       "      <th>SMALL BM2</th>\n",
       "      <th>BIG HiBM</th>\n",
       "      <th>Mkt</th>\n",
       "    </tr>\n",
       "  </thead>\n",
       "  <tbody>\n",
       "    <tr>\n",
       "      <th>mean</th>\n",
       "      <td>0.007035</td>\n",
       "      <td>0.009628</td>\n",
       "      <td>0.011497</td>\n",
       "      <td>0.006759</td>\n",
       "      <td>0.006898</td>\n",
       "      <td>0.009195</td>\n",
       "      <td>0.007051</td>\n",
       "    </tr>\n",
       "    <tr>\n",
       "      <th>volatility</th>\n",
       "      <td>0.074820</td>\n",
       "      <td>0.069733</td>\n",
       "      <td>0.081141</td>\n",
       "      <td>0.053040</td>\n",
       "      <td>0.056313</td>\n",
       "      <td>0.071363</td>\n",
       "      <td>0.053834</td>\n",
       "    </tr>\n",
       "  </tbody>\n",
       "</table>\n",
       "</div>"
      ],
      "text/plain": [
       "            SMALL LoBM   BIG BM2  SMALL HiBM  BIG LoBM  SMALL BM2  BIG HiBM  \\\n",
       "mean          0.007035  0.009628    0.011497  0.006759   0.006898  0.009195   \n",
       "volatility    0.074820  0.069733    0.081141  0.053040   0.056313  0.071363   \n",
       "\n",
       "                 Mkt  \n",
       "mean        0.007051  \n",
       "volatility  0.053834  "
      ]
     },
     "execution_count": 6,
     "metadata": {},
     "output_type": "execute_result"
    }
   ],
   "source": [
    "mkt = {'weights': (mktcaps.iloc[-1]/mktcaps.iloc[-1].sum()).values}  # latest caps\n",
    "mkt['mean'] = mkt['weights'].dot(mu)\n",
    "mkt['variance'] = mkt['weights'].dot(sigma).dot(mkt['weights'])\n",
    "pd.concat([assets.T, Series({'mean': mkt['mean'], 'volatility': np.sqrt(mkt['variance'])},\n",
    "                            name='Mkt')], axis=1)"
   ]
  },
  {
   "cell_type": "markdown",
   "id": "71e772d9",
   "metadata": {},
   "source": [
    "### Global minimum variance portfolio\n",
    "\n",
    "Given estimates of assets' variances and their correlations with each other, the Global Minimum Variance (GMV) portolio identifies the allocation that achieves the lowest risk (and ignores mean returns).  It is a convex (quadratic) optimization problem, with constraint that the portfolio weights must sum to 1. The Python package conveniently solves such problems numerically: $\\min_w w^T \\Sigma w$, such that $w^T 1 = 1$. "
   ]
  },
  {
   "cell_type": "code",
   "execution_count": 7,
   "id": "eed4b955",
   "metadata": {},
   "outputs": [],
   "source": [
    "W = cp.Variable(n)   # variable to optimize over - portfolio weights\n",
    "Var = cp.quad_form(W, sigma)    # objective to minimize portfolio volatility\n",
    "Ret = mu.T @ W                  # objective to maximize portfolio return"
   ]
  },
  {
   "cell_type": "code",
   "execution_count": 8,
   "id": "4762b892",
   "metadata": {
    "lines_to_next_cell": 1
   },
   "outputs": [],
   "source": [
    "obj = cp.Problem(cp.Minimize(Var), [cp.sum(W) == 1])\n",
    "obj.solve()\n",
    "gmv = dict(weights=W.value, variance=Var.value, mean=Ret.value,\n",
    "              coords=(np.sqrt(Var.value), Ret.value))"
   ]
  },
  {
   "cell_type": "markdown",
   "id": "62bfe10a",
   "metadata": {},
   "source": [
    "The GMV portfolio weights can also be derived in closed form solution by differentiating the (convex) objective function and setting the FOC to zero: GMV $= \\dfrac{\\Sigma^{-1} 1}{1^T \\Sigma^{-1} 1}$\n",
    "\n"
   ]
  },
  {
   "cell_type": "code",
   "execution_count": 9,
   "id": "b237c822",
   "metadata": {},
   "outputs": [],
   "source": [
    "def gmv_portfolio(sigma, mu=None):\n",
    "    \"\"\"Returns position weights of global minimum variance portfolio\"\"\"\n",
    "    ones = np.ones((sigma.shape[0], 1))\n",
    "    w = la.inv(sigma).dot(ones) / ones.T.dot(la.inv(sigma)).dot(ones)\n",
    "    return {'weights': w, 'volatility': np.sqrt(w.T.dot(sigma).dot(w)),\n",
    "            'mean': None if mu is None else w.T.dot(mu)}"
   ]
  },
  {
   "cell_type": "code",
   "execution_count": 10,
   "id": "416e9c4e",
   "metadata": {
    "lines_to_next_cell": 2
   },
   "outputs": [
    {
     "data": {
      "text/html": [
       "<div>\n",
       "<style scoped>\n",
       "    .dataframe tbody tr th:only-of-type {\n",
       "        vertical-align: middle;\n",
       "    }\n",
       "\n",
       "    .dataframe tbody tr th {\n",
       "        vertical-align: top;\n",
       "    }\n",
       "\n",
       "    .dataframe thead th {\n",
       "        text-align: right;\n",
       "    }\n",
       "</style>\n",
       "<table border=\"1\" class=\"dataframe\">\n",
       "  <thead>\n",
       "    <tr style=\"text-align: right;\">\n",
       "      <th></th>\n",
       "      <th>SMALL LoBM</th>\n",
       "      <th>BIG BM2</th>\n",
       "      <th>SMALL HiBM</th>\n",
       "      <th>BIG LoBM</th>\n",
       "      <th>SMALL BM2</th>\n",
       "      <th>BIG HiBM</th>\n",
       "    </tr>\n",
       "  </thead>\n",
       "  <tbody>\n",
       "    <tr>\n",
       "      <th>numerical</th>\n",
       "      <td>-0.487434</td>\n",
       "      <td>0.674154</td>\n",
       "      <td>-0.332693</td>\n",
       "      <td>0.789665</td>\n",
       "      <td>0.830716</td>\n",
       "      <td>-0.474408</td>\n",
       "    </tr>\n",
       "    <tr>\n",
       "      <th>formula</th>\n",
       "      <td>-0.487434</td>\n",
       "      <td>0.674154</td>\n",
       "      <td>-0.332693</td>\n",
       "      <td>0.789665</td>\n",
       "      <td>0.830716</td>\n",
       "      <td>-0.474408</td>\n",
       "    </tr>\n",
       "  </tbody>\n",
       "</table>\n",
       "</div>"
      ],
      "text/plain": [
       "           SMALL LoBM   BIG BM2  SMALL HiBM  BIG LoBM  SMALL BM2  BIG HiBM\n",
       "numerical   -0.487434  0.674154   -0.332693  0.789665   0.830716 -0.474408\n",
       "formula     -0.487434  0.674154   -0.332693  0.789665   0.830716 -0.474408"
      ]
     },
     "execution_count": 10,
     "metadata": {},
     "output_type": "execute_result"
    }
   ],
   "source": [
    "w = gmv_portfolio(mu=mu, sigma=sigma)['weights']\n",
    "pd.concat([Series(gmv['weights']).rename('numerical'),\n",
    "           Series(w.flatten()).rename('formula')], axis=1)\\\n",
    "  .set_index(assets.index).T"
   ]
  },
  {
   "cell_type": "markdown",
   "id": "7e60cf3d",
   "metadata": {},
   "source": [
    "### Efficient frontier\n",
    "\n",
    "Each point on the efficient frontier curve represents the portfolio of risky assets that is expected to offer the highest return for the given level of risk as measured by the standard deviation of returns $\\sigma$. A line is drawn from the risk-free rate becomes tangent to the efficient frontier at the point called the __tangency portfolio__.  Portfolios that lie on this line, called the __capital market line__, given by $E(R_p) = r_f + \\dfrac{E[R_M] - r_f}{\\sigma_M} \\sigma_p$, dominate all portfolios on the efficient frontier.  In other words, a tangency portfolio is a portfolio that lies at the point where the efficient frontier is tangent to the highest possible capital market line (CML) in the risk-return space. \n",
    "The implication of the Capital Market Line is that all investors should allocate to the risk-free asset and the tangency market portfolio. This is called the __two fund separation theorem__."
   ]
  },
  {
   "cell_type": "code",
   "execution_count": 11,
   "id": "fc8ee410",
   "metadata": {},
   "outputs": [],
   "source": [
    "var_ticks = np.linspace(gmv['variance'], 3*np.max(np.diag(sigma)), 200)\n",
    "best_slope, tangency = 0, tuple()    # to find the tangency portfolio\n",
    "efficient = []\n",
    "for var in var_ticks:\n",
    "    obj = cp.Problem(cp.Maximize(Ret), [cp.sum(W) == 1, Var <= var])\n",
    "    obj.solve(verbose=False)\n",
    "\n",
    "    # tangency portfolio has best slope\n",
    "    risk = np.sqrt(var)\n",
    "    slope = Ret.value / risk\n",
    "    if slope > best_slope:\n",
    "        best_slope = slope\n",
    "        tangency = {'coords': (risk, Ret.value), 'weights': W.value}\n",
    "    efficient.append(dict(mean=Ret.value, volatility=risk))"
   ]
  },
  {
   "cell_type": "code",
   "execution_count": 12,
   "id": "ca8b5e5c",
   "metadata": {
    "lines_to_next_cell": 1
   },
   "outputs": [],
   "source": [
    "frontier = []     # inefficient frontier\n",
    "for var in var_ticks:\n",
    "    obj = cp.Problem(cp.Minimize(Ret), [cp.sum(W) == 1, Var <= var])\n",
    "    obj.solve(verbose=False)\n",
    "    frontier.append(dict(mean=Ret.value, volatility=np.sqrt(var)))"
   ]
  },
  {
   "cell_type": "markdown",
   "id": "f4d3ce4c",
   "metadata": {},
   "source": [
    "The efficient and tangency portfolios can also be solved with closed form solutions.\n",
    "\n",
    "- Efficient portfolio (target return $\\mu_0$) = $\\Sigma^{-1} M (M^T \\Sigma^{-1} M)^{-1} [\\mu_0 \\ 1]^T$, where $M=[\\mu \\ 1]$\n",
    "\n",
    "- Tangency portfolio = $\\dfrac{\\Sigma^{-1} \\mu}{1^T \\Sigma ^{-1} \\mu}$\n",
    "\n",
    "Furthermore, any portfolio on the efficient frontier is a linear combination of any two other efficient portfolios.\n"
   ]
  },
  {
   "cell_type": "code",
   "execution_count": 13,
   "id": "619d581c",
   "metadata": {},
   "outputs": [],
   "source": [
    "def efficient_portfolio(mu, sigma, target):\n",
    "    \"\"\"Returns weights of minimum variance portfolio that exceeds target return\"\"\"\n",
    "    mu = mu.flatten()\n",
    "    n = len(mu)\n",
    "    ones = np.ones((n, 1))\n",
    "    M = np.hstack([mu.reshape(-1, 1), ones])\n",
    "    B = M.T.dot(la.inv(sigma)).dot(M)\n",
    "    w = la.inv(sigma).dot(M).dot(la.inv(B)).dot(np.array([[target], [1]]))\n",
    "    return {'weights': w, 'volatility': np.sqrt(float(w.T.dot(sigma).dot(w))),\n",
    "            'mean': float(w.T.dot(mu))}"
   ]
  },
  {
   "cell_type": "code",
   "execution_count": 14,
   "id": "f22c976a",
   "metadata": {
    "lines_to_next_cell": 1
   },
   "outputs": [
    {
     "name": "stderr",
     "output_type": "stream",
     "text": [
      "/tmp/ipykernel_3511161/3388186085.py:9: DeprecationWarning: Conversion of an array with ndim > 0 to a scalar is deprecated, and will error in future. Ensure you extract a single element from your array before performing this operation. (Deprecated NumPy 1.25.)\n",
      "  return {'weights': w, 'volatility': np.sqrt(float(w.T.dot(sigma).dot(w))),\n",
      "/tmp/ipykernel_3511161/3388186085.py:10: DeprecationWarning: Conversion of an array with ndim > 0 to a scalar is deprecated, and will error in future. Ensure you extract a single element from your array before performing this operation. (Deprecated NumPy 1.25.)\n",
      "  'mean': float(w.T.dot(mu))}\n"
     ]
    }
   ],
   "source": [
    "p = random.choice(efficient)\n",
    "e = efficient_portfolio(mu,sigma, p['mean'])\n",
    "df = DataFrame({'random efficient portfolio': p,\n",
    "                'by formula': dict(mean=e['mean'], volatility=e['volatility'])})"
   ]
  },
  {
   "cell_type": "code",
   "execution_count": 15,
   "id": "9f73ae41",
   "metadata": {
    "lines_to_next_cell": 1
   },
   "outputs": [],
   "source": [
    "def tangency_portfolio(mu, sigma):\n",
    "    \"\"\"Returns weights of tangency portfolio with largest slope (sharpe ratio)\"\"\"\n",
    "    mu = mu.flatten()\n",
    "    n = len(mu)\n",
    "    ones = np.ones((n, 1))\n",
    "    w = la.inv(sigma).dot(mu)/ones.T.dot(la.inv(sigma).dot(mu))\n",
    "    return {'weights': w, 'mean': float(w.T.dot(mu)),\n",
    "            'volatility': np.sqrt(float(w.T.dot(sigma).dot(w)))}"
   ]
  },
  {
   "cell_type": "code",
   "execution_count": 16,
   "id": "3eb59865",
   "metadata": {},
   "outputs": [],
   "source": [
    "s = tangency_portfolio(mu, sigma)"
   ]
  },
  {
   "cell_type": "code",
   "execution_count": 17,
   "id": "daabff15",
   "metadata": {
    "lines_to_next_cell": 2
   },
   "outputs": [
    {
     "data": {
      "text/html": [
       "<div>\n",
       "<style scoped>\n",
       "    .dataframe tbody tr th:only-of-type {\n",
       "        vertical-align: middle;\n",
       "    }\n",
       "\n",
       "    .dataframe tbody tr th {\n",
       "        vertical-align: top;\n",
       "    }\n",
       "\n",
       "    .dataframe thead th {\n",
       "        text-align: right;\n",
       "    }\n",
       "</style>\n",
       "<table border=\"1\" class=\"dataframe\">\n",
       "  <thead>\n",
       "    <tr style=\"text-align: right;\">\n",
       "      <th></th>\n",
       "      <th>tangency portfolio</th>\n",
       "      <th>tangency formula</th>\n",
       "      <th>random efficient portfolio</th>\n",
       "      <th>by formula</th>\n",
       "    </tr>\n",
       "  </thead>\n",
       "  <tbody>\n",
       "    <tr>\n",
       "      <th>volatility</th>\n",
       "      <td>0.081199</td>\n",
       "      <td>0.081108</td>\n",
       "      <td>0.137064</td>\n",
       "      <td>0.137064</td>\n",
       "    </tr>\n",
       "    <tr>\n",
       "      <th>mean</th>\n",
       "      <td>0.017051</td>\n",
       "      <td>0.017031</td>\n",
       "      <td>0.027701</td>\n",
       "      <td>0.027701</td>\n",
       "    </tr>\n",
       "  </tbody>\n",
       "</table>\n",
       "</div>"
      ],
      "text/plain": [
       "            tangency portfolio  tangency formula  random efficient portfolio  \\\n",
       "volatility            0.081199          0.081108                    0.137064   \n",
       "mean                  0.017051          0.017031                    0.027701   \n",
       "\n",
       "            by formula  \n",
       "volatility    0.137064  \n",
       "mean          0.027701  "
      ]
     },
     "execution_count": 17,
     "metadata": {},
     "output_type": "execute_result"
    }
   ],
   "source": [
    "# show numerical and formulas are same solution\n",
    "DataFrame({'tangency portfolio': list(tangency['coords']),\n",
    "           'tangency formula': [s['volatility'], s['mean']]},\n",
    "          index=['volatility', 'mean']).join(df)"
   ]
  },
  {
   "cell_type": "markdown",
   "id": "ff2f566a",
   "metadata": {},
   "source": [
    "Plot efficient frontier and portfolios"
   ]
  },
  {
   "cell_type": "code",
   "execution_count": 18,
   "id": "11af5c28",
   "metadata": {},
   "outputs": [
    {
     "data": {
      "image/png": "[encoded data removed]",
      "text/plain": [
       "<Figure size 1000x900 with 1 Axes>"
      ]
     },
     "metadata": {},
     "output_type": "display_data"
    }
   ],
   "source": [
    "fig, ax = plt.subplots(figsize=(10, 9))\n",
    "DataFrame(efficient).set_index('volatility').plot(ax=ax, color='darkblue')\n",
    "DataFrame(frontier).set_index('volatility').plot(ax=ax, color='lightgrey')\n",
    "ax.plot([0, np.sqrt(max(var_ticks))], [0, np.sqrt(max(var_ticks))*best_slope],\n",
    "        color='cyan')  # capital market line\n",
    "ax.plot(*tangency['coords'], \"r*\", ms=10)                    # tangency portfolio\n",
    "ax.plot(np.sqrt(gmv['variance']), gmv['mean'], \"ms\", ms=8)   # GMV portfolio\n",
    "ax.plot(np.sqrt(mkt['variance']), mkt['mean'], \"yd\", ms=10)  # market portfolio\n",
    "plt.legend(['Efficient Frontier', 'Inefficient Frontier', 'Capital Market Line',\n",
    "            'Tangency Portfolio', 'Global Minimum Variance Portfolio', 'Market'])\n",
    "for c, r in enumerate(assets.itertuples()):   # risky assets\n",
    "    ax.plot(r.volatility, r.mean, marker='o', color=f\"C{c}\")\n",
    "    ax.annotate(text=r.Index, xy=(r.volatility, r.mean),\n",
    "                xytext=(0.5, 0), textcoords=\"offset fontsize\", color=f\"C{c}\")\n",
    "ax.set_xlabel('Standard Deviation (risk)')\n",
    "ax.set_ylabel('Average Monthly Excess Returns')\n",
    "ax.set_title('Efficient Frontier with FF 3x2 BM-Size Risky Assets')\n",
    "plt.tight_layout()"
   ]
  },
  {
   "cell_type": "markdown",
   "id": "fda205d8",
   "metadata": {
    "lines_to_next_cell": 2
   },
   "source": [
    "### CAPM\n",
    "\n",
    "Sharpe, Lintner, and Mossin derived an equilibrium model showing the relationship between the risk and expected return of a risky asset.\n",
    "\n",
    "The derivation of CAPM includes several crucial assumptions, some of which are the same as those used by Markowitz.\n",
    "The CAPM model shows that market equilibrium is achieved when all investors hold portfolios consisting of the riskless asset and the market portfolio described earlier. Each investor’s portfolio is just a combination of these two, with the proportional allocation between them being a function of the individual investor’s risk appetite. Accordingly, the expected return on a risky asset is deter-mined by that asset’s relative contribution to the market portfolio’s total risk. In this case, the relevant measure of risk is the risk that cannot be diversified away (i.e., non-diversifiable risk or systematic risk). This means that investors should only be compensated for the risk that cannot be eliminated by diversification.\n",
    "\n",
    "Specifically, the total risk of a risky asset is decomposed into two components -- a systematic component proxied by the asset's beta $\\beta_i = \\dfrac{cov(R_i, R_M)}{var(R_M)}$, and a idiosyncratic component that can be diversified away. \n",
    "\n",
    "The __security market line__ gives the relationship between the expected return for individual assets and risk as proxied by beta $E(R_i) = r_f + \\beta_i (E[R_M] - r_f)$.\n"
   ]
  },
  {
   "cell_type": "markdown",
   "id": "e00b88da",
   "metadata": {},
   "source": [
    "## Implied alphas\n",
    "\n",
    "If some portfolio allocation $W$ is known to be solution of some mean-variance objective above, then we can infer the mean returns input if given the covariance matrix. In other words, these __implied alphas__, which are proportional to $w^T \\Sigma$, when input as the mean returns vector along with the same covariance matrix, delivers $W$ as the mean-variance optimization solution.\n"
   ]
  },
  {
   "cell_type": "code",
   "execution_count": 19,
   "id": "dc59f02c",
   "metadata": {},
   "outputs": [],
   "source": [
    "# market cap-weighted portfolio implied expected returns\n",
    "capm = mkt['weights'].dot(sigma) * 2"
   ]
  },
  {
   "cell_type": "code",
   "execution_count": 20,
   "id": "54ad88cc",
   "metadata": {},
   "outputs": [],
   "source": [
    "# HML implied alphas\n",
    "hml = Series(0.0, index=assets.index)\n",
    "hml['BIG HiBM'] = 0.5\n",
    "hml['SMALL HiBM'] = 0.5\n",
    "hml['BIG LoBM'] = -0.5\n",
    "hml['SMALL LoBM'] = -0.5\n",
    "#hml = {'weights': hml.values}\n",
    "#hml['variance'] = hml['weights'].dot(sigma).dot(hml['weights'])\n",
    "#hml['coords'] = (np.sqrt(hml['variance']), hml['weights'].dot(mu))\n",
    "alphas = hml.dot(sigma) * 2"
   ]
  },
  {
   "cell_type": "code",
   "execution_count": 21,
   "id": "a85fa551",
   "metadata": {},
   "outputs": [
    {
     "data": {
      "text/html": [
       "<div>\n",
       "<style scoped>\n",
       "    .dataframe tbody tr th:only-of-type {\n",
       "        vertical-align: middle;\n",
       "    }\n",
       "\n",
       "    .dataframe tbody tr th {\n",
       "        vertical-align: top;\n",
       "    }\n",
       "\n",
       "    .dataframe thead th {\n",
       "        text-align: right;\n",
       "    }\n",
       "</style>\n",
       "<table border=\"1\" class=\"dataframe\">\n",
       "  <thead>\n",
       "    <tr style=\"text-align: right;\">\n",
       "      <th></th>\n",
       "      <th>SMALL LoBM</th>\n",
       "      <th>BIG BM2</th>\n",
       "      <th>SMALL HiBM</th>\n",
       "      <th>BIG LoBM</th>\n",
       "      <th>SMALL BM2</th>\n",
       "      <th>BIG HiBM</th>\n",
       "    </tr>\n",
       "  </thead>\n",
       "  <tbody>\n",
       "    <tr>\n",
       "      <th>HML weights</th>\n",
       "      <td>-0.500000</td>\n",
       "      <td>0.000000</td>\n",
       "      <td>0.500000</td>\n",
       "      <td>-0.500000</td>\n",
       "      <td>0.000000</td>\n",
       "      <td>0.500000</td>\n",
       "    </tr>\n",
       "    <tr>\n",
       "      <th>HML implied-alpha</th>\n",
       "      <td>0.000737</td>\n",
       "      <td>0.001824</td>\n",
       "      <td>0.003134</td>\n",
       "      <td>0.000284</td>\n",
       "      <td>0.001637</td>\n",
       "      <td>0.002977</td>\n",
       "    </tr>\n",
       "    <tr>\n",
       "      <th>Market weights</th>\n",
       "      <td>0.010355</td>\n",
       "      <td>0.018271</td>\n",
       "      <td>0.013081</td>\n",
       "      <td>0.656517</td>\n",
       "      <td>0.243641</td>\n",
       "      <td>0.058135</td>\n",
       "    </tr>\n",
       "    <tr>\n",
       "      <th>CAPM equilibrium returns</th>\n",
       "      <td>0.007052</td>\n",
       "      <td>0.006732</td>\n",
       "      <td>0.007457</td>\n",
       "      <td>0.005625</td>\n",
       "      <td>0.005780</td>\n",
       "      <td>0.006901</td>\n",
       "    </tr>\n",
       "    <tr>\n",
       "      <th>historical mu</th>\n",
       "      <td>0.007035</td>\n",
       "      <td>0.009628</td>\n",
       "      <td>0.011497</td>\n",
       "      <td>0.006759</td>\n",
       "      <td>0.006898</td>\n",
       "      <td>0.009195</td>\n",
       "    </tr>\n",
       "    <tr>\n",
       "      <th>implied/capm</th>\n",
       "      <td>0.104457</td>\n",
       "      <td>0.270983</td>\n",
       "      <td>0.420304</td>\n",
       "      <td>0.050527</td>\n",
       "      <td>0.283150</td>\n",
       "      <td>0.431309</td>\n",
       "    </tr>\n",
       "  </tbody>\n",
       "</table>\n",
       "</div>"
      ],
      "text/plain": [
       "                          SMALL LoBM   BIG BM2  SMALL HiBM  BIG LoBM  \\\n",
       "HML weights                -0.500000  0.000000    0.500000 -0.500000   \n",
       "HML implied-alpha           0.000737  0.001824    0.003134  0.000284   \n",
       "Market weights              0.010355  0.018271    0.013081  0.656517   \n",
       "CAPM equilibrium returns    0.007052  0.006732    0.007457  0.005625   \n",
       "historical mu               0.007035  0.009628    0.011497  0.006759   \n",
       "implied/capm                0.104457  0.270983    0.420304  0.050527   \n",
       "\n",
       "                          SMALL BM2  BIG HiBM  \n",
       "HML weights                0.000000  0.500000  \n",
       "HML implied-alpha          0.001637  0.002977  \n",
       "Market weights             0.243641  0.058135  \n",
       "CAPM equilibrium returns   0.005780  0.006901  \n",
       "historical mu              0.006898  0.009195  \n",
       "implied/capm               0.283150  0.431309  "
      ]
     },
     "execution_count": 21,
     "metadata": {},
     "output_type": "execute_result"
    }
   ],
   "source": [
    "pd.concat([Series(hml.values).rename('HML weights'),\n",
    "           Series(alphas).rename('HML implied-alpha'),\n",
    "           Series(mkt['weights']).rename('Market weights'),\n",
    "           Series(capm).rename('CAPM equilibrium returns'),\n",
    "           Series(mu).rename('historical mu'),\n",
    "           Series(Series(alphas)/Series(capm)).rename('implied/capm')],\n",
    "          axis=1, ignore_index=False)\\\n",
    "  .set_index(assets.index).T"
   ]
  },
  {
   "cell_type": "code",
   "execution_count": 22,
   "id": "c7132e62",
   "metadata": {},
   "outputs": [
    {
     "data": {
      "text/html": [
       "<div>\n",
       "<style scoped>\n",
       "    .dataframe tbody tr th:only-of-type {\n",
       "        vertical-align: middle;\n",
       "    }\n",
       "\n",
       "    .dataframe tbody tr th {\n",
       "        vertical-align: top;\n",
       "    }\n",
       "\n",
       "    .dataframe thead th {\n",
       "        text-align: right;\n",
       "    }\n",
       "</style>\n",
       "<table border=\"1\" class=\"dataframe\">\n",
       "  <thead>\n",
       "    <tr style=\"text-align: right;\">\n",
       "      <th></th>\n",
       "      <th>historical mu</th>\n",
       "      <th>capm equilbrium</th>\n",
       "    </tr>\n",
       "  </thead>\n",
       "  <tbody>\n",
       "    <tr>\n",
       "      <th>Correlation with implied alphas</th>\n",
       "      <td>0.841491</td>\n",
       "      <td>0.625979</td>\n",
       "    </tr>\n",
       "  </tbody>\n",
       "</table>\n",
       "</div>"
      ],
      "text/plain": [
       "                                 historical mu  capm equilbrium\n",
       "Correlation with implied alphas       0.841491         0.625979"
      ]
     },
     "execution_count": 22,
     "metadata": {},
     "output_type": "execute_result"
    }
   ],
   "source": [
    "# Correlations of alphas\n",
    "DataFrame({'historical mu': np.corrcoef(alphas, mu)[0][-1],\n",
    "           'capm equilbrium': np.corrcoef(alphas, capm)[0][-1]},\n",
    "          index=['Correlation with implied alphas'])"
   ]
  },
  {
   "cell_type": "code",
   "execution_count": 23,
   "id": "19916003",
   "metadata": {},
   "outputs": [
    {
     "data": {
      "text/html": [
       "<div>\n",
       "<style scoped>\n",
       "    .dataframe tbody tr th:only-of-type {\n",
       "        vertical-align: middle;\n",
       "    }\n",
       "\n",
       "    .dataframe tbody tr th {\n",
       "        vertical-align: top;\n",
       "    }\n",
       "\n",
       "    .dataframe thead th {\n",
       "        text-align: right;\n",
       "    }\n",
       "</style>\n",
       "<table border=\"1\" class=\"dataframe\">\n",
       "  <thead>\n",
       "    <tr style=\"text-align: right;\">\n",
       "      <th></th>\n",
       "      <th>SMALL LoBM</th>\n",
       "      <th>BIG BM2</th>\n",
       "      <th>SMALL HiBM</th>\n",
       "      <th>BIG LoBM</th>\n",
       "      <th>SMALL BM2</th>\n",
       "      <th>BIG HiBM</th>\n",
       "    </tr>\n",
       "  </thead>\n",
       "  <tbody>\n",
       "    <tr>\n",
       "      <th>HML weights</th>\n",
       "      <td>-0.5</td>\n",
       "      <td>0.0</td>\n",
       "      <td>0.5</td>\n",
       "      <td>-0.5</td>\n",
       "      <td>0.0</td>\n",
       "      <td>0.5</td>\n",
       "    </tr>\n",
       "    <tr>\n",
       "      <th>mean-variance weights</th>\n",
       "      <td>-0.5</td>\n",
       "      <td>-0.0</td>\n",
       "      <td>0.5</td>\n",
       "      <td>-0.5</td>\n",
       "      <td>-0.0</td>\n",
       "      <td>0.5</td>\n",
       "    </tr>\n",
       "  </tbody>\n",
       "</table>\n",
       "</div>"
      ],
      "text/plain": [
       "                       SMALL LoBM  BIG BM2  SMALL HiBM  BIG LoBM  SMALL BM2  \\\n",
       "HML weights                  -0.5      0.0         0.5      -0.5        0.0   \n",
       "mean-variance weights        -0.5     -0.0         0.5      -0.5       -0.0   \n",
       "\n",
       "                       BIG HiBM  \n",
       "HML weights                 0.5  \n",
       "mean-variance weights       0.5  "
      ]
     },
     "execution_count": 23,
     "metadata": {},
     "output_type": "execute_result"
    }
   ],
   "source": [
    "# Mean-variance optimization with HML-implied alphas\n",
    "MeanVariance = alphas @ W - Var    \n",
    "obj = cp.Problem(cp.Maximize(MeanVariance))\n",
    "obj.solve(verbose=False)\n",
    "DataFrame.from_records([hml.values, W.value], columns=labels,\n",
    "                       index=['HML weights', 'mean-variance weights']).round(6)"
   ]
  },
  {
   "cell_type": "code",
   "execution_count": 24,
   "id": "6efa9887",
   "metadata": {},
   "outputs": [
    {
     "data": {
      "text/html": [
       "<div>\n",
       "<style scoped>\n",
       "    .dataframe tbody tr th:only-of-type {\n",
       "        vertical-align: middle;\n",
       "    }\n",
       "\n",
       "    .dataframe tbody tr th {\n",
       "        vertical-align: top;\n",
       "    }\n",
       "\n",
       "    .dataframe thead th {\n",
       "        text-align: right;\n",
       "    }\n",
       "</style>\n",
       "<table border=\"1\" class=\"dataframe\">\n",
       "  <thead>\n",
       "    <tr style=\"text-align: right;\">\n",
       "      <th></th>\n",
       "      <th>SMALL LoBM</th>\n",
       "      <th>BIG BM2</th>\n",
       "      <th>SMALL HiBM</th>\n",
       "      <th>BIG LoBM</th>\n",
       "      <th>SMALL BM2</th>\n",
       "      <th>BIG HiBM</th>\n",
       "    </tr>\n",
       "  </thead>\n",
       "  <tbody>\n",
       "    <tr>\n",
       "      <th>Market weights</th>\n",
       "      <td>0.010355</td>\n",
       "      <td>0.018271</td>\n",
       "      <td>0.013081</td>\n",
       "      <td>0.656517</td>\n",
       "      <td>0.243641</td>\n",
       "      <td>0.058135</td>\n",
       "    </tr>\n",
       "    <tr>\n",
       "      <th>mean-variance weights</th>\n",
       "      <td>0.010355</td>\n",
       "      <td>0.018271</td>\n",
       "      <td>0.013081</td>\n",
       "      <td>0.656517</td>\n",
       "      <td>0.243641</td>\n",
       "      <td>0.058135</td>\n",
       "    </tr>\n",
       "    <tr>\n",
       "      <th>formula</th>\n",
       "      <td>0.010355</td>\n",
       "      <td>0.018271</td>\n",
       "      <td>0.013081</td>\n",
       "      <td>0.656517</td>\n",
       "      <td>0.243641</td>\n",
       "      <td>0.058135</td>\n",
       "    </tr>\n",
       "  </tbody>\n",
       "</table>\n",
       "</div>"
      ],
      "text/plain": [
       "                       SMALL LoBM   BIG BM2  SMALL HiBM  BIG LoBM  SMALL BM2  \\\n",
       "Market weights           0.010355  0.018271    0.013081  0.656517   0.243641   \n",
       "mean-variance weights    0.010355  0.018271    0.013081  0.656517   0.243641   \n",
       "formula                  0.010355  0.018271    0.013081  0.656517   0.243641   \n",
       "\n",
       "                       BIG HiBM  \n",
       "Market weights         0.058135  \n",
       "mean-variance weights  0.058135  \n",
       "formula                0.058135  "
      ]
     },
     "execution_count": 24,
     "metadata": {},
     "output_type": "execute_result"
    }
   ],
   "source": [
    "# Mean-variance optimization with CAPM-implied expected returns\n",
    "MeanVariance = capm @ W - Var\n",
    "obj = cp.Problem(cp.Maximize(MeanVariance))\n",
    "obj.solve(verbose=False)\n",
    "p = tangency_portfolio(mu=capm, sigma=sigma)\n",
    "DataFrame.from_records([W.value, mkt['weights'], p['weights']], columns=labels,\n",
    "                       index=['Market weights', 'mean-variance weights', 'formula'])"
   ]
  },
  {
   "cell_type": "markdown",
   "id": "90bc2c7b",
   "metadata": {},
   "source": [
    "### Black-Litterman Model\n",
    "Mean-variance efficient portfolios are highly sensitive to the inputs. Errors in estimating expected returns are observed to many times more important than errors in estimating variances and covariances.  Black and Litterman (1992) suggest that \"shrinking\" investors' views towards the expected returns implied by the market portfolio can deliver portfolio allocations that are less sensitive to parameter uncertainty."
   ]
  },
  {
   "cell_type": "code",
   "execution_count": 25,
   "id": "db13bf8e",
   "metadata": {},
   "outputs": [
    {
     "data": {
      "text/html": [
       "<div>\n",
       "<style scoped>\n",
       "    .dataframe tbody tr th:only-of-type {\n",
       "        vertical-align: middle;\n",
       "    }\n",
       "\n",
       "    .dataframe tbody tr th {\n",
       "        vertical-align: top;\n",
       "    }\n",
       "\n",
       "    .dataframe thead th {\n",
       "        text-align: right;\n",
       "    }\n",
       "</style>\n",
       "<table border=\"1\" class=\"dataframe\">\n",
       "  <thead>\n",
       "    <tr style=\"text-align: right;\">\n",
       "      <th></th>\n",
       "      <th>SMALL LoBM</th>\n",
       "      <th>BIG BM2</th>\n",
       "      <th>SMALL HiBM</th>\n",
       "      <th>BIG LoBM</th>\n",
       "      <th>SMALL BM2</th>\n",
       "      <th>BIG HiBM</th>\n",
       "    </tr>\n",
       "  </thead>\n",
       "  <tbody>\n",
       "    <tr>\n",
       "      <th>Tangency Portfolio Weights</th>\n",
       "      <td>-2.890459</td>\n",
       "      <td>2.793973</td>\n",
       "      <td>0.988490</td>\n",
       "      <td>2.065088</td>\n",
       "      <td>-1.374475</td>\n",
       "      <td>-0.582617</td>\n",
       "    </tr>\n",
       "    <tr>\n",
       "      <th>Market Weights</th>\n",
       "      <td>0.010355</td>\n",
       "      <td>0.018271</td>\n",
       "      <td>0.013081</td>\n",
       "      <td>0.656517</td>\n",
       "      <td>0.243641</td>\n",
       "      <td>0.058135</td>\n",
       "    </tr>\n",
       "    <tr>\n",
       "      <th>Active Weights</th>\n",
       "      <td>-2.900814</td>\n",
       "      <td>2.775702</td>\n",
       "      <td>0.975409</td>\n",
       "      <td>1.408571</td>\n",
       "      <td>-1.618116</td>\n",
       "      <td>-0.640752</td>\n",
       "    </tr>\n",
       "  </tbody>\n",
       "</table>\n",
       "</div>"
      ],
      "text/plain": [
       "                            SMALL LoBM   BIG BM2  SMALL HiBM  BIG LoBM  \\\n",
       "Tangency Portfolio Weights   -2.890459  2.793973    0.988490  2.065088   \n",
       "Market Weights                0.010355  0.018271    0.013081  0.656517   \n",
       "Active Weights               -2.900814  2.775702    0.975409  1.408571   \n",
       "\n",
       "                            SMALL BM2  BIG HiBM  \n",
       "Tangency Portfolio Weights  -1.374475 -0.582617  \n",
       "Market Weights               0.243641  0.058135  \n",
       "Active Weights              -1.618116 -0.640752  "
      ]
     },
     "execution_count": 25,
     "metadata": {},
     "output_type": "execute_result"
    }
   ],
   "source": [
    "active = tangency['weights'] - mkt['weights']\n",
    "DataFrame.from_records([tangency['weights'], mkt['weights'], active], columns=labels,\n",
    "                       index=['Tangency Portfolio Weights', 'Market Weights',\n",
    "                              'Active Weights']).round(6)"
   ]
  },
  {
   "cell_type": "markdown",
   "id": "ba64157a",
   "metadata": {},
   "source": [
    "Black-Littermn alphas are computed as:\n",
    "\n",
    "$E[R] = [(\\tau\\Sigma)^{-1} + P^T \\Omega^{-1} P]^{-1} [(\\tau\\Sigma)^{-1}\\Pi + P^T \\Omega^{-1} Q]$\n",
    "\n",
    "- $\\tau$ is a non-negative scalar that reflects an overall level of confidence in the active views versus the equilibrium expected returns. It effectively determines the overall weight placed on the active views relative to the equilibrium expected returns\n",
    "- In Bayesian terms, $\\tau$ measures the subjective degree of uncertainty as to how\n",
    "precisely the equilibrium returns (the expected return priors) have been estimated\n"
   ]
  },
  {
   "cell_type": "code",
   "execution_count": 26,
   "id": "f5ea26d1",
   "metadata": {
    "lines_to_next_cell": 1
   },
   "outputs": [],
   "source": [
    "tau = 0.05  # He and Litterman (1992) for a moderate amount of active risk\n",
    "k = 1\n",
    "Pi = capm.reshape((n, 1))          # equilbrium views: CAPM implied excess returns\n",
    "P = (tangency['weights']).reshape((k, n))          # view portfolio weights\n",
    "Q = (tangency['weights'].dot(mu)).reshape((k, k))  # portfolio view\n",
    "Omega = np.diag(np.array(P.dot(sigma).dot(P.T)).reshape((k,k))) # uncertainty"
   ]
  },
  {
   "cell_type": "code",
   "execution_count": 27,
   "id": "f83eabe9",
   "metadata": {
    "lines_to_next_cell": 1
   },
   "outputs": [],
   "source": [
    "def black_litterman(tau, Pi, Sigma, P, Q):\n",
    "    \"\"\"Returns black-litterman alphas\"\"\"\n",
    "    def inv(x):\n",
    "        \"\"\"helper wraps over la.inv to handle scalar/1d inputs\"\"\"\n",
    "        try:\n",
    "            return la.inv(x)\n",
    "        except:\n",
    "            return np.array(1/x).reshape((1,1))\n",
    "    return inv(inv(tau*Sigma)+P.T.dot(inv(Omega)).dot(P))\\\n",
    "        .dot(inv(tau*Sigma).dot(Pi) + P.T.dot(inv(Omega)).dot(Q))"
   ]
  },
  {
   "cell_type": "code",
   "execution_count": 28,
   "id": "0b84a461",
   "metadata": {},
   "outputs": [
    {
     "name": "stdout",
     "output_type": "stream",
     "text": [
      "Active Risk: 0.0025567237847205545\n"
     ]
    },
    {
     "data": {
      "text/html": [
       "<div>\n",
       "<style scoped>\n",
       "    .dataframe tbody tr th:only-of-type {\n",
       "        vertical-align: middle;\n",
       "    }\n",
       "\n",
       "    .dataframe tbody tr th {\n",
       "        vertical-align: top;\n",
       "    }\n",
       "\n",
       "    .dataframe thead th {\n",
       "        text-align: right;\n",
       "    }\n",
       "</style>\n",
       "<table border=\"1\" class=\"dataframe\">\n",
       "  <thead>\n",
       "    <tr style=\"text-align: right;\">\n",
       "      <th></th>\n",
       "      <th>SMALL LoBM</th>\n",
       "      <th>BIG BM2</th>\n",
       "      <th>SMALL HiBM</th>\n",
       "      <th>BIG LoBM</th>\n",
       "      <th>SMALL BM2</th>\n",
       "      <th>BIG HiBM</th>\n",
       "    </tr>\n",
       "  </thead>\n",
       "  <tbody>\n",
       "    <tr>\n",
       "      <th>Black-Litterman weights</th>\n",
       "      <td>-0.106291</td>\n",
       "      <td>0.129886</td>\n",
       "      <td>0.052304</td>\n",
       "      <td>0.713158</td>\n",
       "      <td>0.178574</td>\n",
       "      <td>0.032369</td>\n",
       "    </tr>\n",
       "    <tr>\n",
       "      <th>Market weights</th>\n",
       "      <td>0.010355</td>\n",
       "      <td>0.018271</td>\n",
       "      <td>0.013081</td>\n",
       "      <td>0.656517</td>\n",
       "      <td>0.243641</td>\n",
       "      <td>0.058135</td>\n",
       "    </tr>\n",
       "    <tr>\n",
       "      <th>Active weights</th>\n",
       "      <td>-0.116646</td>\n",
       "      <td>0.111615</td>\n",
       "      <td>0.039223</td>\n",
       "      <td>0.056641</td>\n",
       "      <td>-0.065067</td>\n",
       "      <td>-0.025765</td>\n",
       "    </tr>\n",
       "  </tbody>\n",
       "</table>\n",
       "</div>"
      ],
      "text/plain": [
       "                         SMALL LoBM   BIG BM2  SMALL HiBM  BIG LoBM  \\\n",
       "Black-Litterman weights   -0.106291  0.129886    0.052304  0.713158   \n",
       "Market weights             0.010355  0.018271    0.013081  0.656517   \n",
       "Active weights            -0.116646  0.111615    0.039223  0.056641   \n",
       "\n",
       "                         SMALL BM2  BIG HiBM  \n",
       "Black-Litterman weights   0.178574  0.032369  \n",
       "Market weights            0.243641  0.058135  \n",
       "Active weights           -0.065067 -0.025765  "
      ]
     },
     "execution_count": 28,
     "metadata": {},
     "output_type": "execute_result"
    }
   ],
   "source": [
    "bl = {'alphas': black_litterman(tau=tau, Pi=Pi, Sigma=sigma, P=P, Q=Q)}\n",
    "bl |= tangency_portfolio(mu=bl['alphas'], sigma=sigma)\n",
    "bl['mean'] = bl['weights'].dot(mu)    # express mean based on original mu\n",
    "bl['tilt'] = bl['weights'] - mkt['weights']\n",
    "print('Active Risk:', np.sqrt(bl['tilt'].T.dot(sigma).dot(bl['tilt'])))\n",
    "DataFrame.from_dict({'Black-Litterman weights': bl['weights'], \n",
    "                     'Market weights': mkt['weights'], 'Active weights': bl['tilt']},\n",
    "                     columns=labels, orient='index').round(6)"
   ]
  },
  {
   "cell_type": "code",
   "execution_count": 29,
   "id": "7eeebd78",
   "metadata": {},
   "outputs": [
    {
     "data": {
      "text/plain": [
       "array([0.04021136, 0.04021136, 0.04021136, 0.04021136, 0.04021136,\n",
       "       0.04021136])"
      ]
     },
     "execution_count": 29,
     "metadata": {},
     "output_type": "execute_result"
    }
   ],
   "source": [
    "# BL tilts the optimal weights towards the active positions in the view portfolio\n",
    "bl['tilt'] / active"
   ]
  },
  {
   "cell_type": "markdown",
   "id": "41236d60",
   "metadata": {},
   "source": [
    "Alternatively, it is also possible, with numerical solvers such as cvxpy, to impose constraints such as no short-sales, and then iteratively add more constraints such that optimization solution \"look\" more reasonable."
   ]
  },
  {
   "cell_type": "code",
   "execution_count": 30,
   "id": "e561a4f6",
   "metadata": {},
   "outputs": [],
   "source": [
    "Alpha = W @ mu"
   ]
  },
  {
   "cell_type": "code",
   "execution_count": 31,
   "id": "eedbe5da",
   "metadata": {},
   "outputs": [
    {
     "name": "stdout",
     "output_type": "stream",
     "text": [
      "Minimize variance to achieve target return, with no short sales:\n",
      "Active Risk: 0.004234890777233881\n"
     ]
    },
    {
     "data": {
      "text/html": [
       "<div>\n",
       "<style scoped>\n",
       "    .dataframe tbody tr th:only-of-type {\n",
       "        vertical-align: middle;\n",
       "    }\n",
       "\n",
       "    .dataframe tbody tr th {\n",
       "        vertical-align: top;\n",
       "    }\n",
       "\n",
       "    .dataframe thead th {\n",
       "        text-align: right;\n",
       "    }\n",
       "</style>\n",
       "<table border=\"1\" class=\"dataframe\">\n",
       "  <thead>\n",
       "    <tr style=\"text-align: right;\">\n",
       "      <th></th>\n",
       "      <th>SMALL LoBM</th>\n",
       "      <th>BIG BM2</th>\n",
       "      <th>SMALL HiBM</th>\n",
       "      <th>BIG LoBM</th>\n",
       "      <th>SMALL BM2</th>\n",
       "      <th>BIG HiBM</th>\n",
       "    </tr>\n",
       "  </thead>\n",
       "  <tbody>\n",
       "    <tr>\n",
       "      <th>Constrained weights</th>\n",
       "      <td>0.000010</td>\n",
       "      <td>0.011640</td>\n",
       "      <td>0.136556</td>\n",
       "      <td>0.745308</td>\n",
       "      <td>0.106486</td>\n",
       "      <td>-0.000002</td>\n",
       "    </tr>\n",
       "    <tr>\n",
       "      <th>Market weights</th>\n",
       "      <td>0.010355</td>\n",
       "      <td>0.018271</td>\n",
       "      <td>0.013081</td>\n",
       "      <td>0.656517</td>\n",
       "      <td>0.243641</td>\n",
       "      <td>0.058135</td>\n",
       "    </tr>\n",
       "    <tr>\n",
       "      <th>Active weights</th>\n",
       "      <td>-0.010344</td>\n",
       "      <td>-0.006631</td>\n",
       "      <td>0.123475</td>\n",
       "      <td>0.088791</td>\n",
       "      <td>-0.137154</td>\n",
       "      <td>-0.058137</td>\n",
       "    </tr>\n",
       "  </tbody>\n",
       "</table>\n",
       "</div>"
      ],
      "text/plain": [
       "                     SMALL LoBM   BIG BM2  SMALL HiBM  BIG LoBM  SMALL BM2  \\\n",
       "Constrained weights    0.000010  0.011640    0.136556  0.745308   0.106486   \n",
       "Market weights         0.010355  0.018271    0.013081  0.656517   0.243641   \n",
       "Active weights        -0.010344 -0.006631    0.123475  0.088791  -0.137154   \n",
       "\n",
       "                     BIG HiBM  \n",
       "Constrained weights -0.000002  \n",
       "Market weights       0.058135  \n",
       "Active weights      -0.058137  "
      ]
     },
     "execution_count": 31,
     "metadata": {},
     "output_type": "execute_result"
    }
   ],
   "source": [
    "# Minimize variance to same expected return\n",
    "obj = cp.Problem(cp.Minimize(Var), [cp.sum(W) == 1, W >= 0, Alpha >= bl['mean']])\n",
    "obj.solve()\n",
    "tilt = W.value - mkt['weights']\n",
    "print('Minimize variance to achieve target return, with no short sales:')\n",
    "print('Active Risk:', np.sqrt(tilt.T.dot(sigma).dot(tilt)))\n",
    "DataFrame.from_dict({'Constrained weights': W.value,\n",
    "                     'Market weights': mkt['weights'], 'Active weights': tilt},\n",
    "                     columns=labels, orient='index').round(6)"
   ]
  },
  {
   "cell_type": "code",
   "execution_count": 32,
   "id": "10d3df54",
   "metadata": {
    "lines_to_next_cell": 2
   },
   "outputs": [
    {
     "name": "stdout",
     "output_type": "stream",
     "text": [
      "Maximize return within target variance, with no short sales:\n",
      "Active Risk (annualized): 0.008422533939240117\n"
     ]
    },
    {
     "name": "stderr",
     "output_type": "stream",
     "text": [
      "/home/terence/env3.11/lib/python3.11/site-packages/cvxpy/problems/problem.py:1403: UserWarning: Solution may be inaccurate. Try another solver, adjusting the solver settings, or solve with verbose=True for more information.\n",
      "  warnings.warn(\n"
     ]
    },
    {
     "data": {
      "text/html": [
       "<div>\n",
       "<style scoped>\n",
       "    .dataframe tbody tr th:only-of-type {\n",
       "        vertical-align: middle;\n",
       "    }\n",
       "\n",
       "    .dataframe tbody tr th {\n",
       "        vertical-align: top;\n",
       "    }\n",
       "\n",
       "    .dataframe thead th {\n",
       "        text-align: right;\n",
       "    }\n",
       "</style>\n",
       "<table border=\"1\" class=\"dataframe\">\n",
       "  <thead>\n",
       "    <tr style=\"text-align: right;\">\n",
       "      <th></th>\n",
       "      <th>SMALL LoBM</th>\n",
       "      <th>BIG BM2</th>\n",
       "      <th>SMALL HiBM</th>\n",
       "      <th>BIG LoBM</th>\n",
       "      <th>SMALL BM2</th>\n",
       "      <th>BIG HiBM</th>\n",
       "    </tr>\n",
       "  </thead>\n",
       "  <tbody>\n",
       "    <tr>\n",
       "      <th>Constrained weights</th>\n",
       "      <td>0.000000</td>\n",
       "      <td>0.025048</td>\n",
       "      <td>0.055445</td>\n",
       "      <td>0.737171</td>\n",
       "      <td>0.182336</td>\n",
       "      <td>0.000000</td>\n",
       "    </tr>\n",
       "    <tr>\n",
       "      <th>Market weights</th>\n",
       "      <td>0.010355</td>\n",
       "      <td>0.018271</td>\n",
       "      <td>0.013081</td>\n",
       "      <td>0.656517</td>\n",
       "      <td>0.243641</td>\n",
       "      <td>0.058135</td>\n",
       "    </tr>\n",
       "    <tr>\n",
       "      <th>Active weights</th>\n",
       "      <td>-0.010355</td>\n",
       "      <td>0.006777</td>\n",
       "      <td>0.042364</td>\n",
       "      <td>0.080654</td>\n",
       "      <td>-0.061305</td>\n",
       "      <td>-0.058135</td>\n",
       "    </tr>\n",
       "  </tbody>\n",
       "</table>\n",
       "</div>"
      ],
      "text/plain": [
       "                     SMALL LoBM   BIG BM2  SMALL HiBM  BIG LoBM  SMALL BM2  \\\n",
       "Constrained weights    0.000000  0.025048    0.055445  0.737171   0.182336   \n",
       "Market weights         0.010355  0.018271    0.013081  0.656517   0.243641   \n",
       "Active weights        -0.010355  0.006777    0.042364  0.080654  -0.061305   \n",
       "\n",
       "                     BIG HiBM  \n",
       "Constrained weights  0.000000  \n",
       "Market weights       0.058135  \n",
       "Active weights      -0.058135  "
      ]
     },
     "execution_count": 32,
     "metadata": {},
     "output_type": "execute_result"
    }
   ],
   "source": [
    "obj = cp.Problem(cp.Maximize(Alpha),\n",
    "                 [cp.sum(W) == 1, W >= 0, Var <= bl['volatility']**2])\n",
    "obj.solve()\n",
    "tilt = W.value - mkt['weights']\n",
    "print('Maximize return within target variance, with no short sales:')\n",
    "print('Active Risk (annualized):', np.sqrt(tilt.T.dot(sigma).dot(tilt) * 12))\n",
    "DataFrame.from_dict({'Constrained weights': W.value,\n",
    "                     'Market weights': mkt['weights'], 'Active weights': tilt},\n",
    "                     columns=labels, orient='index').round(6)"
   ]
  },
  {
   "cell_type": "markdown",
   "id": "07a567b8",
   "metadata": {},
   "source": [
    "## Cross-sectional regressions\n",
    "\n",
    "The Fama-MacBeth (1973) method estimates the betas and risk premia for any risk factors that are expected to determine asset prices. The parameters are estimated in two steps:\n",
    "\n",
    "- First regress each time series of asset returns against proposed risk factor returns to determine each asset's beta exposures.\n",
    "\n",
    "- Then regress all asset returns for each of T time periods against the previously estimated betas to determine the average risk premium for each factor.\n",
    "\n",
    "This provides standard errors that are corrected for cross-sectional correlation effects.\n"
   ]
  },
  {
   "cell_type": "markdown",
   "id": "d9ade356",
   "metadata": {},
   "source": [
    "### Testing the CAPM\n"
   ]
  },
  {
   "cell_type": "markdown",
   "id": "88352660",
   "metadata": {},
   "source": [
    "Retrieve test asset returns and risk-free rate.  In addition to testing whether the \"beta\" is priced (i.e. that higher beta assets achieve linearly larger risk premiums than lower beta assets), we also test for non-linearity affects by including a beta-squared factor, and (supposedly) non-priced factors such as the residual riskiness of the assets."
   ]
  },
  {
   "cell_type": "code",
   "execution_count": 33,
   "id": "de4bfe00",
   "metadata": {},
   "outputs": [],
   "source": [
    "factors = FFReader('F-F_Research_Data_Factors')[0] / 100  # risk-free rates\n",
    "test_assets = FFReader('25_Portfolios_ME_BETA_5x5')\n",
    "df = test_assets[1] / 100\n",
    "df = df.sub(factors['RF'], axis=0).dropna().copy()"
   ]
  },
  {
   "cell_type": "code",
   "execution_count": 34,
   "id": "7878fc10",
   "metadata": {},
   "outputs": [],
   "source": [
    "# unpivot the wide table to a long one\n",
    "rets = df.stack()\\\n",
    "         .reset_index(name='ret')\\\n",
    "         .rename(columns={'level_1':'port', 'level_0':'Date'})"
   ]
  },
  {
   "cell_type": "code",
   "execution_count": 35,
   "id": "0248a632",
   "metadata": {},
   "outputs": [],
   "source": [
    "# estimate test assets' market betas from their time-series of returns\n",
    "data = df.join(factors[['Mkt-RF']], how='left')\n",
    "betas = least_squares(data, y=df.columns, x=['Mkt-RF'], stdres=True)\n",
    "betas = betas.rename(columns={'Mkt-RF': 'BETA'})[['BETA', '_stdres']]"
   ]
  },
  {
   "cell_type": "code",
   "execution_count": 36,
   "id": "021e91d7",
   "metadata": {},
   "outputs": [],
   "source": [
    "# collect test asset mean returns and betas\n",
    "assets_df = betas[['BETA']].join(df.mean().rename('premiums')).sort_values('BETA')"
   ]
  },
  {
   "cell_type": "code",
   "execution_count": 37,
   "id": "e430985a",
   "metadata": {},
   "outputs": [],
   "source": [
    "# Orthogonalize polynomial (quadratic) beta^2 and residual-volatility features\n",
    "betas['BETA2'] = smf.ols(\"I(BETA**2) ~ BETA\",  data=betas).fit().resid\n",
    "betas['RES'] = smf.ols(\"_stdres ~ BETA + BETA2\", data=betas).fit().resid\n",
    "r = rets.join(betas, on='port').sort_values(['port', 'Date'], ignore_index=True)"
   ]
  },
  {
   "cell_type": "code",
   "execution_count": 38,
   "id": "b4cff4a7",
   "metadata": {},
   "outputs": [
    {
     "name": "stderr",
     "output_type": "stream",
     "text": [
      "/tmp/ipykernel_3511161/3663017786.py:3: DeprecationWarning: DataFrameGroupBy.apply operated on the grouping columns. This behavior is deprecated, and in a future version of pandas the grouping columns will be excluded from the operation. Either pass `include_groups=False` to exclude the groupings or explicitly select the grouping columns after groupby to silence this warning.\n",
      "  .apply(least_squares, y=['ret'], x=['BETA', 'BETA2', 'RES'])\n"
     ]
    }
   ],
   "source": [
    "# run monthly Fama-MacBeth cross-sectional regressions\n",
    "fm = r.groupby(by='Date')\\\n",
    "      .apply(least_squares, y=['ret'], x=['BETA', 'BETA2', 'RES'])"
   ]
  },
  {
   "cell_type": "code",
   "execution_count": 39,
   "id": "9a2b6a97",
   "metadata": {},
   "outputs": [],
   "source": [
    "# compute time-series means and standard errors of the Fama-MacBeth coefficients\n",
    "out = DataFrame(dict(mean=fm.mean(), stderr=fm.sem(), tstat=fm.mean()/fm.sem())).T"
   ]
  },
  {
   "cell_type": "code",
   "execution_count": 40,
   "id": "7c62086e",
   "metadata": {
    "lines_to_next_cell": 2
   },
   "outputs": [
    {
     "name": "stdout",
     "output_type": "stream",
     "text": [
      "Monthly Cross-sectional Regressions1963-07 to 2024-04\n"
     ]
    },
    {
     "data": {
      "text/html": [
       "<div>\n",
       "<style scoped>\n",
       "    .dataframe tbody tr th:only-of-type {\n",
       "        vertical-align: middle;\n",
       "    }\n",
       "\n",
       "    .dataframe tbody tr th {\n",
       "        vertical-align: top;\n",
       "    }\n",
       "\n",
       "    .dataframe thead th {\n",
       "        text-align: right;\n",
       "    }\n",
       "</style>\n",
       "<table border=\"1\" class=\"dataframe\">\n",
       "  <thead>\n",
       "    <tr style=\"text-align: right;\">\n",
       "      <th></th>\n",
       "      <th>_intercept</th>\n",
       "      <th>BETA</th>\n",
       "      <th>BETA2</th>\n",
       "      <th>RES</th>\n",
       "    </tr>\n",
       "  </thead>\n",
       "  <tbody>\n",
       "    <tr>\n",
       "      <th>mean</th>\n",
       "      <td>0.007872</td>\n",
       "      <td>0.000024</td>\n",
       "      <td>-0.008729</td>\n",
       "      <td>0.123100</td>\n",
       "    </tr>\n",
       "    <tr>\n",
       "      <th>stderr</th>\n",
       "      <td>0.001545</td>\n",
       "      <td>0.002274</td>\n",
       "      <td>0.002568</td>\n",
       "      <td>0.060929</td>\n",
       "    </tr>\n",
       "    <tr>\n",
       "      <th>tstat</th>\n",
       "      <td>5.095392</td>\n",
       "      <td>0.010539</td>\n",
       "      <td>-3.399499</td>\n",
       "      <td>2.020381</td>\n",
       "    </tr>\n",
       "  </tbody>\n",
       "</table>\n",
       "</div>"
      ],
      "text/plain": [
       "        _intercept      BETA     BETA2       RES\n",
       "mean      0.007872  0.000024 -0.008729  0.123100\n",
       "stderr    0.001545  0.002274  0.002568  0.060929\n",
       "tstat     5.095392  0.010539 -3.399499  2.020381"
      ]
     },
     "execution_count": 40,
     "metadata": {},
     "output_type": "execute_result"
    }
   ],
   "source": [
    "print(\"Monthly Cross-sectional Regressions\" +\n",
    "      f\"{min(rets['Date'])} to {max(rets['Date'])}\")\n",
    "out"
   ]
  },
  {
   "cell_type": "markdown",
   "id": "9c0963ce",
   "metadata": {},
   "source": [
    "__Clustered standard errors__\n",
    "\n",
    "Alternative methods of correcting standard errors for time series and cross-sectional correlation in the error term may look into double clustering by firm and year."
   ]
  },
  {
   "cell_type": "code",
   "execution_count": 41,
   "id": "8bb04679",
   "metadata": {
    "lines_to_next_cell": 2
   },
   "outputs": [
    {
     "name": "stdout",
     "output_type": "stream",
     "text": [
      "                            OLS Regression Results                            \n",
      "==============================================================================\n",
      "Dep. Variable:                    ret   R-squared:                       0.000\n",
      "Model:                            OLS   Adj. R-squared:                  0.000\n",
      "Method:                 Least Squares   F-statistic:                     2.622\n",
      "Date:                Sat, 29 Jun 2024   Prob (F-statistic):             0.0489\n",
      "Time:                        11:10:51   Log-Likelihood:                 25431.\n",
      "No. Observations:               18250   AIC:                        -5.085e+04\n",
      "Df Residuals:                   18246   BIC:                        -5.082e+04\n",
      "Df Model:                           3                                         \n",
      "Covariance Type:            nonrobust                                         \n",
      "==============================================================================\n",
      "                 coef    std err          t      P>|t|      [0.025      0.975]\n",
      "------------------------------------------------------------------------------\n",
      "Intercept      0.0079      0.002      4.178      0.000       0.004       0.012\n",
      "BETA        2.397e-05      0.002      0.015      0.988      -0.003       0.003\n",
      "BETA2         -0.0087      0.006     -1.432      0.152      -0.021       0.003\n",
      "RES            0.1231      0.051      2.412      0.016       0.023       0.223\n",
      "==============================================================================\n",
      "Omnibus:                     1538.086   Durbin-Watson:                   1.765\n",
      "Prob(Omnibus):                  0.000   Jarque-Bera (JB):             9901.036\n",
      "Skew:                          -0.056   Prob(JB):                         0.00\n",
      "Kurtosis:                       6.607   Cond. No.                         173.\n",
      "==============================================================================\n",
      "\n",
      "Notes:\n",
      "[1] Standard Errors assume that the covariance matrix of the errors is correctly specified.\n"
     ]
    }
   ],
   "source": [
    "### Compare uncorrected to robust cov\n",
    "ls = smf.ols(\"ret ~ BETA + BETA2 + RES\", data=r).fit()\n",
    "print(ls.summary())\n",
    "# print(ls.get_robustcov_results('HC0').summary())\n",
    "# print(ls.get_robustcov_results('HAC', maxlags=6).summary())"
   ]
  },
  {
   "cell_type": "code",
   "execution_count": 42,
   "id": "e97cd1d7",
   "metadata": {},
   "outputs": [
    {
     "name": "stdout",
     "output_type": "stream",
     "text": [
      "                            OLS Regression Results                            \n",
      "==============================================================================\n",
      "Dep. Variable:                    ret   R-squared:                       0.000\n",
      "Model:                            OLS   Adj. R-squared:                  0.000\n",
      "Method:                 Least Squares   F-statistic:                     1.667\n",
      "Date:                Sat, 29 Jun 2024   Prob (F-statistic):              0.201\n",
      "Time:                        11:10:51   Log-Likelihood:                 25431.\n",
      "No. Observations:               18250   AIC:                        -5.085e+04\n",
      "Df Residuals:                   18246   BIC:                        -5.082e+04\n",
      "Df Model:                           3                                         \n",
      "Covariance Type:            hac-panel                                         \n",
      "==============================================================================\n",
      "                 coef    std err          t      P>|t|      [0.025      0.975]\n",
      "------------------------------------------------------------------------------\n",
      "Intercept      0.0079      0.002      3.998      0.001       0.004       0.012\n",
      "BETA        2.397e-05      0.002      0.013      0.990      -0.004       0.004\n",
      "BETA2         -0.0087      0.006     -1.366      0.185      -0.022       0.004\n",
      "RES            0.1231      0.066      1.852      0.076      -0.014       0.260\n",
      "==============================================================================\n",
      "Omnibus:                     1538.086   Durbin-Watson:                   1.765\n",
      "Prob(Omnibus):                  0.000   Jarque-Bera (JB):             9901.036\n",
      "Skew:                          -0.056   Prob(JB):                         0.00\n",
      "Kurtosis:                       6.607   Cond. No.                         173.\n",
      "==============================================================================\n",
      "\n",
      "Notes:\n",
      "[1] Standard Errors are robust to cluster correlation (HAC-Panel)\n"
     ]
    }
   ],
   "source": [
    "print(ls.get_robustcov_results('hac-panel',\n",
    "                               groups=r['port'],\n",
    "                               maxlags=6).summary())\n",
    "# print(ls.get_robustcov_results('cluster', groups=r['port']).summary())"
   ]
  },
  {
   "cell_type": "markdown",
   "id": "afe45352",
   "metadata": {},
   "source": [
    "### Factor risk models\n",
    "\n",
    "Beginning with Barra in the mid-1970's, industry practitioners have incorporated  cross-sectional models using individual stock returns and characteristics, for the purpose of both forecasting risk premiums and measuring risk factors.\n",
    "\n",
    "We run monthly cross-sectional regressions on the following individual stock characteristics (where each are winsored at 5% tail to reduce the influence of outliers):\n",
    "- size: rank of company market cap, standardized\n",
    "- value: book-to-market ratio, standardized \n",
    "- momentum: 12-month skip past month momentum, standardized\n",
    "- reversal: 1-month reversal, standardized\n",
    "\n",
    "The monthly cross-sectional risk premiums can be interpreted as returns to monthly-rebalanced dollar-neutral portfolios, each with unit exposure to a characteristic but zero net exposure to the other three characteristics. We compare these to the corresponding returns of the Fama-French factors, which are computed as simple long-short spreads of cap-weighted portfolios.\n"
   ]
  },
  {
   "cell_type": "code",
   "execution_count": 43,
   "id": "09a9a182",
   "metadata": {},
   "outputs": [
    {
     "name": "stderr",
     "output_type": "stream",
     "text": [
      "100%|██████████| 714/714 [01:45<00:00,  6.79it/s]\n"
     ]
    },
    {
     "data": {
      "image/png": "[encoded data removed]",
      "text/plain": [
       "<Figure size 1000x500 with 8 Axes>"
      ]
     },
     "metadata": {},
     "output_type": "display_data"
    }
   ],
   "source": [
    "rebalbeg = 19640601\n",
    "rebalend = LAST_DATE\n",
    "rebaldates = crsp.bd.date_range(rebalbeg, rebalend, 'endmo')\n",
    "loadings = dict()\n",
    "\n",
    "# preload signal values\n",
    "sf = {key: SignalsFrame(signals.read(key)) for key in ['hml', 'mom', 'strev']}\n",
    "\n",
    "for pordate in tqdm(rebaldates):           # retrieve signal values every month\n",
    "    date = bd.june_universe(pordate)\n",
    "    univ = crsp.get_universe(date)\n",
    "    smb = univ['capco'].rank(ascending=False).div(len(univ)).rename('smallsize')\n",
    "    hml = sf['hml']('hml', date, bd.endmo(date, -12))['hml'].rename('value')\n",
    "    #beta = signals('beta', pordate, bd.begmo(pordate))['beta']*2/3 + 1/3 #shrink\n",
    "    mom = sf['mom']('mom', pordate)['mom'].rename('momentum')\n",
    "    strev = -sf['strev']('strev', pordate)['strev'].rename('reversal')\n",
    "    df = pd.concat((strev, hml, smb, mom), join='inner', axis=1)\\\n",
    "           .reindex(univ.index).dropna()\n",
    "    loadings[pordate] = winsorize(df, quantiles=[0.05, 0.95])\n",
    "\n",
    "# Compute coefficients from FM cross-sectional regressions\n",
    "monthly = CRSPBuffer(stocks=crsp, dataset='monthly', fields=['ret'],\n",
    "                     beg=bd.begmo(rebalbeg, -13), end=bd.endmo(rebalend, 1))\n",
    "\n",
    "riskpremium = RiskPremium(sql=user, bench=bench, rf='RF', end=LAST_DATE)\n",
    "out = riskpremium(stocks=monthly, loadings=loadings,\n",
    "                  standardize=['value' ,'smallsize', 'momentum', 'reversal'])\n",
    "     \n",
    "# Compare time series of risk premiums to portfolio-sort benchmark eturns\n",
    "benchnames = {'momentum': 'Mom(mo)',\n",
    "              'reversal': 'ST_Rev(mo)',\n",
    "              'smallsize':'SMB(mo)',\n",
    "              'value': 'HML(mo)'}\n",
    "out = riskpremium.fit(benchnames.values())  # to compare portfolio-sorts\n",
    "riskpremium.plot(benchnames)\n"
   ]
  },
  {
   "cell_type": "code",
   "execution_count": 44,
   "id": "76a40de2",
   "metadata": {},
   "outputs": [
    {
     "name": "stdout",
     "output_type": "stream",
     "text": [
      "Fama-MacBeth Cross-sectional Regression Risk Premiums\n"
     ]
    },
    {
     "data": {
      "text/html": [
       "<div>\n",
       "<style scoped>\n",
       "    .dataframe tbody tr th:only-of-type {\n",
       "        vertical-align: middle;\n",
       "    }\n",
       "\n",
       "    .dataframe tbody tr th {\n",
       "        vertical-align: top;\n",
       "    }\n",
       "\n",
       "    .dataframe thead th {\n",
       "        text-align: right;\n",
       "    }\n",
       "</style>\n",
       "<table border=\"1\" class=\"dataframe\">\n",
       "  <thead>\n",
       "    <tr style=\"text-align: right;\">\n",
       "      <th>Factor Returns</th>\n",
       "      <th>mean</th>\n",
       "      <th>stderr</th>\n",
       "      <th>std</th>\n",
       "      <th>count</th>\n",
       "      <th>tvalue</th>\n",
       "      <th>sharpe</th>\n",
       "    </tr>\n",
       "  </thead>\n",
       "  <tbody>\n",
       "    <tr>\n",
       "      <th>reversal</th>\n",
       "      <td>0.0060</td>\n",
       "      <td>0.0005</td>\n",
       "      <td>0.0143</td>\n",
       "      <td>713</td>\n",
       "      <td>11.2067</td>\n",
       "      <td>1.4539</td>\n",
       "    </tr>\n",
       "    <tr>\n",
       "      <th>value</th>\n",
       "      <td>0.0020</td>\n",
       "      <td>0.0004</td>\n",
       "      <td>0.0112</td>\n",
       "      <td>713</td>\n",
       "      <td>4.7194</td>\n",
       "      <td>0.6123</td>\n",
       "    </tr>\n",
       "    <tr>\n",
       "      <th>smallsize</th>\n",
       "      <td>0.0012</td>\n",
       "      <td>0.0007</td>\n",
       "      <td>0.0179</td>\n",
       "      <td>713</td>\n",
       "      <td>1.7383</td>\n",
       "      <td>0.2255</td>\n",
       "    </tr>\n",
       "    <tr>\n",
       "      <th>momentum</th>\n",
       "      <td>0.0023</td>\n",
       "      <td>0.0007</td>\n",
       "      <td>0.0176</td>\n",
       "      <td>713</td>\n",
       "      <td>3.4282</td>\n",
       "      <td>0.4447</td>\n",
       "    </tr>\n",
       "  </tbody>\n",
       "</table>\n",
       "</div>"
      ],
      "text/plain": [
       "Factor Returns    mean  stderr     std  count   tvalue  sharpe\n",
       "reversal        0.0060  0.0005  0.0143    713  11.2067  1.4539\n",
       "value           0.0020  0.0004  0.0112    713   4.7194  0.6123\n",
       "smallsize       0.0012  0.0007  0.0179    713   1.7383  0.2255\n",
       "momentum        0.0023  0.0007  0.0176    713   3.4282  0.4447"
      ]
     },
     "execution_count": 44,
     "metadata": {},
     "output_type": "execute_result"
    }
   ],
   "source": [
    "# Summarize time-series means of Fama-Macbeth risk premiums\n",
    "df = out[0]\n",
    "df['tvalue'] = df['mean']/df['stderr']\n",
    "df['sharpe'] = np.sqrt(12) * df['mean']/df['std']\n",
    "print(\"Fama-MacBeth Cross-sectional Regression Risk Premiums\")\n",
    "df.round(4)"
   ]
  },
  {
   "cell_type": "code",
   "execution_count": 45,
   "id": "58eb7dc0",
   "metadata": {
    "lines_to_next_cell": 2
   },
   "outputs": [
    {
     "name": "stdout",
     "output_type": "stream",
     "text": [
      "Fama-French Portfolio-Sorts\n"
     ]
    },
    {
     "data": {
      "text/html": [
       "<div>\n",
       "<style scoped>\n",
       "    .dataframe tbody tr th:only-of-type {\n",
       "        vertical-align: middle;\n",
       "    }\n",
       "\n",
       "    .dataframe tbody tr th {\n",
       "        vertical-align: top;\n",
       "    }\n",
       "\n",
       "    .dataframe thead th {\n",
       "        text-align: right;\n",
       "    }\n",
       "</style>\n",
       "<table border=\"1\" class=\"dataframe\">\n",
       "  <thead>\n",
       "    <tr style=\"text-align: right;\">\n",
       "      <th>Benchmarks</th>\n",
       "      <th>mean</th>\n",
       "      <th>stderr</th>\n",
       "      <th>std</th>\n",
       "      <th>count</th>\n",
       "      <th>tvalue</th>\n",
       "      <th>sharpe</th>\n",
       "    </tr>\n",
       "  </thead>\n",
       "  <tbody>\n",
       "    <tr>\n",
       "      <th>Mom(mo)</th>\n",
       "      <td>0.0060</td>\n",
       "      <td>0.0016</td>\n",
       "      <td>0.0424</td>\n",
       "      <td>713</td>\n",
       "      <td>3.8023</td>\n",
       "      <td>0.4933</td>\n",
       "    </tr>\n",
       "    <tr>\n",
       "      <th>ST_Rev(mo)</th>\n",
       "      <td>0.0046</td>\n",
       "      <td>0.0012</td>\n",
       "      <td>0.0316</td>\n",
       "      <td>713</td>\n",
       "      <td>3.9206</td>\n",
       "      <td>0.5086</td>\n",
       "    </tr>\n",
       "    <tr>\n",
       "      <th>SMB(mo)</th>\n",
       "      <td>0.0018</td>\n",
       "      <td>0.0011</td>\n",
       "      <td>0.0306</td>\n",
       "      <td>713</td>\n",
       "      <td>1.6111</td>\n",
       "      <td>0.2090</td>\n",
       "    </tr>\n",
       "    <tr>\n",
       "      <th>HML(mo)</th>\n",
       "      <td>0.0027</td>\n",
       "      <td>0.0011</td>\n",
       "      <td>0.0301</td>\n",
       "      <td>713</td>\n",
       "      <td>2.4227</td>\n",
       "      <td>0.3143</td>\n",
       "    </tr>\n",
       "  </tbody>\n",
       "</table>\n",
       "</div>"
      ],
      "text/plain": [
       "Benchmarks    mean  stderr     std  count  tvalue  sharpe\n",
       "Mom(mo)     0.0060  0.0016  0.0424    713  3.8023  0.4933\n",
       "ST_Rev(mo)  0.0046  0.0012  0.0316    713  3.9206  0.5086\n",
       "SMB(mo)     0.0018  0.0011  0.0306    713  1.6111  0.2090\n",
       "HML(mo)     0.0027  0.0011  0.0301    713  2.4227  0.3143"
      ]
     },
     "execution_count": 45,
     "metadata": {},
     "output_type": "execute_result"
    }
   ],
   "source": [
    "# Summarize time-series means of Fama-French portfolio-sort returns\n",
    "df = out[2]\n",
    "df['tvalue'] = df['mean']/df['stderr']\n",
    "df['sharpe'] = np.sqrt(12) * df['mean']/df['std']\n",
    "print(\"Fama-French Portfolio-Sorts\")\n",
    "df.round(4)"
   ]
  },
  {
   "cell_type": "code",
   "execution_count": 46,
   "id": "fbfbb318",
   "metadata": {},
   "outputs": [
    {
     "name": "stdout",
     "output_type": "stream",
     "text": [
      "Correlation of FM Risk Premiums and FF Portfolio-Sort Returns\n"
     ]
    },
    {
     "data": {
      "text/html": [
       "<div>\n",
       "<style scoped>\n",
       "    .dataframe tbody tr th:only-of-type {\n",
       "        vertical-align: middle;\n",
       "    }\n",
       "\n",
       "    .dataframe tbody tr th {\n",
       "        vertical-align: top;\n",
       "    }\n",
       "\n",
       "    .dataframe thead th {\n",
       "        text-align: right;\n",
       "    }\n",
       "</style>\n",
       "<table border=\"1\" class=\"dataframe\">\n",
       "  <thead>\n",
       "    <tr style=\"text-align: right;\">\n",
       "      <th></th>\n",
       "      <th>reversal</th>\n",
       "      <th>value</th>\n",
       "      <th>smallsize</th>\n",
       "      <th>momentum</th>\n",
       "      <th>Mom(mo)</th>\n",
       "      <th>ST_Rev(mo)</th>\n",
       "      <th>SMB(mo)</th>\n",
       "      <th>HML(mo)</th>\n",
       "    </tr>\n",
       "  </thead>\n",
       "  <tbody>\n",
       "    <tr>\n",
       "      <th>reversal</th>\n",
       "      <td>1.000</td>\n",
       "      <td>0.008</td>\n",
       "      <td>0.078</td>\n",
       "      <td>-0.448</td>\n",
       "      <td>-0.395</td>\n",
       "      <td>0.795</td>\n",
       "      <td>0.148</td>\n",
       "      <td>0.052</td>\n",
       "    </tr>\n",
       "    <tr>\n",
       "      <th>value</th>\n",
       "      <td>0.008</td>\n",
       "      <td>1.000</td>\n",
       "      <td>-0.224</td>\n",
       "      <td>-0.189</td>\n",
       "      <td>-0.166</td>\n",
       "      <td>-0.021</td>\n",
       "      <td>-0.212</td>\n",
       "      <td>0.821</td>\n",
       "    </tr>\n",
       "    <tr>\n",
       "      <th>smallsize</th>\n",
       "      <td>0.078</td>\n",
       "      <td>-0.224</td>\n",
       "      <td>1.000</td>\n",
       "      <td>-0.004</td>\n",
       "      <td>0.132</td>\n",
       "      <td>0.006</td>\n",
       "      <td>0.524</td>\n",
       "      <td>-0.152</td>\n",
       "    </tr>\n",
       "    <tr>\n",
       "      <th>momentum</th>\n",
       "      <td>-0.448</td>\n",
       "      <td>-0.189</td>\n",
       "      <td>-0.004</td>\n",
       "      <td>1.000</td>\n",
       "      <td>0.885</td>\n",
       "      <td>-0.284</td>\n",
       "      <td>-0.059</td>\n",
       "      <td>-0.205</td>\n",
       "    </tr>\n",
       "    <tr>\n",
       "      <th>Mom(mo)</th>\n",
       "      <td>-0.395</td>\n",
       "      <td>-0.166</td>\n",
       "      <td>0.132</td>\n",
       "      <td>0.885</td>\n",
       "      <td>1.000</td>\n",
       "      <td>-0.313</td>\n",
       "      <td>-0.038</td>\n",
       "      <td>-0.189</td>\n",
       "    </tr>\n",
       "    <tr>\n",
       "      <th>ST_Rev(mo)</th>\n",
       "      <td>0.795</td>\n",
       "      <td>-0.021</td>\n",
       "      <td>0.006</td>\n",
       "      <td>-0.284</td>\n",
       "      <td>-0.313</td>\n",
       "      <td>1.000</td>\n",
       "      <td>0.184</td>\n",
       "      <td>0.012</td>\n",
       "    </tr>\n",
       "    <tr>\n",
       "      <th>SMB(mo)</th>\n",
       "      <td>0.148</td>\n",
       "      <td>-0.212</td>\n",
       "      <td>0.524</td>\n",
       "      <td>-0.059</td>\n",
       "      <td>-0.038</td>\n",
       "      <td>0.184</td>\n",
       "      <td>1.000</td>\n",
       "      <td>-0.166</td>\n",
       "    </tr>\n",
       "    <tr>\n",
       "      <th>HML(mo)</th>\n",
       "      <td>0.052</td>\n",
       "      <td>0.821</td>\n",
       "      <td>-0.152</td>\n",
       "      <td>-0.205</td>\n",
       "      <td>-0.189</td>\n",
       "      <td>0.012</td>\n",
       "      <td>-0.166</td>\n",
       "      <td>1.000</td>\n",
       "    </tr>\n",
       "  </tbody>\n",
       "</table>\n",
       "</div>"
      ],
      "text/plain": [
       "            reversal  value  smallsize  momentum  Mom(mo)  ST_Rev(mo)  \\\n",
       "reversal       1.000  0.008      0.078    -0.448   -0.395       0.795   \n",
       "value          0.008  1.000     -0.224    -0.189   -0.166      -0.021   \n",
       "smallsize      0.078 -0.224      1.000    -0.004    0.132       0.006   \n",
       "momentum      -0.448 -0.189     -0.004     1.000    0.885      -0.284   \n",
       "Mom(mo)       -0.395 -0.166      0.132     0.885    1.000      -0.313   \n",
       "ST_Rev(mo)     0.795 -0.021      0.006    -0.284   -0.313       1.000   \n",
       "SMB(mo)        0.148 -0.212      0.524    -0.059   -0.038       0.184   \n",
       "HML(mo)        0.052  0.821     -0.152    -0.205   -0.189       0.012   \n",
       "\n",
       "            SMB(mo)  HML(mo)  \n",
       "reversal      0.148    0.052  \n",
       "value        -0.212    0.821  \n",
       "smallsize     0.524   -0.152  \n",
       "momentum     -0.059   -0.205  \n",
       "Mom(mo)      -0.038   -0.189  \n",
       "ST_Rev(mo)    0.184    0.012  \n",
       "SMB(mo)       1.000   -0.166  \n",
       "HML(mo)      -0.166    1.000  "
      ]
     },
     "execution_count": 46,
     "metadata": {},
     "output_type": "execute_result"
    }
   ],
   "source": [
    "# Show correlation of returns\n",
    "print('Correlation of FM Risk Premiums and FF Portfolio-Sort Returns')\n",
    "pd.concat([out[1].join(out[4]), out[4].T.join(out[3])], axis=0).round(3)"
   ]
  },
  {
   "cell_type": "markdown",
   "id": "4dba3a1f",
   "metadata": {},
   "source": [
    "## Nonlinear regression\n",
    "\n",
    "### Feature transformations\n",
    "\n",
    "A simple way to directly extend the linear model to accommodate\n",
    "non-linear relationships, using polynomial regression, is to include\n",
    "transformed versions of the predictors in the model, such as a\n",
    "quadratic term or several polynomial functions of the predictors, \n",
    "and use standard linear regression to estimate coefficients in order to produce a non-linear fit.  The CAPM predicts that these coefficients should be zero.\n",
    "\n",
    "Raw polynomial terms may be highly correlated with each other: Orthogonal polynomials_ transform the raw data matrix of polynomial terms to another whose columns are a basis of orthogonal terms which span the same column space. For example, regress the second predictor on the first and replace its column with the residuals, then regress the third predictor on the first two and replace its column with the residuals, and so on.\n",
    "\n",
    "Other feature transformation approaches include:\n",
    "- dummy or binary indicator variable\n",
    "- categorical variables with two or more levels\n",
    "- binarization or turning a categorical variable into several binary variables (4)\n",
    "- Legendre polynomals which are defined as a system of orthogonal polynomials over the interval $[-1, 1]$ \n",
    "-  interaction term constructed by computing the product of the values of the two variables to capture the effect that response of one predictor is dependent on the value of another predictor.\n",
    "\n"
   ]
  },
  {
   "cell_type": "markdown",
   "id": "9457ff58",
   "metadata": {},
   "source": [
    "### Kernel regression\n",
    "\n",
    "If there are already a large number of $k$ features, then polynomial transformations, say up to degree $d,$  may be computational expensive since we could be working in $O(k^d)$ dimensional space.  Fortunately, many high-dimensional feature mappings, denoted $\\phi(x)$, correspond to kernel functions $K$, where model fitting and prediction calculations only require inner products of these kernel matrices and we never need to explicitly represent vectors in the very high-dimensional feature space.  For example, the kernel $K(x, y) = (x^Ty + c)^d$, which requires only $O(k)$ to compute, expands to the feature space corresponding with all polynomial terms up to degree $d$ of the features in $x$ and $y$. \n",
    "\n",
    "Kernels can be viewed as similarity metrics, that measure how close together the feature maps $\\phi(x)$ and $\\phi(y)$ are. The radial basis function (RBF), or Gaussian, kernel uses distance in Euclidean space which corresponds to an infinite-dimension feature mapping.\n",
    "\n",
    "This application of Kernel functions that can be efficiently computed, where only their inner products are needed without ever explicitly computing their corresponding feature vectors in very high-dimensional space, has come to be known as the __kernel trick__.\n"
   ]
  },
  {
   "cell_type": "markdown",
   "id": "3dbc9ff4",
   "metadata": {},
   "source": [
    "\n",
    "The slight concavity of the fitted curve is consistent with the negative coefficient on observed for squared-beta factor in the Fama-MacBeth regression. The lack of monotonicity would be consistent with an insignificant coefficient for the beta factor.\n",
    "\n",
    "\n"
   ]
  },
  {
   "cell_type": "code",
   "execution_count": 47,
   "id": "484838dc",
   "metadata": {
    "lines_to_next_cell": 0
   },
   "outputs": [
    {
     "name": "stderr",
     "output_type": "stream",
     "text": [
      "/tmp/ipykernel_3511161/2598276866.py:4: DeprecationWarning: Conversion of an array with ndim > 0 to a scalar is deprecated, and will error in future. Ensure you extract a single element from your array before performing this operation. (Deprecated NumPy 1.25.)\n",
      "  bandwidth = float((max(X_train) - min(X_train)) * 4 / len(X_train))\n"
     ]
    },
    {
     "data": {
      "image/png": "[encoded data removed]",
      "text/plain": [
       "<Figure size 1000x600 with 1 Axes>"
      ]
     },
     "metadata": {},
     "output_type": "display_data"
    }
   ],
   "source": [
    "y_train = assets_df[['premiums']].values\n",
    "X_train = assets_df[['BETA']].values\n",
    "X_test = np.linspace(0.5, 1.75, 100).reshape(-1, 1)\n",
    "bandwidth = float((max(X_train) - min(X_train)) * 4 / len(X_train))\n",
    "\n",
    "fig, ax = plt.subplots(figsize=(10,6))\n",
    "legend = []\n",
    "color = 1\n",
    "for h in [0.25, 0.5, 1, 2]:\n",
    "    for alpha in [0.01]:\n",
    "        model = KernelRidge(alpha=alpha, kernel='rbf', gamma=1/(h*bandwidth)**2)\n",
    "        model.fit(X=X_train, y=y_train)\n",
    "        y_pred = model.predict(X_test)\n",
    "        ax.plot(X_test, y_pred, ls='-', color=f\"C{color}\")\n",
    "        legend.append(f\"h={h*bandwidth:.2f}\")\n",
    "        color += 1\n",
    "# scatter plot actual                                                                        \n",
    "assets_df.plot(x='BETA', y='premiums', kind='scatter', ax=ax, marker=\"*\", color=\"C0\")\n",
    "ax.set_ylim(bottom=0)\n",
    "plt.legend(legend, loc='best', title='bandwidth')\n",
    "plt.title('Kernel Regression of Beta Risk Premiums')\n",
    "plt.tight_layout()\n"
   ]
  }
 ],
 "metadata": {
  "jupytext": {
   "cell_metadata_filter": "-all",
   "main_language": "python",
   "notebook_metadata_filter": "-all"
  },
  "kernelspec": {
   "display_name": "env3.11",
   "language": "python",
   "name": "python3"
  },
  "language_info": {
   "codemirror_mode": {
    "name": "ipython",
    "version": 3
   },
   "file_extension": ".py",
   "mimetype": "text/x-python",
   "name": "python",
   "nbconvert_exporter": "python",
   "pygments_lexer": "ipython3",
   "version": "3.11.9"
  }
 },
 "nbformat": 4,
 "nbformat_minor": 5
}
