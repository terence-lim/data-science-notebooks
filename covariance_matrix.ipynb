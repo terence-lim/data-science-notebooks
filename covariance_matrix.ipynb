{
 "cells": [
  {
   "cell_type": "markdown",
   "metadata": {},
   "source": [
    "# Covariance Matrix Estimates of Industry Returns\n",
    "\n",
    "- Covariance Matrix: PCA, SVD, Shrinkage\n",
    "- TODO: Risk Decomposition, Black-Litterman, Risk Parity\n",
    "\n",
    "Copyright 2023, Terence Lim\n",
    "\n",
    "MIT License"
   ]
  },
  {
   "cell_type": "code",
   "execution_count": 2,
   "metadata": {},
   "outputs": [],
   "source": [
    "import numpy as np\n",
    "from numpy.linalg import inv, svd\n",
    "from sklearn.decomposition import PCA\n",
    "from scipy.stats import multivariate_normal\n",
    "import pandas as pd\n",
    "from pandas import DataFrame, Series\n",
    "from tqdm import tqdm\n",
    "import matplotlib.pyplot as plt\n",
    "from sklearn.covariance import LedoitWolf, OAS, EmpiricalCovariance\n",
    "from finds.database import SQL, Redis\n",
    "from finds.structured import CRSP, FFReader\n",
    "from finds.busday import BusDay\n",
    "from finds.recipes import halflife\n",
    "from finds.display import plot_bar, show\n",
    "from conf import credentials, VERBOSE, paths\n",
    "from typing import Tuple\n",
    "\n",
    "%matplotlib inline\n",
    "VERBOSE = 0\n",
    "SHOW = dict(ndigits=4, latex=None)\n",
    "imgdir = paths['images']\n",
    "sql = SQL(**credentials['sql'], verbose=VERBOSE)\n",
    "user = SQL(**credentials['user'], verbose=VERBOSE)\n",
    "\n",
    "rdb = Redis(**credentials['redis'])\n",
    "bd = BusDay(sql, verbose=VERBOSE)\n",
    "crsp = CRSP(sql, bd, rdb=rdb, verbose=VERBOSE)"
   ]
  },
  {
   "cell_type": "markdown",
   "metadata": {},
   "source": [
    "## Retrieve industry returns from Ken French Data Library website"
   ]
  },
  {
   "cell_type": "code",
   "execution_count": 4,
   "metadata": {},
   "outputs": [
    {
     "data": {
      "text/html": [
       "<div>\n",
       "<style scoped>\n",
       "    .dataframe tbody tr th:only-of-type {\n",
       "        vertical-align: middle;\n",
       "    }\n",
       "\n",
       "    .dataframe tbody tr th {\n",
       "        vertical-align: top;\n",
       "    }\n",
       "\n",
       "    .dataframe thead th {\n",
       "        text-align: right;\n",
       "    }\n",
       "</style>\n",
       "<table border=\"1\" class=\"dataframe\">\n",
       "  <thead>\n",
       "    <tr style=\"text-align: right;\">\n",
       "      <th></th>\n",
       "      <th>first</th>\n",
       "      <th>last</th>\n",
       "      <th>missing</th>\n",
       "    </tr>\n",
       "    <tr>\n",
       "      <th>Missing Values in FF-49 Industry Monthly Returns</th>\n",
       "      <th></th>\n",
       "      <th></th>\n",
       "      <th></th>\n",
       "    </tr>\n",
       "  </thead>\n",
       "  <tbody>\n",
       "    <tr>\n",
       "      <th>Soda49vw</th>\n",
       "      <td>19260731</td>\n",
       "      <td>19630628</td>\n",
       "      <td>444</td>\n",
       "    </tr>\n",
       "    <tr>\n",
       "      <th>Hlth49vw</th>\n",
       "      <td>19260731</td>\n",
       "      <td>19690630</td>\n",
       "      <td>516</td>\n",
       "    </tr>\n",
       "    <tr>\n",
       "      <th>Rubbr49vw</th>\n",
       "      <td>19260731</td>\n",
       "      <td>19440630</td>\n",
       "      <td>60</td>\n",
       "    </tr>\n",
       "    <tr>\n",
       "      <th>FabPr49vw</th>\n",
       "      <td>19260731</td>\n",
       "      <td>19630628</td>\n",
       "      <td>444</td>\n",
       "    </tr>\n",
       "    <tr>\n",
       "      <th>Guns49vw</th>\n",
       "      <td>19260731</td>\n",
       "      <td>19630628</td>\n",
       "      <td>444</td>\n",
       "    </tr>\n",
       "    <tr>\n",
       "      <th>Gold49vw</th>\n",
       "      <td>19260731</td>\n",
       "      <td>19630628</td>\n",
       "      <td>444</td>\n",
       "    </tr>\n",
       "    <tr>\n",
       "      <th>PerSv49vw</th>\n",
       "      <td>19260731</td>\n",
       "      <td>19270630</td>\n",
       "      <td>12</td>\n",
       "    </tr>\n",
       "    <tr>\n",
       "      <th>Softw49vw</th>\n",
       "      <td>19260731</td>\n",
       "      <td>19650630</td>\n",
       "      <td>468</td>\n",
       "    </tr>\n",
       "    <tr>\n",
       "      <th>Paper49vw</th>\n",
       "      <td>19260731</td>\n",
       "      <td>19290629</td>\n",
       "      <td>36</td>\n",
       "    </tr>\n",
       "  </tbody>\n",
       "</table>\n",
       "</div>"
      ],
      "text/plain": [
       "                                                     first      last  missing\n",
       "Missing Values in FF-49 Industry Monthly Returns                             \n",
       "Soda49vw                                          19260731  19630628      444\n",
       "Hlth49vw                                          19260731  19690630      516\n",
       "Rubbr49vw                                         19260731  19440630       60\n",
       "FabPr49vw                                         19260731  19630628      444\n",
       "Guns49vw                                          19260731  19630628      444\n",
       "Gold49vw                                          19260731  19630628      444\n",
       "PerSv49vw                                         19260731  19270630       12\n",
       "Softw49vw                                         19260731  19650630      468\n",
       "Paper49vw                                         19260731  19290629       36"
      ]
     },
     "execution_count": 4,
     "metadata": {},
     "output_type": "execute_result"
    }
   ],
   "source": [
    "name, item, suffix = ('49_Industry_Portfolios', 0, '49vw')\n",
    "df = FFReader.fetch(name=name,\n",
    "                    item=item,\n",
    "                    suffix=suffix,\n",
    "                    date_formatter=bd.endmo)\n",
    "\n",
    "# show missing dates\n",
    "nans = df.isnull()\n",
    "missing = {col: {'first': min(nans[nans[col]].index),\n",
    "                 'last': max(nans[nans[col]].index),\n",
    "                  'missing': np.sum(nans[col])}\n",
    "           for col in df if nans[col].sum()}\n",
    "df = df[df.index > 19690630]\n",
    "Y = df.to_numpy()\n",
    "show(DataFrame.from_dict(missing, orient='index'),\n",
    "     caption=\"Missing Values in FF-49 Industry Monthly Returns\", **SHOW)"
   ]
  },
  {
   "cell_type": "markdown",
   "metadata": {},
   "source": [
    "## PCA and scree plot"
   ]
  },
  {
   "cell_type": "code",
   "execution_count": 5,
   "metadata": {},
   "outputs": [
    {
     "name": "stdout",
     "output_type": "stream",
     "text": [
      "[0.56140494 0.62540872 0.6651483  0.70222492 0.73038079 0.75292049\n",
      " 0.77105102 0.78525435 0.79902919 0.81088906]\n",
      "u: (641, 49) s: (49,) vT: (49, 49) v (49, 49)\n",
      "[0.56140494 0.06400378 0.03973958 0.03707662 0.02815587 0.02253971\n",
      " 0.01813052 0.01420333 0.01377484 0.01185987]\n",
      "y: (641, 49) x: (641, 49) components_: (49, 49)\n",
      "singular values: True\n",
      "singular values: True\n",
      "projections: [True, True, True, True, True, True, True, True, True, True]\n",
      "projections: [True, True, True, True, True, True, True, True, True, True]\n",
      "components: [True, True, True, True, True, True, True, True, True, True]\n",
      "covariance matrix: True\n"
     ]
    }
   ],
   "source": [
    "# PCA of returns covariances by SVD\n",
    "# SVD: u S vT = x (T samples x N stocks)\n",
    "means = Y.mean(axis=0, keepdims=True)\n",
    "X = Y.copy()\n",
    "\n",
    "x = np.array(X - means) # pre-process: demean by column\n",
    "u, s, vT = np.linalg.svd(x, full_matrices=False)\n",
    "v = vT.T\n",
    "k = 10\n",
    "print(np.cumsum(s[:k]**2/np.sum(np.diag(s**2))))\n",
    "print('u:', u.shape, 's:', s.shape, 'vT:', vT.shape, 'v', v.shape)\n",
    "\n",
    "# sklearn PCA: X (T samples x N features/stocks), sanity check same results\n",
    "pca = PCA()               # note: PCA first demeans input X by column mean_\n",
    "y = pca.fit_transform(X)  # project X (stock returns) onto the components\n",
    "print(pca.explained_variance_ratio_[:k])\n",
    "print('y:', y.shape, 'x:', x.shape, 'components_:', pca.components_.shape)\n",
    "\n",
    "# assert: s == singular_values_ (aka 2-norm of the projection on components)\n",
    "print('singular values:', np.allclose(pca.singular_values_, s))\n",
    "\n",
    "# assert: s**2 / len(y) == explained_variance_\n",
    "print('singular values:', np.allclose(pca.singular_values_, s))\n",
    "\n",
    "# assert: x @ v == transform(x) (aka projection on components) (aka returns)\n",
    "print('projections:', [np.allclose((x @ v)[:,i], -y[:,i]) or\n",
    "                       np.allclose((x @ v)[:,i], y[:,i]) for i in range(k)])\n",
    "\n",
    "# assert: u @ s == transform(x) (aka factor returns)\n",
    "print('projections:', [np.allclose(u[:,i]*s[i], -y[:,i]) or\n",
    "                       np.allclose(u[:,i]*s[i], y[:,i]) for i in range(k)])\n",
    "\n",
    "# assert: cols of v == rows of components_ (right SVD eigenvectors) (weights)\n",
    "print('components:', [np.allclose(pca.components_[i,:], -v[:,i]) or\n",
    "                      np.allclose(pca.components_[i,:], v[:,i])\n",
    "                      for i in range(k)])\n",
    "\n",
    "\n",
    "# assert: covariance matrix == loadings.T @ loadings\n",
    "loadings = np.diag(pca.singular_values_) @ pca.components_\n",
    "print('covariance matrix:', np.allclose(x.T @ x, loadings.T @ loadings))"
   ]
  },
  {
   "cell_type": "markdown",
   "metadata": {},
   "source": [
    "### Projection on first component, and average \"market\" factor"
   ]
  },
  {
   "cell_type": "code",
   "execution_count": 6,
   "metadata": {},
   "outputs": [
    {
     "data": {
      "text/html": [
       "<div>\n",
       "<style scoped>\n",
       "    .dataframe tbody tr th:only-of-type {\n",
       "        vertical-align: middle;\n",
       "    }\n",
       "\n",
       "    .dataframe tbody tr th {\n",
       "        vertical-align: top;\n",
       "    }\n",
       "\n",
       "    .dataframe thead th {\n",
       "        text-align: right;\n",
       "    }\n",
       "</style>\n",
       "<table border=\"1\" class=\"dataframe\">\n",
       "  <thead>\n",
       "    <tr style=\"text-align: right;\">\n",
       "      <th></th>\n",
       "      <th>frac weights +ve</th>\n",
       "      <th>sum weights</th>\n",
       "      <th>sum abs weights</th>\n",
       "      <th>corr with eql-wtd market returns</th>\n",
       "    </tr>\n",
       "  </thead>\n",
       "  <tbody>\n",
       "    <tr>\n",
       "      <th>PC1</th>\n",
       "      <td>0.000000</td>\n",
       "      <td>-6.838002</td>\n",
       "      <td>6.838002</td>\n",
       "      <td>-0.998898</td>\n",
       "    </tr>\n",
       "    <tr>\n",
       "      <th>PC2</th>\n",
       "      <td>0.244898</td>\n",
       "      <td>0.098363</td>\n",
       "      <td>4.120475</td>\n",
       "      <td>0.004852</td>\n",
       "    </tr>\n",
       "    <tr>\n",
       "      <th>PC3</th>\n",
       "      <td>0.428571</td>\n",
       "      <td>0.147279</td>\n",
       "      <td>3.613418</td>\n",
       "      <td>0.005724</td>\n",
       "    </tr>\n",
       "    <tr>\n",
       "      <th>PC4</th>\n",
       "      <td>0.326531</td>\n",
       "      <td>-0.933199</td>\n",
       "      <td>5.192985</td>\n",
       "      <td>-0.035033</td>\n",
       "    </tr>\n",
       "  </tbody>\n",
       "</table>\n",
       "</div>"
      ],
      "text/plain": [
       "     frac weights +ve  sum weights  sum abs weights  \\\n",
       "PC1          0.000000    -6.838002         6.838002   \n",
       "PC2          0.244898     0.098363         4.120475   \n",
       "PC3          0.428571     0.147279         3.613418   \n",
       "PC4          0.326531    -0.933199         5.192985   \n",
       "\n",
       "     corr with eql-wtd market returns  \n",
       "PC1                         -0.998898  \n",
       "PC2                          0.004852  \n",
       "PC3                          0.005724  \n",
       "PC4                         -0.035033  "
      ]
     },
     "execution_count": 6,
     "metadata": {},
     "output_type": "execute_result"
    }
   ],
   "source": [
    "t = pca.components_\n",
    "top_k = 4\n",
    "DataFrame({'frac weights +ve': np.mean(t[:top_k, :] >= 0, axis=1),\n",
    "           'sum weights': np.sum(t[:top_k, :], axis=1),\n",
    "           'sum abs weights': np.sum(np.abs(t[:top_k, :]), axis=1),\n",
    "           'corr with eql-wtd market returns':\n",
    "           [np.corrcoef(x.mean(axis=1), y[:,i])[0,1]\n",
    "                        for i in range(top_k)]},\n",
    "          index=[f\"PC{i+1}\" for i in range(top_k)])"
   ]
  },
  {
   "cell_type": "markdown",
   "metadata": {},
   "source": [
    "### Plot components/portfolio weights distribution "
   ]
  },
  {
   "cell_type": "code",
   "execution_count": 7,
   "metadata": {},
   "outputs": [
    {
     "data": {
      "image/png": "[encoded data removed]",
      "text/plain": [
       "<Figure size 720x288 with 3 Axes>"
      ]
     },
     "metadata": {
      "needs_background": "light"
     },
     "output_type": "display_data"
    }
   ],
   "source": [
    "fig, axes = plt.subplots(nrows=1, ncols=3, num=1, clear=True, figsize=(10, 4))\n",
    "for i, ax in enumerate(np.ravel(axes)):\n",
    "    ax.bar(np.arange(t.shape[1]),\n",
    "           np.sort(t[i, :]),\n",
    "           color=f\"C{i}\")\n",
    "    ax.legend([f\"Weights (Loadings) on PC{i+1}\"], fontsize=6)\n",
    "plt.tight_layout(pad=0)\n",
    "plt.savefig(imgdir / 'weights.jpg')"
   ]
  },
  {
   "cell_type": "markdown",
   "metadata": {},
   "source": [
    "### Scree Plot"
   ]
  },
  {
   "cell_type": "code",
   "execution_count": 8,
   "metadata": {},
   "outputs": [
    {
     "data": {
      "image/png": "[encoded data removed]",
      "text/plain": [
       "<Figure size 360x216 with 1 Axes>"
      ]
     },
     "metadata": {
      "needs_background": "light"
     },
     "output_type": "display_data"
    }
   ],
   "source": [
    "fig, ax = plt.subplots(1, 1, num=1, clear=True, figsize=(5,3))\n",
    "k=10\n",
    "plot_bar(Series(pca.explained_variance_ratio_[:k],\n",
    "                index=np.arange(1, k+1)),\n",
    "         ylabel='Explained Variance Ratio',\n",
    "         xlabel=\"Component\",\n",
    "         legend=None,\n",
    "         title='Scree Plot',\n",
    "         ax=ax,\n",
    "         fontsize=8,\n",
    "         labels=[f\"{i:.3f}\" for i in pca.explained_variance_ratio_[:k]])\n",
    "plt.tight_layout(pad=1)\n",
    "plt.savefig(imgdir / 'explained.jpg')"
   ]
  },
  {
   "cell_type": "markdown",
   "metadata": {},
   "source": [
    "## Evaluate rolling GMV portfolio volatility: shrinkage, PCA, EWMA"
   ]
  },
  {
   "cell_type": "code",
   "execution_count": 9,
   "metadata": {},
   "outputs": [],
   "source": [
    "# Helper to compute EWMA covariance matrix estimate\n",
    "def ewma(X, alpha=0.03, demean=False):\n",
    "    weights = (1 - alpha)**np.arange(len(X))[::-1]\n",
    "    if demean:\n",
    "        X = X - X.mean(axis=0, keepdims=True)\n",
    "    return (weights.reshape((1, -1)) * X.T) @ X / weights.sum()\n",
    "\n",
    "\n",
    "# Helper method to compute Minimum Variance Portfolio and realized volatility\n",
    "def gmv(cov, ret):\n",
    "    \"\"\"Compute minimum variance portfolio and realized volatility\"\"\"\n",
    "    w = np.linalg.inv(cov) @ np.ones((cov.shape[1], 1))\n",
    "    return ret @ w/sum(w)\n",
    "\n",
    "\n",
    "# Rolling monthly evaluation\n",
    "r = {}     # collect results of covariance matrix models\n",
    "start_eval = 20000101\n",
    "for retdate in tqdm(df.index[(df.index >= start_eval)]):\n",
    "    x_train = Y[df.index < retdate, :]\n",
    "    x_test = Y[df.index == retdate, :]\n",
    "    keep = 5 * 12   # keep five years\n",
    "    N = x_train.shape[1]\n",
    "    r[retdate] = {}\n",
    "\n",
    "    cov = EmpiricalCovariance().fit(x_train[-keep:, :]).covariance_\n",
    "    \n",
    "    r[retdate]['Full Covariance'] = float(gmv(cov, x_test))\n",
    "\n",
    "    for alpha in [0.1, 0.06, 0.03, 0.01, 0.003]:\n",
    "        r[retdate][f'EWMA({halflife(alpha=alpha):.0f}mo)'] = \\\n",
    "            float(gmv(ewma(x_train, alpha=alpha), x_test))\n",
    "\n",
    "    r[retdate]['Eye'] = float(gmv(np.identity(x_train.shape[1]), x_test))\n",
    "\n",
    "    r[retdate]['Diagonal'] = float(gmv(np.diagflat(np.diag(cov)), x_test))\n",
    "\n",
    "    for k in [2, 5, 10, 15, 20]:\n",
    "        r[retdate][f\"PC 1-{k}\"] = float(gmv(PCA(k).fit(x_train[-keep:, :])\\\n",
    "                                            .get_covariance(), x_test))\n",
    "\n",
    "    r[retdate]['LW'] = float(gmv(LedoitWolf().fit(x_train[-keep:, :])\\\n",
    "                                 .covariance_, x_test))\n",
    "    \n",
    "    r[retdate]['OAS'] = float(gmv(OAS().fit(x_train[-keep:, :])\\\n",
    "                                  .covariance_, x_test))\n",
    "    \n"
   ]
  },
  {
   "cell_type": "code",
   "execution_count": 12,
   "metadata": {},
   "outputs": [
    {
     "data": {
      "text/html": [
       "<div>\n",
       "<style scoped>\n",
       "    .dataframe tbody tr th:only-of-type {\n",
       "        vertical-align: middle;\n",
       "    }\n",
       "\n",
       "    .dataframe tbody tr th {\n",
       "        vertical-align: top;\n",
       "    }\n",
       "\n",
       "    .dataframe thead th {\n",
       "        text-align: right;\n",
       "    }\n",
       "</style>\n",
       "<table border=\"1\" class=\"dataframe\">\n",
       "  <thead>\n",
       "    <tr style=\"text-align: right;\">\n",
       "      <th></th>\n",
       "      <th>0</th>\n",
       "    </tr>\n",
       "    <tr>\n",
       "      <th>Realized volatility of minimum variance portfolios</th>\n",
       "      <th></th>\n",
       "    </tr>\n",
       "  </thead>\n",
       "  <tbody>\n",
       "    <tr>\n",
       "      <th>Full Covariance</th>\n",
       "      <td>0.0644</td>\n",
       "    </tr>\n",
       "    <tr>\n",
       "      <th>EWMA(7mo)</th>\n",
       "      <td>0.0645</td>\n",
       "    </tr>\n",
       "    <tr>\n",
       "      <th>EWMA(11mo)</th>\n",
       "      <td>0.0503</td>\n",
       "    </tr>\n",
       "    <tr>\n",
       "      <th>EWMA(23mo)</th>\n",
       "      <td>0.0401</td>\n",
       "    </tr>\n",
       "    <tr>\n",
       "      <th>EWMA(69mo)</th>\n",
       "      <td>0.0350</td>\n",
       "    </tr>\n",
       "    <tr>\n",
       "      <th>EWMA(231mo)</th>\n",
       "      <td>0.0355</td>\n",
       "    </tr>\n",
       "    <tr>\n",
       "      <th>Eye</th>\n",
       "      <td>0.0485</td>\n",
       "    </tr>\n",
       "    <tr>\n",
       "      <th>Diagonal</th>\n",
       "      <td>0.0434</td>\n",
       "    </tr>\n",
       "    <tr>\n",
       "      <th>PC 1-2</th>\n",
       "      <td>0.0365</td>\n",
       "    </tr>\n",
       "    <tr>\n",
       "      <th>PC 1-5</th>\n",
       "      <td>0.0356</td>\n",
       "    </tr>\n",
       "    <tr>\n",
       "      <th>PC 1-10</th>\n",
       "      <td>0.0368</td>\n",
       "    </tr>\n",
       "    <tr>\n",
       "      <th>PC 1-15</th>\n",
       "      <td>0.0366</td>\n",
       "    </tr>\n",
       "    <tr>\n",
       "      <th>PC 1-20</th>\n",
       "      <td>0.0380</td>\n",
       "    </tr>\n",
       "    <tr>\n",
       "      <th>LW</th>\n",
       "      <td>0.0342</td>\n",
       "    </tr>\n",
       "    <tr>\n",
       "      <th>OAS</th>\n",
       "      <td>0.0352</td>\n",
       "    </tr>\n",
       "  </tbody>\n",
       "</table>\n",
       "</div>"
      ],
      "text/plain": [
       "                                                         0\n",
       "Realized volatility of minimum variance portfolios        \n",
       "Full Covariance                                     0.0644\n",
       "EWMA(7mo)                                           0.0645\n",
       "EWMA(11mo)                                          0.0503\n",
       "EWMA(23mo)                                          0.0401\n",
       "EWMA(69mo)                                          0.0350\n",
       "EWMA(231mo)                                         0.0355\n",
       "Eye                                                 0.0485\n",
       "Diagonal                                            0.0434\n",
       "PC 1-2                                              0.0365\n",
       "PC 1-5                                              0.0356\n",
       "PC 1-10                                             0.0368\n",
       "PC 1-15                                             0.0366\n",
       "PC 1-20                                             0.0380\n",
       "LW                                                  0.0342\n",
       "OAS                                                 0.0352"
      ]
     },
     "execution_count": 12,
     "metadata": {},
     "output_type": "execute_result"
    }
   ],
   "source": [
    "ts = DataFrame.from_dict(r, orient='index')\n",
    "vol = np.std(ts, axis=0)\n",
    "show(vol, caption='Realized volatility of minimum variance portfolios', **SHOW)"
   ]
  },
  {
   "cell_type": "markdown",
   "metadata": {},
   "source": [
    "## Plot evaluation period realized volatility of minimum variance portfolios"
   ]
  },
  {
   "cell_type": "code",
   "execution_count": 13,
   "metadata": {},
   "outputs": [
    {
     "data": {
      "image/png": "[encoded data removed]",
      "text/plain": [
       "<Figure size 720x360 with 1 Axes>"
      ]
     },
     "metadata": {
      "needs_background": "light"
     },
     "output_type": "display_data"
    }
   ],
   "source": [
    "fig, ax = plt.subplots(1, 1, num=1, clear=True, figsize=(10, 5))\n",
    "plot_bar(vol,\n",
    "         ylabel='Volatility',\n",
    "         xlabel='Risk Model',\n",
    "         title='Test Period Volatility of Minimum Variance Portfolios',\n",
    "         labels=[f\"{v:.4f}\" for v in vol],\n",
    "         legend='',\n",
    "         fontsize=6,\n",
    "         ax=ax)\n",
    "plt.tight_layout()\n",
    "plt.savefig(imgdir / 'gmv.jpg')\n",
    "\n",
    "            "
   ]
  },
  {
   "cell_type": "code",
   "execution_count": 1,
   "metadata": {},
   "outputs": [],
   "source": [
    "# 4. Newey-west, Scholes Williams Beta\n",
    "# 1/T \\sum_t e_t^2 + 2/T \\sum_L \\sum_T w_l e_t e_t-l: w_l = 1-(l/(L+1))\n",
    "#\n",
    "# 5. Risk Decomposition: MCR, BL equilibrium, Risk Parity\n",
    "# u.T @ x = beta, since u is standardized (orthogonal) factor returns\n",
    "# u @ beta = stock's return due to orthogonal component\n",
    "# (u @ beta)*2 = variation of stock returns due to orthogonal component"
   ]
  },
  {
   "cell_type": "code",
   "execution_count": null,
   "metadata": {},
   "outputs": [],
   "source": []
  }
 ],
 "metadata": {
  "anaconda-cloud": {},
  "kernelspec": {
   "display_name": "Python 3 (ipykernel)",
   "language": "python",
   "name": "python3"
  },
  "language_info": {
   "codemirror_mode": {
    "name": "ipython",
    "version": 3
   },
   "file_extension": ".py",
   "mimetype": "text/x-python",
   "name": "python",
   "nbconvert_exporter": "python",
   "pygments_lexer": "ipython3",
   "version": "3.10.9"
  }
 },
 "nbformat": 4,
 "nbformat_minor": 4
}
