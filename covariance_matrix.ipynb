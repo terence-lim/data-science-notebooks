{
 "cells": [
  {
   "cell_type": "markdown",
   "id": "68a935b5",
   "metadata": {},
   "source": [
    "# Covariance Matrix\n",
    "\n",
    "_UNDER CONSTRUCTION_\n",
    "\n",
    "- Covariance Matrix Estimation: PCA, SVD, Shrinkage\n",
    "- TODO: Risk Decomposition, Black-Litterman\n"
   ]
  },
  {
   "cell_type": "code",
   "execution_count": 1,
   "id": "d01e5c06",
   "metadata": {},
   "outputs": [],
   "source": [
    "\n",
    "from typing import Tuple\n",
    "import numpy as np\n",
    "from numpy.linalg import inv, svd\n",
    "from sklearn.decomposition import PCA\n",
    "from scipy.stats import multivariate_normal\n",
    "import pandas as pd\n",
    "from pandas import DataFrame, Series\n",
    "from tqdm import tqdm\n",
    "import matplotlib.pyplot as plt\n",
    "from sklearn.covariance import LedoitWolf, OAS, EmpiricalCovariance\n",
    "from finds.database import SQL, RedisDB\n",
    "from finds.structured import CRSP\n",
    "from finds.readers import FFReader\n",
    "from finds.busday import BusDay\n",
    "from finds.finance import halflife\n",
    "from finds.plots import plot_bar\n",
    "from finds.misc import Show\n",
    "from secret import credentials, paths"
   ]
  },
  {
   "cell_type": "code",
   "execution_count": 2,
   "id": "4bdc6afc",
   "metadata": {},
   "outputs": [],
   "source": [
    "# %matplotlib qt\n",
    "VERBOSE = 0\n",
    "show = Show(ndigits=4, latex=None)\n",
    "imgdir = paths['images']\n",
    "sql = SQL(**credentials['sql'], verbose=VERBOSE)\n",
    "user = SQL(**credentials['user'], verbose=VERBOSE)\n",
    "rdb = RedisDB(**credentials['redis'])\n",
    "bd = BusDay(sql, verbose=VERBOSE)\n",
    "crsp = CRSP(sql, bd, rdb=rdb, verbose=VERBOSE)"
   ]
  },
  {
   "cell_type": "code",
   "execution_count": 3,
   "id": "58ab3806",
   "metadata": {},
   "outputs": [
    {
     "name": "stderr",
     "output_type": "stream",
     "text": [
      "/home/terence/Dropbox/github/data-science-notebooks/finds/readers/ffreader.py:151: FutureWarning: The argument 'date_parser' is deprecated and will be removed in a future version. Please use 'date_format' instead, or read your data in as 'object' dtype and then call 'to_datetime'.\n",
      "  df = pdr.data.DataReader(name=name,\n",
      "/home/terence/Dropbox/github/data-science-notebooks/finds/readers/ffreader.py:151: FutureWarning: The argument 'date_parser' is deprecated and will be removed in a future version. Please use 'date_format' instead, or read your data in as 'object' dtype and then call 'to_datetime'.\n",
      "  df = pdr.data.DataReader(name=name,\n",
      "/home/terence/Dropbox/github/data-science-notebooks/finds/readers/ffreader.py:151: FutureWarning: The argument 'date_parser' is deprecated and will be removed in a future version. Please use 'date_format' instead, or read your data in as 'object' dtype and then call 'to_datetime'.\n",
      "  df = pdr.data.DataReader(name=name,\n",
      "/home/terence/Dropbox/github/data-science-notebooks/finds/readers/ffreader.py:151: FutureWarning: The argument 'date_parser' is deprecated and will be removed in a future version. Please use 'date_format' instead, or read your data in as 'object' dtype and then call 'to_datetime'.\n",
      "  df = pdr.data.DataReader(name=name,\n",
      "/home/terence/Dropbox/github/data-science-notebooks/finds/readers/ffreader.py:151: FutureWarning: The argument 'date_parser' is deprecated and will be removed in a future version. Please use 'date_format' instead, or read your data in as 'object' dtype and then call 'to_datetime'.\n",
      "  df = pdr.data.DataReader(name=name,\n",
      "/home/terence/Dropbox/github/data-science-notebooks/finds/readers/ffreader.py:151: FutureWarning: The argument 'date_parser' is deprecated and will be removed in a future version. Please use 'date_format' instead, or read your data in as 'object' dtype and then call 'to_datetime'.\n",
      "  df = pdr.data.DataReader(name=name,\n",
      "/home/terence/Dropbox/github/data-science-notebooks/finds/readers/ffreader.py:151: FutureWarning: The argument 'date_parser' is deprecated and will be removed in a future version. Please use 'date_format' instead, or read your data in as 'object' dtype and then call 'to_datetime'.\n",
      "  df = pdr.data.DataReader(name=name,\n",
      "/home/terence/Dropbox/github/data-science-notebooks/finds/readers/ffreader.py:151: FutureWarning: The argument 'date_parser' is deprecated and will be removed in a future version. Please use 'date_format' instead, or read your data in as 'object' dtype and then call 'to_datetime'.\n",
      "  df = pdr.data.DataReader(name=name,\n"
     ]
    }
   ],
   "source": [
    "## Retrieve industry returns from Ken French Data Library website\n",
    "name, item, suffix = ('49_Industry_Portfolios', 0, '49vw')\n",
    "df = FFReader.fetch(name=name,\n",
    "                    item=item,\n",
    "                    suffix=suffix,\n",
    "                    date_formatter=bd.endmo)"
   ]
  },
  {
   "cell_type": "code",
   "execution_count": 4,
   "id": "33e11fbe",
   "metadata": {},
   "outputs": [
    {
     "data": {
      "text/html": [
       "<div>\n",
       "<style scoped>\n",
       "    .dataframe tbody tr th:only-of-type {\n",
       "        vertical-align: middle;\n",
       "    }\n",
       "\n",
       "    .dataframe tbody tr th {\n",
       "        vertical-align: top;\n",
       "    }\n",
       "\n",
       "    .dataframe thead th {\n",
       "        text-align: right;\n",
       "    }\n",
       "</style>\n",
       "<table border=\"1\" class=\"dataframe\">\n",
       "  <thead>\n",
       "    <tr style=\"text-align: right;\">\n",
       "      <th></th>\n",
       "      <th>first</th>\n",
       "      <th>last</th>\n",
       "      <th>missing</th>\n",
       "    </tr>\n",
       "    <tr>\n",
       "      <th>Missing Values in FF-49 Industry Monthly Returns</th>\n",
       "      <th></th>\n",
       "      <th></th>\n",
       "      <th></th>\n",
       "    </tr>\n",
       "  </thead>\n",
       "  <tbody>\n",
       "    <tr>\n",
       "      <th>Soda49vw</th>\n",
       "      <td>19260731</td>\n",
       "      <td>19630628</td>\n",
       "      <td>444</td>\n",
       "    </tr>\n",
       "    <tr>\n",
       "      <th>Hlth49vw</th>\n",
       "      <td>19260731</td>\n",
       "      <td>19690630</td>\n",
       "      <td>516</td>\n",
       "    </tr>\n",
       "    <tr>\n",
       "      <th>Rubbr49vw</th>\n",
       "      <td>19260731</td>\n",
       "      <td>19440630</td>\n",
       "      <td>60</td>\n",
       "    </tr>\n",
       "    <tr>\n",
       "      <th>FabPr49vw</th>\n",
       "      <td>19260731</td>\n",
       "      <td>19630628</td>\n",
       "      <td>444</td>\n",
       "    </tr>\n",
       "    <tr>\n",
       "      <th>Guns49vw</th>\n",
       "      <td>19260731</td>\n",
       "      <td>19630628</td>\n",
       "      <td>444</td>\n",
       "    </tr>\n",
       "    <tr>\n",
       "      <th>Gold49vw</th>\n",
       "      <td>19260731</td>\n",
       "      <td>19630628</td>\n",
       "      <td>444</td>\n",
       "    </tr>\n",
       "    <tr>\n",
       "      <th>PerSv49vw</th>\n",
       "      <td>19260731</td>\n",
       "      <td>19270630</td>\n",
       "      <td>12</td>\n",
       "    </tr>\n",
       "    <tr>\n",
       "      <th>Softw49vw</th>\n",
       "      <td>19260731</td>\n",
       "      <td>19650630</td>\n",
       "      <td>468</td>\n",
       "    </tr>\n",
       "    <tr>\n",
       "      <th>Paper49vw</th>\n",
       "      <td>19260731</td>\n",
       "      <td>19290629</td>\n",
       "      <td>36</td>\n",
       "    </tr>\n",
       "  </tbody>\n",
       "</table>\n",
       "</div>"
      ],
      "text/plain": [
       "                                                     first      last  missing\n",
       "Missing Values in FF-49 Industry Monthly Returns                             \n",
       "Soda49vw                                          19260731  19630628      444\n",
       "Hlth49vw                                          19260731  19690630      516\n",
       "Rubbr49vw                                         19260731  19440630       60\n",
       "FabPr49vw                                         19260731  19630628      444\n",
       "Guns49vw                                          19260731  19630628      444\n",
       "Gold49vw                                          19260731  19630628      444\n",
       "PerSv49vw                                         19260731  19270630       12\n",
       "Softw49vw                                         19260731  19650630      468\n",
       "Paper49vw                                         19260731  19290629       36"
      ]
     },
     "execution_count": 4,
     "metadata": {},
     "output_type": "execute_result"
    }
   ],
   "source": [
    "# show missing dates\n",
    "nans = df.isnull()\n",
    "missing = {col: {'first': min(nans[nans[col]].index),\n",
    "                 'last': max(nans[nans[col]].index),\n",
    "                  'missing': np.sum(nans[col])}\n",
    "           for col in df if nans[col].sum()}\n",
    "df = df[df.index > 19690630]\n",
    "Y = df.to_numpy()\n",
    "show(DataFrame.from_dict(missing, orient='index'),\n",
    "     latex=False,\n",
    "     caption=\"Missing Values in FF-49 Industry Monthly Returns\")"
   ]
  },
  {
   "cell_type": "markdown",
   "id": "37a6a470",
   "metadata": {},
   "source": [
    "## PCA and scree plot"
   ]
  },
  {
   "cell_type": "code",
   "execution_count": 5,
   "id": "320268a2",
   "metadata": {},
   "outputs": [],
   "source": [
    "# PCA of returns covariances by SVD\n",
    "# SVD: u S vT = x (T samples x N stocks)\n",
    "means = Y.mean(axis=0, keepdims=True)\n",
    "X = Y.copy()"
   ]
  },
  {
   "cell_type": "code",
   "execution_count": 6,
   "id": "d07bef06",
   "metadata": {},
   "outputs": [
    {
     "name": "stdout",
     "output_type": "stream",
     "text": [
      "[0.56081683 0.62434391 0.66423103 0.70158944 0.73044243 0.75277385\n",
      " 0.77084836 0.78503209 0.79886157 0.81079137]\n",
      "u: (648, 49) s: (49,) vT: (49, 49) v (49, 49)\n"
     ]
    }
   ],
   "source": [
    "x = np.array(X - means) # pre-process: demean by column\n",
    "u, s, vT = np.linalg.svd(x, full_matrices=False)\n",
    "v = vT.T\n",
    "k = 10\n",
    "print(np.cumsum(s[:k]**2/np.sum(np.diag(s**2))))\n",
    "print('u:', u.shape, 's:', s.shape, 'vT:', vT.shape, 'v', v.shape)"
   ]
  },
  {
   "cell_type": "code",
   "execution_count": 7,
   "id": "422869b5",
   "metadata": {},
   "outputs": [
    {
     "name": "stdout",
     "output_type": "stream",
     "text": [
      "[0.56081683 0.06352708 0.03988711 0.03735841 0.02885299 0.02233142\n",
      " 0.01807451 0.01418374 0.01382948 0.01192979]\n",
      "y: (648, 49) x: (648, 49) components_: (49, 49)\n"
     ]
    }
   ],
   "source": [
    "# sklearn PCA: X (T samples x N features/stocks), sanity check same results\n",
    "pca = PCA()               # note: PCA first demeans input X by column mean_\n",
    "y = pca.fit_transform(X)  # project X (stock returns) onto the components\n",
    "print(pca.explained_variance_ratio_[:k])\n",
    "print('y:', y.shape, 'x:', x.shape, 'components_:', pca.components_.shape)"
   ]
  },
  {
   "cell_type": "code",
   "execution_count": 8,
   "id": "80466e21",
   "metadata": {},
   "outputs": [
    {
     "name": "stdout",
     "output_type": "stream",
     "text": [
      "singular values: True\n"
     ]
    }
   ],
   "source": [
    "# assert: s == singular_values_ (aka 2-norm of the projection on components)\n",
    "print('singular values:', np.allclose(pca.singular_values_, s))"
   ]
  },
  {
   "cell_type": "code",
   "execution_count": 9,
   "id": "e5c4e145",
   "metadata": {},
   "outputs": [
    {
     "name": "stdout",
     "output_type": "stream",
     "text": [
      "singular values: True\n"
     ]
    }
   ],
   "source": [
    "# assert: s**2 / len(y) == explained_variance_\n",
    "print('singular values:', np.allclose(pca.singular_values_, s))"
   ]
  },
  {
   "cell_type": "code",
   "execution_count": 10,
   "id": "3cb5c78e",
   "metadata": {},
   "outputs": [
    {
     "name": "stdout",
     "output_type": "stream",
     "text": [
      "projections: [True, True, True, True, True, True, True, True, True, True]\n"
     ]
    }
   ],
   "source": [
    "# assert: x @ v == transform(x) (aka projection on components) (aka returns)\n",
    "print('projections:', [np.allclose((x @ v)[:,i], -y[:,i]) or\n",
    "                       np.allclose((x @ v)[:,i], y[:,i]) for i in range(k)])"
   ]
  },
  {
   "cell_type": "code",
   "execution_count": 11,
   "id": "df856815",
   "metadata": {},
   "outputs": [
    {
     "name": "stdout",
     "output_type": "stream",
     "text": [
      "projections: [True, True, True, True, True, True, True, True, True, True]\n"
     ]
    }
   ],
   "source": [
    "# assert: u @ s == transform(x) (aka factor returns)\n",
    "print('projections:', [np.allclose(u[:,i]*s[i], -y[:,i]) or\n",
    "                       np.allclose(u[:,i]*s[i], y[:,i]) for i in range(k)])"
   ]
  },
  {
   "cell_type": "code",
   "execution_count": 12,
   "id": "94f6ce38",
   "metadata": {
    "lines_to_next_cell": 2
   },
   "outputs": [
    {
     "name": "stdout",
     "output_type": "stream",
     "text": [
      "components: [True, True, True, True, True, True, True, True, True, True]\n"
     ]
    }
   ],
   "source": [
    "# assert: cols of v == rows of components_ (right SVD eigenvectors) (weights)\n",
    "print('components:', [np.allclose(pca.components_[i,:], -v[:,i]) or\n",
    "                      np.allclose(pca.components_[i,:], v[:,i])\n",
    "                      for i in range(k)])"
   ]
  },
  {
   "cell_type": "code",
   "execution_count": 13,
   "id": "6b362d05",
   "metadata": {
    "lines_to_next_cell": 2
   },
   "outputs": [
    {
     "name": "stdout",
     "output_type": "stream",
     "text": [
      "covariance matrix: True\n"
     ]
    }
   ],
   "source": [
    "# assert: covariance matrix == loadings.T @ loadings\n",
    "loadings = np.diag(pca.singular_values_) @ pca.components_\n",
    "print('covariance matrix:', np.allclose(x.T @ x, loadings.T @ loadings))"
   ]
  },
  {
   "cell_type": "code",
   "execution_count": 14,
   "id": "30f88d8e",
   "metadata": {
    "lines_to_next_cell": 2
   },
   "outputs": [
    {
     "data": {
      "text/html": [
       "<div>\n",
       "<style scoped>\n",
       "    .dataframe tbody tr th:only-of-type {\n",
       "        vertical-align: middle;\n",
       "    }\n",
       "\n",
       "    .dataframe tbody tr th {\n",
       "        vertical-align: top;\n",
       "    }\n",
       "\n",
       "    .dataframe thead th {\n",
       "        text-align: right;\n",
       "    }\n",
       "</style>\n",
       "<table border=\"1\" class=\"dataframe\">\n",
       "  <thead>\n",
       "    <tr style=\"text-align: right;\">\n",
       "      <th></th>\n",
       "      <th>frac weights +ve</th>\n",
       "      <th>sum weights</th>\n",
       "      <th>sum abs weights</th>\n",
       "      <th>corr with eql-wtd market returns</th>\n",
       "    </tr>\n",
       "  </thead>\n",
       "  <tbody>\n",
       "    <tr>\n",
       "      <th>PC1</th>\n",
       "      <td>0.000000</td>\n",
       "      <td>-6.836258</td>\n",
       "      <td>6.836258</td>\n",
       "      <td>-0.998857</td>\n",
       "    </tr>\n",
       "    <tr>\n",
       "      <th>PC2</th>\n",
       "      <td>0.244898</td>\n",
       "      <td>0.085580</td>\n",
       "      <td>4.141710</td>\n",
       "      <td>0.004209</td>\n",
       "    </tr>\n",
       "    <tr>\n",
       "      <th>PC3</th>\n",
       "      <td>0.428571</td>\n",
       "      <td>0.159702</td>\n",
       "      <td>3.708582</td>\n",
       "      <td>0.006223</td>\n",
       "    </tr>\n",
       "    <tr>\n",
       "      <th>PC4</th>\n",
       "      <td>0.326531</td>\n",
       "      <td>-0.972123</td>\n",
       "      <td>5.289028</td>\n",
       "      <td>-0.036660</td>\n",
       "    </tr>\n",
       "  </tbody>\n",
       "</table>\n",
       "</div>"
      ],
      "text/plain": [
       "     frac weights +ve  sum weights  sum abs weights   \n",
       "PC1          0.000000    -6.836258         6.836258  \\\n",
       "PC2          0.244898     0.085580         4.141710   \n",
       "PC3          0.428571     0.159702         3.708582   \n",
       "PC4          0.326531    -0.972123         5.289028   \n",
       "\n",
       "     corr with eql-wtd market returns  \n",
       "PC1                         -0.998857  \n",
       "PC2                          0.004209  \n",
       "PC3                          0.006223  \n",
       "PC4                         -0.036660  "
      ]
     },
     "execution_count": 14,
     "metadata": {},
     "output_type": "execute_result"
    }
   ],
   "source": [
    "### Projection on first component, and average \"market\" factor\n",
    "t = pca.components_\n",
    "top_k = 4\n",
    "DataFrame({'frac weights +ve': np.mean(t[:top_k, :] >= 0, axis=1),\n",
    "           'sum weights': np.sum(t[:top_k, :], axis=1),\n",
    "           'sum abs weights': np.sum(np.abs(t[:top_k, :]), axis=1),\n",
    "           'corr with eql-wtd market returns':\n",
    "           [np.corrcoef(x.mean(axis=1), y[:,i])[0,1]\n",
    "                        for i in range(top_k)]},\n",
    "          index=[f\"PC{i+1}\" for i in range(top_k)])"
   ]
  },
  {
   "cell_type": "code",
   "execution_count": 15,
   "id": "435f0bd2",
   "metadata": {},
   "outputs": [
    {
     "data": {
      "image/png": "[encoded data removed]",
      "text/plain": [
       "<Figure size 1000x400 with 3 Axes>"
      ]
     },
     "metadata": {},
     "output_type": "display_data"
    }
   ],
   "source": [
    "### Plot components/portfolio weights distribution \n",
    "fig, axes = plt.subplots(nrows=1, ncols=3, num=1, clear=True, figsize=(10, 4))\n",
    "for i, ax in enumerate(np.ravel(axes)):\n",
    "    ax.bar(np.arange(t.shape[1]),\n",
    "           np.sort(t[i, :]),\n",
    "           color=f\"C{i}\")\n",
    "    ax.legend([f\"Weights (Loadings) on PC{i+1}\"], fontsize=6)\n",
    "plt.tight_layout(pad=0)\n",
    "plt.savefig(imgdir / 'weights.jpg')"
   ]
  },
  {
   "cell_type": "code",
   "execution_count": 16,
   "id": "f7e83297",
   "metadata": {},
   "outputs": [
    {
     "data": {
      "image/png": "[encoded data removed]",
      "text/plain": [
       "<Figure size 500x300 with 1 Axes>"
      ]
     },
     "metadata": {},
     "output_type": "display_data"
    }
   ],
   "source": [
    "### Scree Plot\n",
    "fig, ax = plt.subplots(1, 1, num=1, clear=True, figsize=(5,3))\n",
    "k=10\n",
    "plot_bar(Series(pca.explained_variance_ratio_[:k],\n",
    "                index=np.arange(1, k+1)),\n",
    "         ylabel='Explained Variance Ratio',\n",
    "         xlabel=\"Component\",\n",
    "         legend=None,\n",
    "         title='Scree Plot',\n",
    "         ax=ax,\n",
    "         fontsize=8,\n",
    "         labels=[f\"{i:.3f}\" for i in pca.explained_variance_ratio_[:k]])\n",
    "plt.tight_layout(pad=1)\n",
    "plt.savefig(imgdir / 'explained.jpg')"
   ]
  },
  {
   "cell_type": "markdown",
   "id": "68efb595",
   "metadata": {},
   "source": [
    "__GMV portfolio volatility__"
   ]
  },
  {
   "cell_type": "code",
   "execution_count": 17,
   "id": "cc68cf2a",
   "metadata": {},
   "outputs": [],
   "source": [
    "# Helper method to compute Minimum Variance Portfolio and realized volatility\n",
    "def gmv(cov, ret):\n",
    "    \"\"\"Compute minimum variance portfolio and realized volatility\"\"\"\n",
    "    w = np.linalg.inv(cov) @ np.ones((cov.shape[1], 1))\n",
    "    return ret @ w/sum(w)"
   ]
  },
  {
   "cell_type": "code",
   "execution_count": 18,
   "id": "663d8a84",
   "metadata": {},
   "outputs": [],
   "source": [
    "# Helper to compute EWMA covariance matrix estimate\n",
    "def ewma(X, alpha=0.03, demean=False):\n",
    "    weights = (1 - alpha)**np.arange(len(X))[::-1]\n",
    "    if demean:\n",
    "        X = X - X.mean(axis=0, keepdims=True)\n",
    "    return (weights.reshape((1, -1)) * X.T) @ X / weights.sum()"
   ]
  },
  {
   "cell_type": "code",
   "execution_count": 19,
   "id": "55233789",
   "metadata": {},
   "outputs": [
    {
     "name": "stderr",
     "output_type": "stream",
     "text": [
      "100%|██████████| 282/282 [23:31<00:00,  5.00s/it]\n"
     ]
    }
   ],
   "source": [
    "# Rolling monthly evaluation\n",
    "r = {}     # collect results of covariance matrix models\n",
    "start_eval = 20000101\n",
    "for retdate in tqdm(df.index[(df.index >= start_eval)]):\n",
    "    x_train = Y[df.index < retdate, :]\n",
    "    x_test = Y[df.index == retdate, :]\n",
    "    keep = 5 * 12   # keep five years\n",
    "    N = x_train.shape[1]\n",
    "    r[retdate] = {}\n",
    "\n",
    "    cov = EmpiricalCovariance().fit(x_train[-keep:, :]).covariance_\n",
    "    \n",
    "    r[retdate]['Full Covariance'] = float(gmv(cov, x_test))\n",
    "\n",
    "    for alpha in [0.1, 0.06, 0.03, 0.01, 0.003]:\n",
    "        r[retdate][f'EWMA({halflife(alpha=alpha):.0f}mo)'] = \\\n",
    "            float(gmv(ewma(x_train, alpha=alpha), x_test))\n",
    "\n",
    "    r[retdate]['Eye'] = float(gmv(np.identity(x_train.shape[1]), x_test))\n",
    "\n",
    "    r[retdate]['Diagonal'] = float(gmv(np.diagflat(np.diag(cov)), x_test))\n",
    "\n",
    "    for k in [2, 5, 10, 15, 20]:\n",
    "        r[retdate][f\"PC 1-{k}\"] = float(gmv(PCA(k).fit(x_train[-keep:, :])\\\n",
    "                                            .get_covariance(), x_test))\n",
    "\n",
    "    r[retdate]['LW'] = float(gmv(LedoitWolf().fit(x_train[-keep:, :])\\\n",
    "                                 .covariance_, x_test))\n",
    "    \n",
    "    r[retdate]['OAS'] = float(gmv(OAS().fit(x_train[-keep:, :])\\\n",
    "                                  .covariance_, x_test))"
   ]
  },
  {
   "cell_type": "code",
   "execution_count": 20,
   "id": "5312fab7",
   "metadata": {},
   "outputs": [
    {
     "data": {
      "text/html": [
       "<div>\n",
       "<style scoped>\n",
       "    .dataframe tbody tr th:only-of-type {\n",
       "        vertical-align: middle;\n",
       "    }\n",
       "\n",
       "    .dataframe tbody tr th {\n",
       "        vertical-align: top;\n",
       "    }\n",
       "\n",
       "    .dataframe thead th {\n",
       "        text-align: right;\n",
       "    }\n",
       "</style>\n",
       "<table border=\"1\" class=\"dataframe\">\n",
       "  <thead>\n",
       "    <tr style=\"text-align: right;\">\n",
       "      <th></th>\n",
       "      <th>0</th>\n",
       "    </tr>\n",
       "    <tr>\n",
       "      <th>Realized volatility of minimum variance portfolios</th>\n",
       "      <th></th>\n",
       "    </tr>\n",
       "  </thead>\n",
       "  <tbody>\n",
       "    <tr>\n",
       "      <th>Full Covariance</th>\n",
       "      <td>0.0643</td>\n",
       "    </tr>\n",
       "    <tr>\n",
       "      <th>EWMA(7mo)</th>\n",
       "      <td>0.0646</td>\n",
       "    </tr>\n",
       "    <tr>\n",
       "      <th>EWMA(11mo)</th>\n",
       "      <td>0.0505</td>\n",
       "    </tr>\n",
       "    <tr>\n",
       "      <th>EWMA(23mo)</th>\n",
       "      <td>0.0405</td>\n",
       "    </tr>\n",
       "    <tr>\n",
       "      <th>EWMA(69mo)</th>\n",
       "      <td>0.0353</td>\n",
       "    </tr>\n",
       "    <tr>\n",
       "      <th>EWMA(231mo)</th>\n",
       "      <td>0.0359</td>\n",
       "    </tr>\n",
       "    <tr>\n",
       "      <th>Eye</th>\n",
       "      <td>0.0486</td>\n",
       "    </tr>\n",
       "    <tr>\n",
       "      <th>Diagonal</th>\n",
       "      <td>0.0434</td>\n",
       "    </tr>\n",
       "    <tr>\n",
       "      <th>PC 1-2</th>\n",
       "      <td>0.0374</td>\n",
       "    </tr>\n",
       "    <tr>\n",
       "      <th>PC 1-5</th>\n",
       "      <td>0.0361</td>\n",
       "    </tr>\n",
       "    <tr>\n",
       "      <th>PC 1-10</th>\n",
       "      <td>0.0374</td>\n",
       "    </tr>\n",
       "    <tr>\n",
       "      <th>PC 1-15</th>\n",
       "      <td>0.0371</td>\n",
       "    </tr>\n",
       "    <tr>\n",
       "      <th>PC 1-20</th>\n",
       "      <td>0.0387</td>\n",
       "    </tr>\n",
       "    <tr>\n",
       "      <th>LW</th>\n",
       "      <td>0.0348</td>\n",
       "    </tr>\n",
       "    <tr>\n",
       "      <th>OAS</th>\n",
       "      <td>0.0359</td>\n",
       "    </tr>\n",
       "  </tbody>\n",
       "</table>\n",
       "</div>"
      ],
      "text/plain": [
       "                                                         0\n",
       "Realized volatility of minimum variance portfolios        \n",
       "Full Covariance                                     0.0643\n",
       "EWMA(7mo)                                           0.0646\n",
       "EWMA(11mo)                                          0.0505\n",
       "EWMA(23mo)                                          0.0405\n",
       "EWMA(69mo)                                          0.0353\n",
       "EWMA(231mo)                                         0.0359\n",
       "Eye                                                 0.0486\n",
       "Diagonal                                            0.0434\n",
       "PC 1-2                                              0.0374\n",
       "PC 1-5                                              0.0361\n",
       "PC 1-10                                             0.0374\n",
       "PC 1-15                                             0.0371\n",
       "PC 1-20                                             0.0387\n",
       "LW                                                  0.0348\n",
       "OAS                                                 0.0359"
      ]
     },
     "execution_count": 20,
     "metadata": {},
     "output_type": "execute_result"
    }
   ],
   "source": [
    "ts = DataFrame.from_dict(r, orient='index')\n",
    "vol = np.std(ts, axis=0)\n",
    "show(vol, caption='Realized volatility of minimum variance portfolios')"
   ]
  },
  {
   "cell_type": "markdown",
   "id": "8266252c",
   "metadata": {},
   "source": [
    "Plot evaluation period realized volatility of minimum variance portfolios"
   ]
  },
  {
   "cell_type": "code",
   "execution_count": 21,
   "id": "b19c9533",
   "metadata": {
    "lines_to_next_cell": 2
   },
   "outputs": [
    {
     "data": {
      "image/png": "[encoded data removed]",
      "text/plain": [
       "<Figure size 1000x500 with 1 Axes>"
      ]
     },
     "metadata": {},
     "output_type": "display_data"
    }
   ],
   "source": [
    "fig, ax = plt.subplots(1, 1, num=1, clear=True, figsize=(10, 5))\n",
    "plot_bar(vol,\n",
    "         ylabel='Volatility',\n",
    "         xlabel='Risk Model',\n",
    "         title='Test Period Volatility of Minimum Variance Portfolios',\n",
    "         labels=[f\"{v:.4f}\" for v in vol],\n",
    "         legend='',\n",
    "         fontsize=6,\n",
    "         ax=ax)\n",
    "plt.tight_layout()\n",
    "plt.savefig(imgdir / 'gmv.jpg')"
   ]
  },
  {
   "cell_type": "markdown",
   "id": "783af981",
   "metadata": {},
   "source": [
    "Newey-west, Scholes Williams Beta\n",
    "1/T \\sum_t e_t^2 + 2/T \\sum_L \\sum_T w_l e_t e_t-l: w_l = 1-(l/(L+1))\n",
    "\n",
    "Risk Decomposition: MCR, BL equilibrium, Risk Parity\n",
    "u.T @ x = beta, since u is standardized (orthogonal) factor returns\n",
    "u @ beta = stock's return due to orthogonal component\n",
    "(u @ beta)*2 = variation of stock returns due to orthogonal component"
   ]
  }
 ],
 "metadata": {
  "jupytext": {
   "cell_metadata_filter": "-all",
   "main_language": "python",
   "notebook_metadata_filter": "-all"
  },
  "kernelspec": {
   "display_name": "env3.11",
   "language": "python",
   "name": "python3"
  },
  "language_info": {
   "codemirror_mode": {
    "name": "ipython",
    "version": 3
   },
   "file_extension": ".py",
   "mimetype": "text/x-python",
   "name": "python",
   "nbconvert_exporter": "python",
   "pygments_lexer": "ipython3",
   "version": "3.11.4"
  }
 },
 "nbformat": 4,
 "nbformat_minor": 5
}
