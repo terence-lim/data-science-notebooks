{
 "cells": [
  {
   "cell_type": "markdown",
   "id": "f1c61875",
   "metadata": {},
   "source": [
    "# Language Modeling\n",
    "\n",
    "_Attention is all you need_ - Vaswani et al\n",
    "\n",
    "**Transformers**, built on the **attention** mechanism, are neural network models designed to process variable-length sequences and capture complex dependencies in language without relying on recurrence or convolution. By leveraging self-attention, multi-head attention, and positional encodings, transformers can model long-range relationships between words for tasks like text generation, translation, and summarization. We apply transformer-based models to language modeling of Federal Reserve meeting minutes, introducing perplexity as a key evaluation metric and exploring decoding strategies such as nucleus sampling to generate coherent and diverse text."
   ]
  },
  {
   "cell_type": "code",
   "execution_count": 54,
   "id": "5b6513df",
   "metadata": {},
   "outputs": [],
   "source": [
    "# By: Terence Lim, 2020-2025 (terence-lim.github.io)\n",
    "from typing import Callable, List\n",
    "import math\n",
    "import numpy as np\n",
    "import pandas as pd\n",
    "from pandas import Series, DataFrame\n",
    "import bisect\n",
    "import matplotlib.pyplot as plt\n",
    "from nltk.tokenize import wordpunct_tokenize as tokenize\n",
    "import torch\n",
    "import torch.nn as nn\n",
    "import torch.nn.functional as F\n",
    "import torch.optim as optim\n",
    "from torch.optim import Adam\n",
    "from torch.optim.lr_scheduler import StepLR\n",
    "from torch.utils.data import Dataset, DataLoader\n",
    "import torchinfo\n",
    "from tqdm import tqdm\n",
    "from finds.database.mongodb import MongoDB\n",
    "from finds.unstructured import Unstructured, Vocab\n",
    "from secret import credentials, paths\n",
    "# %matplotlib qt\n",
    "VERBOSE = 0"
   ]
  },
  {
   "cell_type": "code",
   "execution_count": 55,
   "id": "eb022407",
   "metadata": {},
   "outputs": [
    {
     "name": "stdout",
     "output_type": "stream",
     "text": [
      "Device: cuda\n"
     ]
    }
   ],
   "source": [
    "mongodb = MongoDB(**credentials['mongodb'], verbose=VERBOSE)\n",
    "fomc = Unstructured(mongodb, 'FOMC')\n",
    "outdir = paths['scratch']\n",
    "device = 'cuda' if  torch.cuda.is_available() else 'cpu'\n",
    "print('Device:', device)"
   ]
  },
  {
   "cell_type": "markdown",
   "id": "96a6fb84",
   "metadata": {},
   "source": [
    "## Transformers\n",
    "\n",
    "Transformers are a neural network architecture built entirely on attention mechanisms, designed to process variable-length sequential data without relying on recurrence (as in RNNs) or convolution (as in CNNs). They are especially effective for natural language processing (NLP) tasks such as language modeling, translation, and text generation.  \n",
    "\n",
    "Traditional models like RNNs and CNNs face limitations when processing language data. RNNs are sequential, making them slow to train and difficult to parallelize, and they suffer from vanishing gradients. CNNs, while powerful for structured patterns like images, are less suited for variable-length, syntactically complex language sequences.  \n",
    "\n",
    "Because language involves variable lengths, hierarchical syntax, and long-range dependencies, attention allows the model to focus on relevant parts of the input when generating outputs. To introduce positional information, since Transformers lack an inherent sense of sequential order, positional encodings to provide information about work positions are added to the token embeddings. In autoregressive tasks, **causal masks** are applied to ensure that each token only attends to previous tokens, not future ones.\n"
   ]
  },
  {
   "cell_type": "markdown",
   "id": "b4024bd1",
   "metadata": {},
   "source": [
    "\n",
    "### Attention mechanism\n",
    "\n",
    "\n",
    "Attention is a mechanism that enables models to reason about a **set of elements and their relationships**, dynamically weighting the importance of different parts of the input. \n",
    "\n",
    "Attention is essentially a set operator designed to reason about a set of elements and their relationships, dynamically weighting the importance of different parts of the input when producing each element of the output sequence.  Unlike RNNs, attention does not require sequential processing, making it highly parallelizable and efficient for sequence modeling.  \n",
    "\n",
    "The inputs to the attention operator are called:\n",
    "- Queries (Q): What we're looking for.\n",
    "- Keys (K): Labels that help identify relevant content.\n",
    "- Values (V): The actual content or information to aggregate.\n",
    "\n",
    "In **self-attention**, these inputs are all derived from the same input, allowing each input element to attend to every other element. Each input token is represented by three vectors: _query_, _key_, and _value_. Attention scores are computed as a scaled dot product between queries and keys, and these scores weight the values to produce a contextualized representation:\n",
    "\n",
    "$$\n",
    "\\text{Attention}(Q, K, V) = \\text{Softmax}\\left( \\frac{QK^\\top}{\\sqrt{C}} \\right) V\n",
    "$$\n",
    "\n",
    "Learnable weight matrices $W_Q, W_K, W_V$ enable queries, keys, and values, respectively, to adapt to different input patterns:\n",
    "\n",
    "$$\n",
    "\\text{Attention}(X; W_Q, W_K, W_V) = \\text{Attention}(X W_Q, X W_K, X W_V)\n",
    "$$\n",
    "\n",
    "where $X$ is the embedded input.\n",
    "\n",
    "**Cross-attention** is a mechanism used in encoder-decoder transformer architectures for tasks such as machine translation, where queries (Q) come from one source (typically the decoder) and keys (K) and values (V) come from another source (typically the encoder output)..\n",
    "\n",
    "**Multi-head attention** runs multiple independent attention layers (heads) in parallel.\n",
    "Each head learns different ways of attending to the input, capturing different aspects of the relationships.\n",
    "Heads are concatenated and linearly projected back to the output dimension.\n"
   ]
  },
  {
   "cell_type": "markdown",
   "id": "92f6b778",
   "metadata": {},
   "source": [
    "\n",
    "### Masked attention\n",
    "\n",
    "Auto-regressive prediction is used for sequence generation tasks such as text completion and translation. To  ensure predictions are causal (based only on past and current information), causal masks hide future tokens when computing attention, The mask is just a upper-triangular matrix applied to the attention scores to block future tokens, ensuring that each word can only attend to itself and earlier words. This prevents the model from \"cheating\" by looking at future tokens when generating or predicting a sequence, preserving the causal structure required for tasks like language modeling and text completion.\n"
   ]
  },
  {
   "cell_type": "markdown",
   "id": "7bde760c",
   "metadata": {},
   "source": [
    "\n",
    "### Positional encoding\n",
    "\n",
    "Since Transformers treat inputs as sets of tokens without inherent order, **positional encodings** provide sequence information. These are added to token embeddings to enable the model to understand word positions.  \n",
    "Types of positional encodings include:\n",
    "\n",
    "- Absolute Positional Embeddings: Add a fixed position index to each input token.  Although simple and straightforward, this method is not generalizable to longer sequences than seen during training.\n",
    "\n",
    "- Relative Positional Embeddings: encode pairwise distances between tokens. These relative distances are bounded and reusable, hence independent of the total length of the sequence.\n",
    "\n",
    "- Sinusoidal Positional Embeddings: Predefined using sine and cosine functions of different frequencies. This can capture relative position information which generalizes to sequences longer than trained on.\n",
    "$$\n",
    "\\text{PE}(n, 2i) = \\sin\\left(\\frac{n}{10000^{2i/C}}\\right), \\quad \\text{PE}(n, 2i+1) = \\cos\\left(\\frac{n}{10000^{2i/C}}\\right)\n",
    "$$\n",
    "\n",
    "- Rotary Positional Embeddings (RoPE): Combines both absolute and relative positional information through a rotation operation, which extrapolates well to longer contexts and is widely adopted in large language models (LLMs).\n",
    "\n",
    "- Learnable Positional Embeddings: Initialized randomly and learned during training like token embeddings. This fully flexible, but performance may degrade if sequence length varies significantly between training and testing.\n",
    "\n",
    "\n",
    "\n"
   ]
  },
  {
   "cell_type": "code",
   "execution_count": 56,
   "id": "4120cefb",
   "metadata": {},
   "outputs": [],
   "source": [
    "class PositionalEncoding(nn.Module):\n",
    "    \"\"\"Positional encoder, learned with an embeddings layer\"\"\"\n",
    "    def __init__(self, d_model: int, max_len: int, dropout: float= 0.0):\n",
    "        super().__init__()\n",
    "        self.dropout = nn.Dropout(dropout)\n",
    "        self.emb = nn.Embedding(num_embeddings=max_len, embedding_dim=d_model)\n",
    "\n",
    "    def forward(self, x):\n",
    "        \"\"\"\n",
    "        Args:\n",
    "            x: Tensor, shape [seq_len, batch_size, embedding_dim]\n",
    "        \"\"\"\n",
    "        to_embed = torch.LongTensor(np.asarray(range(0, x.size(1))))\\\n",
    "                        .to(x.device)\n",
    "        embedded = self.emb(to_embed)\n",
    "        embedded = self.dropout(embedded)\n",
    "        return x + embedded.unsqueeze(0)\n",
    "    \n",
    "    \"\"\" Alternate positional encodings with sine function\n",
    "    def __init__(self, d_model: int, max_len: int, dropout: float = 0.1):\n",
    "        super().__init__()\n",
    "        self.dropout = nn.Dropout(p=dropout)\n",
    "        position = torch.arange(0, max_len, dtype=torch.float).unsqueeze(1)\n",
    "        div_term = torch.exp(torch.arange(0, d_model, 2)\n",
    "                             * (-math.log(10000.0) / d_model))\n",
    "        pe = torch.zeros(max_len, d_model)\n",
    "        pe[:, 0::2] = torch.sin(position * div_term)\n",
    "        pe[:, 1::2] = torch.cos(position * div_term)\n",
    "        pe = pe[:, None, :] \n",
    "        self.register_buffer('pe', pe)\n",
    "\n",
    "    def forward(self, x):\n",
    "        x = x + self.pe[:x.size(1), 0, :]\n",
    "        return self.dropout(x)\n",
    "    \"\"\""
   ]
  },
  {
   "cell_type": "markdown",
   "id": "9ba96b2a",
   "metadata": {},
   "source": [
    "### Transformer layers\n",
    "\n",
    "A transformer-based neural network is built from repeated blocks of Transformer **layers**, each consisting of:\n",
    "\n",
    "- Multi-Head Attention: Combines several attention \"heads\" that learn different relationships between tokens. Each head performs:\n",
    "    $$\n",
    "    \\text{Attention}(Q, K, V) = \\text{softmax}\\left( \\frac{QK^\\top}{\\sqrt{C}} \\right)V\n",
    "    $$\n",
    "  and the final output is concatenated and linearly projected back to match input dimensions.\n",
    "\n",
    "- Feedforward Neural Network: Applies a two-layer fully connected network (MLP) with non-linearity (typically ReLU) in between:\n",
    "    $$\n",
    "    \\text{MLP}(x) = \\text{ReLU}(\\text{Linear}_1(x)) \\rightarrow \\text{Linear}_2\n",
    "    $$\n",
    "\n",
    "- Residual Connections: Directly connect input and output of each sub-layer.\n",
    "\n",
    "- Layer Normalization: Normalizes inputs within each layer.\n",
    "\n",
    "\n",
    "The input sentence is split into parts (characters, words, or \"tokens\"). The model takes token embeddings with positional encodings, applies layers of attention and MLPs, and outputs contextualized representations of each token.\n",
    "\n"
   ]
  },
  {
   "cell_type": "code",
   "execution_count": 57,
   "id": "785ce23b",
   "metadata": {
    "lines_to_next_cell": 1
   },
   "outputs": [],
   "source": [
    "class Transformer(nn.Module):\n",
    "    \"\"\"Transformer neural network\"\"\"\n",
    "    def __init__(self, seq_len: int, vocab_size: int, d_model: int, nhead: int,\n",
    "                 num_layers: int, dim_feedforward: int, dropout: float):\n",
    "        super().__init__()\n",
    "\n",
    "        # model dimensions\n",
    "        self.seq_len = seq_len\n",
    "        self.vocab_size = vocab_size\n",
    "        self.d_model = d_model\n",
    "\n",
    "        # define layers\n",
    "        self.embedding = nn.Embedding(num_embeddings=vocab_size,\n",
    "                                      embedding_dim=d_model)\n",
    "        self.positional = PositionalEncoding(max_len=seq_len,\n",
    "                                             d_model=d_model,\n",
    "                                             dropout=dropout)\n",
    "\n",
    "        layer = nn.TransformerEncoderLayer(d_model=d_model,\n",
    "                                           nhead=nhead,\n",
    "                                           dim_feedforward=dim_feedforward,\n",
    "                                           dropout=dropout,\n",
    "                                           batch_first=True)\n",
    "        self.encoder = nn.TransformerEncoder(encoder_layer=layer,\n",
    "                                             num_layers=num_layers)\n",
    "        self.decoder = nn.Linear(in_features=d_model,\n",
    "                                 out_features=vocab_size)\n",
    "\n",
    "        # initialize weights\n",
    "        self.embedding.weight.data.uniform_(-0.1, 0.1)\n",
    "        self.decoder.weight.data.uniform_(-0.1, 0.1)\n",
    "        self.decoder.bias.data.zero_()\n",
    "\n",
    "    def causal_mask(self, sz: int, device: str = 'cpu'):\n",
    "        \"\"\"returns upper triu set to -inf\"\"\"\n",
    "        return nn.Transformer.generate_square_subsequent_mask(sz=self.seq_len,\n",
    "                                                              device=device)\n",
    "\n",
    "    def forward(self, x):\n",
    "        if len(x.shape) == 1:\n",
    "            x = x[None, :]\n",
    "        assert x.size(-1) == self.seq_len\n",
    "        x = self.embedding(x) * math.sqrt(self.d_model)  # embedding\n",
    "        x = self.positional(x)                           # position encoding\n",
    "        x = self.encoder(x, mask=self.causal_mask(sz=len(x), device=x.device))\n",
    "        x = self.decoder(x)                              # linear layer\n",
    "        x = F.log_softmax(x, dim=-1)                     # classify\n",
    "        return x\n",
    "\n",
    "    def save(self, filename):\n",
    "        \"\"\"save model state to filename\"\"\"\n",
    "        return torch.save(self.state_dict(), filename)\n",
    "\n",
    "    def load(self, filename):\n",
    "        \"\"\"load model name from filename\"\"\"\n",
    "        self.load_state_dict(torch.load(filename, map_location='cpu'))\n",
    "        return self"
   ]
  },
  {
   "cell_type": "markdown",
   "id": "cc032781",
   "metadata": {},
   "source": [
    "## Language modeling\n",
    "\n",
    "**Language modeling** is the task of estimating the probability distribution over word sequences. By learning this distribution from large text corpora, models capture linguistic structure, enabling downstream tasks like translation and text generation.\n",
    "\n",
    "\n",
    "### Perplexity\n",
    "\n",
    "Accuracy (measuring whether the predicted word is exactly correct) is not a meaningful metric for language models.\n",
    "Predicting the exact next word in a sequence is highly uncertain and difficult, so accuracy would be very low even for strong models. Instead, we care about how well the language model assigns probability distributions over possible next words. Perplexity quantifies how well the it predicts the test set, calculated as the exponential of the average negative log likelihood over the test set:\n",
    "\n",
    "$$\\text{Perplexity} = \\exp\\left( -\\frac{1}{N} \\sum_{i=1}^{N} \\log P(w_i | w_{i-1}, \\ldots, w_{i-n+1}) \\right)$$\n",
    "\n",
    "- $N$ is the total number of words in the test set.\n",
    "- $P(w_i | w_{i-1}, \\ldots, w_{i-n+1})$ is the probability assigned by the language model to the word $w_i$ given its context $w_{i-1}, \\ldots, w_{i-n+1}$.\n",
    "\n",
    "Intuitively, perplexity measures how surprised the model is by the text.  It can be interpreted as the geometric mean of the inverse probabilities assigned by the model, hence lower perplexity indicates better model performance and generalization."
   ]
  },
  {
   "cell_type": "code",
   "execution_count": 58,
   "id": "430c0cc3",
   "metadata": {},
   "outputs": [],
   "source": [
    "def get_next_log_probs(model, context: List[str], unk=UNK):\n",
    "    \"\"\"log P(word | context) where word ranges over the vocab\"\"\"\n",
    "    # pad to length seq_len\n",
    "    if len(context) > model.seq_len:\n",
    "        context = context[-model.seq_len:]\n",
    "    elif len(context) < model.seq_len:\n",
    "        context = ([unk] * (model.seq_len - len(context))) + context\n",
    "    context = torch.LongTensor(vocab.get_index(context))\\\n",
    "                   .to(device)\\\n",
    "                   .unsqueeze(0)\n",
    "    output = model(context)\n",
    "    logits = output[0, -1, :]\n",
    "    return logits.cpu().detach().numpy()"
   ]
  },
  {
   "cell_type": "code",
   "execution_count": 59,
   "id": "595b791e",
   "metadata": {},
   "outputs": [],
   "source": [
    "def get_perplexity(model, sentence: List[str]) -> float:\n",
    "    \"\"\"Compute perpexlity score\"\"\"\n",
    "\n",
    "    context = [UNK] + sentence\n",
    "    log_probs = 0\n",
    "    for i in range(len(context) - len(sentence), len(context)):\n",
    "        log_probs += get_next_log_probs(model=model, context=context[:i])[vocab.get_index(context[i])]\n",
    "    return np.exp(-log_probs / len(sentence))"
   ]
  },
  {
   "cell_type": "markdown",
   "id": "0c1c02a6",
   "metadata": {},
   "source": [
    "### Fedspeak\n",
    "\n",
    "The Fed has a jargon all of its own, with Alan Blinder coining the term *Fedspeak* to describe the \"turgid dialect of English\" used by Federal Reserve Board chairs. We explore language modeling of minutes text from all FOMC meetings since 1993. \n",
    "\n",
    "The text data are tokenized and converted into indices in a `Vocab` object. PyTorch `Dataset` and `DataLoader` tools simplify the processing of chunks and batches of the data. The most recent document is held-out from training to serve as the test set for perplexity evaluation."
   ]
  },
  {
   "cell_type": "code",
   "execution_count": 60,
   "id": "9db84cb9",
   "metadata": {},
   "outputs": [
    {
     "name": "stdout",
     "output_type": "stream",
     "text": [
      "len(vocab)=8675, len(docs)=256: 19930203-20250129\n"
     ]
    }
   ],
   "source": [
    "# Retrieve and preprocess FOMC minutes text\n",
    "dates = fomc['minutes'].distinct('date')       # check dates stored in MongoDB\n",
    "docs = Series({doc['date']: [w.lower() for w in tokenize(doc['text'])]\n",
    "               for doc in fomc.select('minutes')},\n",
    "              name='minutes').sort_index()\n",
    "UNK = \" \"\n",
    "vocab = Vocab(set().union(*docs.tolist()), unk=UNK)\n",
    "print(f\"{len(vocab)=}, {len(docs)=}: {min(dates)}-{max(dates)}\")"
   ]
  },
  {
   "cell_type": "code",
   "execution_count": 61,
   "id": "4df49454",
   "metadata": {},
   "outputs": [
    {
     "data": {
      "text/html": [
       "<div>\n",
       "<style scoped>\n",
       "    .dataframe tbody tr th:only-of-type {\n",
       "        vertical-align: middle;\n",
       "    }\n",
       "\n",
       "    .dataframe tbody tr th {\n",
       "        vertical-align: top;\n",
       "    }\n",
       "\n",
       "    .dataframe thead th {\n",
       "        text-align: right;\n",
       "    }\n",
       "</style>\n",
       "<table border=\"1\" class=\"dataframe\">\n",
       "  <thead>\n",
       "    <tr style=\"text-align: right;\">\n",
       "      <th></th>\n",
       "      <th>docs</th>\n",
       "      <th>chunks</th>\n",
       "    </tr>\n",
       "  </thead>\n",
       "  <tbody>\n",
       "    <tr>\n",
       "      <th>Train</th>\n",
       "      <td>255</td>\n",
       "      <td>54877</td>\n",
       "    </tr>\n",
       "  </tbody>\n",
       "</table>\n",
       "</div>"
      ],
      "text/plain": [
       "       docs  chunks\n",
       "Train   255   54877"
      ]
     },
     "execution_count": 61,
     "metadata": {},
     "output_type": "execute_result"
    }
   ],
   "source": [
    "# Pytorch Dataset and DataLoader\n",
    "class FOMCDataset(Dataset):\n",
    "    \"\"\"Subclass of torch Dataset\n",
    "\n",
    "    Notes:\n",
    "      All subclasses should overwrite __getitem__(),\n",
    "      supporting fetching a data sample for a given key. Subclasses\n",
    "      could also optionally overwrite __len__(), which is expected to\n",
    "      return the size of the dataset\n",
    "    \"\"\"\n",
    "    def __init__(self, text: Series, seq_len: int, get_index: Callable[[str], int]):\n",
    "        self.text = text\n",
    "        self.seq_len = seq_len\n",
    "        self.get_index = get_index\n",
    "        self.counts = np.cumsum([len(s) // seq_len for s in text])\n",
    "\n",
    "    def __len__(self):\n",
    "        return self.counts[-1]\n",
    "\n",
    "    def __getitem__(self, idx):\n",
    "        assert 0 <= idx < len(self), \"idx out of range\"\n",
    "        doc = bisect.bisect_right(self.counts, idx)\n",
    "\n",
    "        start = (idx - (self.counts[doc-1] if doc > 0 else 0)) * self.seq_len\n",
    "        end = start + self.seq_len\n",
    "        chunk = self.text.iloc[doc][start:end]\n",
    "        return (torch.LongTensor([0] + self.get_index(chunk[:-1])),\n",
    "                torch.LongTensor(self.get_index(chunk)))\n",
    "\n",
    "# length of input sequence\n",
    "seq_len = 30\n",
    "\n",
    "# split last document to be test set\n",
    "test_len = 1\n",
    "test_set = docs.iloc[-test_len:].tolist()\n",
    "train_set = FOMCDataset(docs.iloc[:-test_len], seq_len, vocab.get_index)\n",
    "dataloader = DataLoader(train_set, batch_size=32, shuffle=True)\n",
    "DataFrame({'docs': len(docs)-test_len, 'chunks': len(train_set)}, index=['Train'])"
   ]
  },
  {
   "cell_type": "markdown",
   "id": "cc543181",
   "metadata": {},
   "source": [
    "Create the model:"
   ]
  },
  {
   "cell_type": "code",
   "execution_count": 62,
   "id": "0006ada3",
   "metadata": {},
   "outputs": [],
   "source": [
    "# Create the model\n",
    "lr = 0.0001\n",
    "step_size = 30\n",
    "num_epochs = 100 #step_size * 1"
   ]
  },
  {
   "cell_type": "code",
   "execution_count": 63,
   "id": "a2f9ee46",
   "metadata": {},
   "outputs": [],
   "source": [
    "d_model = 512 #512\n",
    "nhead = 4 # 4\n",
    "num_layers = 3 # 2\n",
    "dim_feedforward = 2048 # 512 #1024\n",
    "dropout = 0.3 # 0.3 # 0.2"
   ]
  },
  {
   "cell_type": "code",
   "execution_count": 40,
   "id": "baa3fb5b",
   "metadata": {
    "lines_to_next_cell": 2
   },
   "outputs": [
    {
     "data": {
      "text/plain": [
       "==========================================================================================\n",
       "Layer (type:depth-idx)                                            Param #\n",
       "==========================================================================================\n",
       "Transformer                                                       --\n",
       "├─Embedding: 1-1                                                  4,441,600\n",
       "├─PositionalEncoding: 1-2                                         --\n",
       "│    └─Dropout: 2-1                                               --\n",
       "│    └─Embedding: 2-2                                             15,360\n",
       "├─TransformerEncoder: 1-3                                         --\n",
       "│    └─ModuleList: 2-3                                            --\n",
       "│    │    └─TransformerEncoderLayer: 3-1                          3,152,384\n",
       "│    │    └─TransformerEncoderLayer: 3-2                          3,152,384\n",
       "│    │    └─TransformerEncoderLayer: 3-3                          3,152,384\n",
       "├─Linear: 1-4                                                     4,450,275\n",
       "==========================================================================================\n",
       "Total params: 18,364,387\n",
       "Trainable params: 18,364,387\n",
       "Non-trainable params: 0\n",
       "=========================================================================================="
      ]
     },
     "execution_count": 40,
     "metadata": {},
     "output_type": "execute_result"
    }
   ],
   "source": [
    "model = Transformer(seq_len=seq_len,\n",
    "                    vocab_size=len(vocab), \n",
    "                    d_model=d_model, \n",
    "                    nhead=nhead,\n",
    "                    num_layers=num_layers,\n",
    "                    dim_feedforward=dim_feedforward,\n",
    "                    dropout=dropout).to(device)\n",
    "torchinfo.summary(model)"
   ]
  },
  {
   "cell_type": "markdown",
   "id": "cb674aa9",
   "metadata": {},
   "source": [
    "Train the model:"
   ]
  },
  {
   "cell_type": "code",
   "execution_count": 41,
   "id": "c733edc1",
   "metadata": {},
   "outputs": [],
   "source": [
    "# Specify training parameters\n",
    "criterion = nn.NLLLoss().to(device)\n",
    "optimizer = Adam(model.parameters(), lr=lr)\n",
    "scheduler = StepLR(optimizer, step_size=step_size, gamma=0.1)"
   ]
  },
  {
   "cell_type": "code",
   "execution_count": 42,
   "id": "b0b24a48",
   "metadata": {},
   "outputs": [
    {
     "name": "stderr",
     "output_type": "stream",
     "text": [
      "100%|██████████| 100/100 [1:03:53<00:00, 38.33s/it]\n"
     ]
    }
   ],
   "source": [
    "perplexity = []\n",
    "losses = []\n",
    "for epoch in tqdm(range(num_epochs)):\n",
    "    model.train()\n",
    "    for train_ex, target_ex in dataloader:\n",
    "        optimizer.zero_grad()\n",
    "        train_ex, target_ex = train_ex.to(device), target_ex.to(device)\n",
    "        output = model(train_ex)\n",
    "        loss = criterion(output.view(-1, len(vocab)), target_ex.view(-1))\n",
    "        loss.backward()\n",
    "        optimizer.step()\n",
    "    scheduler.step()\n",
    "    \n",
    "    # Evaluate perplexity on test set\n",
    "    model.eval()\n",
    "    perplexity.append(np.mean([get_perplexity(model, s) for s in test_set]))\n",
    "    losses.append(loss.item())\n",
    "    if VERBOSE:\n",
    "        print(f\"Epoch: {epoch}, Loss: {loss.item()}, Perplexity: {perplexity[-1]}\")\n",
    "model.save(outdir / f\"transformer{nhead}_{dim_feedforward}.pt\")"
   ]
  },
  {
   "cell_type": "code",
   "execution_count": 66,
   "id": "5e07c839",
   "metadata": {},
   "outputs": [],
   "source": [
    "# save model checkpoint\n",
    "import warnings\n",
    "with warnings.catch_warnings():\n",
    "    warnings.filterwarnings('ignore')  ## ignore the weights_only=True future warning\n",
    "    model.load(outdir / f\"transformer{nhead}_{dim_feedforward}.pt\")"
   ]
  },
  {
   "cell_type": "markdown",
   "id": "c2dfa4df",
   "metadata": {},
   "source": [
    "Evaluate the model:"
   ]
  },
  {
   "cell_type": "code",
   "execution_count": 44,
   "id": "fd3152ec",
   "metadata": {
    "lines_to_next_cell": 1
   },
   "outputs": [
    {
     "name": "stdout",
     "output_type": "stream",
     "text": [
      "Perplexity: 10.185370762878241   Loss: 2.0497496128082275\n"
     ]
    },
    {
     "data": {
      "image/png": "[encoded data removed]",
      "text/plain": [
       "<Figure size 1000x600 with 2 Axes>"
      ]
     },
     "metadata": {},
     "output_type": "display_data"
    }
   ],
   "source": [
    "# Plot perplexity\n",
    "fig, ax = plt.subplots(figsize=(10,6))\n",
    "ax.plot(perplexity, color=\"C0\")\n",
    "ax.set_ylabel('Perplexity on test set', color=\"C0\")\n",
    "bx = ax.twinx()\n",
    "bx.plot(losses, color=\"C1\")\n",
    "bx.set_ylabel('Training error', color=\"C1\")\n",
    "plt.title('Training a transformer language model on FOMC minutes')\n",
    "print('Perplexity:', perplexity[-1], '  Loss:', losses[-1])"
   ]
  },
  {
   "cell_type": "markdown",
   "id": "a282408c",
   "metadata": {},
   "source": [
    "### Decoding\n",
    "\n",
    "Decoding refers to the process of generating a sequence of words based on learned probabilities. Language models generate text by sampling from a probability distribution over the next word $P(y_i | y_1, ..., y_{i-1})$, given previous words:\n",
    "\n",
    "- __Greedy__ approach: At each step of generation, the word with the highest probability according to the model is selected as the next word. While simple and computationally efficient, this results in repetitive or less diverse outputs.\n",
    "\n",
    "- __Beam search__ maintains a fixed number (beam width) of partial candidate sequences of words.At each step, it expands all possible next words for each candidate, keeping the top $k$ based on their joint probabilities. This allows exploration of multiple promising paths, but can be computationally expensive, and may still produce suboptimal outputs due to early pruning.\n",
    "\n",
    "- __Nucleus Sampling__ samples from the smallest set of $k$ words whose cumulative probability mass exceeds a pre-defined threshold $p$. This approach promotes diversity in generated text by allowing for the possibility of sampling from a larger set of words. \n"
   ]
  },
  {
   "cell_type": "code",
   "execution_count": 45,
   "id": "703459c2",
   "metadata": {
    "lines_to_next_cell": 1
   },
   "outputs": [],
   "source": [
    "def get_nucleus_sequence(model, n: int, p: float, context: List[str] = []):\n",
    "    \"\"\"Sample sequence of words given context using nucleus sampling\"\"\"\n",
    "    if not context:\n",
    "        context = [UNK]\n",
    "    \n",
    "    for i in range(n):\n",
    "        probs = np.exp(get_next_log_probs(model, context))\n",
    "        probs_sorted = sorted(probs, reverse=True)\n",
    "        probs_cum = np.cumsum(probs_sorted)\n",
    "        num_drop = sum(probs_cum > p)\n",
    "        threshold = probs_sorted[-num_drop]\n",
    "        probs[probs < threshold] = 0.\n",
    "        probs /= sum(probs)\n",
    "        choice = vocab.get_word(np.random.choice(len(probs), p=probs))\n",
    "        context.append(choice)\n",
    "        #print(i, drop, len(probs), len(probs_sorted))\n",
    "    return context"
   ]
  },
  {
   "cell_type": "code",
   "execution_count": 46,
   "id": "37e7947b",
   "metadata": {},
   "outputs": [],
   "source": [
    "import textwrap\n",
    "wrapper = textwrap.TextWrapper(width=80, fix_sentence_endings=True)"
   ]
  },
  {
   "cell_type": "markdown",
   "id": "a550f8bb",
   "metadata": {},
   "source": [
    "Finally, nucleus sampling with $p=0.95$ is used to generate new text conditioned on starting contexts, balancing diversity and coherence."
   ]
  },
  {
   "cell_type": "code",
   "execution_count": 51,
   "id": "ef4d440d",
   "metadata": {},
   "outputs": [
    {
     "name": "stdout",
     "output_type": "stream",
     "text": [
      "THE FINANCIAL MARKETS...\n",
      "The financial markets.  In addition, the tga and the resulting decline in the\n",
      "soma portfolio would result in a combination of shifts in the composition of\n",
      "reserve liabilities, and a waning volume of credit allocation liquidity.  In\n",
      "that regard, the appropriate course of monetary policy, a number of participants\n",
      "noted that purchases of longer-term securities were faced by the likely onset of\n",
      "the financial crisis in mid-december.  Labor market conditions improved further\n",
      "in january but expanded modestly on balance over the intermeeting period.\n",
      "Consumer price inflation— as measured by the 12-month percentage change in the\n",
      "price index for personal consumption expenditures( pce)— was elevated in march\n",
      "\n",
      "PARTICIPANTS NOTED THAT...\n",
      "Participants noted that recent indicators and orders pointed to somewhat more\n",
      "moderate expansion of spending for equipment and software.  The nominal deficit\n",
      "on u.  S. Trade in goods and services was significantly larger in the third\n",
      "quarter than in the previous quarter.  The value of exports of goods and\n",
      "services also increased considerably in july, with increases widespread by\n",
      "categories.  Imports of services rose more than exports.  The increase in\n",
      "imports was concentrated in consumer goods, however, consumer goods, and\n",
      "services, which decreased exports of capital goods.  Imports of services in july\n",
      "and august were expanding briskly; the gains were concentrated in industrial\n",
      "supplies, semiconductors, and services.\n",
      "\n"
     ]
    }
   ],
   "source": [
    "n, p = seq_len * 4, 0.95\n",
    "for context in ['the financial markets' , 'participants noted that']:\n",
    "\n",
    "    # generate from context with nuclear sampling\n",
    "    words = get_nucleus_sequence(model, n=n, p=p, context=context.split())\n",
    "\n",
    "    # pretty-print the output\n",
    "    out = ''\n",
    "    is_end = True\n",
    "    is_space = ''\n",
    "    for w in words:\n",
    "        if not w.isalnum():\n",
    "            out += w\n",
    "        else:\n",
    "            if is_end:\n",
    "                w = w.capitalize()\n",
    "            out += is_space + w\n",
    "        is_end = w in ['!', '?', '.']\n",
    "        is_space = ' '*bool(w not in [\"'\", '-', '–'])\n",
    "    print(f\"{context.upper()}...\")\n",
    "    print(wrapper.fill(out))\n",
    "    print()"
   ]
  },
  {
   "cell_type": "markdown",
   "id": "d1b67e5f",
   "metadata": {},
   "source": [
    "**References:**\n",
    "\n",
    "https://pytorch.org/tutorials/beginner/transformer_tutorial.html\n",
    "\n",
    "Jay Alammar, The Illustrated Transformer, retrieved from https://jalammar.github.io/illustrated-transformer/\n",
    "\n",
    "Ashish Vaswani, Noam Shazeer, Niki Parmar, Jakob Uszkoreit, Llion Jones, Aidan N. Gomez, Lukasz Kaiser, and Illia Polosukhin. 2017. Attention Is All You Need.  https://arxiv.org/abs/1706.03762\n",
    "\n",
    "Greg Durrett, 2021-2024, \"CS388 Natural Language Processing course materials\", retrieved from https://www.cs.utexas.edu/~gdurrett/courses/online-course/materials.html\n",
    "\n",
    "Philipp Krähenbühl, 2020-2024, \"AI394T Deep Learning course materials\", retrieved from\n",
    "https://www.philkr.net/dl_class/material and https://ut.philkr.net/deeplearning/"
   ]
  }
 ],
 "metadata": {
  "jupytext": {
   "cell_metadata_filter": "-all",
   "main_language": "python",
   "notebook_metadata_filter": "-all"
  },
  "kernelspec": {
   "display_name": "env3.11",
   "language": "python",
   "name": "python3"
  },
  "language_info": {
   "codemirror_mode": {
    "name": "ipython",
    "version": 3
   },
   "file_extension": ".py",
   "mimetype": "text/x-python",
   "name": "python",
   "nbconvert_exporter": "python",
   "pygments_lexer": "ipython3",
   "version": "3.11.11"
  }
 },
 "nbformat": 4,
 "nbformat_minor": 5
}
