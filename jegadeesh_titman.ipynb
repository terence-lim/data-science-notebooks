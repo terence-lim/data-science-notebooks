{
 "cells": [
  {
   "cell_type": "markdown",
   "metadata": {},
   "source": [
    "# Jegadeesh-Titman rolling portfolios\n",
    "\n",
    "- Relative strength, momentum effect\n",
    "- Overlapping portfolio returns, Newey-West correction, rolling portfolios\n",
    "\n",
    "Copyright 2023, Terence Lim\n",
    "\n",
    "MIT License"
   ]
  },
  {
   "cell_type": "code",
   "execution_count": 4,
   "metadata": {},
   "outputs": [],
   "source": [
    "import numpy as np\n",
    "import pandas as pd\n",
    "from pandas import DataFrame, Series\n",
    "import matplotlib.pyplot as plt\n",
    "from scipy.stats import kurtosis, skew\n",
    "from tqdm import tqdm\n",
    "from finds.database import SQL, Redis\n",
    "from finds.busday import BusDay\n",
    "from finds.structured import CRSP, Finder\n",
    "from finds.recipes import fractiles\n",
    "from finds.display import show, plot_date\n",
    "from conf import credentials, VERBOSE, paths\n",
    "\n",
    "%matplotlib inline\n",
    "VERBOSE = 0\n",
    "SHOW = dict(ndigits=4, latex=None)\n",
    "\n",
    "sql = SQL(**credentials['sql'], verbose=VERBOSE)\n",
    "rdb = Redis(**credentials['redis'])\n",
    "bd = BusDay(sql, verbose=VERBOSE)\n",
    "crsp = CRSP(sql, bd, rdb=rdb, verbose=VERBOSE)\n",
    "imgdir = paths['images']\n",
    "\n",
    "begyear = 1927\n",
    "endyear = 2022\n",
    "retdates = bd.date_range(bd.begyr(begyear), bd.endyr(endyear), 'begmo')\n",
    "rebaldates = bd.offset(retdates, -1)\n",
    "percentiles = [20, 80]   # quintile spread percentile breakpoints\n",
    "maxhold = 6    # hold each monthly-rebalanced portfolio for 6 months"
   ]
  },
  {
   "cell_type": "markdown",
   "metadata": {},
   "source": [
    "## Overlapping returns: hold monthly spread portfolios for 6 months"
   ]
  },
  {
   "cell_type": "code",
   "execution_count": 5,
   "metadata": {},
   "outputs": [
    {
     "name": "stderr",
     "output_type": "stream",
     "text": [
      "100%|███████████████████████████████████████| 1152/1152 [24:01<00:00,  1.25s/it]\n"
     ]
    },
    {
     "data": {
      "text/html": [
       "<div>\n",
       "<style scoped>\n",
       "    .dataframe tbody tr th:only-of-type {\n",
       "        vertical-align: middle;\n",
       "    }\n",
       "\n",
       "    .dataframe tbody tr th {\n",
       "        vertical-align: top;\n",
       "    }\n",
       "\n",
       "    .dataframe thead th {\n",
       "        text-align: right;\n",
       "    }\n",
       "</style>\n",
       "<table border=\"1\" class=\"dataframe\">\n",
       "  <thead>\n",
       "    <tr style=\"text-align: right;\">\n",
       "      <th></th>\n",
       "      <th>mean</th>\n",
       "      <th>std</th>\n",
       "    </tr>\n",
       "  </thead>\n",
       "  <tbody>\n",
       "    <tr>\n",
       "      <th>Overlapping Returns</th>\n",
       "      <td>0.004584</td>\n",
       "      <td>0.024666</td>\n",
       "    </tr>\n",
       "  </tbody>\n",
       "</table>\n",
       "</div>"
      ],
      "text/plain": [
       "                         mean       std\n",
       "Overlapping Returns  0.004584  0.024666"
      ]
     },
     "execution_count": 5,
     "metadata": {},
     "output_type": "execute_result"
    }
   ],
   "source": [
    "mom = []\n",
    "for rebaldate in tqdm(rebaldates):\n",
    "    \n",
    "    # determine required dates relative to rebaldate\n",
    "    beg = bd.endmo(rebaldate, -6)   # require price at beg date\n",
    "    end = bd.endmo(rebaldate, 0)    # require price at end date\n",
    "    start = bd.offset(beg, 1)       # starting day of momemtum signal\n",
    "\n",
    "    # retrieve universe, required available prices, and momentum signal\n",
    "    p = [crsp.get_universe(rebaldate),\n",
    "         crsp.get_ret(start, end).rename('mom'),\n",
    "         crsp.get_section('monthly', ['prc'], 'date', beg)['prc'].rename('beg'),\n",
    "         crsp.get_section('monthly', ['prc'], 'date', end)['prc'].rename('end')]\n",
    "    df = pd.concat(p, axis=1, join='inner').dropna()\n",
    "\n",
    "    # quintile spread breakpoints determined from NYSE subset\n",
    "    tritile = fractiles(values=df['mom'],\n",
    "                        pct=percentiles,\n",
    "                        keys=df.loc[df['nyse'], 'mom'])\n",
    "\n",
    "    # construct cap-wtd tritile spread portfolios\n",
    "    porthi, portlo = [df.loc[tritile==t, 'cap'] for t in [1, 3]]\n",
    "    port =  pd.concat((porthi/porthi.sum(), -portlo/portlo.sum()))\n",
    "\n",
    "    # compute and store cap-weighted average returns over maxhold periods\n",
    "    begret = bd.offset(rebaldate, 1)\n",
    "    nhold = min(maxhold, len(retdates) - retdates.index(begret))\n",
    "    endret = bd.endmo(begret, nhold - 1)  # if maxhold is beyond end date\n",
    "    rets = crsp.get_ret(begret, endret, delist=True)\n",
    "    ret = rets.reindex(port.index).fillna(0.).mul(port, axis=0).sum()\n",
    "\n",
    "    mom.append(float(ret) / nhold)\n",
    "\n",
    "DataFrame({'mean': np.mean(mom), 'std': np.std(mom)},\n",
    "          index=['Overlapping Returns'])"
   ]
  },
  {
   "cell_type": "markdown",
   "metadata": {},
   "source": [
    "## Non-overlapping: monthly average returns of past 6 months' rebalances"
   ]
  },
  {
   "cell_type": "code",
   "execution_count": 6,
   "metadata": {},
   "outputs": [
    {
     "name": "stderr",
     "output_type": "stream",
     "text": [
      "100%|███████████████████████████████████████| 1152/1152 [25:06<00:00,  1.31s/it]\n"
     ]
    },
    {
     "data": {
      "text/html": [
       "<div>\n",
       "<style scoped>\n",
       "    .dataframe tbody tr th:only-of-type {\n",
       "        vertical-align: middle;\n",
       "    }\n",
       "\n",
       "    .dataframe tbody tr th {\n",
       "        vertical-align: top;\n",
       "    }\n",
       "\n",
       "    .dataframe thead th {\n",
       "        text-align: right;\n",
       "    }\n",
       "</style>\n",
       "<table border=\"1\" class=\"dataframe\">\n",
       "  <thead>\n",
       "    <tr style=\"text-align: right;\">\n",
       "      <th></th>\n",
       "      <th>mean</th>\n",
       "      <th>std</th>\n",
       "    </tr>\n",
       "  </thead>\n",
       "  <tbody>\n",
       "    <tr>\n",
       "      <th>Non-overlapping Returns</th>\n",
       "      <td>0.004515</td>\n",
       "      <td>0.051258</td>\n",
       "    </tr>\n",
       "  </tbody>\n",
       "</table>\n",
       "</div>"
      ],
      "text/plain": [
       "                             mean       std\n",
       "Non-overlapping Returns  0.004515  0.051258"
      ]
     },
     "execution_count": 6,
     "metadata": {},
     "output_type": "execute_result"
    }
   ],
   "source": [
    "# Jegadeesh-Titman rolling portfolios\n",
    "ports = []  # to roll 6 past portfolios\n",
    "jt = []\n",
    "for rebaldate in tqdm(rebaldates):\n",
    "    \n",
    "    # determine required dates relative to rebaldate\n",
    "    beg = bd.endmo(rebaldate, -6)   # require price at beg date\n",
    "    end = bd.endmo(rebaldate, 0)    # require price at end date\n",
    "    start = bd.offset(beg, 1)       # starting day of momemtum signal\n",
    "    \n",
    "    # retrieve universe, required available prices, and momentum signal\n",
    "    p = [crsp.get_universe(rebaldate),\n",
    "         crsp.get_ret(start, end).rename('mom'),\n",
    "         crsp.get_section('monthly', ['prc'], 'date', beg)['prc'].rename('beg'),\n",
    "         crsp.get_section('monthly', ['prc'], 'date', end)['prc'].rename('end')]\n",
    "    df = pd.concat(p, axis=1, join='inner').dropna()\n",
    "    \n",
    "    # quintile spread breakpoints determined from NYSE subset\n",
    "    tritile = fractiles(values=df['mom'],\n",
    "                        pct=percentiles,\n",
    "                        keys=df.loc[df['nyse'], 'mom'])\n",
    "\n",
    "    # construct cap-wtd tritile spread portfolios\n",
    "    porthi, portlo = [df.loc[tritile==t, 'cap'] for t in [1, 3]]\n",
    "    port =  pd.concat((porthi/porthi.sum(), -portlo/portlo.sum()))\n",
    "\n",
    "    # keep up to 6 months of monthly-rebalanced portfolios\n",
    "    ports.insert(0, port)\n",
    "    if len(ports) > maxhold:\n",
    "        ports.pop(-1)\n",
    "\n",
    "    # compute all 6 portfolios' monthly capwtd returns, and store eqlwtd average\n",
    "    begret = bd.offset(rebaldate, 1)\n",
    "    endret = bd.endmo(begret)\n",
    "    rets = crsp.get_ret(begret, endret, delist=True)\n",
    "    ret = np.mean([rets.reindex(p.index).fillna(0.).mul(p, axis=0).sum()\n",
    "                   for p in ports])\n",
    "    jt.append(ret)\n",
    "\n",
    "    # adjust stock weights by monthly capital appreciation\n",
    "    retx = crsp.get_ret(begret, endret, field='retx')\n",
    "    ports = [(1+retx.reindex(p.index).fillna(0.)).mul(p, axis=0) for p in ports]\n",
    "\n",
    "DataFrame({'mean': np.mean(jt), 'std': np.std(jt)},\n",
    "          index=['Non-overlapping Returns'])"
   ]
  },
  {
   "cell_type": "markdown",
   "metadata": {},
   "source": [
    "## Autocorrelations of portfolio returns"
   ]
  },
  {
   "cell_type": "code",
   "execution_count": 7,
   "metadata": {},
   "outputs": [
    {
     "data": {
      "image/png": "[encoded data removed]",
      "text/plain": [
       "<Figure size 432x288 with 1 Axes>"
      ]
     },
     "metadata": {
      "needs_background": "light"
     },
     "output_type": "display_data"
    },
    {
     "data": {
      "image/png": "[encoded data removed]",
      "text/plain": [
       "<Figure size 432x288 with 1 Axes>"
      ]
     },
     "metadata": {
      "needs_background": "light"
     },
     "output_type": "display_data"
    }
   ],
   "source": [
    "import statsmodels.formula.api as smf\n",
    "import statsmodels.api as sm\n",
    "sm.graphics.tsa.plot_acf(mom,\n",
    "                         lags=13,\n",
    "                         title='ACF of Overlapping Returns')\n",
    "plt.savefig(imgdir / 'overlap.jpg')\n",
    "sm.graphics.tsa.plot_acf(jt,\n",
    "                         lags=13,\n",
    "                         title='ACF of Non-Overlapping Returns')\n",
    "plt.savefig(imgdir / 'nonoverlap.jpg')"
   ]
  },
  {
   "cell_type": "markdown",
   "metadata": {},
   "source": [
    "## Newey-West corrected t-stats"
   ]
  },
  {
   "cell_type": "code",
   "execution_count": 8,
   "metadata": {},
   "outputs": [
    {
     "data": {
      "text/html": [
       "<div>\n",
       "<style scoped>\n",
       "    .dataframe tbody tr th:only-of-type {\n",
       "        vertical-align: middle;\n",
       "    }\n",
       "\n",
       "    .dataframe tbody tr th {\n",
       "        vertical-align: top;\n",
       "    }\n",
       "\n",
       "    .dataframe thead tr th {\n",
       "        text-align: left;\n",
       "    }\n",
       "\n",
       "    .dataframe thead tr:last-of-type th {\n",
       "        text-align: right;\n",
       "    }\n",
       "</style>\n",
       "<table border=\"1\" class=\"dataframe\">\n",
       "  <thead>\n",
       "    <tr>\n",
       "      <th></th>\n",
       "      <th colspan=\"2\" halign=\"left\">All stocks overlapping</th>\n",
       "      <th colspan=\"2\" halign=\"left\">All stocks non-overlapping</th>\n",
       "    </tr>\n",
       "    <tr>\n",
       "      <th></th>\n",
       "      <th>uncorrected</th>\n",
       "      <th>NeweyWest</th>\n",
       "      <th>uncorrected</th>\n",
       "      <th>NeweyWest</th>\n",
       "    </tr>\n",
       "    <tr>\n",
       "      <th>Uncorrected and Newey-West corrected standard errors</th>\n",
       "      <th></th>\n",
       "      <th></th>\n",
       "      <th></th>\n",
       "      <th></th>\n",
       "    </tr>\n",
       "  </thead>\n",
       "  <tbody>\n",
       "    <tr>\n",
       "      <th>params</th>\n",
       "      <td>0.0046</td>\n",
       "      <td>0.0046</td>\n",
       "      <td>0.0045</td>\n",
       "      <td>0.0045</td>\n",
       "    </tr>\n",
       "    <tr>\n",
       "      <th>bse</th>\n",
       "      <td>0.0007</td>\n",
       "      <td>0.0013</td>\n",
       "      <td>0.0015</td>\n",
       "      <td>0.0015</td>\n",
       "    </tr>\n",
       "    <tr>\n",
       "      <th>tvalues</th>\n",
       "      <td>6.3051</td>\n",
       "      <td>3.5293</td>\n",
       "      <td>2.9884</td>\n",
       "      <td>3.0591</td>\n",
       "    </tr>\n",
       "    <tr>\n",
       "      <th>pvalues</th>\n",
       "      <td>0.0000</td>\n",
       "      <td>0.0004</td>\n",
       "      <td>0.0029</td>\n",
       "      <td>0.0022</td>\n",
       "    </tr>\n",
       "  </tbody>\n",
       "</table>\n",
       "</div>"
      ],
      "text/plain": [
       "                                                   All stocks overlapping  \\\n",
       "                                                              uncorrected   \n",
       "Uncorrected and Newey-West corrected standard e...                          \n",
       "params                                                             0.0046   \n",
       "bse                                                                0.0007   \n",
       "tvalues                                                            6.3051   \n",
       "pvalues                                                            0.0000   \n",
       "\n",
       "                                                              \\\n",
       "                                                   NeweyWest   \n",
       "Uncorrected and Newey-West corrected standard e...             \n",
       "params                                                0.0046   \n",
       "bse                                                   0.0013   \n",
       "tvalues                                               3.5293   \n",
       "pvalues                                               0.0004   \n",
       "\n",
       "                                                   All stocks non-overlapping  \\\n",
       "                                                                  uncorrected   \n",
       "Uncorrected and Newey-West corrected standard e...                              \n",
       "params                                                                 0.0045   \n",
       "bse                                                                    0.0015   \n",
       "tvalues                                                                2.9884   \n",
       "pvalues                                                                0.0029   \n",
       "\n",
       "                                                              \n",
       "                                                   NeweyWest  \n",
       "Uncorrected and Newey-West corrected standard e...            \n",
       "params                                                0.0045  \n",
       "bse                                                   0.0015  \n",
       "tvalues                                               3.0591  \n",
       "pvalues                                               0.0022  "
      ]
     },
     "execution_count": 8,
     "metadata": {},
     "output_type": "execute_result"
    }
   ],
   "source": [
    "res = []\n",
    "keys = ['All stocks overlapping', 'All stocks non-overlapping']\n",
    "for out, label in zip([mom, jt], keys):\n",
    "    data = DataFrame(out, columns=['ret'])\n",
    "    reg = smf.ols('ret ~ 1',data=data).fit()\n",
    "    a = Series({stat: round(float(getattr(reg, stat)), 6)\n",
    "                for stat in ['params','bse','tvalues','pvalues']},\n",
    "               name='uncorrected')  # coef, stderr, t-value, P>|z|\n",
    "    #print(reg.summary())\n",
    "\n",
    "    reg = smf.ols('ret ~ 1',data=data)\\\n",
    "             .fit(cov_type='HAC', cov_kwds={'maxlags': 6})\n",
    "    b = Series({stat: round(float(getattr(reg, stat)), 6)\n",
    "                for stat in ['params','bse','tvalues','pvalues']},\n",
    "               name='NeweyWest')   # coef, stderr, t-value, P>|z|\n",
    "    res.append(pd.concat([a, b], axis=1))\n",
    "show(pd.concat(res, axis=1, keys=keys),\n",
    "     caption='Uncorrected and Newey-West corrected standard errors', **SHOW)     "
   ]
  },
  {
   "cell_type": "markdown",
   "metadata": {},
   "source": [
    "## Plot cumulative monthly average returns of Jegadeesh-Titman rolling portfolios"
   ]
  },
  {
   "cell_type": "code",
   "execution_count": 9,
   "metadata": {},
   "outputs": [
    {
     "data": {
      "image/png": "[encoded data removed]",
      "text/plain": [
       "<Figure size 360x360 with 1 Axes>"
      ]
     },
     "metadata": {
      "needs_background": "light"
     },
     "output_type": "display_data"
    }
   ],
   "source": [
    "fig, ax = plt.subplots(figsize=(5, 5), clear=True)\n",
    "plot_date(DataFrame(index=rebaldates, data=np.cumsum(jt), columns=['momentum']),\n",
    "          ax=ax, fontsize=8, rotation=90,\n",
    "          ylabel='Cumulative Returns', xlabel='Rebalance Date',\n",
    "          title='Jegadeesh-Titman 6-month momentum portfolios')\n",
    "plt.tight_layout()\n",
    "plt.savefig(imgdir / 'jegadeesh_titman.jpg')"
   ]
  },
  {
   "cell_type": "markdown",
   "metadata": {},
   "source": [
    "## Plot histogram of monthly portfolio returns   "
   ]
  },
  {
   "cell_type": "code",
   "execution_count": 10,
   "metadata": {},
   "outputs": [
    {
     "data": {
      "image/png": "[encoded data removed]",
      "text/plain": [
       "<Figure size 360x360 with 1 Axes>"
      ]
     },
     "metadata": {
      "needs_background": "light"
     },
     "output_type": "display_data"
    }
   ],
   "source": [
    "fig, ax = plt.subplots(1, 1, clear=True, figsize=(5, 5))\n",
    "ax.hist(jt, bins=30)\n",
    "ax.set_title(f\"Histogram of monthly returns\")\n",
    "ax.legend(['6-month momentum'])\n",
    "kurt = kurtosis(jt, bias=True, fisher=True)  # excess kurtosis\n",
    "skewness = skew(jt, bias=True)\n",
    "ax.set_xlabel(f\"skewness={skewness:.4f}, excess kurtosis={kurt:.4f}\")\n",
    "plt.tight_layout()\n",
    "plt.savefig(imgdir / 'jegadeesh_titman_hist.jpg')"
   ]
  },
  {
   "cell_type": "code",
   "execution_count": null,
   "metadata": {},
   "outputs": [],
   "source": []
  }
 ],
 "metadata": {
  "anaconda-cloud": {},
  "kernelspec": {
   "display_name": "Python 3 (ipykernel)",
   "language": "python",
   "name": "python3"
  },
  "language_info": {
   "codemirror_mode": {
    "name": "ipython",
    "version": 3
   },
   "file_extension": ".py",
   "mimetype": "text/x-python",
   "name": "python",
   "nbconvert_exporter": "python",
   "pygments_lexer": "ipython3",
   "version": "3.10.9"
  }
 },
 "nbformat": 4,
 "nbformat_minor": 4
}
