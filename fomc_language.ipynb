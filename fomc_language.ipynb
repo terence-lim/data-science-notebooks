{
 "cells": [
  {
   "cell_type": "markdown",
   "id": "f1c61875",
   "metadata": {},
   "source": [
    "# FedSpeak Language Modeling\n",
    "\n",
    "_Attention is all you need_ - Vaswani et al\n",
    "\n",
    "Concepts:\n",
    "- Transformers\n",
    "- Language modeling\n",
    "\n",
    "References:\n",
    "- https://pytorch.org/tutorials/beginner/transformer_tutorial.html\n",
    "- Ashish Vaswani, Noam Shazeer, Niki Parmar, Jakob Uszkoreit, Llion Jones, Aidan N. Gomez, Lukasz Kaiser, and Illia Polosukhin. 2017. Attention Is All You Need. \n"
   ]
  },
  {
   "cell_type": "code",
   "execution_count": 1,
   "id": "5b6513df",
   "metadata": {},
   "outputs": [],
   "source": [
    "from typing import Callable, List\n",
    "import math\n",
    "import numpy as np\n",
    "import pandas as pd\n",
    "from pandas import Series, DataFrame\n",
    "import bisect\n",
    "import matplotlib.pyplot as plt\n",
    "from nltk.tokenize import wordpunct_tokenize as tokenize\n",
    "import torch\n",
    "import torch.nn as nn\n",
    "import torch.nn.functional as F\n",
    "import torch.optim as optim\n",
    "from torch.optim import Adam\n",
    "from torch.optim.lr_scheduler import StepLR\n",
    "from torch.utils.data import Dataset, DataLoader\n",
    "import torchinfo\n",
    "from tqdm import tqdm\n",
    "from finds.database.mongodb import MongoDB\n",
    "from finds.unstructured import Unstructured, Vocab\n",
    "from secret import credentials, paths\n",
    "# %matplotlib qt\n",
    "VERBOSE = 0"
   ]
  },
  {
   "cell_type": "code",
   "execution_count": 2,
   "id": "eb022407",
   "metadata": {},
   "outputs": [
    {
     "name": "stdout",
     "output_type": "stream",
     "text": [
      "Device: cuda\n"
     ]
    }
   ],
   "source": [
    "mongodb = MongoDB(**credentials['mongodb'], verbose=VERBOSE)\n",
    "fomc = Unstructured(mongodb, 'FOMC')\n",
    "outdir = paths['scratch']\n",
    "device = 'cuda' if  torch.cuda.is_available() else 'cpu'\n",
    "print('Device:', device)"
   ]
  },
  {
   "cell_type": "code",
   "execution_count": 3,
   "id": "4d848088",
   "metadata": {},
   "outputs": [
    {
     "name": "stdout",
     "output_type": "stream",
     "text": [
      "8622\n"
     ]
    }
   ],
   "source": [
    "# Retrieve and preprocess FOMC minutes text\n",
    "dates = fomc['minutes'].distinct('date')       # check dates stored in MongoDB\n",
    "docs = Series({doc['date']: [w.lower() for w in tokenize(doc['text'])]\n",
    "               for doc in fomc.select('minutes')},\n",
    "              name='minutes').sort_index()\n",
    "UNK = \" \"\n",
    "vocab = Vocab(set().union(*docs.tolist()), unk=UNK)\n",
    "print(len(vocab))"
   ]
  },
  {
   "cell_type": "code",
   "execution_count": 4,
   "id": "66874b13",
   "metadata": {
    "lines_to_next_cell": 1
   },
   "outputs": [],
   "source": [
    "# Pytorch Dataset and DataLoader\n",
    "class FOMCDataset(Dataset):\n",
    "    \"\"\"Subclass of torch Dataset\n",
    "\n",
    "    Notes:\n",
    "      All subclasses should overwrite __getitem__(),\n",
    "      supporting fetching a data sample for a given key. Subclasses\n",
    "      could also optionally overwrite __len__(), which is expected to\n",
    "      return the size of the dataset\n",
    "    \"\"\"\n",
    "    def __init__(self, text: Series, seq_len: int, get_index: Callable[[str], int]):\n",
    "        self.text = text\n",
    "        self.seq_len = seq_len\n",
    "        self.get_index = get_index\n",
    "        self.counts = np.cumsum([len(s) // seq_len for s in text])\n",
    "\n",
    "    def __len__(self):\n",
    "        return self.counts[-1]\n",
    "\n",
    "    def __getitem__(self, idx):\n",
    "        assert 0 <= idx < len(self), \"idx out of range\"\n",
    "        doc = bisect.bisect_right(self.counts, idx)\n",
    "\n",
    "        start = (idx - (self.counts[doc-1] if doc > 0 else 0)) * self.seq_len\n",
    "        end = start + self.seq_len\n",
    "        chunk = self.text.iloc[doc][start:end]\n",
    "        return (torch.LongTensor([0] + self.get_index(chunk[:-1])),\n",
    "                torch.LongTensor(self.get_index(chunk)))"
   ]
  },
  {
   "cell_type": "code",
   "execution_count": 5,
   "id": "52dd7255",
   "metadata": {},
   "outputs": [],
   "source": [
    "# length of input sequence\n",
    "seq_len = 30 # 40 # 20"
   ]
  },
  {
   "cell_type": "code",
   "execution_count": 6,
   "id": "2e6ff19f",
   "metadata": {
    "lines_to_next_cell": 1
   },
   "outputs": [
    {
     "data": {
      "text/html": [
       "<div>\n",
       "<style scoped>\n",
       "    .dataframe tbody tr th:only-of-type {\n",
       "        vertical-align: middle;\n",
       "    }\n",
       "\n",
       "    .dataframe tbody tr th {\n",
       "        vertical-align: top;\n",
       "    }\n",
       "\n",
       "    .dataframe thead th {\n",
       "        text-align: right;\n",
       "    }\n",
       "</style>\n",
       "<table border=\"1\" class=\"dataframe\">\n",
       "  <thead>\n",
       "    <tr style=\"text-align: right;\">\n",
       "      <th></th>\n",
       "      <th>docs</th>\n",
       "      <th>chunks</th>\n",
       "    </tr>\n",
       "  </thead>\n",
       "  <tbody>\n",
       "    <tr>\n",
       "      <th>Train</th>\n",
       "      <td>248</td>\n",
       "      <td>53336</td>\n",
       "    </tr>\n",
       "  </tbody>\n",
       "</table>\n",
       "</div>"
      ],
      "text/plain": [
       "       docs  chunks\n",
       "Train   248   53336"
      ]
     },
     "execution_count": 6,
     "metadata": {},
     "output_type": "execute_result"
    }
   ],
   "source": [
    "# split last document to be test set\n",
    "test_len = 1\n",
    "test_set = docs.iloc[-test_len:].tolist()\n",
    "train_set = FOMCDataset(docs.iloc[:-test_len], seq_len, vocab.get_index)\n",
    "dataloader = DataLoader(train_set, batch_size=32, shuffle=True)\n",
    "DataFrame({'docs': len(docs)-test_len, 'chunks': len(train_set)}, index=['Train'])"
   ]
  },
  {
   "cell_type": "markdown",
   "id": "96a6fb84",
   "metadata": {},
   "source": [
    "## Transformers\n"
   ]
  },
  {
   "cell_type": "code",
   "execution_count": 7,
   "id": "785ce23b",
   "metadata": {
    "lines_to_next_cell": 1
   },
   "outputs": [],
   "source": [
    "class Transformer(nn.Module):\n",
    "    def __init__(self, seq_len: int, vocab_size: int, d_model: int, nhead: int,\n",
    "                 num_layers: int, dim_feedforward: int, dropout: float):\n",
    "        super().__init__()\n",
    "\n",
    "        # model dimensions\n",
    "        self.seq_len = seq_len\n",
    "        self.vocab_size = vocab_size\n",
    "        self.d_model = d_model\n",
    "\n",
    "        # define layers\n",
    "        self.embedding = nn.Embedding(num_embeddings=vocab_size,\n",
    "                                      embedding_dim=d_model)\n",
    "        self.positional = PositionalEncoding(max_len=seq_len,\n",
    "                                             d_model=d_model,\n",
    "                                             dropout=dropout)\n",
    "\n",
    "        layer = nn.TransformerEncoderLayer(d_model=d_model,\n",
    "                                           nhead=nhead,\n",
    "                                           dim_feedforward=dim_feedforward,\n",
    "                                           dropout=dropout,\n",
    "                                           batch_first=True)\n",
    "        self.encoder = nn.TransformerEncoder(encoder_layer=layer,\n",
    "                                             num_layers=num_layers)\n",
    "        self.decoder = nn.Linear(in_features=d_model,\n",
    "                                 out_features=vocab_size)\n",
    "\n",
    "        # initialize weights\n",
    "        self.embedding.weight.data.uniform_(-0.1, 0.1)\n",
    "        self.decoder.weight.data.uniform_(-0.1, 0.1)\n",
    "        self.decoder.bias.data.zero_()\n",
    "\n",
    "    def causal_mask(self, sz: int, device: str = 'cpu'):\n",
    "        \"\"\"returns upper triu set to -inf\"\"\"\n",
    "        return nn.Transformer.generate_square_subsequent_mask(sz=self.seq_len,\n",
    "                                                              device=device)\n",
    "\n",
    "    def forward(self, x):\n",
    "        if len(x.shape) == 1:\n",
    "            x = x[None, :]\n",
    "        assert x.size(-1) == self.seq_len\n",
    "        x = self.embedding(x) * math.sqrt(self.d_model)  # embedding\n",
    "        x = self.positional(x)                           # position encoding\n",
    "        x = self.encoder(x, mask=self.causal_mask(sz=len(x), device=x.device))\n",
    "        x = self.decoder(x)                              # linear layer\n",
    "        x = F.log_softmax(x, dim=-1)                     # classify\n",
    "        return x\n",
    "\n",
    "    def save(self, filename):\n",
    "        \"\"\"save model state to filename\"\"\"\n",
    "        return torch.save(self.state_dict(), filename)\n",
    "\n",
    "    def load(self, filename):\n",
    "        \"\"\"load model name from filename\"\"\"\n",
    "        self.load_state_dict(torch.load(filename, map_location='cpu'))\n",
    "        return self"
   ]
  },
  {
   "cell_type": "markdown",
   "id": "8f09fece",
   "metadata": {},
   "source": [
    "### Positional Encoding\n"
   ]
  },
  {
   "cell_type": "code",
   "execution_count": 8,
   "id": "84f840cd",
   "metadata": {
    "lines_to_end_of_cell_marker": 0,
    "lines_to_next_cell": 1
   },
   "outputs": [],
   "source": [
    "class PositionalEncoding(nn.Module):\n",
    "    def __init__(self, d_model: int, max_len: int, dropout: float= 0.0):\n",
    "        super().__init__()\n",
    "        self.dropout = nn.Dropout(dropout)\n",
    "        self.emb = nn.Embedding(num_embeddings=max_len, embedding_dim=d_model)\n",
    "\n",
    "    def forward(self, x):\n",
    "        \"\"\"\n",
    "        Args:\n",
    "            x: Tensor, shape [seq_len, batch_size, embedding_dim]\n",
    "        \"\"\"\n",
    "        to_embed = torch.LongTensor(np.asarray(range(0, x.size(1))))\\\n",
    "                        .to(x.device)\n",
    "        embedded = self.emb(to_embed)\n",
    "        embedded = self.dropout(embedded)\n",
    "        return x + embedded.unsqueeze(0)\n",
    "    \n",
    "    \"\"\"\n",
    "    def __init__(self, d_model: int, max_len: int, dropout: float = 0.1):\n",
    "        super().__init__()\n",
    "        self.dropout = nn.Dropout(p=dropout)\n",
    "        position = torch.arange(0, max_len, dtype=torch.float).unsqueeze(1)\n",
    "        div_term = torch.exp(torch.arange(0, d_model, 2)\n",
    "                             * (-math.log(10000.0) / d_model))\n",
    "        pe = torch.zeros(max_len, d_model)\n",
    "        pe[:, 0::2] = torch.sin(position * div_term)\n",
    "        pe[:, 1::2] = torch.cos(position * div_term)\n",
    "        pe = pe[:, None, :] \n",
    "        self.register_buffer('pe', pe)\n",
    "\n",
    "    def forward(self, x):\n",
    "        x = x + self.pe[:x.size(1), 0, :]\n",
    "        return self.dropout(x)\n",
    "    \"\"\""
   ]
  },
  {
   "cell_type": "markdown",
   "id": "cc032781",
   "metadata": {},
   "source": [
    "## Language modeling\n"
   ]
  },
  {
   "cell_type": "markdown",
   "id": "2c613975",
   "metadata": {},
   "source": [
    "### Perplexity\n"
   ]
  },
  {
   "cell_type": "code",
   "execution_count": 9,
   "id": "30bf0fa1",
   "metadata": {},
   "outputs": [],
   "source": [
    "def get_next_log_probs(model, context: List[str], unk=UNK):\n",
    "    \"\"\"log P(word | context) where word ranges over the vocab\"\"\"\n",
    "\n",
    "    # pad to length seq_len\n",
    "    if len(context) > model.seq_len:\n",
    "        context = context[-model.seq_len:]\n",
    "    elif len(context) < model.seq_len:\n",
    "        context = ([unk] * (model.seq_len - len(context))) + context\n",
    "    assert len(context) == model.seq_len\n",
    "\n",
    "    context = torch.LongTensor(vocab.get_index(context))\\\n",
    "                   .to(device)\\\n",
    "                   .unsqueeze(0)\n",
    "    output = model(context)\n",
    "    logits = output[0, -1, :] \n",
    "    return logits.cpu().detach().numpy()"
   ]
  },
  {
   "cell_type": "code",
   "execution_count": 10,
   "id": "489a4589",
   "metadata": {
    "lines_to_next_cell": 1
   },
   "outputs": [],
   "source": [
    "def get_log_prob_sequence(model, next_words: List[str], context: List[str] = []):\n",
    "    \"\"\"Scores a bunch of characters following context\"\"\"\n",
    "    if not context:\n",
    "        context = [UNK]\n",
    "    context = context + next_words\n",
    "    \n",
    "    log_probs = 0\n",
    "    for i in range(len(context) - len(next_words), len(context)):\n",
    "        log_prob = get_next_log_probs(model=model, context=context[:i])\n",
    "        log_probs += log_prob[vocab.get_index(context[i])]\n",
    "    return log_probs"
   ]
  },
  {
   "cell_type": "code",
   "execution_count": 11,
   "id": "595b791e",
   "metadata": {},
   "outputs": [],
   "source": [
    "def get_perplexity(model, context: List[str]) -> float:\n",
    "    \"\"\"Compute perpexlity score\"\"\"\n",
    "    log_prob = get_log_prob_sequence(model=model, next_words=context, context=[])\n",
    "    return np.exp(-log_prob / len(context))"
   ]
  },
  {
   "cell_type": "code",
   "execution_count": 12,
   "id": "0006ada3",
   "metadata": {},
   "outputs": [],
   "source": [
    "# Create the model\n",
    "lr = 0.0001\n",
    "step_size = 30\n",
    "num_epochs = 50 #step_size * 1"
   ]
  },
  {
   "cell_type": "code",
   "execution_count": 13,
   "id": "a2f9ee46",
   "metadata": {},
   "outputs": [],
   "source": [
    "d_model = 256 #512\n",
    "nhead = 4 # 4\n",
    "num_layers = 3 # 2\n",
    "dim_feedforward = 2048 # 512 #1024\n",
    "dropout = 0.2 # 0.3 # 0.2"
   ]
  },
  {
   "cell_type": "code",
   "execution_count": 14,
   "id": "baa3fb5b",
   "metadata": {
    "lines_to_next_cell": 2
   },
   "outputs": [
    {
     "data": {
      "text/plain": [
       "==========================================================================================\n",
       "Layer (type:depth-idx)                                            Param #\n",
       "==========================================================================================\n",
       "Transformer                                                       --\n",
       "├─Embedding: 1-1                                                  2,207,232\n",
       "├─PositionalEncoding: 1-2                                         --\n",
       "│    └─Dropout: 2-1                                               --\n",
       "│    └─Embedding: 2-2                                             7,680\n",
       "├─TransformerEncoder: 1-3                                         --\n",
       "│    └─ModuleList: 2-3                                            --\n",
       "│    │    └─TransformerEncoderLayer: 3-1                          1,315,072\n",
       "│    │    └─TransformerEncoderLayer: 3-2                          1,315,072\n",
       "│    │    └─TransformerEncoderLayer: 3-3                          1,315,072\n",
       "├─Linear: 1-4                                                     2,215,854\n",
       "==========================================================================================\n",
       "Total params: 8,375,982\n",
       "Trainable params: 8,375,982\n",
       "Non-trainable params: 0\n",
       "=========================================================================================="
      ]
     },
     "execution_count": 14,
     "metadata": {},
     "output_type": "execute_result"
    }
   ],
   "source": [
    "model = Transformer(seq_len=seq_len,\n",
    "                    vocab_size=len(vocab), \n",
    "                    d_model=d_model, \n",
    "                    nhead=nhead,\n",
    "                    num_layers=num_layers,\n",
    "                    dim_feedforward=dim_feedforward,\n",
    "                    dropout=dropout).to(device)\n",
    "torchinfo.summary(model)"
   ]
  },
  {
   "cell_type": "code",
   "execution_count": 15,
   "id": "c733edc1",
   "metadata": {},
   "outputs": [
    {
     "name": "stderr",
     "output_type": "stream",
     "text": [
      "/home/terence/env3.11/lib/python3.11/site-packages/tqdm/auto.py:21: TqdmWarning: IProgress not found. Please update jupyter and ipywidgets. See https://ipywidgets.readthedocs.io/en/stable/user_install.html\n",
      "  from .autonotebook import tqdm as notebook_tqdm\n"
     ]
    }
   ],
   "source": [
    "# Train the model\n",
    "criterion = nn.NLLLoss().to(device)\n",
    "optimizer = Adam(model.parameters(), lr=lr)\n",
    "scheduler = StepLR(optimizer, step_size=step_size, gamma=0.1)"
   ]
  },
  {
   "cell_type": "code",
   "execution_count": 16,
   "id": "b0b24a48",
   "metadata": {},
   "outputs": [
    {
     "name": "stderr",
     "output_type": "stream",
     "text": [
      "100%|██████████| 50/50 [21:17<00:00, 25.55s/it]\n"
     ]
    }
   ],
   "source": [
    "perplexity = []\n",
    "losses = []\n",
    "for epoch in tqdm(range(num_epochs)):\n",
    "    model.train()\n",
    "    for train_ex, target_ex in dataloader:\n",
    "        optimizer.zero_grad()\n",
    "        train_ex, target_ex = train_ex.to(device), target_ex.to(device)\n",
    "        output = model(train_ex)\n",
    "        loss = criterion(output.view(-1, len(vocab)), target_ex.view(-1))\n",
    "        loss.backward()\n",
    "        optimizer.step()\n",
    "    scheduler.step()\n",
    "    \n",
    "    # Evaluate perplexity on test set\n",
    "    model.eval()\n",
    "    perplexity.append(np.mean([get_perplexity(model, s) for s in test_set]))\n",
    "    losses.append(loss.item())\n",
    "    if VERBOSE:\n",
    "        print(f\"Epoch: {epoch}, Loss: {loss.item()}, Perplexity: {perplexity[-1]}\")\n",
    "model.save(outdir / f\"transformer{nhead}_{dim_feedforward}.pt\")"
   ]
  },
  {
   "cell_type": "code",
   "execution_count": 17,
   "id": "5e07c839",
   "metadata": {},
   "outputs": [
    {
     "data": {
      "text/plain": [
       "Transformer(\n",
       "  (embedding): Embedding(8622, 256)\n",
       "  (positional): PositionalEncoding(\n",
       "    (dropout): Dropout(p=0.2, inplace=False)\n",
       "    (emb): Embedding(30, 256)\n",
       "  )\n",
       "  (encoder): TransformerEncoder(\n",
       "    (layers): ModuleList(\n",
       "      (0-2): 3 x TransformerEncoderLayer(\n",
       "        (self_attn): MultiheadAttention(\n",
       "          (out_proj): NonDynamicallyQuantizableLinear(in_features=256, out_features=256, bias=True)\n",
       "        )\n",
       "        (linear1): Linear(in_features=256, out_features=2048, bias=True)\n",
       "        (dropout): Dropout(p=0.2, inplace=False)\n",
       "        (linear2): Linear(in_features=2048, out_features=256, bias=True)\n",
       "        (norm1): LayerNorm((256,), eps=1e-05, elementwise_affine=True)\n",
       "        (norm2): LayerNorm((256,), eps=1e-05, elementwise_affine=True)\n",
       "        (dropout1): Dropout(p=0.2, inplace=False)\n",
       "        (dropout2): Dropout(p=0.2, inplace=False)\n",
       "      )\n",
       "    )\n",
       "  )\n",
       "  (decoder): Linear(in_features=256, out_features=8622, bias=True)\n",
       ")"
      ]
     },
     "execution_count": 17,
     "metadata": {},
     "output_type": "execute_result"
    }
   ],
   "source": [
    "model.load(outdir / f\"transformer{nhead}_{dim_feedforward}.pt\")"
   ]
  },
  {
   "cell_type": "code",
   "execution_count": 18,
   "id": "fd3152ec",
   "metadata": {
    "lines_to_next_cell": 1
   },
   "outputs": [
    {
     "name": "stdout",
     "output_type": "stream",
     "text": [
      "Perplexity: 11.667960207233376   Loss: 2.023679733276367\n"
     ]
    },
    {
     "data": {
      "image/png": "[encoded data removed]",
      "text/plain": [
       "<Figure size 1000x600 with 2 Axes>"
      ]
     },
     "metadata": {},
     "output_type": "display_data"
    }
   ],
   "source": [
    "# Plot perplexity\n",
    "fig, ax = plt.subplots(figsize=(10,6))\n",
    "ax.plot(perplexity, color=\"C0\")\n",
    "ax.set_ylabel('Perplexity on test set', color=\"C0\")\n",
    "bx = ax.twinx()\n",
    "bx.plot(losses, color=\"C1\")\n",
    "bx.set_ylabel('Training error', color=\"C1\")\n",
    "plt.title('Training a transformer language model on FOMC minutes')\n",
    "print('Perplexity:', perplexity[-1], '  Loss:', losses[-1])"
   ]
  },
  {
   "cell_type": "markdown",
   "id": "a282408c",
   "metadata": {},
   "source": [
    "### Nuclear sampling\n"
   ]
  },
  {
   "cell_type": "code",
   "execution_count": 19,
   "id": "703459c2",
   "metadata": {
    "lines_to_next_cell": 1
   },
   "outputs": [],
   "source": [
    "def get_nuclear_sequence(model, n: int, p: float, context: List[str] = []):\n",
    "    \"\"\"Sample sequence of words given context\"\"\"\n",
    "    if not context:\n",
    "        context = [UNK]\n",
    "    \n",
    "    for i in range(n):\n",
    "        probs = np.exp(get_next_log_probs(model, context))\n",
    "        probs_sorted = sorted(probs, reverse=True)\n",
    "        probs_cum = np.cumsum(probs_sorted)\n",
    "        num_drop = sum(probs_cum > p)\n",
    "        threshold = probs_sorted[-num_drop]\n",
    "        probs[probs < threshold] = 0.\n",
    "        probs /= sum(probs)\n",
    "        choice = vocab.get_word(np.random.choice(len(probs), p=probs))\n",
    "        context.append(choice)\n",
    "        #print(i, drop, len(probs), len(probs_sorted))\n",
    "    return context"
   ]
  },
  {
   "cell_type": "code",
   "execution_count": 20,
   "id": "37e7947b",
   "metadata": {},
   "outputs": [],
   "source": [
    "import textwrap\n",
    "wrapper = textwrap.TextWrapper(width=80, fix_sentence_endings=True)"
   ]
  },
  {
   "cell_type": "markdown",
   "id": "a550f8bb",
   "metadata": {},
   "source": [
    "Finally, generate language with nuclear sampling given starting contexts"
   ]
  },
  {
   "cell_type": "code",
   "execution_count": 23,
   "id": "ef4d440d",
   "metadata": {},
   "outputs": [
    {
     "name": "stdout",
     "output_type": "stream",
     "text": [
      "THE FINANCIAL MARKETS...\n",
      "The financial markets that had occurred in mortgage interest rates since the\n",
      "start of 2014. Consequently, the committee anticipates that it will be\n",
      "appropriate to maintain the target range for the federal funds rate at 0 to 1/ 4\n",
      "percent.  The committee directs the desk to purchase gse debt and agency\n",
      "mortgage-backed securities( mbs) the\n",
      "\n",
      "PARTICIPANTS NOTED THAT...\n",
      "Participants noted that overall financial conditions remained accommodative, in\n",
      "part reflecting policy measures to support the economy.  They noted that since\n",
      "midyear, a tightening was necessary, though the unemployment rate remained\n",
      "elevated.  Some participants suggested that underlying growth in consumption\n",
      "expenditures remained sluggish, likely reflecting growth in the output of high-\n",
      "tech equipment.  Nonetheless,\n",
      "\n"
     ]
    }
   ],
   "source": [
    "n, p = seq_len * 2, 0.95\n",
    "for context in ['the financial markets' , 'participants noted that']:\n",
    "\n",
    "    # generate from context with nuclear sampling\n",
    "    words = get_nuclear_sequence(model, n=n, p=p, context=context.split())\n",
    "\n",
    "    # pretty-print the output\n",
    "    out = ''\n",
    "    is_end = True\n",
    "    is_space = ''\n",
    "    for w in words:\n",
    "        if not w.isalnum():\n",
    "            out += w\n",
    "        else:\n",
    "            if is_end:\n",
    "                w = w.capitalize()\n",
    "            out += is_space + w\n",
    "        is_end = w in ['!', '?', '.']\n",
    "        is_space = ' '*bool(w not in [\"'\", '-', '–'])\n",
    "    print(f\"{context.upper()}...\")\n",
    "    print(wrapper.fill(out))\n",
    "    print()"
   ]
  }
 ],
 "metadata": {
  "jupytext": {
   "cell_metadata_filter": "-all",
   "main_language": "python",
   "notebook_metadata_filter": "-all"
  },
  "kernelspec": {
   "display_name": "env3.11",
   "language": "python",
   "name": "python3"
  },
  "language_info": {
   "codemirror_mode": {
    "name": "ipython",
    "version": 3
   },
   "file_extension": ".py",
   "mimetype": "text/x-python",
   "name": "python",
   "nbconvert_exporter": "python",
   "pygments_lexer": "ipython3",
   "version": "3.11.8"
  }
 },
 "nbformat": 4,
 "nbformat_minor": 5
}
