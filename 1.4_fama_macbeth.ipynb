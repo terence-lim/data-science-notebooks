{
 "cells": [
  {
   "cell_type": "markdown",
   "id": "43fd8c2e",
   "metadata": {},
   "source": [
    "# Fama-Macbeth Cross-sectional Regressions\n",
    "\n",
    "\n",
    "_If you don’t risk anything, you risk even more_ – Erica Jong\n",
    "\n",
    "\n",
    "The Fama-MacBeth (1973) cross-sectional regression methodology is a fundamental tool in empirical asset pricing, used to estimate risk factor loadings and associated risk premia while accounting for cross-sectional correlation in errors. By performing two-stage regressions, the method first estimates factor loadings for individual assets and then determines the associated risk premia over time. This approach has broad applications in testing asset pricing models, including the Capital Asset Pricing Model (CAPM) and multi-factor models. The following sections also analyze efficient frontier construction, Black-Litterman implied alphas and portfolio optimization, risk factor modeling, and non-linear regressions.\n"
   ]
  },
  {
   "cell_type": "code",
   "execution_count": 1,
   "id": "b26155f2",
   "metadata": {},
   "outputs": [],
   "source": [
    "import numpy as np\n",
    "from numpy import linalg as la\n",
    "import pandas as pd\n",
    "from pandas import DataFrame, Series\n",
    "import matplotlib.pyplot as plt\n",
    "import statsmodels.formula.api as smf\n",
    "from sklearn.kernel_ridge import KernelRidge\n",
    "import random\n",
    "from tqdm import tqdm\n",
    "import cvxpy as cp\n",
    "from finds.database import SQL, RedisDB\n",
    "from finds.structured import (BusDay, Signals, Benchmarks, CRSP,\n",
    "                              CRSPBuffer, SignalsFrame)\n",
    "from finds.backtesting import RiskPremium\n",
    "from finds.recipes import winsorize, least_squares\n",
    "from finds.readers import FFReader\n",
    "from secret import credentials, paths, CRSP_DATE\n",
    "VERBOSE = 0\n",
    "#%matplotlib qt"
   ]
  },
  {
   "cell_type": "code",
   "execution_count": 2,
   "id": "50ed17c9",
   "metadata": {},
   "outputs": [],
   "source": [
    "# open connections\n",
    "sql = SQL(**credentials['sql'], verbose=VERBOSE)\n",
    "user = SQL(**credentials['user'], verbose=VERBOSE)\n",
    "rdb = RedisDB(**credentials['redis'])\n",
    "bd = BusDay(sql, verbose=VERBOSE)\n",
    "crsp = CRSP(sql, bd, rdb=rdb, verbose=VERBOSE)\n",
    "signals = Signals(user, verbose=VERBOSE)\n",
    "bench = Benchmarks(sql, bd, verbose=VERBOSE)\n",
    "imgdir = paths['images']\n",
    "LAST_DATE = bd.endmo(CRSP_DATE, -1)"
   ]
  },
  {
   "cell_type": "code",
   "execution_count": 3,
   "id": "519f120b",
   "metadata": {},
   "outputs": [],
   "source": [
    "import warnings\n",
    "warnings.simplefilter(action='ignore', category=FutureWarning)"
   ]
  },
  {
   "cell_type": "markdown",
   "id": "803a2df7",
   "metadata": {},
   "source": [
    "## Mean variance optimization\n",
    "\n",
    "Markowitz demonstrated that, given two investments with the same expected return (measured as the mean of returns), a risk-averse investor will prefer the one with lower risk (measured by variance). His theory relies on several assumptions, including the absence of market frictions (such as taxes or transaction costs) and normally distributed returns.  \n",
    "\n",
    "The assumption of normally distributed returns implies that rational investors should evaluate potential portfolio allocations based solely on the means and variances of their return distributions. Investors generally seek higher mean returns while minimizing variance. Diversification plays a crucial role in reducing portfolio risk by incorporating assets whose price movements are not perfectly correlated.  \n",
    "\n",
    "A key challenge in implementing this framework is estimating the necessary parameters—mean returns, variances, and asset correlations—using historical data. The choice of historical period or forecast assumptions can significantly impact the resulting allocation. To address this uncertainty, techniques such as robust portfolio optimization and the Black-Litterman model have been developed.\n"
   ]
  },
  {
   "cell_type": "code",
   "execution_count": 4,
   "id": "540fa999",
   "metadata": {},
   "outputs": [],
   "source": [
    "# Retrieve test asset returns and risk-free rate   \n",
    "symbol = '6_Portfolios_2x3'\n",
    "ff = FFReader(symbol)\n",
    "rf = FFReader('F-F_Research_Data_Factors')[0]['RF'] / 100  # risk-free rates\n",
    "mktcaps = ff[4] * ff[5]  # number of firms x average market cap\n",
    "labels = [s.replace('ME1', 'BIG').replace('ME2', 'SMALL') for s in mktcaps.columns]\n",
    "n = len(labels)"
   ]
  },
  {
   "cell_type": "code",
   "execution_count": 5,
   "id": "bcb55210",
   "metadata": {},
   "outputs": [],
   "source": [
    "r = (ff[0]/100).sub(rf.fillna(0), axis=0)    # excess, of the risk-free, returns\n",
    "sigma = np.cov(r, rowvar=False)\n",
    "mu = np.mean(r, axis=0).values\n",
    "assets = DataFrame(data={'mean': mu, 'volatility': np.sqrt(np.diag(sigma))}, index=labels)"
   ]
  },
  {
   "cell_type": "code",
   "execution_count": 6,
   "id": "8bbfc94d",
   "metadata": {
    "lines_to_next_cell": 2
   },
   "outputs": [
    {
     "data": {
      "text/html": [
       "<div>\n",
       "<style scoped>\n",
       "    .dataframe tbody tr th:only-of-type {\n",
       "        vertical-align: middle;\n",
       "    }\n",
       "\n",
       "    .dataframe tbody tr th {\n",
       "        vertical-align: top;\n",
       "    }\n",
       "\n",
       "    .dataframe thead th {\n",
       "        text-align: right;\n",
       "    }\n",
       "</style>\n",
       "<table border=\"1\" class=\"dataframe\">\n",
       "  <thead>\n",
       "    <tr style=\"text-align: right;\">\n",
       "      <th></th>\n",
       "      <th>SMALL LoBM</th>\n",
       "      <th>BIG BM2</th>\n",
       "      <th>SMALL HiBM</th>\n",
       "      <th>BIG LoBM</th>\n",
       "      <th>SMALL BM2</th>\n",
       "      <th>BIG HiBM</th>\n",
       "      <th>Mkt</th>\n",
       "    </tr>\n",
       "  </thead>\n",
       "  <tbody>\n",
       "    <tr>\n",
       "      <th>mean</th>\n",
       "      <td>0.007149</td>\n",
       "      <td>0.009629</td>\n",
       "      <td>0.011528</td>\n",
       "      <td>0.006860</td>\n",
       "      <td>0.006886</td>\n",
       "      <td>0.009252</td>\n",
       "      <td>0.007152</td>\n",
       "    </tr>\n",
       "    <tr>\n",
       "      <th>volatility</th>\n",
       "      <td>0.074748</td>\n",
       "      <td>0.069687</td>\n",
       "      <td>0.081045</td>\n",
       "      <td>0.052923</td>\n",
       "      <td>0.056215</td>\n",
       "      <td>0.071231</td>\n",
       "      <td>0.053822</td>\n",
       "    </tr>\n",
       "  </tbody>\n",
       "</table>\n",
       "</div>"
      ],
      "text/plain": [
       "            SMALL LoBM   BIG BM2  SMALL HiBM  BIG LoBM  SMALL BM2  BIG HiBM  \\\n",
       "mean          0.007149  0.009629    0.011528  0.006860   0.006886  0.009252   \n",
       "volatility    0.074748  0.069687    0.081045  0.052923   0.056215  0.071231   \n",
       "\n",
       "                 Mkt  \n",
       "mean        0.007152  \n",
       "volatility  0.053822  "
      ]
     },
     "execution_count": 6,
     "metadata": {},
     "output_type": "execute_result"
    }
   ],
   "source": [
    "mkt = {'weights': (mktcaps.iloc[-1]/mktcaps.iloc[-1].sum()).values}  # latest caps\n",
    "mkt['mean'] = mkt['weights'].dot(mu)\n",
    "mkt['variance'] = mkt['weights'].dot(sigma).dot(mkt['weights'])\n",
    "pd.concat([assets.T, Series({'mean': mkt['mean'], 'volatility': np.sqrt(mkt['variance'])},\n",
    "                            name='Mkt')], axis=1)"
   ]
  },
  {
   "cell_type": "markdown",
   "id": "71e772d9",
   "metadata": {},
   "source": [
    "### Global minimum variance portfolio\n",
    "\n",
    "The Global Minimum Variance (GMV) portfolio is the allocation that achieves the lowest possible risk based on estimated asset variances and correlations while disregarding expected returns. This optimization problem is convex (quadratic) and subject to the constraint that portfolio weights sum to one.  \n",
    "\n",
    "Mathematically, the GMV portfolio is obtained by solving:  \n",
    "$$\n",
    "\\min_w w^T \\Sigma w, \\quad \\text{subject to } w^T 1 = 1\n",
    "$$  \n",
    "where $\\Sigma$ represents the covariance matrix of asset returns.  This can be solved numerically with the  `cvxpy` Python package for convext optimization.\n"
   ]
  },
  {
   "cell_type": "code",
   "execution_count": 7,
   "id": "eed4b955",
   "metadata": {},
   "outputs": [],
   "source": [
    "W = cp.Variable(n)   # variable to optimize over - portfolio weights\n",
    "Var = cp.quad_form(W, sigma)    # objective to minimize portfolio volatility\n",
    "Ret = mu.T @ W                  # objective to maximize portfolio return"
   ]
  },
  {
   "cell_type": "code",
   "execution_count": 8,
   "id": "4762b892",
   "metadata": {
    "lines_to_next_cell": 1
   },
   "outputs": [],
   "source": [
    "obj = cp.Problem(cp.Minimize(Var), [cp.sum(W) == 1])\n",
    "obj.solve()\n",
    "gmv = dict(weights=W.value, variance=Var.value, mean=Ret.value,\n",
    "              coords=(np.sqrt(Var.value), Ret.value))"
   ]
  },
  {
   "cell_type": "markdown",
   "id": "62bfe10a",
   "metadata": {},
   "source": [
    "The GMV portfolio weights can also be derived using a closed form solution by differentiating the (convex) objective function and setting the first-order conditions to zero: GMV $= \\dfrac{\\Sigma^{-1} 1}{1^T \\Sigma^{-1} 1}$\n",
    "\n"
   ]
  },
  {
   "cell_type": "code",
   "execution_count": 9,
   "id": "b237c822",
   "metadata": {},
   "outputs": [],
   "source": [
    "def gmv_portfolio(sigma, mu=None):\n",
    "    \"\"\"Returns position weights of global minimum variance portfolio\"\"\"\n",
    "    ones = np.ones((sigma.shape[0], 1))\n",
    "    w = la.inv(sigma).dot(ones) / ones.T.dot(la.inv(sigma)).dot(ones)\n",
    "    return {'weights': w, 'volatility': np.sqrt(w.T.dot(sigma).dot(w)),\n",
    "            'mean': None if mu is None else w.T.dot(mu)}"
   ]
  },
  {
   "cell_type": "code",
   "execution_count": 10,
   "id": "416e9c4e",
   "metadata": {
    "lines_to_next_cell": 2
   },
   "outputs": [
    {
     "data": {
      "text/html": [
       "<div>\n",
       "<style scoped>\n",
       "    .dataframe tbody tr th:only-of-type {\n",
       "        vertical-align: middle;\n",
       "    }\n",
       "\n",
       "    .dataframe tbody tr th {\n",
       "        vertical-align: top;\n",
       "    }\n",
       "\n",
       "    .dataframe thead th {\n",
       "        text-align: right;\n",
       "    }\n",
       "</style>\n",
       "<table border=\"1\" class=\"dataframe\">\n",
       "  <thead>\n",
       "    <tr style=\"text-align: right;\">\n",
       "      <th></th>\n",
       "      <th>SMALL LoBM</th>\n",
       "      <th>BIG BM2</th>\n",
       "      <th>SMALL HiBM</th>\n",
       "      <th>BIG LoBM</th>\n",
       "      <th>SMALL BM2</th>\n",
       "      <th>BIG HiBM</th>\n",
       "    </tr>\n",
       "  </thead>\n",
       "  <tbody>\n",
       "    <tr>\n",
       "      <th>numerical</th>\n",
       "      <td>-0.485571</td>\n",
       "      <td>0.668181</td>\n",
       "      <td>-0.330072</td>\n",
       "      <td>0.789931</td>\n",
       "      <td>0.83042</td>\n",
       "      <td>-0.47289</td>\n",
       "    </tr>\n",
       "    <tr>\n",
       "      <th>formula</th>\n",
       "      <td>-0.485571</td>\n",
       "      <td>0.668181</td>\n",
       "      <td>-0.330072</td>\n",
       "      <td>0.789931</td>\n",
       "      <td>0.83042</td>\n",
       "      <td>-0.47289</td>\n",
       "    </tr>\n",
       "  </tbody>\n",
       "</table>\n",
       "</div>"
      ],
      "text/plain": [
       "           SMALL LoBM   BIG BM2  SMALL HiBM  BIG LoBM  SMALL BM2  BIG HiBM\n",
       "numerical   -0.485571  0.668181   -0.330072  0.789931    0.83042  -0.47289\n",
       "formula     -0.485571  0.668181   -0.330072  0.789931    0.83042  -0.47289"
      ]
     },
     "execution_count": 10,
     "metadata": {},
     "output_type": "execute_result"
    }
   ],
   "source": [
    "w = gmv_portfolio(mu=mu, sigma=sigma)['weights']\n",
    "pd.concat([Series(gmv['weights']).rename('numerical'),\n",
    "           Series(w.flatten()).rename('formula')], axis=1)\\\n",
    "  .set_index(assets.index).T"
   ]
  },
  {
   "cell_type": "markdown",
   "id": "7e60cf3d",
   "metadata": {},
   "source": [
    "### Efficient frontier\n",
    "\n",
    "\n",
    "Each point on the efficient frontier represents a portfolio that offers the highest expected return for a given level of risk, measured by the standard deviation of returns. A line drawn from the risk-free rate becomes tangent to the efficient frontier at the **tangency portfolio**, defining the **Capital Market Line (CML)**:  \n",
    "\n",
    "$$\n",
    "E(R_p) = r_f + \\frac{E[R_M] - r_f}{\\sigma_M} \\sigma_p\n",
    "$$  \n",
    "\n",
    "Portfolios along this line dominate all other portfolios on the efficient frontier. This leads to the **Two-Fund Separation Theorem**, which states that all investors should allocate capital between the risk-free asset and the tangency portfolio.  "
   ]
  },
  {
   "cell_type": "code",
   "execution_count": 11,
   "id": "fc8ee410",
   "metadata": {},
   "outputs": [],
   "source": [
    "var_ticks = np.linspace(gmv['variance'], 3*np.max(np.diag(sigma)), 200)\n",
    "best_slope, tangency = 0, tuple()    # to find the tangency portfolio\n",
    "efficient = []\n",
    "for var in var_ticks:\n",
    "    obj = cp.Problem(cp.Maximize(Ret), [cp.sum(W) == 1, Var <= var])\n",
    "    obj.solve(verbose=False)\n",
    "\n",
    "    # tangency portfolio has best slope\n",
    "    risk = np.sqrt(var)\n",
    "    slope = Ret.value / risk\n",
    "    if slope > best_slope:\n",
    "        best_slope = slope\n",
    "        tangency = {'coords': (risk, Ret.value), 'weights': W.value}\n",
    "    efficient.append(dict(mean=Ret.value, volatility=risk))"
   ]
  },
  {
   "cell_type": "code",
   "execution_count": 12,
   "id": "ca8b5e5c",
   "metadata": {
    "lines_to_next_cell": 1
   },
   "outputs": [],
   "source": [
    "frontier = []     # inefficient frontier\n",
    "for var in var_ticks:\n",
    "    obj = cp.Problem(cp.Minimize(Ret), [cp.sum(W) == 1, Var <= var])\n",
    "    obj.solve(verbose=False)\n",
    "    frontier.append(dict(mean=Ret.value, volatility=np.sqrt(var)))"
   ]
  },
  {
   "cell_type": "markdown",
   "id": "f4d3ce4c",
   "metadata": {},
   "source": [
    "The efficient and tangency portfolios can be derived as:  \n",
    "- Efficient portfolio (target return $\\mu_0$) = $\\Sigma^{-1} M (M^T \\Sigma^{-1} M)^{-1} [\\mu_0 \\ 1]^T$, where $M=[\\mu \\ 1]$\n",
    "\n",
    "- Tangency portfolio = $\\dfrac{\\Sigma^{-1} \\mu}{1^T \\Sigma ^{-1} \\mu}$\n",
    "\n",
    "\n",
    "Any portfolio on the efficient frontier can be expressed as a linear combination of two other efficient portfolios.  \n",
    "\n"
   ]
  },
  {
   "cell_type": "code",
   "execution_count": 13,
   "id": "619d581c",
   "metadata": {},
   "outputs": [],
   "source": [
    "def efficient_portfolio(mu, sigma, target):\n",
    "    \"\"\"Returns weights of minimum variance portfolio that exceeds target return\"\"\"\n",
    "    mu = mu.flatten()\n",
    "    n = len(mu)\n",
    "    ones = np.ones((n, 1))\n",
    "    M = np.hstack([mu.reshape(-1, 1), ones])\n",
    "    B = M.T.dot(la.inv(sigma)).dot(M)\n",
    "    w = la.inv(sigma).dot(M).dot(la.inv(B)).dot(np.array([[target], [1]]))\n",
    "    return {'weights': w, 'volatility': np.sqrt(float(w.T.dot(sigma).dot(w))),\n",
    "            'mean': float(w.T.dot(mu))}"
   ]
  },
  {
   "cell_type": "code",
   "execution_count": 14,
   "id": "f22c976a",
   "metadata": {
    "lines_to_next_cell": 1
   },
   "outputs": [
    {
     "name": "stderr",
     "output_type": "stream",
     "text": [
      "/tmp/ipykernel_1785309/3388186085.py:9: DeprecationWarning: Conversion of an array with ndim > 0 to a scalar is deprecated, and will error in future. Ensure you extract a single element from your array before performing this operation. (Deprecated NumPy 1.25.)\n",
      "  return {'weights': w, 'volatility': np.sqrt(float(w.T.dot(sigma).dot(w))),\n",
      "/tmp/ipykernel_1785309/3388186085.py:10: DeprecationWarning: Conversion of an array with ndim > 0 to a scalar is deprecated, and will error in future. Ensure you extract a single element from your array before performing this operation. (Deprecated NumPy 1.25.)\n",
      "  'mean': float(w.T.dot(mu))}\n"
     ]
    }
   ],
   "source": [
    "p = random.choice(efficient)\n",
    "e = efficient_portfolio(mu,sigma, p['mean'])\n",
    "df = DataFrame({'random efficient portfolio': p,\n",
    "                'by formula': dict(mean=e['mean'], volatility=e['volatility'])})"
   ]
  },
  {
   "cell_type": "code",
   "execution_count": 15,
   "id": "9f73ae41",
   "metadata": {
    "lines_to_next_cell": 1
   },
   "outputs": [],
   "source": [
    "def tangency_portfolio(mu, sigma):\n",
    "    \"\"\"Returns weights of tangency portfolio with largest slope (sharpe ratio)\"\"\"\n",
    "    mu = mu.flatten()\n",
    "    n = len(mu)\n",
    "    ones = np.ones((n, 1))\n",
    "    w = la.inv(sigma).dot(mu)/ones.T.dot(la.inv(sigma).dot(mu))\n",
    "    return {'weights': w, 'mean': float(w.T.dot(mu)),\n",
    "            'volatility': np.sqrt(float(w.T.dot(sigma).dot(w)))}"
   ]
  },
  {
   "cell_type": "code",
   "execution_count": 16,
   "id": "3eb59865",
   "metadata": {},
   "outputs": [],
   "source": [
    "s = tangency_portfolio(mu, sigma)"
   ]
  },
  {
   "cell_type": "code",
   "execution_count": 17,
   "id": "daabff15",
   "metadata": {
    "lines_to_next_cell": 2
   },
   "outputs": [
    {
     "data": {
      "text/html": [
       "<div>\n",
       "<style scoped>\n",
       "    .dataframe tbody tr th:only-of-type {\n",
       "        vertical-align: middle;\n",
       "    }\n",
       "\n",
       "    .dataframe tbody tr th {\n",
       "        vertical-align: top;\n",
       "    }\n",
       "\n",
       "    .dataframe thead th {\n",
       "        text-align: right;\n",
       "    }\n",
       "</style>\n",
       "<table border=\"1\" class=\"dataframe\">\n",
       "  <thead>\n",
       "    <tr style=\"text-align: right;\">\n",
       "      <th></th>\n",
       "      <th>tangency portfolio</th>\n",
       "      <th>tangency formula</th>\n",
       "      <th>random efficient portfolio</th>\n",
       "      <th>by formula</th>\n",
       "    </tr>\n",
       "  </thead>\n",
       "  <tbody>\n",
       "    <tr>\n",
       "      <th>volatility</th>\n",
       "      <td>0.080541</td>\n",
       "      <td>0.080748</td>\n",
       "      <td>0.08782</td>\n",
       "      <td>0.08782</td>\n",
       "    </tr>\n",
       "    <tr>\n",
       "      <th>mean</th>\n",
       "      <td>0.016848</td>\n",
       "      <td>0.016891</td>\n",
       "      <td>0.01834</td>\n",
       "      <td>0.01834</td>\n",
       "    </tr>\n",
       "  </tbody>\n",
       "</table>\n",
       "</div>"
      ],
      "text/plain": [
       "            tangency portfolio  tangency formula  random efficient portfolio  \\\n",
       "volatility            0.080541          0.080748                     0.08782   \n",
       "mean                  0.016848          0.016891                     0.01834   \n",
       "\n",
       "            by formula  \n",
       "volatility     0.08782  \n",
       "mean           0.01834  "
      ]
     },
     "execution_count": 17,
     "metadata": {},
     "output_type": "execute_result"
    }
   ],
   "source": [
    "# show numerical and formulas are same solution\n",
    "DataFrame({'tangency portfolio': list(tangency['coords']),\n",
    "           'tangency formula': [s['volatility'], s['mean']]},\n",
    "          index=['volatility', 'mean']).join(df)"
   ]
  },
  {
   "cell_type": "markdown",
   "id": "ff2f566a",
   "metadata": {},
   "source": [
    "Plot efficient frontier and portfolios"
   ]
  },
  {
   "cell_type": "code",
   "execution_count": 18,
   "id": "11af5c28",
   "metadata": {},
   "outputs": [
    {
     "data": {
      "image/png": "[encoded data removed]",
      "text/plain": [
       "<Figure size 1000x900 with 1 Axes>"
      ]
     },
     "metadata": {},
     "output_type": "display_data"
    }
   ],
   "source": [
    "fig, ax = plt.subplots(figsize=(10, 9))\n",
    "DataFrame(efficient).set_index('volatility').plot(ax=ax, color='darkblue')\n",
    "DataFrame(frontier).set_index('volatility').plot(ax=ax, color='lightgrey')\n",
    "ax.plot([0, np.sqrt(max(var_ticks))], [0, np.sqrt(max(var_ticks))*best_slope],\n",
    "        color='cyan')  # capital market line\n",
    "ax.plot(*tangency['coords'], \"r*\", ms=10)                    # tangency portfolio\n",
    "ax.plot(np.sqrt(gmv['variance']), gmv['mean'], \"ms\", ms=8)   # GMV portfolio\n",
    "ax.plot(np.sqrt(mkt['variance']), mkt['mean'], \"yd\", ms=10)  # market portfolio\n",
    "plt.legend(['Efficient Frontier', 'Inefficient Frontier', 'Capital Market Line',\n",
    "            'Tangency Portfolio', 'Global Minimum Variance Portfolio', 'Market'])\n",
    "for c, r in enumerate(assets.itertuples()):   # risky assets\n",
    "    ax.plot(r.volatility, r.mean, marker='o', color=f\"C{c}\")\n",
    "    ax.annotate(text=r.Index, xy=(r.volatility, r.mean),\n",
    "                xytext=(0.5, 0), textcoords=\"offset fontsize\", color=f\"C{c}\")\n",
    "ax.set_xlabel('Standard Deviation (risk)')\n",
    "ax.set_ylabel('Average Monthly Excess Returns')\n",
    "ax.set_title('Efficient Frontier with FF 3x2 BM-Size Risky Assets')\n",
    "plt.tight_layout()"
   ]
  },
  {
   "cell_type": "markdown",
   "id": "fda205d8",
   "metadata": {
    "lines_to_next_cell": 2
   },
   "source": [
    "### CAPM\n",
    "\n",
    "Sharpe, Lintner, and Mossin developed the CAPM, an equilibrium model that describes the relationship between risk and expected return for risky assets. The model assumes market efficiency and that investors optimize portfolios based on mean-variance principles.  \n",
    "\n",
    "The CAPM posits that market equilibrium is reached when all investors hold combinations of the risk-free asset and the market portfolio. An asset's expected return is determined by its contribution to the market portfolio’s total risk, specifically its **systematic risk**, which cannot be diversified away. This risk is measured by beta:  \n",
    "\n",
    "$$\n",
    "\\beta_i = \\frac{\\text{cov}(R_i, R_M)}{\\text{var}(R_M)}\n",
    "$$  \n",
    "\n",
    "The **Security Market Line (SML)** represents the relationship between expected returns and beta:  \n",
    "\n",
    "$$\n",
    "E(R_i) = r_f + \\beta_i (E[R_M] - r_f)\n",
    "$$  \n"
   ]
  },
  {
   "cell_type": "markdown",
   "id": "e00b88da",
   "metadata": {},
   "source": [
    "## Implied alphas\n",
    "\n",
    "If a known portfolio allocation $W$ is an optimal solution to a mean-variance objective, the implied mean return inputs can be inferred given the covariance matrix. These **implied alphas**, proportional to $w^T \\Sigma$, when used as expected returns in the optimization process, yield the same portfolio $W$.  \n"
   ]
  },
  {
   "cell_type": "code",
   "execution_count": 19,
   "id": "dc59f02c",
   "metadata": {},
   "outputs": [],
   "source": [
    "# market cap-weighted portfolio implied expected returns\n",
    "capm = mkt['weights'].dot(sigma) * 2"
   ]
  },
  {
   "cell_type": "code",
   "execution_count": 20,
   "id": "54ad88cc",
   "metadata": {},
   "outputs": [],
   "source": [
    "# HML implied alphas\n",
    "hml = Series(0.0, index=assets.index)\n",
    "hml['BIG HiBM'] = 0.5\n",
    "hml['SMALL HiBM'] = 0.5\n",
    "hml['BIG LoBM'] = -0.5\n",
    "hml['SMALL LoBM'] = -0.5\n",
    "#hml = {'weights': hml.values}\n",
    "#hml['variance'] = hml['weights'].dot(sigma).dot(hml['weights'])\n",
    "#hml['coords'] = (np.sqrt(hml['variance']), hml['weights'].dot(mu))\n",
    "alphas = hml.dot(sigma) * 2"
   ]
  },
  {
   "cell_type": "code",
   "execution_count": 21,
   "id": "a85fa551",
   "metadata": {},
   "outputs": [
    {
     "data": {
      "text/html": [
       "<div>\n",
       "<style scoped>\n",
       "    .dataframe tbody tr th:only-of-type {\n",
       "        vertical-align: middle;\n",
       "    }\n",
       "\n",
       "    .dataframe tbody tr th {\n",
       "        vertical-align: top;\n",
       "    }\n",
       "\n",
       "    .dataframe thead th {\n",
       "        text-align: right;\n",
       "    }\n",
       "</style>\n",
       "<table border=\"1\" class=\"dataframe\">\n",
       "  <thead>\n",
       "    <tr style=\"text-align: right;\">\n",
       "      <th></th>\n",
       "      <th>SMALL LoBM</th>\n",
       "      <th>BIG BM2</th>\n",
       "      <th>SMALL HiBM</th>\n",
       "      <th>BIG LoBM</th>\n",
       "      <th>SMALL BM2</th>\n",
       "      <th>BIG HiBM</th>\n",
       "    </tr>\n",
       "  </thead>\n",
       "  <tbody>\n",
       "    <tr>\n",
       "      <th>HML weights</th>\n",
       "      <td>-0.500000</td>\n",
       "      <td>0.000000</td>\n",
       "      <td>0.500000</td>\n",
       "      <td>-0.500000</td>\n",
       "      <td>0.000000</td>\n",
       "      <td>0.500000</td>\n",
       "    </tr>\n",
       "    <tr>\n",
       "      <th>HML implied-alpha</th>\n",
       "      <td>0.000742</td>\n",
       "      <td>0.001827</td>\n",
       "      <td>0.003132</td>\n",
       "      <td>0.000277</td>\n",
       "      <td>0.001634</td>\n",
       "      <td>0.002967</td>\n",
       "    </tr>\n",
       "    <tr>\n",
       "      <th>Market weights</th>\n",
       "      <td>0.010631</td>\n",
       "      <td>0.017235</td>\n",
       "      <td>0.011753</td>\n",
       "      <td>0.693932</td>\n",
       "      <td>0.190550</td>\n",
       "      <td>0.075900</td>\n",
       "    </tr>\n",
       "    <tr>\n",
       "      <th>CAPM equilibrium returns</th>\n",
       "      <td>0.007044</td>\n",
       "      <td>0.006705</td>\n",
       "      <td>0.007413</td>\n",
       "      <td>0.005624</td>\n",
       "      <td>0.005733</td>\n",
       "      <td>0.006865</td>\n",
       "    </tr>\n",
       "    <tr>\n",
       "      <th>historical mu</th>\n",
       "      <td>0.007149</td>\n",
       "      <td>0.009629</td>\n",
       "      <td>0.011528</td>\n",
       "      <td>0.006860</td>\n",
       "      <td>0.006886</td>\n",
       "      <td>0.009252</td>\n",
       "    </tr>\n",
       "    <tr>\n",
       "      <th>implied/capm</th>\n",
       "      <td>0.105320</td>\n",
       "      <td>0.272514</td>\n",
       "      <td>0.422451</td>\n",
       "      <td>0.049240</td>\n",
       "      <td>0.285082</td>\n",
       "      <td>0.432198</td>\n",
       "    </tr>\n",
       "  </tbody>\n",
       "</table>\n",
       "</div>"
      ],
      "text/plain": [
       "                          SMALL LoBM   BIG BM2  SMALL HiBM  BIG LoBM  \\\n",
       "HML weights                -0.500000  0.000000    0.500000 -0.500000   \n",
       "HML implied-alpha           0.000742  0.001827    0.003132  0.000277   \n",
       "Market weights              0.010631  0.017235    0.011753  0.693932   \n",
       "CAPM equilibrium returns    0.007044  0.006705    0.007413  0.005624   \n",
       "historical mu               0.007149  0.009629    0.011528  0.006860   \n",
       "implied/capm                0.105320  0.272514    0.422451  0.049240   \n",
       "\n",
       "                          SMALL BM2  BIG HiBM  \n",
       "HML weights                0.000000  0.500000  \n",
       "HML implied-alpha          0.001634  0.002967  \n",
       "Market weights             0.190550  0.075900  \n",
       "CAPM equilibrium returns   0.005733  0.006865  \n",
       "historical mu              0.006886  0.009252  \n",
       "implied/capm               0.285082  0.432198  "
      ]
     },
     "execution_count": 21,
     "metadata": {},
     "output_type": "execute_result"
    }
   ],
   "source": [
    "pd.concat([Series(hml.values).rename('HML weights'),\n",
    "           Series(alphas).rename('HML implied-alpha'),\n",
    "           Series(mkt['weights']).rename('Market weights'),\n",
    "           Series(capm).rename('CAPM equilibrium returns'),\n",
    "           Series(mu).rename('historical mu'),\n",
    "           Series(Series(alphas)/Series(capm)).rename('implied/capm')],\n",
    "          axis=1, ignore_index=False)\\\n",
    "  .set_index(assets.index).T"
   ]
  },
  {
   "cell_type": "code",
   "execution_count": 22,
   "id": "c7132e62",
   "metadata": {},
   "outputs": [
    {
     "data": {
      "text/html": [
       "<div>\n",
       "<style scoped>\n",
       "    .dataframe tbody tr th:only-of-type {\n",
       "        vertical-align: middle;\n",
       "    }\n",
       "\n",
       "    .dataframe tbody tr th {\n",
       "        vertical-align: top;\n",
       "    }\n",
       "\n",
       "    .dataframe thead th {\n",
       "        text-align: right;\n",
       "    }\n",
       "</style>\n",
       "<table border=\"1\" class=\"dataframe\">\n",
       "  <thead>\n",
       "    <tr style=\"text-align: right;\">\n",
       "      <th></th>\n",
       "      <th>historical mu</th>\n",
       "      <th>capm equilbrium</th>\n",
       "    </tr>\n",
       "  </thead>\n",
       "  <tbody>\n",
       "    <tr>\n",
       "      <th>Correlation with implied alphas</th>\n",
       "      <td>0.836893</td>\n",
       "      <td>0.610935</td>\n",
       "    </tr>\n",
       "  </tbody>\n",
       "</table>\n",
       "</div>"
      ],
      "text/plain": [
       "                                 historical mu  capm equilbrium\n",
       "Correlation with implied alphas       0.836893         0.610935"
      ]
     },
     "execution_count": 22,
     "metadata": {},
     "output_type": "execute_result"
    }
   ],
   "source": [
    "# Correlations of alphas\n",
    "DataFrame({'historical mu': np.corrcoef(alphas, mu)[0][-1],\n",
    "           'capm equilbrium': np.corrcoef(alphas, capm)[0][-1]},\n",
    "          index=['Correlation with implied alphas'])"
   ]
  },
  {
   "cell_type": "code",
   "execution_count": 23,
   "id": "19916003",
   "metadata": {},
   "outputs": [
    {
     "data": {
      "text/html": [
       "<div>\n",
       "<style scoped>\n",
       "    .dataframe tbody tr th:only-of-type {\n",
       "        vertical-align: middle;\n",
       "    }\n",
       "\n",
       "    .dataframe tbody tr th {\n",
       "        vertical-align: top;\n",
       "    }\n",
       "\n",
       "    .dataframe thead th {\n",
       "        text-align: right;\n",
       "    }\n",
       "</style>\n",
       "<table border=\"1\" class=\"dataframe\">\n",
       "  <thead>\n",
       "    <tr style=\"text-align: right;\">\n",
       "      <th></th>\n",
       "      <th>SMALL LoBM</th>\n",
       "      <th>BIG BM2</th>\n",
       "      <th>SMALL HiBM</th>\n",
       "      <th>BIG LoBM</th>\n",
       "      <th>SMALL BM2</th>\n",
       "      <th>BIG HiBM</th>\n",
       "    </tr>\n",
       "  </thead>\n",
       "  <tbody>\n",
       "    <tr>\n",
       "      <th>HML weights</th>\n",
       "      <td>-0.5</td>\n",
       "      <td>0.0</td>\n",
       "      <td>0.5</td>\n",
       "      <td>-0.5</td>\n",
       "      <td>0.0</td>\n",
       "      <td>0.5</td>\n",
       "    </tr>\n",
       "    <tr>\n",
       "      <th>mean-variance weights</th>\n",
       "      <td>-0.5</td>\n",
       "      <td>0.0</td>\n",
       "      <td>0.5</td>\n",
       "      <td>-0.5</td>\n",
       "      <td>0.0</td>\n",
       "      <td>0.5</td>\n",
       "    </tr>\n",
       "  </tbody>\n",
       "</table>\n",
       "</div>"
      ],
      "text/plain": [
       "                       SMALL LoBM  BIG BM2  SMALL HiBM  BIG LoBM  SMALL BM2  \\\n",
       "HML weights                  -0.5      0.0         0.5      -0.5        0.0   \n",
       "mean-variance weights        -0.5      0.0         0.5      -0.5        0.0   \n",
       "\n",
       "                       BIG HiBM  \n",
       "HML weights                 0.5  \n",
       "mean-variance weights       0.5  "
      ]
     },
     "execution_count": 23,
     "metadata": {},
     "output_type": "execute_result"
    }
   ],
   "source": [
    "# Mean-variance optimization with HML-implied alphas\n",
    "MeanVariance = alphas @ W - Var    \n",
    "obj = cp.Problem(cp.Maximize(MeanVariance))\n",
    "obj.solve(verbose=False)\n",
    "DataFrame.from_records([hml.values, W.value], columns=labels,\n",
    "                       index=['HML weights', 'mean-variance weights']).round(6)"
   ]
  },
  {
   "cell_type": "code",
   "execution_count": 24,
   "id": "6efa9887",
   "metadata": {},
   "outputs": [
    {
     "data": {
      "text/html": [
       "<div>\n",
       "<style scoped>\n",
       "    .dataframe tbody tr th:only-of-type {\n",
       "        vertical-align: middle;\n",
       "    }\n",
       "\n",
       "    .dataframe tbody tr th {\n",
       "        vertical-align: top;\n",
       "    }\n",
       "\n",
       "    .dataframe thead th {\n",
       "        text-align: right;\n",
       "    }\n",
       "</style>\n",
       "<table border=\"1\" class=\"dataframe\">\n",
       "  <thead>\n",
       "    <tr style=\"text-align: right;\">\n",
       "      <th></th>\n",
       "      <th>SMALL LoBM</th>\n",
       "      <th>BIG BM2</th>\n",
       "      <th>SMALL HiBM</th>\n",
       "      <th>BIG LoBM</th>\n",
       "      <th>SMALL BM2</th>\n",
       "      <th>BIG HiBM</th>\n",
       "    </tr>\n",
       "  </thead>\n",
       "  <tbody>\n",
       "    <tr>\n",
       "      <th>Market weights</th>\n",
       "      <td>0.010631</td>\n",
       "      <td>0.017235</td>\n",
       "      <td>0.011753</td>\n",
       "      <td>0.693932</td>\n",
       "      <td>0.19055</td>\n",
       "      <td>0.0759</td>\n",
       "    </tr>\n",
       "    <tr>\n",
       "      <th>mean-variance weights</th>\n",
       "      <td>0.010631</td>\n",
       "      <td>0.017235</td>\n",
       "      <td>0.011753</td>\n",
       "      <td>0.693932</td>\n",
       "      <td>0.19055</td>\n",
       "      <td>0.0759</td>\n",
       "    </tr>\n",
       "    <tr>\n",
       "      <th>formula</th>\n",
       "      <td>0.010631</td>\n",
       "      <td>0.017235</td>\n",
       "      <td>0.011753</td>\n",
       "      <td>0.693932</td>\n",
       "      <td>0.19055</td>\n",
       "      <td>0.0759</td>\n",
       "    </tr>\n",
       "  </tbody>\n",
       "</table>\n",
       "</div>"
      ],
      "text/plain": [
       "                       SMALL LoBM   BIG BM2  SMALL HiBM  BIG LoBM  SMALL BM2  \\\n",
       "Market weights           0.010631  0.017235    0.011753  0.693932    0.19055   \n",
       "mean-variance weights    0.010631  0.017235    0.011753  0.693932    0.19055   \n",
       "formula                  0.010631  0.017235    0.011753  0.693932    0.19055   \n",
       "\n",
       "                       BIG HiBM  \n",
       "Market weights           0.0759  \n",
       "mean-variance weights    0.0759  \n",
       "formula                  0.0759  "
      ]
     },
     "execution_count": 24,
     "metadata": {},
     "output_type": "execute_result"
    }
   ],
   "source": [
    "# Mean-variance optimization with CAPM-implied expected returns\n",
    "MeanVariance = capm @ W - Var\n",
    "obj = cp.Problem(cp.Maximize(MeanVariance))\n",
    "obj.solve(verbose=False)\n",
    "p = tangency_portfolio(mu=capm, sigma=sigma)\n",
    "DataFrame.from_records([W.value, mkt['weights'], p['weights']], columns=labels,\n",
    "                       index=['Market weights', 'mean-variance weights', 'formula'])"
   ]
  },
  {
   "cell_type": "markdown",
   "id": "90bc2c7b",
   "metadata": {},
   "source": [
    "### Black-Litterman Model\n",
    "\n",
    "Mean-variance portfolios are highly sensitive to input estimates, particularly expected returns. Errors in estimating expected returns have a far greater impact than errors in estimating variances and covariances. Black and Litterman (1992) proposed *shrinking* investor expectations toward equilibrium market returns to reduce sensitivity to estimation errors.  "
   ]
  },
  {
   "cell_type": "code",
   "execution_count": 25,
   "id": "db13bf8e",
   "metadata": {},
   "outputs": [
    {
     "data": {
      "text/html": [
       "<div>\n",
       "<style scoped>\n",
       "    .dataframe tbody tr th:only-of-type {\n",
       "        vertical-align: middle;\n",
       "    }\n",
       "\n",
       "    .dataframe tbody tr th {\n",
       "        vertical-align: top;\n",
       "    }\n",
       "\n",
       "    .dataframe thead th {\n",
       "        text-align: right;\n",
       "    }\n",
       "</style>\n",
       "<table border=\"1\" class=\"dataframe\">\n",
       "  <thead>\n",
       "    <tr style=\"text-align: right;\">\n",
       "      <th></th>\n",
       "      <th>SMALL LoBM</th>\n",
       "      <th>BIG BM2</th>\n",
       "      <th>SMALL HiBM</th>\n",
       "      <th>BIG LoBM</th>\n",
       "      <th>SMALL BM2</th>\n",
       "      <th>BIG HiBM</th>\n",
       "    </tr>\n",
       "  </thead>\n",
       "  <tbody>\n",
       "    <tr>\n",
       "      <th>Tangency Portfolio Weights</th>\n",
       "      <td>-2.807841</td>\n",
       "      <td>2.631802</td>\n",
       "      <td>1.023199</td>\n",
       "      <td>2.132014</td>\n",
       "      <td>-1.466995</td>\n",
       "      <td>-0.51218</td>\n",
       "    </tr>\n",
       "    <tr>\n",
       "      <th>Market Weights</th>\n",
       "      <td>0.010631</td>\n",
       "      <td>0.017235</td>\n",
       "      <td>0.011753</td>\n",
       "      <td>0.693932</td>\n",
       "      <td>0.190550</td>\n",
       "      <td>0.07590</td>\n",
       "    </tr>\n",
       "    <tr>\n",
       "      <th>Active Weights</th>\n",
       "      <td>-2.818472</td>\n",
       "      <td>2.614567</td>\n",
       "      <td>1.011446</td>\n",
       "      <td>1.438083</td>\n",
       "      <td>-1.657544</td>\n",
       "      <td>-0.58808</td>\n",
       "    </tr>\n",
       "  </tbody>\n",
       "</table>\n",
       "</div>"
      ],
      "text/plain": [
       "                            SMALL LoBM   BIG BM2  SMALL HiBM  BIG LoBM  \\\n",
       "Tangency Portfolio Weights   -2.807841  2.631802    1.023199  2.132014   \n",
       "Market Weights                0.010631  0.017235    0.011753  0.693932   \n",
       "Active Weights               -2.818472  2.614567    1.011446  1.438083   \n",
       "\n",
       "                            SMALL BM2  BIG HiBM  \n",
       "Tangency Portfolio Weights  -1.466995  -0.51218  \n",
       "Market Weights               0.190550   0.07590  \n",
       "Active Weights              -1.657544  -0.58808  "
      ]
     },
     "execution_count": 25,
     "metadata": {},
     "output_type": "execute_result"
    }
   ],
   "source": [
    "active = tangency['weights'] - mkt['weights']\n",
    "DataFrame.from_records([tangency['weights'], mkt['weights'], active], columns=labels,\n",
    "                       index=['Tangency Portfolio Weights', 'Market Weights',\n",
    "                              'Active Weights']).round(6)"
   ]
  },
  {
   "cell_type": "markdown",
   "id": "ba64157a",
   "metadata": {},
   "source": [
    "The Black-Litterman expected return estimates are computed as:  \n",
    "\n",
    "$$\n",
    "E[R] = [(\\tau\\Sigma)^{-1} + P^T \\Omega^{-1} P]^{-1} [(\\tau\\Sigma)^{-1}\\Pi + P^T \\Omega^{-1} Q]\n",
    "$$  \n",
    "\n",
    "where:  \n",
    "- $\\tau$ is a confidence scalar for investor views versus equilibrium returns.  \n",
    "- In Bayesian terms, $\\tau$ represents uncertainty in equilibrium return estimation.  \n"
   ]
  },
  {
   "cell_type": "code",
   "execution_count": 26,
   "id": "f5ea26d1",
   "metadata": {
    "lines_to_next_cell": 1
   },
   "outputs": [],
   "source": [
    "tau = 0.05  # He and Litterman (1992) for a moderate amount of active risk\n",
    "k = 1\n",
    "Pi = capm.reshape((n, 1))          # equilbrium views: CAPM implied excess returns\n",
    "P = (tangency['weights']).reshape((k, n))          # view portfolio weights\n",
    "Q = (tangency['weights'].dot(mu)).reshape((k, k))  # portfolio view\n",
    "Omega = np.diag(np.array(P.dot(sigma).dot(P.T)).reshape((k,k))) # uncertainty"
   ]
  },
  {
   "cell_type": "code",
   "execution_count": 27,
   "id": "f83eabe9",
   "metadata": {
    "lines_to_next_cell": 1
   },
   "outputs": [],
   "source": [
    "def black_litterman(tau, Pi, Sigma, P, Q):\n",
    "    \"\"\"Returns black-litterman alphas\"\"\"\n",
    "    def inv(x):\n",
    "        \"\"\"helper wraps over la.inv to handle scalar/1d inputs\"\"\"\n",
    "        try:\n",
    "            return la.inv(x)\n",
    "        except:\n",
    "            return np.array(1/x).reshape((1,1))\n",
    "    return inv(inv(tau*Sigma)+P.T.dot(inv(Omega)).dot(P))\\\n",
    "        .dot(inv(tau*Sigma).dot(Pi) + P.T.dot(inv(Omega)).dot(Q))"
   ]
  },
  {
   "cell_type": "code",
   "execution_count": 28,
   "id": "0b84a461",
   "metadata": {},
   "outputs": [
    {
     "name": "stdout",
     "output_type": "stream",
     "text": [
      "Active Risk: 0.0024824588797282025\n"
     ]
    },
    {
     "data": {
      "text/html": [
       "<div>\n",
       "<style scoped>\n",
       "    .dataframe tbody tr th:only-of-type {\n",
       "        vertical-align: middle;\n",
       "    }\n",
       "\n",
       "    .dataframe tbody tr th {\n",
       "        vertical-align: top;\n",
       "    }\n",
       "\n",
       "    .dataframe thead th {\n",
       "        text-align: right;\n",
       "    }\n",
       "</style>\n",
       "<table border=\"1\" class=\"dataframe\">\n",
       "  <thead>\n",
       "    <tr style=\"text-align: right;\">\n",
       "      <th></th>\n",
       "      <th>SMALL LoBM</th>\n",
       "      <th>BIG BM2</th>\n",
       "      <th>SMALL HiBM</th>\n",
       "      <th>BIG LoBM</th>\n",
       "      <th>SMALL BM2</th>\n",
       "      <th>BIG HiBM</th>\n",
       "    </tr>\n",
       "  </thead>\n",
       "  <tbody>\n",
       "    <tr>\n",
       "      <th>Black-Litterman weights</th>\n",
       "      <td>-0.101900</td>\n",
       "      <td>0.121624</td>\n",
       "      <td>0.052136</td>\n",
       "      <td>0.751349</td>\n",
       "      <td>0.124370</td>\n",
       "      <td>0.05242</td>\n",
       "    </tr>\n",
       "    <tr>\n",
       "      <th>Market weights</th>\n",
       "      <td>0.010631</td>\n",
       "      <td>0.017235</td>\n",
       "      <td>0.011753</td>\n",
       "      <td>0.693932</td>\n",
       "      <td>0.190550</td>\n",
       "      <td>0.07590</td>\n",
       "    </tr>\n",
       "    <tr>\n",
       "      <th>Active weights</th>\n",
       "      <td>-0.112531</td>\n",
       "      <td>0.104390</td>\n",
       "      <td>0.040383</td>\n",
       "      <td>0.057417</td>\n",
       "      <td>-0.066179</td>\n",
       "      <td>-0.02348</td>\n",
       "    </tr>\n",
       "  </tbody>\n",
       "</table>\n",
       "</div>"
      ],
      "text/plain": [
       "                         SMALL LoBM   BIG BM2  SMALL HiBM  BIG LoBM  \\\n",
       "Black-Litterman weights   -0.101900  0.121624    0.052136  0.751349   \n",
       "Market weights             0.010631  0.017235    0.011753  0.693932   \n",
       "Active weights            -0.112531  0.104390    0.040383  0.057417   \n",
       "\n",
       "                         SMALL BM2  BIG HiBM  \n",
       "Black-Litterman weights   0.124370   0.05242  \n",
       "Market weights            0.190550   0.07590  \n",
       "Active weights           -0.066179  -0.02348  "
      ]
     },
     "execution_count": 28,
     "metadata": {},
     "output_type": "execute_result"
    }
   ],
   "source": [
    "bl = {'alphas': black_litterman(tau=tau, Pi=Pi, Sigma=sigma, P=P, Q=Q)}\n",
    "bl |= tangency_portfolio(mu=bl['alphas'], sigma=sigma)\n",
    "bl['mean'] = bl['weights'].dot(mu)    # express mean based on original mu\n",
    "bl['tilt'] = bl['weights'] - mkt['weights']\n",
    "print('Active Risk:', np.sqrt(bl['tilt'].T.dot(sigma).dot(bl['tilt'])))\n",
    "DataFrame.from_dict({'Black-Litterman weights': bl['weights'], \n",
    "                     'Market weights': mkt['weights'], 'Active weights': bl['tilt']},\n",
    "                     columns=labels, orient='index').round(6)"
   ]
  },
  {
   "cell_type": "code",
   "execution_count": 29,
   "id": "7eeebd78",
   "metadata": {},
   "outputs": [
    {
     "data": {
      "text/plain": [
       "array([0.03992611, 0.03992611, 0.03992611, 0.03992611, 0.03992611,\n",
       "       0.03992611])"
      ]
     },
     "execution_count": 29,
     "metadata": {},
     "output_type": "execute_result"
    }
   ],
   "source": [
    "# BL tilts the optimal weights towards the active positions in the view portfolio\n",
    "bl['tilt'] / active"
   ]
  },
  {
   "cell_type": "markdown",
   "id": "41236d60",
   "metadata": {},
   "source": [
    "With numerical solvers, constraints like no short-selling can be incorporated, and additional constraints can be iteratively added to achieve more reasonable portfolio allocations. "
   ]
  },
  {
   "cell_type": "code",
   "execution_count": 30,
   "id": "e561a4f6",
   "metadata": {},
   "outputs": [],
   "source": [
    "Alpha = W @ mu"
   ]
  },
  {
   "cell_type": "code",
   "execution_count": 31,
   "id": "eedbe5da",
   "metadata": {},
   "outputs": [
    {
     "name": "stdout",
     "output_type": "stream",
     "text": [
      "Minimize variance to achieve target return, with no short sales:\n",
      "Active Risk: 0.004263652598782702\n"
     ]
    },
    {
     "data": {
      "text/html": [
       "<div>\n",
       "<style scoped>\n",
       "    .dataframe tbody tr th:only-of-type {\n",
       "        vertical-align: middle;\n",
       "    }\n",
       "\n",
       "    .dataframe tbody tr th {\n",
       "        vertical-align: top;\n",
       "    }\n",
       "\n",
       "    .dataframe thead th {\n",
       "        text-align: right;\n",
       "    }\n",
       "</style>\n",
       "<table border=\"1\" class=\"dataframe\">\n",
       "  <thead>\n",
       "    <tr style=\"text-align: right;\">\n",
       "      <th></th>\n",
       "      <th>SMALL LoBM</th>\n",
       "      <th>BIG BM2</th>\n",
       "      <th>SMALL HiBM</th>\n",
       "      <th>BIG LoBM</th>\n",
       "      <th>SMALL BM2</th>\n",
       "      <th>BIG HiBM</th>\n",
       "    </tr>\n",
       "  </thead>\n",
       "  <tbody>\n",
       "    <tr>\n",
       "      <th>Constrained weights</th>\n",
       "      <td>-0.000000</td>\n",
       "      <td>-0.000000</td>\n",
       "      <td>0.145177</td>\n",
       "      <td>0.790527</td>\n",
       "      <td>0.064296</td>\n",
       "      <td>0.0000</td>\n",
       "    </tr>\n",
       "    <tr>\n",
       "      <th>Market weights</th>\n",
       "      <td>0.010631</td>\n",
       "      <td>0.017235</td>\n",
       "      <td>0.011753</td>\n",
       "      <td>0.693932</td>\n",
       "      <td>0.190550</td>\n",
       "      <td>0.0759</td>\n",
       "    </tr>\n",
       "    <tr>\n",
       "      <th>Active weights</th>\n",
       "      <td>-0.010631</td>\n",
       "      <td>-0.017235</td>\n",
       "      <td>0.133425</td>\n",
       "      <td>0.096595</td>\n",
       "      <td>-0.126254</td>\n",
       "      <td>-0.0759</td>\n",
       "    </tr>\n",
       "  </tbody>\n",
       "</table>\n",
       "</div>"
      ],
      "text/plain": [
       "                     SMALL LoBM   BIG BM2  SMALL HiBM  BIG LoBM  SMALL BM2  \\\n",
       "Constrained weights   -0.000000 -0.000000    0.145177  0.790527   0.064296   \n",
       "Market weights         0.010631  0.017235    0.011753  0.693932   0.190550   \n",
       "Active weights        -0.010631 -0.017235    0.133425  0.096595  -0.126254   \n",
       "\n",
       "                     BIG HiBM  \n",
       "Constrained weights    0.0000  \n",
       "Market weights         0.0759  \n",
       "Active weights        -0.0759  "
      ]
     },
     "execution_count": 31,
     "metadata": {},
     "output_type": "execute_result"
    }
   ],
   "source": [
    "# Minimize variance to same expected return\n",
    "obj = cp.Problem(cp.Minimize(Var), [cp.sum(W) == 1, W >= 0, Alpha >= bl['mean']])\n",
    "obj.solve()\n",
    "tilt = W.value - mkt['weights']\n",
    "print('Minimize variance to achieve target return, with no short sales:')\n",
    "print('Active Risk:', np.sqrt(tilt.T.dot(sigma).dot(tilt)))\n",
    "DataFrame.from_dict({'Constrained weights': W.value,\n",
    "                     'Market weights': mkt['weights'], 'Active weights': tilt},\n",
    "                     columns=labels, orient='index').round(6)"
   ]
  },
  {
   "cell_type": "code",
   "execution_count": 32,
   "id": "10d3df54",
   "metadata": {
    "lines_to_next_cell": 2
   },
   "outputs": [
    {
     "name": "stdout",
     "output_type": "stream",
     "text": [
      "Maximize return within target variance, with no short sales:\n",
      "Active Risk (annualized): 0.009003930083077559\n"
     ]
    },
    {
     "data": {
      "text/html": [
       "<div>\n",
       "<style scoped>\n",
       "    .dataframe tbody tr th:only-of-type {\n",
       "        vertical-align: middle;\n",
       "    }\n",
       "\n",
       "    .dataframe tbody tr th {\n",
       "        vertical-align: top;\n",
       "    }\n",
       "\n",
       "    .dataframe thead th {\n",
       "        text-align: right;\n",
       "    }\n",
       "</style>\n",
       "<table border=\"1\" class=\"dataframe\">\n",
       "  <thead>\n",
       "    <tr style=\"text-align: right;\">\n",
       "      <th></th>\n",
       "      <th>SMALL LoBM</th>\n",
       "      <th>BIG BM2</th>\n",
       "      <th>SMALL HiBM</th>\n",
       "      <th>BIG LoBM</th>\n",
       "      <th>SMALL BM2</th>\n",
       "      <th>BIG HiBM</th>\n",
       "    </tr>\n",
       "  </thead>\n",
       "  <tbody>\n",
       "    <tr>\n",
       "      <th>Constrained weights</th>\n",
       "      <td>0.000000</td>\n",
       "      <td>0.000001</td>\n",
       "      <td>0.079741</td>\n",
       "      <td>0.778467</td>\n",
       "      <td>0.141791</td>\n",
       "      <td>0.0000</td>\n",
       "    </tr>\n",
       "    <tr>\n",
       "      <th>Market weights</th>\n",
       "      <td>0.010631</td>\n",
       "      <td>0.017235</td>\n",
       "      <td>0.011753</td>\n",
       "      <td>0.693932</td>\n",
       "      <td>0.190550</td>\n",
       "      <td>0.0759</td>\n",
       "    </tr>\n",
       "    <tr>\n",
       "      <th>Active weights</th>\n",
       "      <td>-0.010631</td>\n",
       "      <td>-0.017234</td>\n",
       "      <td>0.067988</td>\n",
       "      <td>0.084535</td>\n",
       "      <td>-0.048759</td>\n",
       "      <td>-0.0759</td>\n",
       "    </tr>\n",
       "  </tbody>\n",
       "</table>\n",
       "</div>"
      ],
      "text/plain": [
       "                     SMALL LoBM   BIG BM2  SMALL HiBM  BIG LoBM  SMALL BM2  \\\n",
       "Constrained weights    0.000000  0.000001    0.079741  0.778467   0.141791   \n",
       "Market weights         0.010631  0.017235    0.011753  0.693932   0.190550   \n",
       "Active weights        -0.010631 -0.017234    0.067988  0.084535  -0.048759   \n",
       "\n",
       "                     BIG HiBM  \n",
       "Constrained weights    0.0000  \n",
       "Market weights         0.0759  \n",
       "Active weights        -0.0759  "
      ]
     },
     "execution_count": 32,
     "metadata": {},
     "output_type": "execute_result"
    }
   ],
   "source": [
    "obj = cp.Problem(cp.Maximize(Alpha),\n",
    "                 [cp.sum(W) == 1, W >= 0, Var <= bl['volatility']**2])\n",
    "obj.solve()\n",
    "tilt = W.value - mkt['weights']\n",
    "print('Maximize return within target variance, with no short sales:')\n",
    "print('Active Risk (annualized):', np.sqrt(tilt.T.dot(sigma).dot(tilt) * 12))\n",
    "DataFrame.from_dict({'Constrained weights': W.value,\n",
    "                     'Market weights': mkt['weights'], 'Active weights': tilt},\n",
    "                     columns=labels, orient='index').round(6)"
   ]
  },
  {
   "cell_type": "markdown",
   "id": "07a567b8",
   "metadata": {},
   "source": [
    "## Cross-sectional regressions\n",
    "\n",
    "The Fama-MacBeth (1973) methodology estimates factor betas and risk premia in two steps:  \n",
    "\n",
    "1. **Time-Series Regressions**: Estimate each asset’s beta by regressing its returns against proposed factor returns.  \n",
    "2. **Cross-Sectional Regressions**: Estimate factor risk premia by regressing all asset returns against their betas across multiple time periods.  \n",
    "\n",
    "This approach provides standard errors adjusted for cross-sectional correlation.  \n"
   ]
  },
  {
   "cell_type": "markdown",
   "id": "d9ade356",
   "metadata": {},
   "source": [
    "### Testing the CAPM\n"
   ]
  },
  {
   "cell_type": "markdown",
   "id": "88352660",
   "metadata": {},
   "source": [
    "We retrieve test asset returns and the risk-free rate. To test whether beta is priced, we examine whether higher-beta assets earn proportionally higher risk premia. We also test for **non-linearity** (beta-squared) and for the pricing of residual risk.  "
   ]
  },
  {
   "cell_type": "code",
   "execution_count": 33,
   "id": "de4bfe00",
   "metadata": {},
   "outputs": [],
   "source": [
    "factors = FFReader('F-F_Research_Data_Factors')[0] / 100  # risk-free rates\n",
    "test_assets = FFReader('25_Portfolios_ME_BETA_5x5')\n",
    "df = test_assets[1] / 100\n",
    "df = df.sub(factors['RF'], axis=0).dropna().copy()"
   ]
  },
  {
   "cell_type": "code",
   "execution_count": 34,
   "id": "7878fc10",
   "metadata": {},
   "outputs": [],
   "source": [
    "# unpivot the wide table to a long one\n",
    "rets = df.stack()\\\n",
    "         .reset_index(name='ret')\\\n",
    "         .rename(columns={'level_1':'port', 'level_0':'Date'})"
   ]
  },
  {
   "cell_type": "code",
   "execution_count": 35,
   "id": "0248a632",
   "metadata": {},
   "outputs": [],
   "source": [
    "# estimate test assets' market betas from their time-series of returns\n",
    "data = df.join(factors[['Mkt-RF']], how='left')\n",
    "betas = least_squares(data, y=df.columns, x=['Mkt-RF'], stdres=True)\n",
    "betas = betas.rename(columns={'Mkt-RF': 'BETA'})[['BETA', '_stdres']]"
   ]
  },
  {
   "cell_type": "code",
   "execution_count": 36,
   "id": "021e91d7",
   "metadata": {},
   "outputs": [],
   "source": [
    "# collect test asset mean returns and betas\n",
    "assets_df = betas[['BETA']].join(df.mean().rename('premiums')).sort_values('BETA')"
   ]
  },
  {
   "cell_type": "code",
   "execution_count": 37,
   "id": "e430985a",
   "metadata": {},
   "outputs": [],
   "source": [
    "# Orthogonalize polynomial (quadratic) beta^2 and residual-volatility features\n",
    "betas['BETA2'] = smf.ols(\"I(BETA**2) ~ BETA\",  data=betas).fit().resid\n",
    "betas['RES'] = smf.ols(\"_stdres ~ BETA + BETA2\", data=betas).fit().resid\n",
    "r = rets.join(betas, on='port').sort_values(['port', 'Date'], ignore_index=True)"
   ]
  },
  {
   "cell_type": "code",
   "execution_count": 38,
   "id": "b4cff4a7",
   "metadata": {},
   "outputs": [
    {
     "name": "stderr",
     "output_type": "stream",
     "text": [
      "/tmp/ipykernel_1785309/3663017786.py:3: DeprecationWarning: DataFrameGroupBy.apply operated on the grouping columns. This behavior is deprecated, and in a future version of pandas the grouping columns will be excluded from the operation. Either pass `include_groups=False` to exclude the groupings or explicitly select the grouping columns after groupby to silence this warning.\n",
      "  .apply(least_squares, y=['ret'], x=['BETA', 'BETA2', 'RES'])\n"
     ]
    }
   ],
   "source": [
    "# run monthly Fama-MacBeth cross-sectional regressions\n",
    "fm = r.groupby(by='Date')\\\n",
    "      .apply(least_squares, y=['ret'], x=['BETA', 'BETA2', 'RES'])"
   ]
  },
  {
   "cell_type": "code",
   "execution_count": 39,
   "id": "9a2b6a97",
   "metadata": {},
   "outputs": [],
   "source": [
    "# compute time-series means and standard errors of the Fama-MacBeth coefficients\n",
    "out = DataFrame(dict(mean=fm.mean(), stderr=fm.sem(), tstat=fm.mean()/fm.sem())).T"
   ]
  },
  {
   "cell_type": "code",
   "execution_count": 40,
   "id": "7c62086e",
   "metadata": {
    "lines_to_next_cell": 2
   },
   "outputs": [
    {
     "name": "stdout",
     "output_type": "stream",
     "text": [
      "Monthly Cross-sectional Regressions 1963-07 to 2024-12\n"
     ]
    },
    {
     "data": {
      "text/html": [
       "<div>\n",
       "<style scoped>\n",
       "    .dataframe tbody tr th:only-of-type {\n",
       "        vertical-align: middle;\n",
       "    }\n",
       "\n",
       "    .dataframe tbody tr th {\n",
       "        vertical-align: top;\n",
       "    }\n",
       "\n",
       "    .dataframe thead th {\n",
       "        text-align: right;\n",
       "    }\n",
       "</style>\n",
       "<table border=\"1\" class=\"dataframe\">\n",
       "  <thead>\n",
       "    <tr style=\"text-align: right;\">\n",
       "      <th></th>\n",
       "      <th>_intercept</th>\n",
       "      <th>BETA</th>\n",
       "      <th>BETA2</th>\n",
       "      <th>RES</th>\n",
       "    </tr>\n",
       "  </thead>\n",
       "  <tbody>\n",
       "    <tr>\n",
       "      <th>mean</th>\n",
       "      <td>0.007817</td>\n",
       "      <td>0.000124</td>\n",
       "      <td>-0.008395</td>\n",
       "      <td>0.121528</td>\n",
       "    </tr>\n",
       "    <tr>\n",
       "      <th>stderr</th>\n",
       "      <td>0.001535</td>\n",
       "      <td>0.002255</td>\n",
       "      <td>0.002544</td>\n",
       "      <td>0.060507</td>\n",
       "    </tr>\n",
       "    <tr>\n",
       "      <th>tstat</th>\n",
       "      <td>5.091416</td>\n",
       "      <td>0.054945</td>\n",
       "      <td>-3.299643</td>\n",
       "      <td>2.008509</td>\n",
       "    </tr>\n",
       "  </tbody>\n",
       "</table>\n",
       "</div>"
      ],
      "text/plain": [
       "        _intercept      BETA     BETA2       RES\n",
       "mean      0.007817  0.000124 -0.008395  0.121528\n",
       "stderr    0.001535  0.002255  0.002544  0.060507\n",
       "tstat     5.091416  0.054945 -3.299643  2.008509"
      ]
     },
     "execution_count": 40,
     "metadata": {},
     "output_type": "execute_result"
    }
   ],
   "source": [
    "print(\"Monthly Cross-sectional Regressions\" +\n",
    "      f\" {min(rets['Date'])} to {max(rets['Date'])}\")\n",
    "out"
   ]
  },
  {
   "cell_type": "markdown",
   "id": "9c0963ce",
   "metadata": {},
   "source": [
    "__Clustered standard errors__\n",
    "\n",
    "Alternative corrections for standard errors account for both time-series and cross-sectional correlation, such as double clustering by firm and year.  "
   ]
  },
  {
   "cell_type": "code",
   "execution_count": 41,
   "id": "8bb04679",
   "metadata": {
    "lines_to_next_cell": 2
   },
   "outputs": [
    {
     "name": "stdout",
     "output_type": "stream",
     "text": [
      "                            OLS Regression Results                            \n",
      "==============================================================================\n",
      "Dep. Variable:                    ret   R-squared:                       0.000\n",
      "Model:                            OLS   Adj. R-squared:                  0.000\n",
      "Method:                 Least Squares   F-statistic:                     2.554\n",
      "Date:                Mon, 03 Mar 2025   Prob (F-statistic):             0.0535\n",
      "Time:                        07:02:21   Log-Likelihood:                 25722.\n",
      "No. Observations:               18450   AIC:                        -5.144e+04\n",
      "Df Residuals:                   18446   BIC:                        -5.141e+04\n",
      "Df Model:                           3                                         \n",
      "Covariance Type:            nonrobust                                         \n",
      "==============================================================================\n",
      "                 coef    std err          t      P>|t|      [0.025      0.975]\n",
      "------------------------------------------------------------------------------\n",
      "Intercept      0.0078      0.002      4.174      0.000       0.004       0.011\n",
      "BETA           0.0001      0.002      0.076      0.940      -0.003       0.003\n",
      "BETA2         -0.0084      0.006     -1.390      0.165      -0.020       0.003\n",
      "RES            0.1215      0.051      2.393      0.017       0.022       0.221\n",
      "==============================================================================\n",
      "Omnibus:                     1547.660   Durbin-Watson:                   1.778\n",
      "Prob(Omnibus):                  0.000   Jarque-Bera (JB):             9926.401\n",
      "Skew:                          -0.051   Prob(JB):                         0.00\n",
      "Kurtosis:                       6.592   Cond. No.                         174.\n",
      "==============================================================================\n",
      "\n",
      "Notes:\n",
      "[1] Standard Errors assume that the covariance matrix of the errors is correctly specified.\n"
     ]
    }
   ],
   "source": [
    "### Compare uncorrected to robust cov\n",
    "ls = smf.ols(\"ret ~ BETA + BETA2 + RES\", data=r).fit()\n",
    "print(ls.summary())\n",
    "# print(ls.get_robustcov_results('HC0').summary())\n",
    "# print(ls.get_robustcov_results('HAC', maxlags=6).summary())"
   ]
  },
  {
   "cell_type": "code",
   "execution_count": 42,
   "id": "e97cd1d7",
   "metadata": {},
   "outputs": [
    {
     "name": "stdout",
     "output_type": "stream",
     "text": [
      "                            OLS Regression Results                            \n",
      "==============================================================================\n",
      "Dep. Variable:                    ret   R-squared:                       0.000\n",
      "Model:                            OLS   Adj. R-squared:                  0.000\n",
      "Method:                 Least Squares   F-statistic:                     1.636\n",
      "Date:                Mon, 03 Mar 2025   Prob (F-statistic):              0.207\n",
      "Time:                        07:02:21   Log-Likelihood:                 25722.\n",
      "No. Observations:               18450   AIC:                        -5.144e+04\n",
      "Df Residuals:                   18446   BIC:                        -5.141e+04\n",
      "Df Model:                           3                                         \n",
      "Covariance Type:            hac-panel                                         \n",
      "==============================================================================\n",
      "                 coef    std err          t      P>|t|      [0.025      0.975]\n",
      "------------------------------------------------------------------------------\n",
      "Intercept      0.0078      0.002      4.003      0.001       0.004       0.012\n",
      "BETA           0.0001      0.002      0.066      0.948      -0.004       0.004\n",
      "BETA2         -0.0084      0.006     -1.330      0.196      -0.021       0.005\n",
      "RES            0.1215      0.066      1.847      0.077      -0.014       0.257\n",
      "==============================================================================\n",
      "Omnibus:                     1547.660   Durbin-Watson:                   1.778\n",
      "Prob(Omnibus):                  0.000   Jarque-Bera (JB):             9926.401\n",
      "Skew:                          -0.051   Prob(JB):                         0.00\n",
      "Kurtosis:                       6.592   Cond. No.                         174.\n",
      "==============================================================================\n",
      "\n",
      "Notes:\n",
      "[1] Standard Errors are robust to cluster correlation (HAC-Panel)\n"
     ]
    }
   ],
   "source": [
    "print(ls.get_robustcov_results('hac-panel',\n",
    "                               groups=r['port'],\n",
    "                               maxlags=6).summary())\n",
    "# print(ls.get_robustcov_results('cluster', groups=r['port']).summary())"
   ]
  },
  {
   "cell_type": "markdown",
   "id": "afe45352",
   "metadata": {},
   "source": [
    "### Factor risk models\n",
    "\n",
    "Beginning with Barra in the mid-1970's, industry practitioners have employed cross-sectional models to forecast risk premia and measure risk factors. Monthly cross-sectional regressions are run on standardized individual stock characteristics such as:  \n",
    "- **Size**: Market capitalization rank  \n",
    "- **Value**: Book-to-market ratio  \n",
    "- **Momentum**: 12-month return (excluding past month)  \n",
    "- **Reversal**: 1-month return reversal  \n",
    "\n",
    "The stock characteristic values are winsored at their 5% tails to reduce the influence of outliers.  These risk premia are interpreted as returns on dollar-neutral portfolios with unit exposure to a characteristic and zero exposure to other characteristics. \n",
    "\n",
    "Their estimated risk premiums are compared to Fama-French research factor returns (which are constructed as returns from long-short spread portfolios)."
   ]
  },
  {
   "cell_type": "code",
   "execution_count": 43,
   "id": "a1450e17",
   "metadata": {},
   "outputs": [],
   "source": [
    "# Construct momentum and reversal signals\n",
    "\n",
    "rebalbeg = 19640601\n",
    "rebalend = LAST_DATE\n",
    "# preload CRSP monthly into memory\n",
    "monthly = CRSPBuffer(stocks=crsp, dataset='monthly',\n",
    "                     fields=['ret', 'retx', 'prc'],\n",
    "                     beg=bd.begmo(rebalbeg, -13),\n",
    "                     end=bd.endmo(rebalend, 1))    # load with extra months around rebaldates\n"
   ]
  },
  {
   "cell_type": "code",
   "execution_count": 44,
   "id": "49e36b9d",
   "metadata": {},
   "outputs": [
    {
     "name": "stderr",
     "output_type": "stream",
     "text": [
      "100%|██████████| 726/726 [00:43<00:00, 16.53it/s]\n",
      "100%|██████████| 726/726 [00:41<00:00, 17.50it/s]\n"
     ]
    }
   ],
   "source": [
    "intervals = {'mom': (2, 12, 1), 'strev': (1, 1, -1)}  # signal: (start, end, sign)\n",
    "for label, past in intervals.items():\n",
    "    out = []\n",
    "    rebaldates = bd.date_range(bd.endmo(rebalbeg), rebalend, 'endmo')\n",
    "    for rebaldate in tqdm(rebaldates, total=len(rebaldates)):\n",
    "        start = bd.endmo(rebaldate, -past[1])\n",
    "        beg1 = bd.offset(start, 1)\n",
    "        end1 = bd.endmo(rebaldate, 1-past[0])\n",
    "        df = monthly.get_universe(end1)\n",
    "        # require data available at start month and at last month (universe)\n",
    "        df['start'] = monthly.get_section(dataset='monthly',\n",
    "                                          fields=['ret'],\n",
    "                                          date_field='date',\n",
    "                                          date=start).reindex(df.index)\n",
    "        df[label] = past[2] * monthly.get_ret(beg1, end1).reindex(df.index)\n",
    "        df['permno'] = df.index\n",
    "        df['rebaldate'] = rebaldate\n",
    "        df = df.dropna(subset=['start'])\n",
    "        out.append(df[['rebaldate', 'permno', label]]) # append rows\n",
    "    out = pd.concat(out, axis=0, ignore_index=True)\n",
    "    n = signals.write(out, label, overwrite=True)"
   ]
  },
  {
   "cell_type": "code",
   "execution_count": 45,
   "id": "09a9a182",
   "metadata": {},
   "outputs": [
    {
     "name": "stderr",
     "output_type": "stream",
     "text": [
      "100%|██████████| 726/726 [00:31<00:00, 22.93it/s]\n"
     ]
    },
    {
     "data": {
      "image/png": "[encoded data removed]",
      "text/plain": [
       "<Figure size 1000x500 with 8 Axes>"
      ]
     },
     "metadata": {},
     "output_type": "display_data"
    }
   ],
   "source": [
    "rebalbeg = 19640601\n",
    "rebalend = LAST_DATE\n",
    "rebaldates = crsp.bd.date_range(rebalbeg, rebalend, 'endmo')\n",
    "loadings = dict()\n",
    "\n",
    "# preload signal values\n",
    "sf = {key: SignalsFrame(signals.read(key)) for key in ['hml', 'mom', 'strev']}\n",
    "\n",
    "for pordate in tqdm(rebaldates):           # retrieve signal values every month\n",
    "    date = bd.june_universe(pordate)\n",
    "    univ = crsp.get_universe(date)\n",
    "    smb = univ['capco'].rank(ascending=False).div(len(univ)).rename('smallsize')\n",
    "    hml = sf['hml']('hml', date, bd.endmo(date, -12))['hml'].rename('value')\n",
    "    #beta = signals('beta', pordate, bd.begmo(pordate))['beta']*2/3 + 1/3 #shrink\n",
    "    mom = sf['mom']('mom', pordate)['mom'].rename('momentum')\n",
    "    strev = sf['strev']('strev', pordate)['strev'].rename('reversal')\n",
    "    df = pd.concat((strev, hml, smb, mom), join='inner', axis=1)\\\n",
    "           .reindex(univ.index).dropna()\n",
    "    loadings[pordate] = winsorize(df, quantiles=[0.05, 0.95])\n",
    "\n",
    "# Compute coefficients from FM cross-sectional regressions\n",
    "monthly = CRSPBuffer(stocks=crsp, dataset='monthly', fields=['ret'],\n",
    "                     beg=bd.begmo(rebalbeg, -13), end=bd.endmo(rebalend, 1))\n",
    "\n",
    "riskpremium = RiskPremium(sql=user, bench=bench, rf='RF', end=LAST_DATE)\n",
    "out = riskpremium(stocks=monthly, loadings=loadings,\n",
    "                  standardize=['value' ,'smallsize', 'momentum', 'reversal'])\n",
    "     \n",
    "# Compare time series of risk premiums to portfolio-sort benchmark eturns\n",
    "benchnames = {'momentum': 'Mom(mo)',\n",
    "              'reversal': 'ST_Rev(mo)',\n",
    "              'smallsize':'SMB(mo)',\n",
    "              'value': 'HML(mo)'}\n",
    "out = riskpremium.fit(benchnames.values())  # to compare portfolio-sorts\n",
    "riskpremium.plot(benchnames)\n"
   ]
  },
  {
   "cell_type": "code",
   "execution_count": 46,
   "id": "76a40de2",
   "metadata": {},
   "outputs": [
    {
     "name": "stdout",
     "output_type": "stream",
     "text": [
      "Fama-MacBeth Cross-sectional Regression Risk Premiums\n"
     ]
    },
    {
     "data": {
      "text/html": [
       "<div>\n",
       "<style scoped>\n",
       "    .dataframe tbody tr th:only-of-type {\n",
       "        vertical-align: middle;\n",
       "    }\n",
       "\n",
       "    .dataframe tbody tr th {\n",
       "        vertical-align: top;\n",
       "    }\n",
       "\n",
       "    .dataframe thead th {\n",
       "        text-align: right;\n",
       "    }\n",
       "</style>\n",
       "<table border=\"1\" class=\"dataframe\">\n",
       "  <thead>\n",
       "    <tr style=\"text-align: right;\">\n",
       "      <th>Factor Returns</th>\n",
       "      <th>mean</th>\n",
       "      <th>stderr</th>\n",
       "      <th>std</th>\n",
       "      <th>count</th>\n",
       "      <th>tvalue</th>\n",
       "      <th>sharpe</th>\n",
       "    </tr>\n",
       "  </thead>\n",
       "  <tbody>\n",
       "    <tr>\n",
       "      <th>reversal</th>\n",
       "      <td>0.0059</td>\n",
       "      <td>0.0005</td>\n",
       "      <td>0.0143</td>\n",
       "      <td>725</td>\n",
       "      <td>11.1314</td>\n",
       "      <td>1.4321</td>\n",
       "    </tr>\n",
       "    <tr>\n",
       "      <th>value</th>\n",
       "      <td>0.0020</td>\n",
       "      <td>0.0004</td>\n",
       "      <td>0.0112</td>\n",
       "      <td>725</td>\n",
       "      <td>4.7378</td>\n",
       "      <td>0.6095</td>\n",
       "    </tr>\n",
       "    <tr>\n",
       "      <th>smallsize</th>\n",
       "      <td>0.0011</td>\n",
       "      <td>0.0007</td>\n",
       "      <td>0.0178</td>\n",
       "      <td>725</td>\n",
       "      <td>1.6812</td>\n",
       "      <td>0.2163</td>\n",
       "    </tr>\n",
       "    <tr>\n",
       "      <th>momentum</th>\n",
       "      <td>0.0023</td>\n",
       "      <td>0.0007</td>\n",
       "      <td>0.0175</td>\n",
       "      <td>725</td>\n",
       "      <td>3.5671</td>\n",
       "      <td>0.4589</td>\n",
       "    </tr>\n",
       "  </tbody>\n",
       "</table>\n",
       "</div>"
      ],
      "text/plain": [
       "Factor Returns    mean  stderr     std  count   tvalue  sharpe\n",
       "reversal        0.0059  0.0005  0.0143    725  11.1314  1.4321\n",
       "value           0.0020  0.0004  0.0112    725   4.7378  0.6095\n",
       "smallsize       0.0011  0.0007  0.0178    725   1.6812  0.2163\n",
       "momentum        0.0023  0.0007  0.0175    725   3.5671  0.4589"
      ]
     },
     "execution_count": 46,
     "metadata": {},
     "output_type": "execute_result"
    }
   ],
   "source": [
    "# Summarize time-series means of Fama-Macbeth risk premiums\n",
    "df = out[0]\n",
    "df['tvalue'] = df['mean']/df['stderr']\n",
    "df['sharpe'] = np.sqrt(12) * df['mean']/df['std']\n",
    "print(\"Fama-MacBeth Cross-sectional Regression Risk Premiums\")\n",
    "df.round(4)"
   ]
  },
  {
   "cell_type": "code",
   "execution_count": 47,
   "id": "58eb7dc0",
   "metadata": {
    "lines_to_next_cell": 2
   },
   "outputs": [
    {
     "name": "stdout",
     "output_type": "stream",
     "text": [
      "Fama-French Portfolio-Sorts\n"
     ]
    },
    {
     "data": {
      "text/html": [
       "<div>\n",
       "<style scoped>\n",
       "    .dataframe tbody tr th:only-of-type {\n",
       "        vertical-align: middle;\n",
       "    }\n",
       "\n",
       "    .dataframe tbody tr th {\n",
       "        vertical-align: top;\n",
       "    }\n",
       "\n",
       "    .dataframe thead th {\n",
       "        text-align: right;\n",
       "    }\n",
       "</style>\n",
       "<table border=\"1\" class=\"dataframe\">\n",
       "  <thead>\n",
       "    <tr style=\"text-align: right;\">\n",
       "      <th>Benchmarks</th>\n",
       "      <th>mean</th>\n",
       "      <th>stderr</th>\n",
       "      <th>std</th>\n",
       "      <th>count</th>\n",
       "      <th>tvalue</th>\n",
       "      <th>sharpe</th>\n",
       "    </tr>\n",
       "  </thead>\n",
       "  <tbody>\n",
       "    <tr>\n",
       "      <th>Mom(mo)</th>\n",
       "      <td>0.0061</td>\n",
       "      <td>0.0016</td>\n",
       "      <td>0.0423</td>\n",
       "      <td>725</td>\n",
       "      <td>3.8647</td>\n",
       "      <td>0.4972</td>\n",
       "    </tr>\n",
       "    <tr>\n",
       "      <th>ST_Rev(mo)</th>\n",
       "      <td>0.0044</td>\n",
       "      <td>0.0012</td>\n",
       "      <td>0.0315</td>\n",
       "      <td>725</td>\n",
       "      <td>3.7562</td>\n",
       "      <td>0.4833</td>\n",
       "    </tr>\n",
       "    <tr>\n",
       "      <th>SMB(mo)</th>\n",
       "      <td>0.0018</td>\n",
       "      <td>0.0011</td>\n",
       "      <td>0.0308</td>\n",
       "      <td>725</td>\n",
       "      <td>1.5941</td>\n",
       "      <td>0.2051</td>\n",
       "    </tr>\n",
       "    <tr>\n",
       "      <th>HML(mo)</th>\n",
       "      <td>0.0027</td>\n",
       "      <td>0.0011</td>\n",
       "      <td>0.0301</td>\n",
       "      <td>725</td>\n",
       "      <td>2.4116</td>\n",
       "      <td>0.3103</td>\n",
       "    </tr>\n",
       "  </tbody>\n",
       "</table>\n",
       "</div>"
      ],
      "text/plain": [
       "Benchmarks    mean  stderr     std  count  tvalue  sharpe\n",
       "Mom(mo)     0.0061  0.0016  0.0423    725  3.8647  0.4972\n",
       "ST_Rev(mo)  0.0044  0.0012  0.0315    725  3.7562  0.4833\n",
       "SMB(mo)     0.0018  0.0011  0.0308    725  1.5941  0.2051\n",
       "HML(mo)     0.0027  0.0011  0.0301    725  2.4116  0.3103"
      ]
     },
     "execution_count": 47,
     "metadata": {},
     "output_type": "execute_result"
    }
   ],
   "source": [
    "# Summarize time-series means of Fama-French portfolio-sort returns\n",
    "df = out[2]\n",
    "df['tvalue'] = df['mean']/df['stderr']\n",
    "df['sharpe'] = np.sqrt(12) * df['mean']/df['std']\n",
    "print(\"Fama-French Portfolio-Sorts\")\n",
    "df.round(4)"
   ]
  },
  {
   "cell_type": "code",
   "execution_count": 48,
   "id": "fbfbb318",
   "metadata": {},
   "outputs": [
    {
     "name": "stdout",
     "output_type": "stream",
     "text": [
      "Correlation of FM-Crossectional Risk Premiums and FF-Sorted Portfolio Returns\n"
     ]
    },
    {
     "data": {
      "text/html": [
       "<div>\n",
       "<style scoped>\n",
       "    .dataframe tbody tr th:only-of-type {\n",
       "        vertical-align: middle;\n",
       "    }\n",
       "\n",
       "    .dataframe tbody tr th {\n",
       "        vertical-align: top;\n",
       "    }\n",
       "\n",
       "    .dataframe thead th {\n",
       "        text-align: right;\n",
       "    }\n",
       "</style>\n",
       "<table border=\"1\" class=\"dataframe\">\n",
       "  <thead>\n",
       "    <tr style=\"text-align: right;\">\n",
       "      <th></th>\n",
       "      <th>reversal</th>\n",
       "      <th>value</th>\n",
       "      <th>smallsize</th>\n",
       "      <th>momentum</th>\n",
       "      <th>Mom(mo)</th>\n",
       "      <th>ST_Rev(mo)</th>\n",
       "      <th>SMB(mo)</th>\n",
       "      <th>HML(mo)</th>\n",
       "    </tr>\n",
       "  </thead>\n",
       "  <tbody>\n",
       "    <tr>\n",
       "      <th>reversal</th>\n",
       "      <td>1.000</td>\n",
       "      <td>0.016</td>\n",
       "      <td>0.077</td>\n",
       "      <td>-0.444</td>\n",
       "      <td>-0.388</td>\n",
       "      <td>0.793</td>\n",
       "      <td>0.145</td>\n",
       "      <td>0.051</td>\n",
       "    </tr>\n",
       "    <tr>\n",
       "      <th>value</th>\n",
       "      <td>0.016</td>\n",
       "      <td>1.000</td>\n",
       "      <td>-0.227</td>\n",
       "      <td>-0.194</td>\n",
       "      <td>-0.169</td>\n",
       "      <td>-0.019</td>\n",
       "      <td>-0.203</td>\n",
       "      <td>0.810</td>\n",
       "    </tr>\n",
       "    <tr>\n",
       "      <th>smallsize</th>\n",
       "      <td>0.077</td>\n",
       "      <td>-0.227</td>\n",
       "      <td>1.000</td>\n",
       "      <td>-0.003</td>\n",
       "      <td>0.133</td>\n",
       "      <td>0.008</td>\n",
       "      <td>0.517</td>\n",
       "      <td>-0.151</td>\n",
       "    </tr>\n",
       "    <tr>\n",
       "      <th>momentum</th>\n",
       "      <td>-0.444</td>\n",
       "      <td>-0.194</td>\n",
       "      <td>-0.003</td>\n",
       "      <td>1.000</td>\n",
       "      <td>0.884</td>\n",
       "      <td>-0.279</td>\n",
       "      <td>-0.066</td>\n",
       "      <td>-0.207</td>\n",
       "    </tr>\n",
       "    <tr>\n",
       "      <th>Mom(mo)</th>\n",
       "      <td>-0.388</td>\n",
       "      <td>-0.169</td>\n",
       "      <td>0.133</td>\n",
       "      <td>0.884</td>\n",
       "      <td>1.000</td>\n",
       "      <td>-0.307</td>\n",
       "      <td>-0.047</td>\n",
       "      <td>-0.195</td>\n",
       "    </tr>\n",
       "    <tr>\n",
       "      <th>ST_Rev(mo)</th>\n",
       "      <td>0.793</td>\n",
       "      <td>-0.019</td>\n",
       "      <td>0.008</td>\n",
       "      <td>-0.279</td>\n",
       "      <td>-0.307</td>\n",
       "      <td>1.000</td>\n",
       "      <td>0.178</td>\n",
       "      <td>0.013</td>\n",
       "    </tr>\n",
       "    <tr>\n",
       "      <th>SMB(mo)</th>\n",
       "      <td>0.145</td>\n",
       "      <td>-0.203</td>\n",
       "      <td>0.517</td>\n",
       "      <td>-0.066</td>\n",
       "      <td>-0.047</td>\n",
       "      <td>0.178</td>\n",
       "      <td>1.000</td>\n",
       "      <td>-0.150</td>\n",
       "    </tr>\n",
       "    <tr>\n",
       "      <th>HML(mo)</th>\n",
       "      <td>0.051</td>\n",
       "      <td>0.810</td>\n",
       "      <td>-0.151</td>\n",
       "      <td>-0.207</td>\n",
       "      <td>-0.195</td>\n",
       "      <td>0.013</td>\n",
       "      <td>-0.150</td>\n",
       "      <td>1.000</td>\n",
       "    </tr>\n",
       "  </tbody>\n",
       "</table>\n",
       "</div>"
      ],
      "text/plain": [
       "            reversal  value  smallsize  momentum  Mom(mo)  ST_Rev(mo)  \\\n",
       "reversal       1.000  0.016      0.077    -0.444   -0.388       0.793   \n",
       "value          0.016  1.000     -0.227    -0.194   -0.169      -0.019   \n",
       "smallsize      0.077 -0.227      1.000    -0.003    0.133       0.008   \n",
       "momentum      -0.444 -0.194     -0.003     1.000    0.884      -0.279   \n",
       "Mom(mo)       -0.388 -0.169      0.133     0.884    1.000      -0.307   \n",
       "ST_Rev(mo)     0.793 -0.019      0.008    -0.279   -0.307       1.000   \n",
       "SMB(mo)        0.145 -0.203      0.517    -0.066   -0.047       0.178   \n",
       "HML(mo)        0.051  0.810     -0.151    -0.207   -0.195       0.013   \n",
       "\n",
       "            SMB(mo)  HML(mo)  \n",
       "reversal      0.145    0.051  \n",
       "value        -0.203    0.810  \n",
       "smallsize     0.517   -0.151  \n",
       "momentum     -0.066   -0.207  \n",
       "Mom(mo)      -0.047   -0.195  \n",
       "ST_Rev(mo)    0.178    0.013  \n",
       "SMB(mo)       1.000   -0.150  \n",
       "HML(mo)      -0.150    1.000  "
      ]
     },
     "execution_count": 48,
     "metadata": {},
     "output_type": "execute_result"
    }
   ],
   "source": [
    "# Show correlation of returns\n",
    "print('Correlation of FM-Crossectional Risk Premiums and FF-Sorted Portfolio Returns')\n",
    "pd.concat([out[1].join(out[4]), out[4].T.join(out[3])], axis=0).round(3)"
   ]
  },
  {
   "cell_type": "markdown",
   "id": "4dba3a1f",
   "metadata": {},
   "source": [
    "## Nonlinear regression\n",
    "\n",
    "### Feature transformations\n",
    "\n",
    "A simple way to directly extend the linear model to accommodate\n",
    "non-linear relationships, using polynomial regression, is to include\n",
    "transformed versions of the predictors in the model, such as a\n",
    "quadratic term or several polynomial functions of the predictors, \n",
    "and use standard linear regression to estimate coefficients in order to produce a non-linear fit.  The CAPM predicts that these coefficients on non-linear transformations of beta should be zero.\n",
    "\n",
    "Raw polynomial terms may be highly correlated with each other: _Orthogonal polynomials_ transform the raw data matrix of polynomial terms to another whose columns are a basis of orthogonal terms which span the same column space. For example, regress the second predictor on the first and replace its column with the residuals, then regress the third predictor on the first two and replace its column with the residuals, and so on.\n",
    "\n",
    "Other feature transformation approaches include:\n",
    "- dummy or binary indicator variable\n",
    "- categorical variables with two or more levels\n",
    "- binarization or turning a categorical variable into several binary variables (4)\n",
    "- Legendre polynomals which are defined as a system of orthogonal polynomials over the interval $[-1, 1]$ \n",
    "-  interaction term constructed by computing the product of the values of the two variables to capture the effect that response of one predictor is dependent on the value of another predictor.\n",
    "\n"
   ]
  },
  {
   "cell_type": "markdown",
   "id": "9457ff58",
   "metadata": {},
   "source": [
    "### Kernel regression\n",
    "\n",
    "If there are already a large number of $k$ features, then polynomial transformations, say up to degree $d,$  may be computational expensive since we could be working in $O(k^d)$ dimensional space.  Fortunately, many high-dimensional feature mappings, denoted $\\phi(x)$, correspond to kernel functions $K$, where model fitting and prediction calculations only require inner products of these kernel matrices and we never need to explicitly represent vectors in the very high-dimensional feature space.  For example, the kernel $K(x, y) = (x^Ty + c)^d$, which requires only $O(k)$ to compute, expands to the feature space corresponding with all polynomial terms up to degree $d$ of the features in $x$ and $y$. \n",
    "\n",
    "Kernels can be viewed as similarity metrics, that measure how close together the feature maps $\\phi(x)$ and $\\phi(y)$ are. The radial basis function (RBF), or Gaussian, kernel uses distance in Euclidean space which corresponds to an infinite-dimension feature mapping.\n",
    "\n",
    "This application of Kernel functions that can be efficiently computed, where only their inner products are needed without ever explicitly computing their corresponding feature vectors in very high-dimensional space, has come to be known as the __kernel trick__.\n"
   ]
  },
  {
   "cell_type": "code",
   "execution_count": 49,
   "id": "64bc750f",
   "metadata": {},
   "outputs": [
    {
     "data": {
      "text/html": [
       "<div>\n",
       "<style scoped>\n",
       "    .dataframe tbody tr th:only-of-type {\n",
       "        vertical-align: middle;\n",
       "    }\n",
       "\n",
       "    .dataframe tbody tr th {\n",
       "        vertical-align: top;\n",
       "    }\n",
       "\n",
       "    .dataframe thead th {\n",
       "        text-align: right;\n",
       "    }\n",
       "</style>\n",
       "<table border=\"1\" class=\"dataframe\">\n",
       "  <thead>\n",
       "    <tr style=\"text-align: right;\">\n",
       "      <th></th>\n",
       "      <th>Mkt-RF</th>\n",
       "      <th>SMB</th>\n",
       "      <th>HML</th>\n",
       "      <th>RF</th>\n",
       "    </tr>\n",
       "    <tr>\n",
       "      <th>Date</th>\n",
       "      <th></th>\n",
       "      <th></th>\n",
       "      <th></th>\n",
       "      <th></th>\n",
       "    </tr>\n",
       "  </thead>\n",
       "  <tbody>\n",
       "    <tr>\n",
       "      <th>1926-07</th>\n",
       "      <td>0.0296</td>\n",
       "      <td>-0.0256</td>\n",
       "      <td>-0.0243</td>\n",
       "      <td>0.0022</td>\n",
       "    </tr>\n",
       "    <tr>\n",
       "      <th>1926-08</th>\n",
       "      <td>0.0264</td>\n",
       "      <td>-0.0117</td>\n",
       "      <td>0.0382</td>\n",
       "      <td>0.0025</td>\n",
       "    </tr>\n",
       "    <tr>\n",
       "      <th>1926-09</th>\n",
       "      <td>0.0036</td>\n",
       "      <td>-0.0140</td>\n",
       "      <td>0.0013</td>\n",
       "      <td>0.0023</td>\n",
       "    </tr>\n",
       "    <tr>\n",
       "      <th>1926-10</th>\n",
       "      <td>-0.0324</td>\n",
       "      <td>-0.0009</td>\n",
       "      <td>0.0070</td>\n",
       "      <td>0.0032</td>\n",
       "    </tr>\n",
       "    <tr>\n",
       "      <th>1926-11</th>\n",
       "      <td>0.0253</td>\n",
       "      <td>-0.0010</td>\n",
       "      <td>-0.0051</td>\n",
       "      <td>0.0031</td>\n",
       "    </tr>\n",
       "    <tr>\n",
       "      <th>...</th>\n",
       "      <td>...</td>\n",
       "      <td>...</td>\n",
       "      <td>...</td>\n",
       "      <td>...</td>\n",
       "    </tr>\n",
       "    <tr>\n",
       "      <th>2024-08</th>\n",
       "      <td>0.0161</td>\n",
       "      <td>-0.0355</td>\n",
       "      <td>-0.0113</td>\n",
       "      <td>0.0048</td>\n",
       "    </tr>\n",
       "    <tr>\n",
       "      <th>2024-09</th>\n",
       "      <td>0.0174</td>\n",
       "      <td>-0.0017</td>\n",
       "      <td>-0.0259</td>\n",
       "      <td>0.0040</td>\n",
       "    </tr>\n",
       "    <tr>\n",
       "      <th>2024-10</th>\n",
       "      <td>-0.0097</td>\n",
       "      <td>-0.0101</td>\n",
       "      <td>0.0089</td>\n",
       "      <td>0.0039</td>\n",
       "    </tr>\n",
       "    <tr>\n",
       "      <th>2024-11</th>\n",
       "      <td>0.0651</td>\n",
       "      <td>0.0463</td>\n",
       "      <td>-0.0005</td>\n",
       "      <td>0.0040</td>\n",
       "    </tr>\n",
       "    <tr>\n",
       "      <th>2024-12</th>\n",
       "      <td>-0.0317</td>\n",
       "      <td>-0.0273</td>\n",
       "      <td>-0.0295</td>\n",
       "      <td>0.0037</td>\n",
       "    </tr>\n",
       "  </tbody>\n",
       "</table>\n",
       "<p>1182 rows × 4 columns</p>\n",
       "</div>"
      ],
      "text/plain": [
       "         Mkt-RF     SMB     HML      RF\n",
       "Date                                   \n",
       "1926-07  0.0296 -0.0256 -0.0243  0.0022\n",
       "1926-08  0.0264 -0.0117  0.0382  0.0025\n",
       "1926-09  0.0036 -0.0140  0.0013  0.0023\n",
       "1926-10 -0.0324 -0.0009  0.0070  0.0032\n",
       "1926-11  0.0253 -0.0010 -0.0051  0.0031\n",
       "...         ...     ...     ...     ...\n",
       "2024-08  0.0161 -0.0355 -0.0113  0.0048\n",
       "2024-09  0.0174 -0.0017 -0.0259  0.0040\n",
       "2024-10 -0.0097 -0.0101  0.0089  0.0039\n",
       "2024-11  0.0651  0.0463 -0.0005  0.0040\n",
       "2024-12 -0.0317 -0.0273 -0.0295  0.0037\n",
       "\n",
       "[1182 rows x 4 columns]"
      ]
     },
     "execution_count": 49,
     "metadata": {},
     "output_type": "execute_result"
    }
   ],
   "source": [
    "factors"
   ]
  },
  {
   "cell_type": "markdown",
   "id": "3dbc9ff4",
   "metadata": {},
   "source": [
    "\n",
    "The concave shape of the fitted kernel regression curve is consistent with the negative average premiums observed for the squared-beta factor in earlier Fama-MacBeth tests."
   ]
  },
  {
   "cell_type": "code",
   "execution_count": 50,
   "id": "484838dc",
   "metadata": {
    "lines_to_next_cell": 0
   },
   "outputs": [
    {
     "name": "stderr",
     "output_type": "stream",
     "text": [
      "/tmp/ipykernel_1785309/182542393.py:4: DeprecationWarning: Conversion of an array with ndim > 0 to a scalar is deprecated, and will error in future. Ensure you extract a single element from your array before performing this operation. (Deprecated NumPy 1.25.)\n",
      "  bandwidth = float((max(X_train) - min(X_train)) * 4 / len(X_train))\n"
     ]
    },
    {
     "data": {
      "image/png": "[encoded data removed]",
      "text/plain": [
       "<Figure size 1000x600 with 1 Axes>"
      ]
     },
     "metadata": {},
     "output_type": "display_data"
    }
   ],
   "source": [
    "y_train = assets_df[['premiums']].values\n",
    "X_train = assets_df[['BETA']].values\n",
    "X_test = np.linspace(0.5, 1.75, 100).reshape(-1, 1)\n",
    "bandwidth = float((max(X_train) - min(X_train)) * 4 / len(X_train))\n",
    "\n",
    "fig, ax = plt.subplots(figsize=(10,6))\n",
    "legend = []\n",
    "color = 1\n",
    "for h in [0.25, 0.5, 1, 2]:\n",
    "    for alpha in [0.01]:\n",
    "        model = KernelRidge(alpha=alpha, kernel='rbf', gamma=1/(h*bandwidth)**2)\n",
    "        model.fit(X=X_train, y=y_train)\n",
    "        y_pred = model.predict(X_test)\n",
    "        ax.plot(X_test, y_pred, ls='-', color=f\"C{color}\")\n",
    "        legend.append(f\"h={h*bandwidth:.2f}\")\n",
    "        color += 1\n",
    "# scatter plot actual                                                                        \n",
    "assets_df.plot(x='BETA', y='premiums', kind='scatter', ax=ax, marker=\"*\", color=\"C0\")\n",
    "ax.set_ylim(bottom=0)\n",
    "plt.legend(legend, loc='best', title='bandwidth')\n",
    "plt.title('Kernel Regression of Risk Premiums on Beta Exposure' +\n",
    "          f\" ({factors.index[0]} to {factors.index[-1]})\")\n",
    "plt.tight_layout()\n"
   ]
  },
  {
   "cell_type": "markdown",
   "id": "ccf09609",
   "metadata": {},
   "source": [
    "\n",
    "**References:**\n",
    "\n",
    "H. M. Markowitz, “Portfolio Selection,” Journal of Finance 7, 1952, pp. 77–91.\n",
    "\n",
    "W. F. Sharpe, “Capital Asset Prices: A Theory of Market Equilibrium under Conditions of Risk,” Journal of Finance 19, 1964, pp. 425–442. \n",
    "\n",
    "J. Lintner, “Security Prices, Risk and Maximal Gains from Diversification,” Journal of Finance 20, 1965, pp. 587–615, and J. Mossin, “Equilibrium in a Capital Asset Market,” Econometrica 34, 1966, pp, 768–783. \n",
    "\n",
    "Fama, Eugene F.; MacBeth, James D. (1973). \"Risk, Return, and Equilibrium: Empirical Tests\". Journal of Political Economy. 81 (3): 607–636.\n",
    "\n",
    "Black, F., and R. Litterman. 1992. “Global Portfolio Optimization.” Financial Analysts Journal, vol. 48, no. 5 (September/October): 28-43\n",
    "\n",
    "He, G., and R. Litterman. 1999. “The Intuition Behind Black-Litterman Model Portfolios.” Goldman Sachs Investment Management Series.\n",
    "\n",
    "R. C. Jones, T. Lim and P. J. Zangari. “The Black-Litterman Model for Structured Equity Portfolios,” Journal of Portfolio Management, Vol. 33, No. 2, 2007, pp. 24-43. doi:10.3905/jpm.2007.674791\n",
    "\n",
    "FRM Part I Exam Book Foundations of Risk Management Ch. 5."
   ]
  }
 ],
 "metadata": {
  "jupytext": {
   "cell_metadata_filter": "-all",
   "main_language": "python",
   "notebook_metadata_filter": "-all"
  },
  "kernelspec": {
   "display_name": "env3.11",
   "language": "python",
   "name": "python3"
  },
  "language_info": {
   "codemirror_mode": {
    "name": "ipython",
    "version": 3
   },
   "file_extension": ".py",
   "mimetype": "text/x-python",
   "name": "python",
   "nbconvert_exporter": "python",
   "pygments_lexer": "ipython3",
   "version": "3.11.11"
  }
 },
 "nbformat": 4,
 "nbformat_minor": 5
}
