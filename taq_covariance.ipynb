{
 "cells": [
  {
   "cell_type": "markdown",
   "metadata": {},
   "source": [
    "# Factor and Empirical Covariance Matrix from NYSE TAQ\n",
    "\n",
    "- covariance matrix shrinkage, PCA, minimum variance portfolios\n",
    "- high frequency tick data, NYSE Daily TAQ\n",
    "\n",
    "Terence Lim"
   ]
  },
  {
   "cell_type": "code",
   "execution_count": 1,
   "metadata": {},
   "outputs": [
    {
     "name": "stdout",
     "output_type": "stream",
     "text": [
      "samples/time(T) x features/stocks(N) (77, 2319)\n"
     ]
    }
   ],
   "source": [
    "import numpy as np\n",
    "import pandas as pd\n",
    "import time\n",
    "import os\n",
    "from pandas import DataFrame, Series\n",
    "import matplotlib.pyplot as plt\n",
    "from sklearn.decomposition import PCA\n",
    "from settings import settings\n",
    "logdir = os.path.join(settings['images'], 'micro')  # None\n",
    "\n",
    "# PCA of retq (midquote returns)\n",
    "from settings import pickle_load\n",
    "bins_df = pickle_load('tick.bins')\n",
    "\n",
    "# remove outliers (1% tails)\n",
    "date = 20191007 \n",
    "key = 'retq'\n",
    "df = bins_df[key].drop(columns=['Round_Lot', 'Symbol'])\n",
    "df = df.loc[df['date'].eq(date) & df['decile'].lt(10)].set_index('permno')\n",
    "siccd = df['siccd']\n",
    "df = df.iloc[:, 5:].dropna().T\n",
    "lb, ub = np.nanpercentile(df.std(axis=0), [1, 99])\n",
    "X = df.loc[:, df.std(axis=0).between(lb, ub)]\n",
    "siccd = siccd[X.columns]\n",
    "print('samples/time(T) x features/stocks(N)', X.shape)"
   ]
  },
  {
   "cell_type": "markdown",
   "metadata": {},
   "source": [
    "## Sectoring by sic or naics to FamaFrench 12-group scheme"
   ]
  },
  {
   "cell_type": "code",
   "execution_count": 2,
   "metadata": {},
   "outputs": [
    {
     "data": {
      "text/html": [
       "<div>\n",
       "<style scoped>\n",
       "    .dataframe tbody tr th:only-of-type {\n",
       "        vertical-align: middle;\n",
       "    }\n",
       "\n",
       "    .dataframe tbody tr th {\n",
       "        vertical-align: top;\n",
       "    }\n",
       "\n",
       "    .dataframe thead th {\n",
       "        text-align: right;\n",
       "    }\n",
       "</style>\n",
       "<table border=\"1\" class=\"dataframe\">\n",
       "  <thead>\n",
       "    <tr style=\"text-align: right;\">\n",
       "      <th></th>\n",
       "      <th>Money</th>\n",
       "      <th>BusEq</th>\n",
       "      <th>Hlth</th>\n",
       "      <th>Shops</th>\n",
       "      <th>Manuf</th>\n",
       "      <th>Other</th>\n",
       "      <th>Durbl</th>\n",
       "      <th>NoDur</th>\n",
       "      <th>Utils</th>\n",
       "      <th>Enrgy</th>\n",
       "      <th>Chems</th>\n",
       "      <th>Telcm</th>\n",
       "    </tr>\n",
       "  </thead>\n",
       "  <tbody>\n",
       "    <tr>\n",
       "      <th>counts</th>\n",
       "      <td>471</td>\n",
       "      <td>417</td>\n",
       "      <td>341</td>\n",
       "      <td>227</td>\n",
       "      <td>200</td>\n",
       "      <td>179</td>\n",
       "      <td>104</td>\n",
       "      <td>101</td>\n",
       "      <td>89</td>\n",
       "      <td>88</td>\n",
       "      <td>61</td>\n",
       "      <td>41</td>\n",
       "    </tr>\n",
       "  </tbody>\n",
       "</table>\n",
       "</div>"
      ],
      "text/plain": [
       "        Money  BusEq  Hlth  Shops  Manuf  Other  Durbl  NoDur  Utils  Enrgy  \\\n",
       "counts    471    417   341    227    200    179    104    101     89     88   \n",
       "\n",
       "        Chems  Telcm  \n",
       "counts     61     41  "
      ]
     },
     "execution_count": 2,
     "metadata": {},
     "output_type": "execute_result"
    }
   ],
   "source": [
    "from finds.database import SQL\n",
    "from finds.busday import BusDay\n",
    "from finds.structured import PSTAT\n",
    "from finds.sectors import Sectoring\n",
    "sql = SQL(**settings['sql'])\n",
    "user = SQL(**settings['user'])\n",
    "bd = BusDay(sql)\n",
    "pstat = PSTAT(sql, bd)\n",
    "sic = pstat.build_lookup('lpermno', 'sic', fillna=0)     # to lookup sic code    \n",
    "naics = pstat.build_lookup('lpermno', 'naics', fillna=0) # to lookup naics code  \n",
    "naics2sic = Sectoring(sql, 'sic', fillna=0)               # cross-walk           \n",
    "out = Series(data=sic[X.columns], index=X.columns, name='sector')\n",
    "out[out.isnull()] = naics2sic[naics[out.index[out.isnull()]]]\n",
    "out[out.isnull()] = siccd[out.isnull()]\n",
    "codes = Sectoring(sql, 'codes12', fillna=0)   # use FF's 12-group sectoring      \n",
    "sectors = codes[out]                          # apply sic to 12-sector map       \n",
    "sector_index, sector_label = pd.factorize(sectors)\n",
    "sector_onehot = np.eye(len(sector_label))[sector_index]\n",
    "Series(sectors).value_counts().rename('counts').to_frame().T"
   ]
  },
  {
   "cell_type": "markdown",
   "metadata": {},
   "source": [
    "## PCA of returns covariances by SVD"
   ]
  },
  {
   "cell_type": "code",
   "execution_count": 3,
   "metadata": {},
   "outputs": [
    {
     "name": "stdout",
     "output_type": "stream",
     "text": [
      "[0.2078595  0.26968099 0.31115455 0.35003442 0.38570037 0.4161477\n",
      " 0.44120878 0.46425862 0.48541507 0.50493292]\n",
      "u: (77, 77) s: (77,) vT: (77, 2319) v (2319, 77)\n",
      "[0.2078595  0.06182148 0.04147357 0.03887987 0.03566595 0.03044734\n",
      " 0.02506107 0.02304984 0.02115645 0.01951785]\n",
      "y: (77, 77) x: (77, 2319) components_: (77, 2319)\n",
      "singular values: True\n",
      "projections: [True, True, True, True, True, True, True, True, True, True]\n",
      "projections: [True, True, True, True, True, True, True, True, True, True]\n",
      "components: [True, True, True, True, True, True, True, True, True, True]\n",
      "covariance matrix: True\n"
     ]
    }
   ],
   "source": [
    "# SVD: u S vT = x (T samples x N stocks)\n",
    "x = X.sub(X.mean(axis=0), axis=1).to_numpy() # pre-process: demean by column\n",
    "u, s, vT = np.linalg.svd(x, full_matrices=False)\n",
    "v = vT.T\n",
    "k = 10\n",
    "print(np.cumsum(s[:k]**2/np.sum(np.diag(s**2))))\n",
    "print('u:', u.shape, 's:', s.shape, 'vT:', vT.shape, 'v', v.shape)\n",
    "\n",
    "# sklearn PCA: X (T samples x N features/stocks), sanity check that same results\n",
    "pca = PCA()               # note: PCA first demeans input X by column mean_\n",
    "y = pca.fit_transform(X)  # project X (stock returns) onto the components\n",
    "print(pca.explained_variance_ratio_[:k])\n",
    "print('y:', y.shape, 'x:', x.shape, 'components_:', pca.components_.shape)\n",
    "\n",
    "# assert: s == singular_values_\n",
    "print('singular values:', np.allclose(pca.singular_values_, s))\n",
    "\n",
    "# assert: x @ v == transform(x) (aka projection on components)\n",
    "print('projections:', [np.allclose((x @ v)[:,i], -y[:,i]) or\n",
    "                       np.allclose((x @ v)[:,i], y[:,i]) for i in range(k)])\n",
    "\n",
    "# assert: u @ s == transform(x)\n",
    "print('projections:', [np.allclose(u[:,i]*s[i], -y[:,i]) or\n",
    "                       np.allclose(u[:,i]*s[i], y[:,i]) for i in range(k)])\n",
    "\n",
    "# assert: columns of v == rows of components_ (aka right SVD eigenvectors)\n",
    "print('components:', [np.allclose(pca.components_[i,:], -v[:,i]) or\n",
    "                      np.allclose(pca.components_[i,:], v[:,i])\n",
    "                      for i in range(k)])\n",
    "\n",
    "# assert: covariance matrix == loadings.T @ loadings\n",
    "loadings = np.diag(pca.singular_values_) @ pca.components_\n",
    "print('covariance matrix:', np.allclose(x.T @ x, loadings.T @ loadings))"
   ]
  },
  {
   "cell_type": "markdown",
   "metadata": {},
   "source": [
    "## Projection on first component is similar to average \"market\" factor\n"
   ]
  },
  {
   "cell_type": "code",
   "execution_count": 4,
   "metadata": {},
   "outputs": [
    {
     "data": {
      "text/html": [
       "<div>\n",
       "<style scoped>\n",
       "    .dataframe tbody tr th:only-of-type {\n",
       "        vertical-align: middle;\n",
       "    }\n",
       "\n",
       "    .dataframe tbody tr th {\n",
       "        vertical-align: top;\n",
       "    }\n",
       "\n",
       "    .dataframe thead th {\n",
       "        text-align: right;\n",
       "    }\n",
       "</style>\n",
       "<table border=\"1\" class=\"dataframe\">\n",
       "  <thead>\n",
       "    <tr style=\"text-align: right;\">\n",
       "      <th></th>\n",
       "      <th>+ve weights</th>\n",
       "      <th>sum</th>\n",
       "      <th>mkr corr</th>\n",
       "    </tr>\n",
       "  </thead>\n",
       "  <tbody>\n",
       "    <tr>\n",
       "      <th>PC1</th>\n",
       "      <td>0.971539</td>\n",
       "      <td>40.530075</td>\n",
       "      <td>0.987765</td>\n",
       "    </tr>\n",
       "    <tr>\n",
       "      <th>PC2</th>\n",
       "      <td>0.530832</td>\n",
       "      <td>2.482964</td>\n",
       "      <td>0.033001</td>\n",
       "    </tr>\n",
       "    <tr>\n",
       "      <th>PC3</th>\n",
       "      <td>0.444157</td>\n",
       "      <td>-4.441082</td>\n",
       "      <td>-0.048347</td>\n",
       "    </tr>\n",
       "    <tr>\n",
       "      <th>PC4</th>\n",
       "      <td>0.647693</td>\n",
       "      <td>7.425087</td>\n",
       "      <td>0.078263</td>\n",
       "    </tr>\n",
       "    <tr>\n",
       "      <th>PC5</th>\n",
       "      <td>0.446744</td>\n",
       "      <td>-3.315855</td>\n",
       "      <td>-0.033474</td>\n",
       "    </tr>\n",
       "  </tbody>\n",
       "</table>\n",
       "</div>"
      ],
      "text/plain": [
       "     +ve weights        sum  mkr corr\n",
       "PC1     0.971539  40.530075  0.987765\n",
       "PC2     0.530832   2.482964  0.033001\n",
       "PC3     0.444157  -4.441082 -0.048347\n",
       "PC4     0.647693   7.425087  0.078263\n",
       "PC5     0.446744  -3.315855 -0.033474"
      ]
     },
     "execution_count": 4,
     "metadata": {},
     "output_type": "execute_result"
    }
   ],
   "source": [
    "t = pca.components_\n",
    "DataFrame({'+ve weights': np.mean(t[:5,:] >= 0, axis=1),\n",
    "           'sum': np.sum(t[:5,:], axis=1),\n",
    "           'mkr corr': [np.corrcoef(x.mean(axis=1), y[:,i])[0,1]\n",
    "                        for i in range(5)]},\n",
    "          index=[f\"PC{i+1}\" for i in range(5)])"
   ]
  },
  {
   "cell_type": "markdown",
   "metadata": {},
   "source": [
    "## Plot components/portfolio weights distribution"
   ]
  },
  {
   "cell_type": "code",
   "execution_count": 7,
   "metadata": {},
   "outputs": [
    {
     "data": {
      "image/png": "[encoded data removed]",
      "text/plain": [
       "<Figure size 720x360 with 2 Axes>"
      ]
     },
     "metadata": {
      "needs_background": "light"
     },
     "output_type": "display_data"
    }
   ],
   "source": [
    "fig, axes = plt.subplots(1, 2, num=1, clear=True, figsize=(10,5))\n",
    "for i, ax in enumerate(axes):\n",
    "    ax.bar(np.arange(t.shape[1]), np.sort(t[i, :]), color=f\"C{i}\")\n",
    "    ax.legend([f\"Portfolio Weights/Loadings on PC{i+1}\"])\n",
    "plt.tight_layout(pad=2)\n",
    "plt.savefig(os.path.join(logdir, 'weights.jpg'))\n",
    "plt.show()"
   ]
  },
  {
   "cell_type": "markdown",
   "metadata": {},
   "source": [
    "## Scree Plot"
   ]
  },
  {
   "cell_type": "code",
   "execution_count": 9,
   "metadata": {},
   "outputs": [
    {
     "data": {
      "image/png": "[encoded data removed]",
      "text/plain": [
       "<Figure size 360x216 with 1 Axes>"
      ]
     },
     "metadata": {
      "needs_background": "light"
     },
     "output_type": "display_data"
    }
   ],
   "source": [
    "from finds.display import plot_bar\n",
    "fig, ax = plt.subplots(1, 1, num=1, clear=True, figsize=(5,3))\n",
    "k=10\n",
    "plot_bar(Series(pca.explained_variance_ratio_[:k], index=np.arange(1, k+1)),\n",
    "         ylabel='number of components', xlabel='explained variance ratio',\n",
    "         title='Scree Plot', ax=ax,\n",
    "         labels=[f\"{i:.3f}\" for i in pca.explained_variance_ratio_[:k]])\n",
    "plt.tight_layout(pad=2)\n",
    "plt.savefig(os.path.join(logdir, 'explained.jpg'))\n",
    "plt.show()"
   ]
  },
  {
   "cell_type": "markdown",
   "metadata": {},
   "source": [
    "## Portfolio returns/projection on PC and the market average"
   ]
  },
  {
   "cell_type": "code",
   "execution_count": 11,
   "metadata": {},
   "outputs": [
    {
     "data": {
      "image/png": "[encoded data removed]",
      "text/plain": [
       "<Figure size 360x216 with 1 Axes>"
      ]
     },
     "metadata": {
      "needs_background": "light"
     },
     "output_type": "display_data"
    }
   ],
   "source": [
    "from matplotlib import dates as mdates\n",
    "from pandas.plotting import register_matplotlib_converters\n",
    "register_matplotlib_converters()    \n",
    "redirect = lambda src,tgt: src*np.sign(src.dot(tgt))  # point mkt direction\n",
    "mkt = x.mean(axis=1)/np.std(x.mean(axis=1))\n",
    "k = 4\n",
    "fig, ax = plt.subplots(1, 1, num=1, clear=True, figsize=(5,3))\n",
    "ax.xaxis.set_major_formatter(mdates.DateFormatter('%H:%M'))\n",
    "ax.plot(X.index, np.cumsum(mkt), 'C0--')\n",
    "for i in range(k):\n",
    "    ax.plot(X.index,\n",
    "            np.cumsum(redirect(y[:,i]/np.std(y[:,i]), mkt)), f\"C{i+1}-\")\n",
    "ax.set_title(f\"First {k} projections vs market return\")\n",
    "ax.legend(['Mkt Avg'] + [f'PC{i+1}' for i in range(k)], fontsize=8)\n",
    "ax.set_xlabel('15-minute Bin MidQuote returns')\n",
    "plt.savefig(os.path.join(logdir, 'components.jpg'))\n",
    "plt.show()"
   ]
  },
  {
   "cell_type": "markdown",
   "metadata": {},
   "source": [
    "## sectors exposures of (1) mkt (2) PC1 (3) PC2..."
   ]
  },
  {
   "cell_type": "code",
   "execution_count": 12,
   "metadata": {},
   "outputs": [
    {
     "data": {
      "image/png": "[encoded data removed]",
      "text/plain": [
       "<Figure size 576x360 with 1 Axes>"
      ]
     },
     "metadata": {
      "needs_background": "light"
     },
     "output_type": "display_data"
    }
   ],
   "source": [
    "k = 4\n",
    "p = [Series((t[i,:] @ sector_onehot)*np.sign(np.mean(t[i,:]))\n",
    "            / np.sum(np.abs(t[i, :])), sector_label) for i in range(k)]\n",
    "mkt = Series(np.mean(sector_onehot, axis=0), sector_label)\n",
    "sec_df = pd.concat([mkt] + p, axis=1)\n",
    "sec_df.columns = ['Equal-weight'] + [f\"PC{i+1}\" for i in range(k)]\n",
    "fig, ax = plt.subplots(1,1, num=1, clear=True, figsize=(8,5))\n",
    "sec_df.plot(kind='bar', ax=ax, title='Sector Weights of PC Portfolios',\n",
    "            width=0.85, rot=0)\n",
    "plt.savefig(os.path.join(logdir, 'sectors.jpg'))\n",
    "plt.show()"
   ]
  },
  {
   "cell_type": "markdown",
   "metadata": {},
   "source": [
    "## Split into train (first day) and test (second day) samples"
   ]
  },
  {
   "cell_type": "code",
   "execution_count": 13,
   "metadata": {},
   "outputs": [
    {
     "name": "stdout",
     "output_type": "stream",
     "text": [
      "samples/time(T) x features/stocks(N) (154, 2308)\n"
     ]
    }
   ],
   "source": [
    "from finds.busday import str2date\n",
    "key = 'retq'\n",
    "df = bins_df[key].drop(columns=['Symbol', 'Round_Lot'])\n",
    "dates = [20191007, 20191008]\n",
    "\n",
    "# get intradaily retq from date 0. trim 1% of stocks with outlier stdev\n",
    "data = df[df['date'].eq(dates[0]) & df['decile'].lt(10)]\\\n",
    "       .set_index('permno').iloc[:, 5:].dropna()\n",
    "data.columns = data.columns.map(\n",
    "    lambda x: x.replace(**str2date(dates[0], '%Y%M%d',\n",
    "                                   {'year':'%Y', 'month':'%M', 'day':'%d'})))\n",
    "lb, ub = np.nanpercentile(data.std(axis=1), [1, 99])  # outlier 1% of stdev\n",
    "data = data.loc[data.std(axis=1).between(lb, ub), :]  # trim stocks\n",
    "\n",
    "# inner join next date\n",
    "t = df[df['decile'].lt(10) & df['date'].eq(dates[1])]\\\n",
    "    .set_index('permno').iloc[:, 5:].dropna()\n",
    "t.columns = t.columns.map(\n",
    "    lambda x: x.replace(**str2date(dates[1], '%Y%M%d',\n",
    "                                   {'year':'%Y', 'month':'%M', 'day':'%d'})))\n",
    "data = data.join(t, how='inner').T\n",
    "print('samples/time(T) x features/stocks(N)', data.shape)\n",
    "x_train = data.iloc[:len(data)//2].to_numpy()\n",
    "x_test = data.iloc[(len(data)//2):].to_numpy()"
   ]
  },
  {
   "cell_type": "markdown",
   "metadata": {},
   "source": [
    "## Helper method to compute Minimum Variance Portfolio and realized volatility"
   ]
  },
  {
   "cell_type": "code",
   "execution_count": 14,
   "metadata": {},
   "outputs": [],
   "source": [
    "def gmv(cov, realized=None):\n",
    "    \"\"\"Compute minimum variance portfolio and realized volatility\"\"\"\n",
    "    w = np.linalg.inv(cov) @ np.ones((cov.shape[1], 1))\n",
    "    return {'cond': np.linalg.cond(cov), 'vol': None if realized is None\n",
    "            else  np.std(realized@(w/sum(w)))}"
   ]
  },
  {
   "cell_type": "markdown",
   "metadata": {},
   "source": [
    "## Compare covariance risk models: fit on train split, evaluate on test split"
   ]
  },
  {
   "cell_type": "code",
   "execution_count": 15,
   "metadata": {},
   "outputs": [
    {
     "data": {
      "text/html": [
       "<div>\n",
       "<style scoped>\n",
       "    .dataframe tbody tr th:only-of-type {\n",
       "        vertical-align: middle;\n",
       "    }\n",
       "\n",
       "    .dataframe tbody tr th {\n",
       "        vertical-align: top;\n",
       "    }\n",
       "\n",
       "    .dataframe thead th {\n",
       "        text-align: right;\n",
       "    }\n",
       "</style>\n",
       "<table border=\"1\" class=\"dataframe\">\n",
       "  <thead>\n",
       "    <tr style=\"text-align: right;\">\n",
       "      <th></th>\n",
       "      <th>Full Covariance</th>\n",
       "      <th>Eye</th>\n",
       "      <th>Diagonal</th>\n",
       "      <th>PC 1-2</th>\n",
       "      <th>PC 1-5</th>\n",
       "      <th>PC 1-10</th>\n",
       "      <th>PC 1-75</th>\n",
       "      <th>LW</th>\n",
       "      <th>OAS</th>\n",
       "    </tr>\n",
       "  </thead>\n",
       "  <tbody>\n",
       "    <tr>\n",
       "      <th>cond</th>\n",
       "      <td>4.917310e+20</td>\n",
       "      <td>1.000000</td>\n",
       "      <td>761.695544</td>\n",
       "      <td>21.371971</td>\n",
       "      <td>24.396537</td>\n",
       "      <td>28.158117</td>\n",
       "      <td>145.411285</td>\n",
       "      <td>792.156702</td>\n",
       "      <td>1598.861680</td>\n",
       "    </tr>\n",
       "    <tr>\n",
       "      <th>vol</th>\n",
       "      <td>NaN</td>\n",
       "      <td>0.001139</td>\n",
       "      <td>0.000874</td>\n",
       "      <td>0.000699</td>\n",
       "      <td>0.000654</td>\n",
       "      <td>0.000615</td>\n",
       "      <td>0.000542</td>\n",
       "      <td>0.000520</td>\n",
       "      <td>0.000517</td>\n",
       "    </tr>\n",
       "  </tbody>\n",
       "</table>\n",
       "</div>"
      ],
      "text/plain": [
       "      Full Covariance       Eye    Diagonal     PC 1-2     PC 1-5    PC 1-10  \\\n",
       "cond     4.917310e+20  1.000000  761.695544  21.371971  24.396537  28.158117   \n",
       "vol               NaN  0.001139    0.000874   0.000699   0.000654   0.000615   \n",
       "\n",
       "         PC 1-75          LW          OAS  \n",
       "cond  145.411285  792.156702  1598.861680  \n",
       "vol     0.000542    0.000520     0.000517  "
      ]
     },
     "execution_count": 15,
     "metadata": {},
     "output_type": "execute_result"
    }
   ],
   "source": [
    "from sklearn.covariance import LedoitWolf, OAS, EmpiricalCovariance\n",
    "r = {}   # collect results of covariance models\n",
    "cov = EmpiricalCovariance().fit(x_train).covariance_\n",
    "r['Full Covariance'] = {'cond': np.linalg.cond(cov), 'vol': None}\n",
    "r['Eye'] = gmv(np.identity(x_train.shape[1]), x_test)\n",
    "r['Diagonal'] = gmv(np.diagflat(np.diag(cov)), x_test)\n",
    "for k in [2, 5, 10, len(x_train)-2]:\n",
    "    r[f\"PC 1-{k}\"] = gmv(PCA(k).fit(x_train).get_covariance(), x_test)\n",
    "r['LW'] = gmv(LedoitWolf().fit(x_train).covariance_, x_test)\n",
    "r['OAS'] = gmv(OAS().fit(x_train).covariance_, x_test)\n",
    "r = DataFrame.from_dict(r, orient='index')\n",
    "r.T"
   ]
  },
  {
   "cell_type": "markdown",
   "metadata": {},
   "source": [
    "## Plot test period volatilities of minimum variance portfolios"
   ]
  },
  {
   "cell_type": "code",
   "execution_count": 17,
   "metadata": {},
   "outputs": [
    {
     "data": {
      "image/png": "[encoded data removed]",
      "text/plain": [
       "<Figure size 576x360 with 1 Axes>"
      ]
     },
     "metadata": {
      "needs_background": "light"
     },
     "output_type": "display_data"
    }
   ],
   "source": [
    "fig, ax = plt.subplots(1, 1, num=1, clear=True, figsize=(8,5))\n",
    "plot_bar(r['vol'].dropna(), ylabel='Volatility', xlabel='Risk Model',\n",
    "         title='Test Period Volatility of Minimum Variance Portfolios',\n",
    "         labels=[f\"{v*1000:,.3f}e-3\" for v in r['vol'].dropna()], ax=ax)\n",
    "plt.savefig(os.path.join(logdir, 'gmv.jpg'))\n",
    "plt.show()"
   ]
  },
  {
   "cell_type": "code",
   "execution_count": null,
   "metadata": {},
   "outputs": [],
   "source": []
  }
 ],
 "metadata": {
  "kernelspec": {
   "display_name": "Python 3",
   "language": "python",
   "name": "python3"
  },
  "language_info": {
   "codemirror_mode": {
    "name": "ipython",
    "version": 3
   },
   "file_extension": ".py",
   "mimetype": "text/x-python",
   "name": "python",
   "nbconvert_exporter": "python",
   "pygments_lexer": "ipython3",
   "version": "3.7.10"
  }
 },
 "nbformat": 4,
 "nbformat_minor": 2
}
